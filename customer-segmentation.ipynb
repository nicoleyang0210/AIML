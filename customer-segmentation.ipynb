{
 "cells": [
  {
   "cell_type": "markdown",
   "id": "28a982d3",
   "metadata": {
    "papermill": {
     "duration": 0.032052,
     "end_time": "2024-07-30T20:11:09.818971",
     "exception": false,
     "start_time": "2024-07-30T20:11:09.786919",
     "status": "completed"
    },
    "tags": []
   },
   "source": [
    "## Background\n",
    "\n",
    "The data set contains all the transactions occurring between 01/12/2010 and 09/12/2011 for a UK-based and registered non-store online retail.The company mainly sells unique all-occasion gifts. Many customers of the company are wholesalers. We are going toidentify high-value customers by using different segmentation methods."
   ]
  },
  {
   "cell_type": "markdown",
   "id": "893d2f50",
   "metadata": {
    "papermill": {
     "duration": 0.034275,
     "end_time": "2024-07-30T20:11:09.888818",
     "exception": false,
     "start_time": "2024-07-30T20:11:09.854543",
     "status": "completed"
    },
    "tags": []
   },
   "source": [
    "## Import Packages"
   ]
  },
  {
   "cell_type": "code",
   "execution_count": 1,
   "id": "ee8f2687",
   "metadata": {
    "execution": {
     "iopub.execute_input": "2024-07-30T20:11:09.958384Z",
     "iopub.status.busy": "2024-07-30T20:11:09.957911Z",
     "iopub.status.idle": "2024-07-30T20:11:16.744399Z",
     "shell.execute_reply": "2024-07-30T20:11:16.741687Z"
    },
    "papermill": {
     "duration": 6.828312,
     "end_time": "2024-07-30T20:11:16.749480",
     "exception": false,
     "start_time": "2024-07-30T20:11:09.921168",
     "status": "completed"
    },
    "tags": []
   },
   "outputs": [
    {
     "name": "stdout",
     "output_type": "stream",
     "text": [
      "/kaggle/input/customer-segmentation-dataset/Online Retail.xlsx\n"
     ]
    }
   ],
   "source": [
    "import numpy as np # linear algebra\n",
    "import pandas as pd # data processing, CSV file I/O (e.g. pd.read_csv)\n",
    "from sklearn.cluster import KMeans\n",
    "from sklearn.cluster import DBSCAN\n",
    "from sklearn.preprocessing import StandardScaler, MinMaxScaler\n",
    "from yellowbrick.cluster import KElbowVisualizer\n",
    "import matplotlib.pyplot as plt\n",
    "import seaborn as sns\n",
    "import datetime as dt\n",
    "import plotly.graph_objects as go\n",
    "\n",
    "import warnings\n",
    "warnings.filterwarnings('ignore')\n",
    "\n",
    "import os\n",
    "for dirname, _, filenames in os.walk('/kaggle/input'):\n",
    "    for filename in filenames:\n",
    "        print(os.path.join(dirname, filename))"
   ]
  },
  {
   "cell_type": "markdown",
   "id": "a1a2d236",
   "metadata": {
    "papermill": {
     "duration": 0.048439,
     "end_time": "2024-07-30T20:11:16.839889",
     "exception": false,
     "start_time": "2024-07-30T20:11:16.791450",
     "status": "completed"
    },
    "tags": []
   },
   "source": [
    "## Load Data"
   ]
  },
  {
   "cell_type": "code",
   "execution_count": 2,
   "id": "633a6870",
   "metadata": {
    "execution": {
     "iopub.execute_input": "2024-07-30T20:11:16.934544Z",
     "iopub.status.busy": "2024-07-30T20:11:16.932751Z",
     "iopub.status.idle": "2024-07-30T20:13:50.615885Z",
     "shell.execute_reply": "2024-07-30T20:13:50.614291Z"
    },
    "papermill": {
     "duration": 153.73523,
     "end_time": "2024-07-30T20:13:50.619717",
     "exception": false,
     "start_time": "2024-07-30T20:11:16.884487",
     "status": "completed"
    },
    "tags": []
   },
   "outputs": [],
   "source": [
    "df = pd.read_excel('/kaggle/input/customer-segmentation-dataset/Online Retail.xlsx')"
   ]
  },
  {
   "cell_type": "markdown",
   "id": "3953b551",
   "metadata": {
    "papermill": {
     "duration": 0.025174,
     "end_time": "2024-07-30T20:13:50.671796",
     "exception": false,
     "start_time": "2024-07-30T20:13:50.646622",
     "status": "completed"
    },
    "tags": []
   },
   "source": [
    "## EDA"
   ]
  },
  {
   "cell_type": "markdown",
   "id": "86062d7b",
   "metadata": {
    "papermill": {
     "duration": 0.02564,
     "end_time": "2024-07-30T20:13:50.723439",
     "exception": false,
     "start_time": "2024-07-30T20:13:50.697799",
     "status": "completed"
    },
    "tags": []
   },
   "source": [
    "Let's check the first 5 rows of the data set."
   ]
  },
  {
   "cell_type": "code",
   "execution_count": 3,
   "id": "51c0ebf0",
   "metadata": {
    "execution": {
     "iopub.execute_input": "2024-07-30T20:13:50.778557Z",
     "iopub.status.busy": "2024-07-30T20:13:50.777711Z",
     "iopub.status.idle": "2024-07-30T20:13:51.045422Z",
     "shell.execute_reply": "2024-07-30T20:13:51.044049Z"
    },
    "papermill": {
     "duration": 0.299466,
     "end_time": "2024-07-30T20:13:51.048883",
     "exception": false,
     "start_time": "2024-07-30T20:13:50.749417",
     "status": "completed"
    },
    "tags": []
   },
   "outputs": [
    {
     "data": {
      "text/html": [
       "<div>\n",
       "<style scoped>\n",
       "    .dataframe tbody tr th:only-of-type {\n",
       "        vertical-align: middle;\n",
       "    }\n",
       "\n",
       "    .dataframe tbody tr th {\n",
       "        vertical-align: top;\n",
       "    }\n",
       "\n",
       "    .dataframe thead th {\n",
       "        text-align: right;\n",
       "    }\n",
       "</style>\n",
       "<table border=\"1\" class=\"dataframe\">\n",
       "  <thead>\n",
       "    <tr style=\"text-align: right;\">\n",
       "      <th></th>\n",
       "      <th>InvoiceNo</th>\n",
       "      <th>StockCode</th>\n",
       "      <th>Description</th>\n",
       "      <th>Quantity</th>\n",
       "      <th>InvoiceDate</th>\n",
       "      <th>UnitPrice</th>\n",
       "      <th>CustomerID</th>\n",
       "      <th>Country</th>\n",
       "    </tr>\n",
       "  </thead>\n",
       "  <tbody>\n",
       "    <tr>\n",
       "      <th>0</th>\n",
       "      <td>536365</td>\n",
       "      <td>85123A</td>\n",
       "      <td>WHITE HANGING HEART T-LIGHT HOLDER</td>\n",
       "      <td>6</td>\n",
       "      <td>2010-12-01 08:26:00</td>\n",
       "      <td>2.55</td>\n",
       "      <td>17850.0</td>\n",
       "      <td>United Kingdom</td>\n",
       "    </tr>\n",
       "    <tr>\n",
       "      <th>1</th>\n",
       "      <td>536365</td>\n",
       "      <td>71053</td>\n",
       "      <td>WHITE METAL LANTERN</td>\n",
       "      <td>6</td>\n",
       "      <td>2010-12-01 08:26:00</td>\n",
       "      <td>3.39</td>\n",
       "      <td>17850.0</td>\n",
       "      <td>United Kingdom</td>\n",
       "    </tr>\n",
       "    <tr>\n",
       "      <th>2</th>\n",
       "      <td>536365</td>\n",
       "      <td>84406B</td>\n",
       "      <td>CREAM CUPID HEARTS COAT HANGER</td>\n",
       "      <td>8</td>\n",
       "      <td>2010-12-01 08:26:00</td>\n",
       "      <td>2.75</td>\n",
       "      <td>17850.0</td>\n",
       "      <td>United Kingdom</td>\n",
       "    </tr>\n",
       "    <tr>\n",
       "      <th>3</th>\n",
       "      <td>536365</td>\n",
       "      <td>84029G</td>\n",
       "      <td>KNITTED UNION FLAG HOT WATER BOTTLE</td>\n",
       "      <td>6</td>\n",
       "      <td>2010-12-01 08:26:00</td>\n",
       "      <td>3.39</td>\n",
       "      <td>17850.0</td>\n",
       "      <td>United Kingdom</td>\n",
       "    </tr>\n",
       "    <tr>\n",
       "      <th>4</th>\n",
       "      <td>536365</td>\n",
       "      <td>84029E</td>\n",
       "      <td>RED WOOLLY HOTTIE WHITE HEART.</td>\n",
       "      <td>6</td>\n",
       "      <td>2010-12-01 08:26:00</td>\n",
       "      <td>3.39</td>\n",
       "      <td>17850.0</td>\n",
       "      <td>United Kingdom</td>\n",
       "    </tr>\n",
       "  </tbody>\n",
       "</table>\n",
       "</div>"
      ],
      "text/plain": [
       "  InvoiceNo StockCode                          Description  Quantity  \\\n",
       "0    536365    85123A   WHITE HANGING HEART T-LIGHT HOLDER         6   \n",
       "1    536365     71053                  WHITE METAL LANTERN         6   \n",
       "2    536365    84406B       CREAM CUPID HEARTS COAT HANGER         8   \n",
       "3    536365    84029G  KNITTED UNION FLAG HOT WATER BOTTLE         6   \n",
       "4    536365    84029E       RED WOOLLY HOTTIE WHITE HEART.         6   \n",
       "\n",
       "          InvoiceDate  UnitPrice  CustomerID         Country  \n",
       "0 2010-12-01 08:26:00       2.55     17850.0  United Kingdom  \n",
       "1 2010-12-01 08:26:00       3.39     17850.0  United Kingdom  \n",
       "2 2010-12-01 08:26:00       2.75     17850.0  United Kingdom  \n",
       "3 2010-12-01 08:26:00       3.39     17850.0  United Kingdom  \n",
       "4 2010-12-01 08:26:00       3.39     17850.0  United Kingdom  "
      ]
     },
     "execution_count": 3,
     "metadata": {},
     "output_type": "execute_result"
    }
   ],
   "source": [
    "df.head()"
   ]
  },
  {
   "cell_type": "markdown",
   "id": "eac05a76",
   "metadata": {
    "papermill": {
     "duration": 0.025498,
     "end_time": "2024-07-30T20:13:51.100637",
     "exception": false,
     "start_time": "2024-07-30T20:13:51.075139",
     "status": "completed"
    },
    "tags": []
   },
   "source": [
    "Below is the description of each column,\n",
    "\n",
    "| Variable Name | Description|\n",
    "| --- | --- |\n",
    "| InvoiceNo | a 6-digit integral number uniquely assigned to each transaction. If this code starts with letter 'c', it indicates a cancellation|\n",
    "| StockCode | an integral number uniquely assigned to each distinct product |\n",
    "| Description | product name |\n",
    "| Quantity | the quantities of each product (item) per transaction |\n",
    "| InvoiceDate | the day and time when each transaction was generated |\n",
    "| UnitPrice | product price per unit |\n",
    "| CustomerID | an integral number uniquely assigned to each customer |\n",
    "| Country | the name of the country where each customer resides |"
   ]
  },
  {
   "cell_type": "code",
   "execution_count": 4,
   "id": "a3e245c3",
   "metadata": {
    "execution": {
     "iopub.execute_input": "2024-07-30T20:13:51.155670Z",
     "iopub.status.busy": "2024-07-30T20:13:51.155057Z",
     "iopub.status.idle": "2024-07-30T20:13:51.447390Z",
     "shell.execute_reply": "2024-07-30T20:13:51.445445Z"
    },
    "papermill": {
     "duration": 0.324688,
     "end_time": "2024-07-30T20:13:51.451522",
     "exception": false,
     "start_time": "2024-07-30T20:13:51.126834",
     "status": "completed"
    },
    "tags": []
   },
   "outputs": [
    {
     "name": "stdout",
     "output_type": "stream",
     "text": [
      "<class 'pandas.core.frame.DataFrame'>\n",
      "RangeIndex: 541909 entries, 0 to 541908\n",
      "Data columns (total 8 columns):\n",
      " #   Column       Non-Null Count   Dtype         \n",
      "---  ------       --------------   -----         \n",
      " 0   InvoiceNo    541909 non-null  object        \n",
      " 1   StockCode    541909 non-null  object        \n",
      " 2   Description  540455 non-null  object        \n",
      " 3   Quantity     541909 non-null  int64         \n",
      " 4   InvoiceDate  541909 non-null  datetime64[ns]\n",
      " 5   UnitPrice    541909 non-null  float64       \n",
      " 6   CustomerID   406829 non-null  float64       \n",
      " 7   Country      541909 non-null  object        \n",
      "dtypes: datetime64[ns](1), float64(2), int64(1), object(4)\n",
      "memory usage: 33.1+ MB\n"
     ]
    }
   ],
   "source": [
    "df.info()"
   ]
  },
  {
   "cell_type": "markdown",
   "id": "b4173c87",
   "metadata": {
    "papermill": {
     "duration": 0.029011,
     "end_time": "2024-07-30T20:13:51.511946",
     "exception": false,
     "start_time": "2024-07-30T20:13:51.482935",
     "status": "completed"
    },
    "tags": []
   },
   "source": [
    "There are null values in the columns \"Description\" and \"CustomerID\". "
   ]
  },
  {
   "cell_type": "code",
   "execution_count": 5,
   "id": "3fceacb8",
   "metadata": {
    "execution": {
     "iopub.execute_input": "2024-07-30T20:13:51.574575Z",
     "iopub.status.busy": "2024-07-30T20:13:51.572895Z",
     "iopub.status.idle": "2024-07-30T20:13:51.720999Z",
     "shell.execute_reply": "2024-07-30T20:13:51.719206Z"
    },
    "papermill": {
     "duration": 0.184121,
     "end_time": "2024-07-30T20:13:51.725311",
     "exception": false,
     "start_time": "2024-07-30T20:13:51.541190",
     "status": "completed"
    },
    "tags": []
   },
   "outputs": [
    {
     "data": {
      "text/html": [
       "<div>\n",
       "<style scoped>\n",
       "    .dataframe tbody tr th:only-of-type {\n",
       "        vertical-align: middle;\n",
       "    }\n",
       "\n",
       "    .dataframe tbody tr th {\n",
       "        vertical-align: top;\n",
       "    }\n",
       "\n",
       "    .dataframe thead th {\n",
       "        text-align: right;\n",
       "    }\n",
       "</style>\n",
       "<table border=\"1\" class=\"dataframe\">\n",
       "  <thead>\n",
       "    <tr style=\"text-align: right;\">\n",
       "      <th></th>\n",
       "      <th>Quantity</th>\n",
       "      <th>InvoiceDate</th>\n",
       "      <th>UnitPrice</th>\n",
       "      <th>CustomerID</th>\n",
       "    </tr>\n",
       "  </thead>\n",
       "  <tbody>\n",
       "    <tr>\n",
       "      <th>count</th>\n",
       "      <td>541909.000000</td>\n",
       "      <td>541909</td>\n",
       "      <td>541909.000000</td>\n",
       "      <td>406829.000000</td>\n",
       "    </tr>\n",
       "    <tr>\n",
       "      <th>mean</th>\n",
       "      <td>9.552250</td>\n",
       "      <td>2011-07-04 13:34:57.156386048</td>\n",
       "      <td>4.611114</td>\n",
       "      <td>15287.690570</td>\n",
       "    </tr>\n",
       "    <tr>\n",
       "      <th>min</th>\n",
       "      <td>-80995.000000</td>\n",
       "      <td>2010-12-01 08:26:00</td>\n",
       "      <td>-11062.060000</td>\n",
       "      <td>12346.000000</td>\n",
       "    </tr>\n",
       "    <tr>\n",
       "      <th>25%</th>\n",
       "      <td>1.000000</td>\n",
       "      <td>2011-03-28 11:34:00</td>\n",
       "      <td>1.250000</td>\n",
       "      <td>13953.000000</td>\n",
       "    </tr>\n",
       "    <tr>\n",
       "      <th>50%</th>\n",
       "      <td>3.000000</td>\n",
       "      <td>2011-07-19 17:17:00</td>\n",
       "      <td>2.080000</td>\n",
       "      <td>15152.000000</td>\n",
       "    </tr>\n",
       "    <tr>\n",
       "      <th>75%</th>\n",
       "      <td>10.000000</td>\n",
       "      <td>2011-10-19 11:27:00</td>\n",
       "      <td>4.130000</td>\n",
       "      <td>16791.000000</td>\n",
       "    </tr>\n",
       "    <tr>\n",
       "      <th>max</th>\n",
       "      <td>80995.000000</td>\n",
       "      <td>2011-12-09 12:50:00</td>\n",
       "      <td>38970.000000</td>\n",
       "      <td>18287.000000</td>\n",
       "    </tr>\n",
       "    <tr>\n",
       "      <th>std</th>\n",
       "      <td>218.081158</td>\n",
       "      <td>NaN</td>\n",
       "      <td>96.759853</td>\n",
       "      <td>1713.600303</td>\n",
       "    </tr>\n",
       "  </tbody>\n",
       "</table>\n",
       "</div>"
      ],
      "text/plain": [
       "            Quantity                    InvoiceDate      UnitPrice  \\\n",
       "count  541909.000000                         541909  541909.000000   \n",
       "mean        9.552250  2011-07-04 13:34:57.156386048       4.611114   \n",
       "min    -80995.000000            2010-12-01 08:26:00  -11062.060000   \n",
       "25%         1.000000            2011-03-28 11:34:00       1.250000   \n",
       "50%         3.000000            2011-07-19 17:17:00       2.080000   \n",
       "75%        10.000000            2011-10-19 11:27:00       4.130000   \n",
       "max     80995.000000            2011-12-09 12:50:00   38970.000000   \n",
       "std       218.081158                            NaN      96.759853   \n",
       "\n",
       "          CustomerID  \n",
       "count  406829.000000  \n",
       "mean    15287.690570  \n",
       "min     12346.000000  \n",
       "25%     13953.000000  \n",
       "50%     15152.000000  \n",
       "75%     16791.000000  \n",
       "max     18287.000000  \n",
       "std      1713.600303  "
      ]
     },
     "execution_count": 5,
     "metadata": {},
     "output_type": "execute_result"
    }
   ],
   "source": [
    "df.describe()"
   ]
  },
  {
   "cell_type": "markdown",
   "id": "b44d4c57",
   "metadata": {
    "papermill": {
     "duration": 0.026794,
     "end_time": "2024-07-30T20:13:51.780851",
     "exception": false,
     "start_time": "2024-07-30T20:13:51.754057",
     "status": "completed"
    },
    "tags": []
   },
   "source": [
    "Transactions with negative values of Quantity and UnitPrice need further investigation. Next, let check the data quality by checking the record count of each month."
   ]
  },
  {
   "cell_type": "code",
   "execution_count": 6,
   "id": "983c10b2",
   "metadata": {
    "execution": {
     "iopub.execute_input": "2024-07-30T20:13:51.839554Z",
     "iopub.status.busy": "2024-07-30T20:13:51.839002Z",
     "iopub.status.idle": "2024-07-30T20:13:56.513177Z",
     "shell.execute_reply": "2024-07-30T20:13:56.511107Z"
    },
    "papermill": {
     "duration": 4.708736,
     "end_time": "2024-07-30T20:13:56.518081",
     "exception": false,
     "start_time": "2024-07-30T20:13:51.809345",
     "status": "completed"
    },
    "tags": []
   },
   "outputs": [],
   "source": [
    "df['InvoiceYear'] = df['InvoiceDate'].dt.year\n",
    "df['YearMonth'] = df['InvoiceDate'].dt.strftime('%Y-%m')"
   ]
  },
  {
   "cell_type": "code",
   "execution_count": 7,
   "id": "a37cf419",
   "metadata": {
    "execution": {
     "iopub.execute_input": "2024-07-30T20:13:56.594646Z",
     "iopub.status.busy": "2024-07-30T20:13:56.594156Z",
     "iopub.status.idle": "2024-07-30T20:13:56.730251Z",
     "shell.execute_reply": "2024-07-30T20:13:56.728476Z"
    },
    "papermill": {
     "duration": 0.171923,
     "end_time": "2024-07-30T20:13:56.733229",
     "exception": false,
     "start_time": "2024-07-30T20:13:56.561306",
     "status": "completed"
    },
    "tags": []
   },
   "outputs": [
    {
     "data": {
      "text/html": [
       "<div>\n",
       "<style scoped>\n",
       "    .dataframe tbody tr th:only-of-type {\n",
       "        vertical-align: middle;\n",
       "    }\n",
       "\n",
       "    .dataframe tbody tr th {\n",
       "        vertical-align: top;\n",
       "    }\n",
       "\n",
       "    .dataframe thead th {\n",
       "        text-align: right;\n",
       "    }\n",
       "</style>\n",
       "<table border=\"1\" class=\"dataframe\">\n",
       "  <thead>\n",
       "    <tr style=\"text-align: right;\">\n",
       "      <th></th>\n",
       "      <th>YearMonth</th>\n",
       "      <th>Count</th>\n",
       "    </tr>\n",
       "  </thead>\n",
       "  <tbody>\n",
       "    <tr>\n",
       "      <th>0</th>\n",
       "      <td>2010-12</td>\n",
       "      <td>42481</td>\n",
       "    </tr>\n",
       "    <tr>\n",
       "      <th>1</th>\n",
       "      <td>2011-01</td>\n",
       "      <td>35147</td>\n",
       "    </tr>\n",
       "    <tr>\n",
       "      <th>2</th>\n",
       "      <td>2011-02</td>\n",
       "      <td>27707</td>\n",
       "    </tr>\n",
       "    <tr>\n",
       "      <th>3</th>\n",
       "      <td>2011-03</td>\n",
       "      <td>36748</td>\n",
       "    </tr>\n",
       "    <tr>\n",
       "      <th>4</th>\n",
       "      <td>2011-04</td>\n",
       "      <td>29916</td>\n",
       "    </tr>\n",
       "    <tr>\n",
       "      <th>5</th>\n",
       "      <td>2011-05</td>\n",
       "      <td>37030</td>\n",
       "    </tr>\n",
       "    <tr>\n",
       "      <th>6</th>\n",
       "      <td>2011-06</td>\n",
       "      <td>36874</td>\n",
       "    </tr>\n",
       "    <tr>\n",
       "      <th>7</th>\n",
       "      <td>2011-07</td>\n",
       "      <td>39518</td>\n",
       "    </tr>\n",
       "    <tr>\n",
       "      <th>8</th>\n",
       "      <td>2011-08</td>\n",
       "      <td>35284</td>\n",
       "    </tr>\n",
       "    <tr>\n",
       "      <th>9</th>\n",
       "      <td>2011-09</td>\n",
       "      <td>50226</td>\n",
       "    </tr>\n",
       "    <tr>\n",
       "      <th>10</th>\n",
       "      <td>2011-10</td>\n",
       "      <td>60742</td>\n",
       "    </tr>\n",
       "    <tr>\n",
       "      <th>11</th>\n",
       "      <td>2011-11</td>\n",
       "      <td>84711</td>\n",
       "    </tr>\n",
       "    <tr>\n",
       "      <th>12</th>\n",
       "      <td>2011-12</td>\n",
       "      <td>25525</td>\n",
       "    </tr>\n",
       "  </tbody>\n",
       "</table>\n",
       "</div>"
      ],
      "text/plain": [
       "   YearMonth  Count\n",
       "0    2010-12  42481\n",
       "1    2011-01  35147\n",
       "2    2011-02  27707\n",
       "3    2011-03  36748\n",
       "4    2011-04  29916\n",
       "5    2011-05  37030\n",
       "6    2011-06  36874\n",
       "7    2011-07  39518\n",
       "8    2011-08  35284\n",
       "9    2011-09  50226\n",
       "10   2011-10  60742\n",
       "11   2011-11  84711\n",
       "12   2011-12  25525"
      ]
     },
     "execution_count": 7,
     "metadata": {},
     "output_type": "execute_result"
    }
   ],
   "source": [
    "monthly_volume = df['YearMonth'].value_counts().sort_index().to_frame('Count').reset_index().rename(columns={'index': 'Value'})\n",
    "monthly_volume"
   ]
  },
  {
   "cell_type": "code",
   "execution_count": 8,
   "id": "c5084352",
   "metadata": {
    "execution": {
     "iopub.execute_input": "2024-07-30T20:13:56.887247Z",
     "iopub.status.busy": "2024-07-30T20:13:56.886777Z",
     "iopub.status.idle": "2024-07-30T20:13:57.422056Z",
     "shell.execute_reply": "2024-07-30T20:13:57.420494Z"
    },
    "papermill": {
     "duration": 0.662908,
     "end_time": "2024-07-30T20:13:57.425220",
     "exception": false,
     "start_time": "2024-07-30T20:13:56.762312",
     "status": "completed"
    },
    "tags": []
   },
   "outputs": [
    {
     "data": {
      "text/plain": [
       "<Axes: xlabel='YearMonth', ylabel='Count'>"
      ]
     },
     "execution_count": 8,
     "metadata": {},
     "output_type": "execute_result"
    },
    {
     "data": {
      "image/png": "[encoded data removed]",
      "text/plain": [
       "<Figure size 1200x600 with 1 Axes>"
      ]
     },
     "metadata": {},
     "output_type": "display_data"
    }
   ],
   "source": [
    "plt.figure(figsize=(12,6))\n",
    "sns.barplot(x=monthly_volume['YearMonth'], y=monthly_volume['Count'],color='steelblue')"
   ]
  },
  {
   "cell_type": "markdown",
   "id": "a11d186f",
   "metadata": {
    "papermill": {
     "duration": 0.029198,
     "end_time": "2024-07-30T20:13:57.486015",
     "exception": false,
     "start_time": "2024-07-30T20:13:57.456817",
     "status": "completed"
    },
    "tags": []
   },
   "source": [
    "A sudden increase of transaction are observed in the months 2011-09 to 2011-11. Let's investigate more on this observation."
   ]
  },
  {
   "cell_type": "code",
   "execution_count": 9,
   "id": "629085ad",
   "metadata": {
    "execution": {
     "iopub.execute_input": "2024-07-30T20:13:57.551775Z",
     "iopub.status.busy": "2024-07-30T20:13:57.551254Z",
     "iopub.status.idle": "2024-07-30T20:13:58.133882Z",
     "shell.execute_reply": "2024-07-30T20:13:58.132493Z"
    },
    "papermill": {
     "duration": 0.619545,
     "end_time": "2024-07-30T20:13:58.137748",
     "exception": false,
     "start_time": "2024-07-30T20:13:57.518203",
     "status": "completed"
    },
    "tags": []
   },
   "outputs": [
    {
     "data": {
      "text/html": [
       "<div>\n",
       "<style scoped>\n",
       "    .dataframe tbody tr th:only-of-type {\n",
       "        vertical-align: middle;\n",
       "    }\n",
       "\n",
       "    .dataframe tbody tr th {\n",
       "        vertical-align: top;\n",
       "    }\n",
       "\n",
       "    .dataframe thead th {\n",
       "        text-align: right;\n",
       "    }\n",
       "</style>\n",
       "<table border=\"1\" class=\"dataframe\">\n",
       "  <thead>\n",
       "    <tr style=\"text-align: right;\">\n",
       "      <th></th>\n",
       "      <th>InvoiceNo</th>\n",
       "      <th>StockCode</th>\n",
       "      <th>Description</th>\n",
       "      <th>Quantity</th>\n",
       "      <th>InvoiceDate</th>\n",
       "      <th>UnitPrice</th>\n",
       "      <th>CustomerID</th>\n",
       "      <th>Country</th>\n",
       "      <th>InvoiceYear</th>\n",
       "    </tr>\n",
       "    <tr>\n",
       "      <th>YearMonth</th>\n",
       "      <th></th>\n",
       "      <th></th>\n",
       "      <th></th>\n",
       "      <th></th>\n",
       "      <th></th>\n",
       "      <th></th>\n",
       "      <th></th>\n",
       "      <th></th>\n",
       "      <th></th>\n",
       "    </tr>\n",
       "  </thead>\n",
       "  <tbody>\n",
       "    <tr>\n",
       "      <th>2010-12</th>\n",
       "      <td>2025</td>\n",
       "      <td>2822</td>\n",
       "      <td>2760</td>\n",
       "      <td>206</td>\n",
       "      <td>1770</td>\n",
       "      <td>295</td>\n",
       "      <td>948</td>\n",
       "      <td>24</td>\n",
       "      <td>1</td>\n",
       "    </tr>\n",
       "    <tr>\n",
       "      <th>2011-01</th>\n",
       "      <td>1476</td>\n",
       "      <td>2645</td>\n",
       "      <td>2566</td>\n",
       "      <td>175</td>\n",
       "      <td>1349</td>\n",
       "      <td>330</td>\n",
       "      <td>783</td>\n",
       "      <td>24</td>\n",
       "      <td>1</td>\n",
       "    </tr>\n",
       "    <tr>\n",
       "      <th>2011-02</th>\n",
       "      <td>1393</td>\n",
       "      <td>2431</td>\n",
       "      <td>2372</td>\n",
       "      <td>167</td>\n",
       "      <td>1311</td>\n",
       "      <td>295</td>\n",
       "      <td>798</td>\n",
       "      <td>24</td>\n",
       "      <td>1</td>\n",
       "    </tr>\n",
       "    <tr>\n",
       "      <th>2011-03</th>\n",
       "      <td>1983</td>\n",
       "      <td>2562</td>\n",
       "      <td>2506</td>\n",
       "      <td>241</td>\n",
       "      <td>1808</td>\n",
       "      <td>327</td>\n",
       "      <td>1020</td>\n",
       "      <td>24</td>\n",
       "      <td>1</td>\n",
       "    </tr>\n",
       "    <tr>\n",
       "      <th>2011-04</th>\n",
       "      <td>1744</td>\n",
       "      <td>2558</td>\n",
       "      <td>2456</td>\n",
       "      <td>203</td>\n",
       "      <td>1540</td>\n",
       "      <td>272</td>\n",
       "      <td>899</td>\n",
       "      <td>28</td>\n",
       "      <td>1</td>\n",
       "    </tr>\n",
       "    <tr>\n",
       "      <th>2011-05</th>\n",
       "      <td>2162</td>\n",
       "      <td>2505</td>\n",
       "      <td>2480</td>\n",
       "      <td>206</td>\n",
       "      <td>1931</td>\n",
       "      <td>331</td>\n",
       "      <td>1079</td>\n",
       "      <td>21</td>\n",
       "      <td>1</td>\n",
       "    </tr>\n",
       "    <tr>\n",
       "      <th>2011-06</th>\n",
       "      <td>2012</td>\n",
       "      <td>2672</td>\n",
       "      <td>2639</td>\n",
       "      <td>216</td>\n",
       "      <td>1825</td>\n",
       "      <td>340</td>\n",
       "      <td>1051</td>\n",
       "      <td>26</td>\n",
       "      <td>1</td>\n",
       "    </tr>\n",
       "    <tr>\n",
       "      <th>2011-07</th>\n",
       "      <td>1927</td>\n",
       "      <td>2748</td>\n",
       "      <td>2693</td>\n",
       "      <td>191</td>\n",
       "      <td>1735</td>\n",
       "      <td>327</td>\n",
       "      <td>993</td>\n",
       "      <td>24</td>\n",
       "      <td>1</td>\n",
       "    </tr>\n",
       "    <tr>\n",
       "      <th>2011-08</th>\n",
       "      <td>1737</td>\n",
       "      <td>2614</td>\n",
       "      <td>2609</td>\n",
       "      <td>229</td>\n",
       "      <td>1608</td>\n",
       "      <td>301</td>\n",
       "      <td>980</td>\n",
       "      <td>25</td>\n",
       "      <td>1</td>\n",
       "    </tr>\n",
       "    <tr>\n",
       "      <th>2011-09</th>\n",
       "      <td>2327</td>\n",
       "      <td>2766</td>\n",
       "      <td>2771</td>\n",
       "      <td>243</td>\n",
       "      <td>2097</td>\n",
       "      <td>322</td>\n",
       "      <td>1302</td>\n",
       "      <td>23</td>\n",
       "      <td>1</td>\n",
       "    </tr>\n",
       "    <tr>\n",
       "      <th>2011-10</th>\n",
       "      <td>2637</td>\n",
       "      <td>2911</td>\n",
       "      <td>2929</td>\n",
       "      <td>278</td>\n",
       "      <td>2358</td>\n",
       "      <td>363</td>\n",
       "      <td>1425</td>\n",
       "      <td>26</td>\n",
       "      <td>1</td>\n",
       "    </tr>\n",
       "    <tr>\n",
       "      <th>2011-11</th>\n",
       "      <td>3462</td>\n",
       "      <td>2963</td>\n",
       "      <td>2963</td>\n",
       "      <td>341</td>\n",
       "      <td>3029</td>\n",
       "      <td>351</td>\n",
       "      <td>1711</td>\n",
       "      <td>24</td>\n",
       "      <td>1</td>\n",
       "    </tr>\n",
       "    <tr>\n",
       "      <th>2011-12</th>\n",
       "      <td>1015</td>\n",
       "      <td>2494</td>\n",
       "      <td>2467</td>\n",
       "      <td>184</td>\n",
       "      <td>899</td>\n",
       "      <td>240</td>\n",
       "      <td>686</td>\n",
       "      <td>21</td>\n",
       "      <td>1</td>\n",
       "    </tr>\n",
       "  </tbody>\n",
       "</table>\n",
       "</div>"
      ],
      "text/plain": [
       "           InvoiceNo  StockCode  Description  Quantity  InvoiceDate  \\\n",
       "YearMonth                                                             \n",
       "2010-12         2025       2822         2760       206         1770   \n",
       "2011-01         1476       2645         2566       175         1349   \n",
       "2011-02         1393       2431         2372       167         1311   \n",
       "2011-03         1983       2562         2506       241         1808   \n",
       "2011-04         1744       2558         2456       203         1540   \n",
       "2011-05         2162       2505         2480       206         1931   \n",
       "2011-06         2012       2672         2639       216         1825   \n",
       "2011-07         1927       2748         2693       191         1735   \n",
       "2011-08         1737       2614         2609       229         1608   \n",
       "2011-09         2327       2766         2771       243         2097   \n",
       "2011-10         2637       2911         2929       278         2358   \n",
       "2011-11         3462       2963         2963       341         3029   \n",
       "2011-12         1015       2494         2467       184          899   \n",
       "\n",
       "           UnitPrice  CustomerID  Country  InvoiceYear  \n",
       "YearMonth                                               \n",
       "2010-12          295         948       24            1  \n",
       "2011-01          330         783       24            1  \n",
       "2011-02          295         798       24            1  \n",
       "2011-03          327        1020       24            1  \n",
       "2011-04          272         899       28            1  \n",
       "2011-05          331        1079       21            1  \n",
       "2011-06          340        1051       26            1  \n",
       "2011-07          327         993       24            1  \n",
       "2011-08          301         980       25            1  \n",
       "2011-09          322        1302       23            1  \n",
       "2011-10          363        1425       26            1  \n",
       "2011-11          351        1711       24            1  \n",
       "2011-12          240         686       21            1  "
      ]
     },
     "execution_count": 9,
     "metadata": {},
     "output_type": "execute_result"
    }
   ],
   "source": [
    "df.groupby('YearMonth').nunique().sort_index()"
   ]
  },
  {
   "cell_type": "markdown",
   "id": "67e86472",
   "metadata": {
    "papermill": {
     "duration": 0.033518,
     "end_time": "2024-07-30T20:13:58.202695",
     "exception": false,
     "start_time": "2024-07-30T20:13:58.169177",
     "status": "completed"
    },
    "tags": []
   },
   "source": [
    "From the table above, we can see that the sudden increase of stock transactions of 2011-09 to 2011-11 mainly from the increase of customers."
   ]
  },
  {
   "cell_type": "markdown",
   "id": "467424be",
   "metadata": {
    "papermill": {
     "duration": 0.032795,
     "end_time": "2024-07-30T20:13:58.268316",
     "exception": false,
     "start_time": "2024-07-30T20:13:58.235521",
     "status": "completed"
    },
    "tags": []
   },
   "source": [
    "Next, let's check the missing values in this data set."
   ]
  },
  {
   "cell_type": "code",
   "execution_count": 10,
   "id": "6a573f8d",
   "metadata": {
    "execution": {
     "iopub.execute_input": "2024-07-30T20:13:58.337548Z",
     "iopub.status.busy": "2024-07-30T20:13:58.337068Z",
     "iopub.status.idle": "2024-07-30T20:13:58.695475Z",
     "shell.execute_reply": "2024-07-30T20:13:58.693195Z"
    },
    "papermill": {
     "duration": 0.398379,
     "end_time": "2024-07-30T20:13:58.698892",
     "exception": false,
     "start_time": "2024-07-30T20:13:58.300513",
     "status": "completed"
    },
    "tags": []
   },
   "outputs": [
    {
     "data": {
      "text/plain": [
       "InvoiceNo           0\n",
       "StockCode           0\n",
       "Description      1454\n",
       "Quantity            0\n",
       "InvoiceDate         0\n",
       "UnitPrice           0\n",
       "CustomerID     135080\n",
       "Country             0\n",
       "InvoiceYear         0\n",
       "YearMonth           0\n",
       "dtype: int64"
      ]
     },
     "execution_count": 10,
     "metadata": {},
     "output_type": "execute_result"
    }
   ],
   "source": [
    "df.isnull().sum()"
   ]
  },
  {
   "cell_type": "code",
   "execution_count": 11,
   "id": "39fe4f4d",
   "metadata": {
    "execution": {
     "iopub.execute_input": "2024-07-30T20:13:58.767943Z",
     "iopub.status.busy": "2024-07-30T20:13:58.767487Z",
     "iopub.status.idle": "2024-07-30T20:13:58.859419Z",
     "shell.execute_reply": "2024-07-30T20:13:58.856750Z"
    },
    "papermill": {
     "duration": 0.129979,
     "end_time": "2024-07-30T20:13:58.863140",
     "exception": false,
     "start_time": "2024-07-30T20:13:58.733161",
     "status": "completed"
    },
    "tags": []
   },
   "outputs": [
    {
     "data": {
      "text/html": [
       "<div>\n",
       "<style scoped>\n",
       "    .dataframe tbody tr th:only-of-type {\n",
       "        vertical-align: middle;\n",
       "    }\n",
       "\n",
       "    .dataframe tbody tr th {\n",
       "        vertical-align: top;\n",
       "    }\n",
       "\n",
       "    .dataframe thead th {\n",
       "        text-align: right;\n",
       "    }\n",
       "</style>\n",
       "<table border=\"1\" class=\"dataframe\">\n",
       "  <thead>\n",
       "    <tr style=\"text-align: right;\">\n",
       "      <th></th>\n",
       "      <th>InvoiceNo</th>\n",
       "      <th>StockCode</th>\n",
       "      <th>Description</th>\n",
       "      <th>Quantity</th>\n",
       "      <th>InvoiceDate</th>\n",
       "      <th>UnitPrice</th>\n",
       "      <th>CustomerID</th>\n",
       "      <th>Country</th>\n",
       "      <th>InvoiceYear</th>\n",
       "      <th>YearMonth</th>\n",
       "    </tr>\n",
       "  </thead>\n",
       "  <tbody>\n",
       "    <tr>\n",
       "      <th>622</th>\n",
       "      <td>536414</td>\n",
       "      <td>22139</td>\n",
       "      <td>NaN</td>\n",
       "      <td>56</td>\n",
       "      <td>2010-12-01 11:52:00</td>\n",
       "      <td>0.0</td>\n",
       "      <td>NaN</td>\n",
       "      <td>United Kingdom</td>\n",
       "      <td>2010</td>\n",
       "      <td>2010-12</td>\n",
       "    </tr>\n",
       "    <tr>\n",
       "      <th>1970</th>\n",
       "      <td>536545</td>\n",
       "      <td>21134</td>\n",
       "      <td>NaN</td>\n",
       "      <td>1</td>\n",
       "      <td>2010-12-01 14:32:00</td>\n",
       "      <td>0.0</td>\n",
       "      <td>NaN</td>\n",
       "      <td>United Kingdom</td>\n",
       "      <td>2010</td>\n",
       "      <td>2010-12</td>\n",
       "    </tr>\n",
       "    <tr>\n",
       "      <th>1971</th>\n",
       "      <td>536546</td>\n",
       "      <td>22145</td>\n",
       "      <td>NaN</td>\n",
       "      <td>1</td>\n",
       "      <td>2010-12-01 14:33:00</td>\n",
       "      <td>0.0</td>\n",
       "      <td>NaN</td>\n",
       "      <td>United Kingdom</td>\n",
       "      <td>2010</td>\n",
       "      <td>2010-12</td>\n",
       "    </tr>\n",
       "    <tr>\n",
       "      <th>1972</th>\n",
       "      <td>536547</td>\n",
       "      <td>37509</td>\n",
       "      <td>NaN</td>\n",
       "      <td>1</td>\n",
       "      <td>2010-12-01 14:33:00</td>\n",
       "      <td>0.0</td>\n",
       "      <td>NaN</td>\n",
       "      <td>United Kingdom</td>\n",
       "      <td>2010</td>\n",
       "      <td>2010-12</td>\n",
       "    </tr>\n",
       "    <tr>\n",
       "      <th>1987</th>\n",
       "      <td>536549</td>\n",
       "      <td>85226A</td>\n",
       "      <td>NaN</td>\n",
       "      <td>1</td>\n",
       "      <td>2010-12-01 14:34:00</td>\n",
       "      <td>0.0</td>\n",
       "      <td>NaN</td>\n",
       "      <td>United Kingdom</td>\n",
       "      <td>2010</td>\n",
       "      <td>2010-12</td>\n",
       "    </tr>\n",
       "    <tr>\n",
       "      <th>...</th>\n",
       "      <td>...</td>\n",
       "      <td>...</td>\n",
       "      <td>...</td>\n",
       "      <td>...</td>\n",
       "      <td>...</td>\n",
       "      <td>...</td>\n",
       "      <td>...</td>\n",
       "      <td>...</td>\n",
       "      <td>...</td>\n",
       "      <td>...</td>\n",
       "    </tr>\n",
       "    <tr>\n",
       "      <th>535322</th>\n",
       "      <td>581199</td>\n",
       "      <td>84581</td>\n",
       "      <td>NaN</td>\n",
       "      <td>-2</td>\n",
       "      <td>2011-12-07 18:26:00</td>\n",
       "      <td>0.0</td>\n",
       "      <td>NaN</td>\n",
       "      <td>United Kingdom</td>\n",
       "      <td>2011</td>\n",
       "      <td>2011-12</td>\n",
       "    </tr>\n",
       "    <tr>\n",
       "      <th>535326</th>\n",
       "      <td>581203</td>\n",
       "      <td>23406</td>\n",
       "      <td>NaN</td>\n",
       "      <td>15</td>\n",
       "      <td>2011-12-07 18:31:00</td>\n",
       "      <td>0.0</td>\n",
       "      <td>NaN</td>\n",
       "      <td>United Kingdom</td>\n",
       "      <td>2011</td>\n",
       "      <td>2011-12</td>\n",
       "    </tr>\n",
       "    <tr>\n",
       "      <th>535332</th>\n",
       "      <td>581209</td>\n",
       "      <td>21620</td>\n",
       "      <td>NaN</td>\n",
       "      <td>6</td>\n",
       "      <td>2011-12-07 18:35:00</td>\n",
       "      <td>0.0</td>\n",
       "      <td>NaN</td>\n",
       "      <td>United Kingdom</td>\n",
       "      <td>2011</td>\n",
       "      <td>2011-12</td>\n",
       "    </tr>\n",
       "    <tr>\n",
       "      <th>536981</th>\n",
       "      <td>581234</td>\n",
       "      <td>72817</td>\n",
       "      <td>NaN</td>\n",
       "      <td>27</td>\n",
       "      <td>2011-12-08 10:33:00</td>\n",
       "      <td>0.0</td>\n",
       "      <td>NaN</td>\n",
       "      <td>United Kingdom</td>\n",
       "      <td>2011</td>\n",
       "      <td>2011-12</td>\n",
       "    </tr>\n",
       "    <tr>\n",
       "      <th>538554</th>\n",
       "      <td>581408</td>\n",
       "      <td>85175</td>\n",
       "      <td>NaN</td>\n",
       "      <td>20</td>\n",
       "      <td>2011-12-08 14:06:00</td>\n",
       "      <td>0.0</td>\n",
       "      <td>NaN</td>\n",
       "      <td>United Kingdom</td>\n",
       "      <td>2011</td>\n",
       "      <td>2011-12</td>\n",
       "    </tr>\n",
       "  </tbody>\n",
       "</table>\n",
       "<p>1454 rows × 10 columns</p>\n",
       "</div>"
      ],
      "text/plain": [
       "       InvoiceNo StockCode Description  Quantity         InvoiceDate  \\\n",
       "622       536414     22139         NaN        56 2010-12-01 11:52:00   \n",
       "1970      536545     21134         NaN         1 2010-12-01 14:32:00   \n",
       "1971      536546     22145         NaN         1 2010-12-01 14:33:00   \n",
       "1972      536547     37509         NaN         1 2010-12-01 14:33:00   \n",
       "1987      536549    85226A         NaN         1 2010-12-01 14:34:00   \n",
       "...          ...       ...         ...       ...                 ...   \n",
       "535322    581199     84581         NaN        -2 2011-12-07 18:26:00   \n",
       "535326    581203     23406         NaN        15 2011-12-07 18:31:00   \n",
       "535332    581209     21620         NaN         6 2011-12-07 18:35:00   \n",
       "536981    581234     72817         NaN        27 2011-12-08 10:33:00   \n",
       "538554    581408     85175         NaN        20 2011-12-08 14:06:00   \n",
       "\n",
       "        UnitPrice  CustomerID         Country  InvoiceYear YearMonth  \n",
       "622           0.0         NaN  United Kingdom         2010   2010-12  \n",
       "1970          0.0         NaN  United Kingdom         2010   2010-12  \n",
       "1971          0.0         NaN  United Kingdom         2010   2010-12  \n",
       "1972          0.0         NaN  United Kingdom         2010   2010-12  \n",
       "1987          0.0         NaN  United Kingdom         2010   2010-12  \n",
       "...           ...         ...             ...          ...       ...  \n",
       "535322        0.0         NaN  United Kingdom         2011   2011-12  \n",
       "535326        0.0         NaN  United Kingdom         2011   2011-12  \n",
       "535332        0.0         NaN  United Kingdom         2011   2011-12  \n",
       "536981        0.0         NaN  United Kingdom         2011   2011-12  \n",
       "538554        0.0         NaN  United Kingdom         2011   2011-12  \n",
       "\n",
       "[1454 rows x 10 columns]"
      ]
     },
     "execution_count": 11,
     "metadata": {},
     "output_type": "execute_result"
    }
   ],
   "source": [
    "df[df['Description'].isnull()]"
   ]
  },
  {
   "cell_type": "code",
   "execution_count": 12,
   "id": "a2885c1f",
   "metadata": {
    "execution": {
     "iopub.execute_input": "2024-07-30T20:13:58.933494Z",
     "iopub.status.busy": "2024-07-30T20:13:58.932656Z",
     "iopub.status.idle": "2024-07-30T20:13:59.018542Z",
     "shell.execute_reply": "2024-07-30T20:13:59.017070Z"
    },
    "papermill": {
     "duration": 0.124396,
     "end_time": "2024-07-30T20:13:59.022488",
     "exception": false,
     "start_time": "2024-07-30T20:13:58.898092",
     "status": "completed"
    },
    "tags": []
   },
   "outputs": [
    {
     "data": {
      "text/plain": [
       "UnitPrice\n",
       "0.0    1454\n",
       "Name: count, dtype: int64"
      ]
     },
     "execution_count": 12,
     "metadata": {},
     "output_type": "execute_result"
    }
   ],
   "source": [
    "df[df['Description'].isnull()]['UnitPrice'].value_counts()"
   ]
  },
  {
   "cell_type": "markdown",
   "id": "f658ff20",
   "metadata": {
    "papermill": {
     "duration": 0.029721,
     "end_time": "2024-07-30T20:13:59.086182",
     "exception": false,
     "start_time": "2024-07-30T20:13:59.056461",
     "status": "completed"
    },
    "tags": []
   },
   "source": [
    "The records with null Description also have Unit Price 0.0"
   ]
  },
  {
   "cell_type": "code",
   "execution_count": 13,
   "id": "cc578799",
   "metadata": {
    "execution": {
     "iopub.execute_input": "2024-07-30T20:13:59.154534Z",
     "iopub.status.busy": "2024-07-30T20:13:59.154079Z",
     "iopub.status.idle": "2024-07-30T20:13:59.716723Z",
     "shell.execute_reply": "2024-07-30T20:13:59.715261Z"
    },
    "papermill": {
     "duration": 0.599755,
     "end_time": "2024-07-30T20:13:59.720408",
     "exception": false,
     "start_time": "2024-07-30T20:13:59.120653",
     "status": "completed"
    },
    "tags": []
   },
   "outputs": [],
   "source": [
    "df['CustomerID'] = df['CustomerID'].astype('str')"
   ]
  },
  {
   "cell_type": "code",
   "execution_count": 14,
   "id": "28752981",
   "metadata": {
    "execution": {
     "iopub.execute_input": "2024-07-30T20:13:59.781049Z",
     "iopub.status.busy": "2024-07-30T20:13:59.780632Z",
     "iopub.status.idle": "2024-07-30T20:13:59.912607Z",
     "shell.execute_reply": "2024-07-30T20:13:59.911139Z"
    },
    "papermill": {
     "duration": 0.164748,
     "end_time": "2024-07-30T20:13:59.915344",
     "exception": false,
     "start_time": "2024-07-30T20:13:59.750596",
     "status": "completed"
    },
    "tags": []
   },
   "outputs": [
    {
     "data": {
      "text/plain": [
       "CustomerID\n",
       "nan        135080\n",
       "17841.0      7983\n",
       "14911.0      5903\n",
       "14096.0      5128\n",
       "12748.0      4642\n",
       "            ...  \n",
       "13270.0         1\n",
       "17763.0         1\n",
       "17291.0         1\n",
       "15668.0         1\n",
       "15562.0         1\n",
       "Name: count, Length: 4373, dtype: int64"
      ]
     },
     "execution_count": 14,
     "metadata": {},
     "output_type": "execute_result"
    }
   ],
   "source": [
    "df['CustomerID'].value_counts()"
   ]
  },
  {
   "cell_type": "markdown",
   "id": "4ce8660e",
   "metadata": {
    "papermill": {
     "duration": 0.030192,
     "end_time": "2024-07-30T20:13:59.975320",
     "exception": false,
     "start_time": "2024-07-30T20:13:59.945128",
     "status": "completed"
    },
    "tags": []
   },
   "source": [
    "There are 135,080 transactions with null CustomerID. Since we need the customer information after the segmentation. If the null CustomerID cannot be resolved, they have to be removed from the analysis."
   ]
  },
  {
   "cell_type": "code",
   "execution_count": 15,
   "id": "1eba8ef5",
   "metadata": {
    "execution": {
     "iopub.execute_input": "2024-07-30T20:14:00.037586Z",
     "iopub.status.busy": "2024-07-30T20:14:00.037152Z",
     "iopub.status.idle": "2024-07-30T20:14:00.194848Z",
     "shell.execute_reply": "2024-07-30T20:14:00.193471Z"
    },
    "papermill": {
     "duration": 0.193033,
     "end_time": "2024-07-30T20:14:00.197933",
     "exception": false,
     "start_time": "2024-07-30T20:14:00.004900",
     "status": "completed"
    },
    "tags": []
   },
   "outputs": [
    {
     "data": {
      "text/html": [
       "<div>\n",
       "<style scoped>\n",
       "    .dataframe tbody tr th:only-of-type {\n",
       "        vertical-align: middle;\n",
       "    }\n",
       "\n",
       "    .dataframe tbody tr th {\n",
       "        vertical-align: top;\n",
       "    }\n",
       "\n",
       "    .dataframe thead th {\n",
       "        text-align: right;\n",
       "    }\n",
       "</style>\n",
       "<table border=\"1\" class=\"dataframe\">\n",
       "  <thead>\n",
       "    <tr style=\"text-align: right;\">\n",
       "      <th></th>\n",
       "      <th>InvoiceNo</th>\n",
       "      <th>StockCode</th>\n",
       "      <th>Description</th>\n",
       "      <th>Quantity</th>\n",
       "      <th>InvoiceDate</th>\n",
       "      <th>UnitPrice</th>\n",
       "      <th>CustomerID</th>\n",
       "      <th>Country</th>\n",
       "      <th>InvoiceYear</th>\n",
       "      <th>YearMonth</th>\n",
       "    </tr>\n",
       "  </thead>\n",
       "  <tbody>\n",
       "    <tr>\n",
       "      <th>622</th>\n",
       "      <td>536414</td>\n",
       "      <td>22139</td>\n",
       "      <td>NaN</td>\n",
       "      <td>56</td>\n",
       "      <td>2010-12-01 11:52:00</td>\n",
       "      <td>0.00</td>\n",
       "      <td>nan</td>\n",
       "      <td>United Kingdom</td>\n",
       "      <td>2010</td>\n",
       "      <td>2010-12</td>\n",
       "    </tr>\n",
       "    <tr>\n",
       "      <th>1443</th>\n",
       "      <td>536544</td>\n",
       "      <td>21773</td>\n",
       "      <td>DECORATIVE ROSE BATHROOM BOTTLE</td>\n",
       "      <td>1</td>\n",
       "      <td>2010-12-01 14:32:00</td>\n",
       "      <td>2.51</td>\n",
       "      <td>nan</td>\n",
       "      <td>United Kingdom</td>\n",
       "      <td>2010</td>\n",
       "      <td>2010-12</td>\n",
       "    </tr>\n",
       "    <tr>\n",
       "      <th>1444</th>\n",
       "      <td>536544</td>\n",
       "      <td>21774</td>\n",
       "      <td>DECORATIVE CATS BATHROOM BOTTLE</td>\n",
       "      <td>2</td>\n",
       "      <td>2010-12-01 14:32:00</td>\n",
       "      <td>2.51</td>\n",
       "      <td>nan</td>\n",
       "      <td>United Kingdom</td>\n",
       "      <td>2010</td>\n",
       "      <td>2010-12</td>\n",
       "    </tr>\n",
       "    <tr>\n",
       "      <th>1445</th>\n",
       "      <td>536544</td>\n",
       "      <td>21786</td>\n",
       "      <td>POLKADOT RAIN HAT</td>\n",
       "      <td>4</td>\n",
       "      <td>2010-12-01 14:32:00</td>\n",
       "      <td>0.85</td>\n",
       "      <td>nan</td>\n",
       "      <td>United Kingdom</td>\n",
       "      <td>2010</td>\n",
       "      <td>2010-12</td>\n",
       "    </tr>\n",
       "    <tr>\n",
       "      <th>1446</th>\n",
       "      <td>536544</td>\n",
       "      <td>21787</td>\n",
       "      <td>RAIN PONCHO RETROSPOT</td>\n",
       "      <td>2</td>\n",
       "      <td>2010-12-01 14:32:00</td>\n",
       "      <td>1.66</td>\n",
       "      <td>nan</td>\n",
       "      <td>United Kingdom</td>\n",
       "      <td>2010</td>\n",
       "      <td>2010-12</td>\n",
       "    </tr>\n",
       "    <tr>\n",
       "      <th>...</th>\n",
       "      <td>...</td>\n",
       "      <td>...</td>\n",
       "      <td>...</td>\n",
       "      <td>...</td>\n",
       "      <td>...</td>\n",
       "      <td>...</td>\n",
       "      <td>...</td>\n",
       "      <td>...</td>\n",
       "      <td>...</td>\n",
       "      <td>...</td>\n",
       "    </tr>\n",
       "    <tr>\n",
       "      <th>541536</th>\n",
       "      <td>581498</td>\n",
       "      <td>85099B</td>\n",
       "      <td>JUMBO BAG RED RETROSPOT</td>\n",
       "      <td>5</td>\n",
       "      <td>2011-12-09 10:26:00</td>\n",
       "      <td>4.13</td>\n",
       "      <td>nan</td>\n",
       "      <td>United Kingdom</td>\n",
       "      <td>2011</td>\n",
       "      <td>2011-12</td>\n",
       "    </tr>\n",
       "    <tr>\n",
       "      <th>541537</th>\n",
       "      <td>581498</td>\n",
       "      <td>85099C</td>\n",
       "      <td>JUMBO  BAG BAROQUE BLACK WHITE</td>\n",
       "      <td>4</td>\n",
       "      <td>2011-12-09 10:26:00</td>\n",
       "      <td>4.13</td>\n",
       "      <td>nan</td>\n",
       "      <td>United Kingdom</td>\n",
       "      <td>2011</td>\n",
       "      <td>2011-12</td>\n",
       "    </tr>\n",
       "    <tr>\n",
       "      <th>541538</th>\n",
       "      <td>581498</td>\n",
       "      <td>85150</td>\n",
       "      <td>LADIES &amp; GENTLEMEN METAL SIGN</td>\n",
       "      <td>1</td>\n",
       "      <td>2011-12-09 10:26:00</td>\n",
       "      <td>4.96</td>\n",
       "      <td>nan</td>\n",
       "      <td>United Kingdom</td>\n",
       "      <td>2011</td>\n",
       "      <td>2011-12</td>\n",
       "    </tr>\n",
       "    <tr>\n",
       "      <th>541539</th>\n",
       "      <td>581498</td>\n",
       "      <td>85174</td>\n",
       "      <td>S/4 CACTI CANDLES</td>\n",
       "      <td>1</td>\n",
       "      <td>2011-12-09 10:26:00</td>\n",
       "      <td>10.79</td>\n",
       "      <td>nan</td>\n",
       "      <td>United Kingdom</td>\n",
       "      <td>2011</td>\n",
       "      <td>2011-12</td>\n",
       "    </tr>\n",
       "    <tr>\n",
       "      <th>541540</th>\n",
       "      <td>581498</td>\n",
       "      <td>DOT</td>\n",
       "      <td>DOTCOM POSTAGE</td>\n",
       "      <td>1</td>\n",
       "      <td>2011-12-09 10:26:00</td>\n",
       "      <td>1714.17</td>\n",
       "      <td>nan</td>\n",
       "      <td>United Kingdom</td>\n",
       "      <td>2011</td>\n",
       "      <td>2011-12</td>\n",
       "    </tr>\n",
       "  </tbody>\n",
       "</table>\n",
       "<p>135080 rows × 10 columns</p>\n",
       "</div>"
      ],
      "text/plain": [
       "       InvoiceNo StockCode                      Description  Quantity  \\\n",
       "622       536414     22139                              NaN        56   \n",
       "1443      536544     21773  DECORATIVE ROSE BATHROOM BOTTLE         1   \n",
       "1444      536544     21774  DECORATIVE CATS BATHROOM BOTTLE         2   \n",
       "1445      536544     21786               POLKADOT RAIN HAT          4   \n",
       "1446      536544     21787            RAIN PONCHO RETROSPOT         2   \n",
       "...          ...       ...                              ...       ...   \n",
       "541536    581498    85099B          JUMBO BAG RED RETROSPOT         5   \n",
       "541537    581498    85099C   JUMBO  BAG BAROQUE BLACK WHITE         4   \n",
       "541538    581498     85150    LADIES & GENTLEMEN METAL SIGN         1   \n",
       "541539    581498     85174                S/4 CACTI CANDLES         1   \n",
       "541540    581498       DOT                   DOTCOM POSTAGE         1   \n",
       "\n",
       "               InvoiceDate  UnitPrice CustomerID         Country  InvoiceYear  \\\n",
       "622    2010-12-01 11:52:00       0.00        nan  United Kingdom         2010   \n",
       "1443   2010-12-01 14:32:00       2.51        nan  United Kingdom         2010   \n",
       "1444   2010-12-01 14:32:00       2.51        nan  United Kingdom         2010   \n",
       "1445   2010-12-01 14:32:00       0.85        nan  United Kingdom         2010   \n",
       "1446   2010-12-01 14:32:00       1.66        nan  United Kingdom         2010   \n",
       "...                    ...        ...        ...             ...          ...   \n",
       "541536 2011-12-09 10:26:00       4.13        nan  United Kingdom         2011   \n",
       "541537 2011-12-09 10:26:00       4.13        nan  United Kingdom         2011   \n",
       "541538 2011-12-09 10:26:00       4.96        nan  United Kingdom         2011   \n",
       "541539 2011-12-09 10:26:00      10.79        nan  United Kingdom         2011   \n",
       "541540 2011-12-09 10:26:00    1714.17        nan  United Kingdom         2011   \n",
       "\n",
       "       YearMonth  \n",
       "622      2010-12  \n",
       "1443     2010-12  \n",
       "1444     2010-12  \n",
       "1445     2010-12  \n",
       "1446     2010-12  \n",
       "...          ...  \n",
       "541536   2011-12  \n",
       "541537   2011-12  \n",
       "541538   2011-12  \n",
       "541539   2011-12  \n",
       "541540   2011-12  \n",
       "\n",
       "[135080 rows x 10 columns]"
      ]
     },
     "execution_count": 15,
     "metadata": {},
     "output_type": "execute_result"
    }
   ],
   "source": [
    "df[df['CustomerID']=='nan']"
   ]
  },
  {
   "cell_type": "code",
   "execution_count": 16,
   "id": "e1d8300d",
   "metadata": {
    "execution": {
     "iopub.execute_input": "2024-07-30T20:14:00.260607Z",
     "iopub.status.busy": "2024-07-30T20:14:00.260136Z",
     "iopub.status.idle": "2024-07-30T20:14:00.348500Z",
     "shell.execute_reply": "2024-07-30T20:14:00.346885Z"
    },
    "papermill": {
     "duration": 0.124117,
     "end_time": "2024-07-30T20:14:00.351305",
     "exception": false,
     "start_time": "2024-07-30T20:14:00.227188",
     "status": "completed"
    },
    "tags": []
   },
   "outputs": [
    {
     "data": {
      "text/plain": [
       "Country\n",
       "United Kingdom          495478\n",
       "Germany                   9495\n",
       "France                    8557\n",
       "EIRE                      8196\n",
       "Spain                     2533\n",
       "Netherlands               2371\n",
       "Belgium                   2069\n",
       "Switzerland               2002\n",
       "Portugal                  1519\n",
       "Australia                 1259\n",
       "Norway                    1086\n",
       "Italy                      803\n",
       "Channel Islands            758\n",
       "Finland                    695\n",
       "Cyprus                     622\n",
       "Sweden                     462\n",
       "Unspecified                446\n",
       "Austria                    401\n",
       "Denmark                    389\n",
       "Japan                      358\n",
       "Poland                     341\n",
       "Israel                     297\n",
       "USA                        291\n",
       "Hong Kong                  288\n",
       "Singapore                  229\n",
       "Iceland                    182\n",
       "Canada                     151\n",
       "Greece                     146\n",
       "Malta                      127\n",
       "United Arab Emirates        68\n",
       "European Community          61\n",
       "RSA                         58\n",
       "Lebanon                     45\n",
       "Lithuania                   35\n",
       "Brazil                      32\n",
       "Czech Republic              30\n",
       "Bahrain                     19\n",
       "Saudi Arabia                10\n",
       "Name: count, dtype: int64"
      ]
     },
     "execution_count": 16,
     "metadata": {},
     "output_type": "execute_result"
    }
   ],
   "source": [
    "df['Country'].value_counts()"
   ]
  },
  {
   "cell_type": "code",
   "execution_count": 17,
   "id": "0cc65cce",
   "metadata": {
    "execution": {
     "iopub.execute_input": "2024-07-30T20:14:00.418313Z",
     "iopub.status.busy": "2024-07-30T20:14:00.417845Z",
     "iopub.status.idle": "2024-07-30T20:14:00.585661Z",
     "shell.execute_reply": "2024-07-30T20:14:00.584188Z"
    },
    "papermill": {
     "duration": 0.205553,
     "end_time": "2024-07-30T20:14:00.588617",
     "exception": false,
     "start_time": "2024-07-30T20:14:00.383064",
     "status": "completed"
    },
    "tags": []
   },
   "outputs": [
    {
     "data": {
      "text/plain": [
       "Country\n",
       "United Kingdom    133600\n",
       "EIRE                 711\n",
       "Hong Kong            288\n",
       "Unspecified          202\n",
       "Switzerland          125\n",
       "France                66\n",
       "Israel                47\n",
       "Portugal              39\n",
       "Bahrain                2\n",
       "Name: count, dtype: int64"
      ]
     },
     "execution_count": 17,
     "metadata": {},
     "output_type": "execute_result"
    }
   ],
   "source": [
    "df[df['CustomerID']=='nan']['Country'].value_counts()"
   ]
  },
  {
   "cell_type": "code",
   "execution_count": 18,
   "id": "27721552",
   "metadata": {
    "execution": {
     "iopub.execute_input": "2024-07-30T20:14:00.653616Z",
     "iopub.status.busy": "2024-07-30T20:14:00.652398Z",
     "iopub.status.idle": "2024-07-30T20:14:00.820757Z",
     "shell.execute_reply": "2024-07-30T20:14:00.819170Z"
    },
    "papermill": {
     "duration": 0.205295,
     "end_time": "2024-07-30T20:14:00.825023",
     "exception": false,
     "start_time": "2024-07-30T20:14:00.619728",
     "status": "completed"
    },
    "tags": []
   },
   "outputs": [
    {
     "data": {
      "text/plain": [
       "YearMonth\n",
       "2010-12    15631\n",
       "2011-01    13235\n",
       "2011-02     7344\n",
       "2011-03     8926\n",
       "2011-04     6718\n",
       "2011-05     8122\n",
       "2011-06     9038\n",
       "2011-07    12016\n",
       "2011-08     7622\n",
       "2011-09     9404\n",
       "2011-10    10047\n",
       "2011-11    19113\n",
       "2011-12     7864\n",
       "Name: count, dtype: int64"
      ]
     },
     "execution_count": 18,
     "metadata": {},
     "output_type": "execute_result"
    }
   ],
   "source": [
    "df[df['CustomerID']=='nan']['YearMonth'].value_counts().sort_index()"
   ]
  },
  {
   "cell_type": "markdown",
   "id": "e6ca879b",
   "metadata": {
    "papermill": {
     "duration": 0.034133,
     "end_time": "2024-07-30T20:14:00.890069",
     "exception": false,
     "start_time": "2024-07-30T20:14:00.855936",
     "status": "completed"
    },
    "tags": []
   },
   "source": [
    "The transactions with null CustomerID are speaded across each month rather than clutered within a particular time period. So we will remove these transactions as no customer infomation included."
   ]
  },
  {
   "cell_type": "code",
   "execution_count": 19,
   "id": "4cfa2821",
   "metadata": {
    "execution": {
     "iopub.execute_input": "2024-07-30T20:14:00.954568Z",
     "iopub.status.busy": "2024-07-30T20:14:00.954097Z",
     "iopub.status.idle": "2024-07-30T20:14:00.985832Z",
     "shell.execute_reply": "2024-07-30T20:14:00.983134Z"
    },
    "papermill": {
     "duration": 0.068715,
     "end_time": "2024-07-30T20:14:00.989673",
     "exception": false,
     "start_time": "2024-07-30T20:14:00.920958",
     "status": "completed"
    },
    "tags": []
   },
   "outputs": [
    {
     "data": {
      "text/html": [
       "<div>\n",
       "<style scoped>\n",
       "    .dataframe tbody tr th:only-of-type {\n",
       "        vertical-align: middle;\n",
       "    }\n",
       "\n",
       "    .dataframe tbody tr th {\n",
       "        vertical-align: top;\n",
       "    }\n",
       "\n",
       "    .dataframe thead th {\n",
       "        text-align: right;\n",
       "    }\n",
       "</style>\n",
       "<table border=\"1\" class=\"dataframe\">\n",
       "  <thead>\n",
       "    <tr style=\"text-align: right;\">\n",
       "      <th></th>\n",
       "      <th>InvoiceNo</th>\n",
       "      <th>StockCode</th>\n",
       "      <th>Description</th>\n",
       "      <th>Quantity</th>\n",
       "      <th>InvoiceDate</th>\n",
       "      <th>UnitPrice</th>\n",
       "      <th>CustomerID</th>\n",
       "      <th>Country</th>\n",
       "      <th>InvoiceYear</th>\n",
       "      <th>YearMonth</th>\n",
       "    </tr>\n",
       "  </thead>\n",
       "  <tbody>\n",
       "    <tr>\n",
       "      <th>141</th>\n",
       "      <td>C536379</td>\n",
       "      <td>D</td>\n",
       "      <td>Discount</td>\n",
       "      <td>-1</td>\n",
       "      <td>2010-12-01 09:41:00</td>\n",
       "      <td>27.50</td>\n",
       "      <td>14527.0</td>\n",
       "      <td>United Kingdom</td>\n",
       "      <td>2010</td>\n",
       "      <td>2010-12</td>\n",
       "    </tr>\n",
       "    <tr>\n",
       "      <th>154</th>\n",
       "      <td>C536383</td>\n",
       "      <td>35004C</td>\n",
       "      <td>SET OF 3 COLOURED  FLYING DUCKS</td>\n",
       "      <td>-1</td>\n",
       "      <td>2010-12-01 09:49:00</td>\n",
       "      <td>4.65</td>\n",
       "      <td>15311.0</td>\n",
       "      <td>United Kingdom</td>\n",
       "      <td>2010</td>\n",
       "      <td>2010-12</td>\n",
       "    </tr>\n",
       "    <tr>\n",
       "      <th>235</th>\n",
       "      <td>C536391</td>\n",
       "      <td>22556</td>\n",
       "      <td>PLASTERS IN TIN CIRCUS PARADE</td>\n",
       "      <td>-12</td>\n",
       "      <td>2010-12-01 10:24:00</td>\n",
       "      <td>1.65</td>\n",
       "      <td>17548.0</td>\n",
       "      <td>United Kingdom</td>\n",
       "      <td>2010</td>\n",
       "      <td>2010-12</td>\n",
       "    </tr>\n",
       "    <tr>\n",
       "      <th>236</th>\n",
       "      <td>C536391</td>\n",
       "      <td>21984</td>\n",
       "      <td>PACK OF 12 PINK PAISLEY TISSUES</td>\n",
       "      <td>-24</td>\n",
       "      <td>2010-12-01 10:24:00</td>\n",
       "      <td>0.29</td>\n",
       "      <td>17548.0</td>\n",
       "      <td>United Kingdom</td>\n",
       "      <td>2010</td>\n",
       "      <td>2010-12</td>\n",
       "    </tr>\n",
       "    <tr>\n",
       "      <th>237</th>\n",
       "      <td>C536391</td>\n",
       "      <td>21983</td>\n",
       "      <td>PACK OF 12 BLUE PAISLEY TISSUES</td>\n",
       "      <td>-24</td>\n",
       "      <td>2010-12-01 10:24:00</td>\n",
       "      <td>0.29</td>\n",
       "      <td>17548.0</td>\n",
       "      <td>United Kingdom</td>\n",
       "      <td>2010</td>\n",
       "      <td>2010-12</td>\n",
       "    </tr>\n",
       "    <tr>\n",
       "      <th>...</th>\n",
       "      <td>...</td>\n",
       "      <td>...</td>\n",
       "      <td>...</td>\n",
       "      <td>...</td>\n",
       "      <td>...</td>\n",
       "      <td>...</td>\n",
       "      <td>...</td>\n",
       "      <td>...</td>\n",
       "      <td>...</td>\n",
       "      <td>...</td>\n",
       "    </tr>\n",
       "    <tr>\n",
       "      <th>540449</th>\n",
       "      <td>C581490</td>\n",
       "      <td>23144</td>\n",
       "      <td>ZINC T-LIGHT HOLDER STARS SMALL</td>\n",
       "      <td>-11</td>\n",
       "      <td>2011-12-09 09:57:00</td>\n",
       "      <td>0.83</td>\n",
       "      <td>14397.0</td>\n",
       "      <td>United Kingdom</td>\n",
       "      <td>2011</td>\n",
       "      <td>2011-12</td>\n",
       "    </tr>\n",
       "    <tr>\n",
       "      <th>541541</th>\n",
       "      <td>C581499</td>\n",
       "      <td>M</td>\n",
       "      <td>Manual</td>\n",
       "      <td>-1</td>\n",
       "      <td>2011-12-09 10:28:00</td>\n",
       "      <td>224.69</td>\n",
       "      <td>15498.0</td>\n",
       "      <td>United Kingdom</td>\n",
       "      <td>2011</td>\n",
       "      <td>2011-12</td>\n",
       "    </tr>\n",
       "    <tr>\n",
       "      <th>541715</th>\n",
       "      <td>C581568</td>\n",
       "      <td>21258</td>\n",
       "      <td>VICTORIAN SEWING BOX LARGE</td>\n",
       "      <td>-5</td>\n",
       "      <td>2011-12-09 11:57:00</td>\n",
       "      <td>10.95</td>\n",
       "      <td>15311.0</td>\n",
       "      <td>United Kingdom</td>\n",
       "      <td>2011</td>\n",
       "      <td>2011-12</td>\n",
       "    </tr>\n",
       "    <tr>\n",
       "      <th>541716</th>\n",
       "      <td>C581569</td>\n",
       "      <td>84978</td>\n",
       "      <td>HANGING HEART JAR T-LIGHT HOLDER</td>\n",
       "      <td>-1</td>\n",
       "      <td>2011-12-09 11:58:00</td>\n",
       "      <td>1.25</td>\n",
       "      <td>17315.0</td>\n",
       "      <td>United Kingdom</td>\n",
       "      <td>2011</td>\n",
       "      <td>2011-12</td>\n",
       "    </tr>\n",
       "    <tr>\n",
       "      <th>541717</th>\n",
       "      <td>C581569</td>\n",
       "      <td>20979</td>\n",
       "      <td>36 PENCILS TUBE RED RETROSPOT</td>\n",
       "      <td>-5</td>\n",
       "      <td>2011-12-09 11:58:00</td>\n",
       "      <td>1.25</td>\n",
       "      <td>17315.0</td>\n",
       "      <td>United Kingdom</td>\n",
       "      <td>2011</td>\n",
       "      <td>2011-12</td>\n",
       "    </tr>\n",
       "  </tbody>\n",
       "</table>\n",
       "<p>10624 rows × 10 columns</p>\n",
       "</div>"
      ],
      "text/plain": [
       "       InvoiceNo StockCode                       Description  Quantity  \\\n",
       "141      C536379         D                          Discount        -1   \n",
       "154      C536383    35004C   SET OF 3 COLOURED  FLYING DUCKS        -1   \n",
       "235      C536391     22556    PLASTERS IN TIN CIRCUS PARADE        -12   \n",
       "236      C536391     21984  PACK OF 12 PINK PAISLEY TISSUES        -24   \n",
       "237      C536391     21983  PACK OF 12 BLUE PAISLEY TISSUES        -24   \n",
       "...          ...       ...                               ...       ...   \n",
       "540449   C581490     23144   ZINC T-LIGHT HOLDER STARS SMALL       -11   \n",
       "541541   C581499         M                            Manual        -1   \n",
       "541715   C581568     21258        VICTORIAN SEWING BOX LARGE        -5   \n",
       "541716   C581569     84978  HANGING HEART JAR T-LIGHT HOLDER        -1   \n",
       "541717   C581569     20979     36 PENCILS TUBE RED RETROSPOT        -5   \n",
       "\n",
       "               InvoiceDate  UnitPrice CustomerID         Country  InvoiceYear  \\\n",
       "141    2010-12-01 09:41:00      27.50    14527.0  United Kingdom         2010   \n",
       "154    2010-12-01 09:49:00       4.65    15311.0  United Kingdom         2010   \n",
       "235    2010-12-01 10:24:00       1.65    17548.0  United Kingdom         2010   \n",
       "236    2010-12-01 10:24:00       0.29    17548.0  United Kingdom         2010   \n",
       "237    2010-12-01 10:24:00       0.29    17548.0  United Kingdom         2010   \n",
       "...                    ...        ...        ...             ...          ...   \n",
       "540449 2011-12-09 09:57:00       0.83    14397.0  United Kingdom         2011   \n",
       "541541 2011-12-09 10:28:00     224.69    15498.0  United Kingdom         2011   \n",
       "541715 2011-12-09 11:57:00      10.95    15311.0  United Kingdom         2011   \n",
       "541716 2011-12-09 11:58:00       1.25    17315.0  United Kingdom         2011   \n",
       "541717 2011-12-09 11:58:00       1.25    17315.0  United Kingdom         2011   \n",
       "\n",
       "       YearMonth  \n",
       "141      2010-12  \n",
       "154      2010-12  \n",
       "235      2010-12  \n",
       "236      2010-12  \n",
       "237      2010-12  \n",
       "...          ...  \n",
       "540449   2011-12  \n",
       "541541   2011-12  \n",
       "541715   2011-12  \n",
       "541716   2011-12  \n",
       "541717   2011-12  \n",
       "\n",
       "[10624 rows x 10 columns]"
      ]
     },
     "execution_count": 19,
     "metadata": {},
     "output_type": "execute_result"
    }
   ],
   "source": [
    "df[df['Quantity']<=0]"
   ]
  },
  {
   "cell_type": "markdown",
   "id": "e3833393",
   "metadata": {
    "papermill": {
     "duration": 0.030636,
     "end_time": "2024-07-30T20:14:01.056209",
     "exception": false,
     "start_time": "2024-07-30T20:14:01.025573",
     "status": "completed"
    },
    "tags": []
   },
   "source": [
    "Transactions with negative Quantity have special pattern in the InvoiceNo. Let's dig into it."
   ]
  },
  {
   "cell_type": "code",
   "execution_count": 20,
   "id": "897f6deb",
   "metadata": {
    "execution": {
     "iopub.execute_input": "2024-07-30T20:14:01.123677Z",
     "iopub.status.busy": "2024-07-30T20:14:01.123212Z",
     "iopub.status.idle": "2024-07-30T20:14:01.155392Z",
     "shell.execute_reply": "2024-07-30T20:14:01.153445Z"
    },
    "papermill": {
     "duration": 0.072013,
     "end_time": "2024-07-30T20:14:01.158965",
     "exception": false,
     "start_time": "2024-07-30T20:14:01.086952",
     "status": "completed"
    },
    "tags": []
   },
   "outputs": [
    {
     "data": {
      "text/plain": [
       "InvoiceNo\n",
       "C    9288\n",
       "5    1336\n",
       "Name: count, dtype: int64"
      ]
     },
     "execution_count": 20,
     "metadata": {},
     "output_type": "execute_result"
    }
   ],
   "source": [
    "df[df['Quantity']<=0]['InvoiceNo'].astype(str).str[0].value_counts()"
   ]
  },
  {
   "cell_type": "code",
   "execution_count": 21,
   "id": "7864a6c9",
   "metadata": {
    "execution": {
     "iopub.execute_input": "2024-07-30T20:14:01.232072Z",
     "iopub.status.busy": "2024-07-30T20:14:01.231620Z",
     "iopub.status.idle": "2024-07-30T20:14:01.246920Z",
     "shell.execute_reply": "2024-07-30T20:14:01.245204Z"
    },
    "papermill": {
     "duration": 0.054038,
     "end_time": "2024-07-30T20:14:01.249947",
     "exception": false,
     "start_time": "2024-07-30T20:14:01.195909",
     "status": "completed"
    },
    "tags": []
   },
   "outputs": [],
   "source": [
    "df_inv = df[df['Quantity']<=0]\n",
    "df_inv['InvoiceNo'] = df_inv['InvoiceNo'].astype(str)"
   ]
  },
  {
   "cell_type": "markdown",
   "id": "a27c0a04",
   "metadata": {
    "papermill": {
     "duration": 0.031429,
     "end_time": "2024-07-30T20:14:01.313376",
     "exception": false,
     "start_time": "2024-07-30T20:14:01.281947",
     "status": "completed"
    },
    "tags": []
   },
   "source": [
    "Let's check if any finding from Description column."
   ]
  },
  {
   "cell_type": "code",
   "execution_count": 22,
   "id": "5b75d2ae",
   "metadata": {
    "execution": {
     "iopub.execute_input": "2024-07-30T20:14:01.388591Z",
     "iopub.status.busy": "2024-07-30T20:14:01.388086Z",
     "iopub.status.idle": "2024-07-30T20:14:01.413397Z",
     "shell.execute_reply": "2024-07-30T20:14:01.411135Z"
    },
    "papermill": {
     "duration": 0.068397,
     "end_time": "2024-07-30T20:14:01.416916",
     "exception": false,
     "start_time": "2024-07-30T20:14:01.348519",
     "status": "completed"
    },
    "tags": []
   },
   "outputs": [
    {
     "name": "stdout",
     "output_type": "stream",
     "text": [
      "Description\n",
      "Manual                                244\n",
      "REGENCY CAKESTAND 3 TIER              181\n",
      "POSTAGE                               126\n",
      "JAM MAKING SET WITH JARS               87\n",
      "Discount                               77\n",
      "SET OF 3 CAKE TINS PANTRY DESIGN       74\n",
      "SAMPLES                                61\n",
      "STRAWBERRY CERAMIC TRINKET BOX         55\n",
      "ROSES REGENCY TEACUP AND SAUCER        54\n",
      "RECIPE BOX PANTRY YELLOW DESIGN        47\n",
      "WOOD 2 DRAWER CABINET WHITE FINISH     45\n",
      "LUNCH BAG RED RETROSPOT                44\n",
      "JUMBO BAG RED RETROSPOT                44\n",
      "GREEN REGENCY TEACUP AND SAUCER        42\n",
      "WHITE HANGING HEART T-LIGHT HOLDER     42\n",
      "RED RETROSPOT CAKE STAND               42\n",
      "SMALL GLASS HEART TRINKET POT          40\n",
      "SET OF 3 REGENCY CAKE TINS             37\n",
      "POPCORN HOLDER                         36\n",
      "SILVER HANGING T-LIGHT HOLDER          35\n"
     ]
    }
   ],
   "source": [
    "print(df_inv[df_inv['InvoiceNo'].str.startswith('C')]['Description'].value_counts()[0:20].to_string())"
   ]
  },
  {
   "cell_type": "code",
   "execution_count": 23,
   "id": "da64387c",
   "metadata": {
    "execution": {
     "iopub.execute_input": "2024-07-30T20:14:01.486049Z",
     "iopub.status.busy": "2024-07-30T20:14:01.485499Z",
     "iopub.status.idle": "2024-07-30T20:14:01.505821Z",
     "shell.execute_reply": "2024-07-30T20:14:01.504203Z"
    },
    "papermill": {
     "duration": 0.057381,
     "end_time": "2024-07-30T20:14:01.508942",
     "exception": false,
     "start_time": "2024-07-30T20:14:01.451561",
     "status": "completed"
    },
    "tags": []
   },
   "outputs": [
    {
     "name": "stdout",
     "output_type": "stream",
     "text": [
      "Description\n",
      "check                     120\n",
      "damages                    45\n",
      "damaged                    42\n",
      "?                          41\n",
      "sold as set on dotcom      20\n",
      "Damaged                    14\n",
      "thrown away                 9\n",
      "Unsaleable, destroyed.      9\n",
      "??                          7\n",
      "wet damaged                 5\n",
      "damages?                    5\n",
      "ebay                        5\n",
      "smashed                     4\n",
      "missing                     3\n",
      "wet pallet                  3\n",
      "CHECK                       3\n",
      "sold as 1                   2\n",
      "incorrect stock entry.      2\n",
      "crushed                     2\n",
      "adjustment                  2\n"
     ]
    }
   ],
   "source": [
    "print(df_inv[df_inv['InvoiceNo'].str.startswith('5')]['Description'].value_counts()[0:20].to_string())"
   ]
  },
  {
   "cell_type": "markdown",
   "id": "fc6b542b",
   "metadata": {
    "papermill": {
     "duration": 0.03566,
     "end_time": "2024-07-30T20:14:01.579058",
     "exception": false,
     "start_time": "2024-07-30T20:14:01.543398",
     "status": "completed"
    },
    "tags": []
   },
   "source": [
    "### Data Clean"
   ]
  },
  {
   "cell_type": "markdown",
   "id": "e6b57303",
   "metadata": {
    "papermill": {
     "duration": 0.030869,
     "end_time": "2024-07-30T20:14:01.641324",
     "exception": false,
     "start_time": "2024-07-30T20:14:01.610455",
     "status": "completed"
    },
    "tags": []
   },
   "source": [
    "For the analysis in this notebook, we focus on the transactions with positive Price and Quanity from a valid CustomerID. But, one can also includes the cancelled transactions if the frequency of the cancellations is taken into account."
   ]
  },
  {
   "cell_type": "code",
   "execution_count": 24,
   "id": "824d2d5a",
   "metadata": {
    "execution": {
     "iopub.execute_input": "2024-07-30T20:14:01.709494Z",
     "iopub.status.busy": "2024-07-30T20:14:01.708990Z",
     "iopub.status.idle": "2024-07-30T20:14:02.104610Z",
     "shell.execute_reply": "2024-07-30T20:14:02.103265Z"
    },
    "papermill": {
     "duration": 0.433518,
     "end_time": "2024-07-30T20:14:02.107596",
     "exception": false,
     "start_time": "2024-07-30T20:14:01.674078",
     "status": "completed"
    },
    "tags": []
   },
   "outputs": [],
   "source": [
    "df_clean = df[df['Quantity'] > 0]\n",
    "df_clean = df_clean[df_clean['UnitPrice']>0]\n",
    "df_clean = df_clean[df_clean['CustomerID']!='nan']"
   ]
  },
  {
   "cell_type": "code",
   "execution_count": 25,
   "id": "a5721df3",
   "metadata": {
    "execution": {
     "iopub.execute_input": "2024-07-30T20:14:02.174296Z",
     "iopub.status.busy": "2024-07-30T20:14:02.173812Z",
     "iopub.status.idle": "2024-07-30T20:14:02.468413Z",
     "shell.execute_reply": "2024-07-30T20:14:02.466318Z"
    },
    "papermill": {
     "duration": 0.331942,
     "end_time": "2024-07-30T20:14:02.471723",
     "exception": false,
     "start_time": "2024-07-30T20:14:02.139781",
     "status": "completed"
    },
    "tags": []
   },
   "outputs": [
    {
     "name": "stdout",
     "output_type": "stream",
     "text": [
      "<class 'pandas.core.frame.DataFrame'>\n",
      "Index: 397884 entries, 0 to 541908\n",
      "Data columns (total 10 columns):\n",
      " #   Column       Non-Null Count   Dtype         \n",
      "---  ------       --------------   -----         \n",
      " 0   InvoiceNo    397884 non-null  object        \n",
      " 1   StockCode    397884 non-null  object        \n",
      " 2   Description  397884 non-null  object        \n",
      " 3   Quantity     397884 non-null  int64         \n",
      " 4   InvoiceDate  397884 non-null  datetime64[ns]\n",
      " 5   UnitPrice    397884 non-null  float64       \n",
      " 6   CustomerID   397884 non-null  object        \n",
      " 7   Country      397884 non-null  object        \n",
      " 8   InvoiceYear  397884 non-null  int32         \n",
      " 9   YearMonth    397884 non-null  object        \n",
      "dtypes: datetime64[ns](1), float64(1), int32(1), int64(1), object(6)\n",
      "memory usage: 31.9+ MB\n"
     ]
    }
   ],
   "source": [
    "df_clean.info()"
   ]
  },
  {
   "cell_type": "code",
   "execution_count": 26,
   "id": "8fc816c8",
   "metadata": {
    "execution": {
     "iopub.execute_input": "2024-07-30T20:14:02.541911Z",
     "iopub.status.busy": "2024-07-30T20:14:02.541455Z",
     "iopub.status.idle": "2024-07-30T20:14:02.823690Z",
     "shell.execute_reply": "2024-07-30T20:14:02.822346Z"
    },
    "papermill": {
     "duration": 0.32056,
     "end_time": "2024-07-30T20:14:02.826606",
     "exception": false,
     "start_time": "2024-07-30T20:14:02.506046",
     "status": "completed"
    },
    "tags": []
   },
   "outputs": [
    {
     "data": {
      "text/plain": [
       "InvoiceNo      0\n",
       "StockCode      0\n",
       "Description    0\n",
       "Quantity       0\n",
       "InvoiceDate    0\n",
       "UnitPrice      0\n",
       "CustomerID     0\n",
       "Country        0\n",
       "InvoiceYear    0\n",
       "YearMonth      0\n",
       "dtype: int64"
      ]
     },
     "execution_count": 26,
     "metadata": {},
     "output_type": "execute_result"
    }
   ],
   "source": [
    "df_clean.isnull().sum()"
   ]
  },
  {
   "cell_type": "code",
   "execution_count": 27,
   "id": "9fadcad3",
   "metadata": {
    "execution": {
     "iopub.execute_input": "2024-07-30T20:14:02.894480Z",
     "iopub.status.busy": "2024-07-30T20:14:02.894012Z",
     "iopub.status.idle": "2024-07-30T20:14:02.970224Z",
     "shell.execute_reply": "2024-07-30T20:14:02.968655Z"
    },
    "papermill": {
     "duration": 0.113774,
     "end_time": "2024-07-30T20:14:02.973273",
     "exception": false,
     "start_time": "2024-07-30T20:14:02.859499",
     "status": "completed"
    },
    "tags": []
   },
   "outputs": [
    {
     "data": {
      "text/html": [
       "<div>\n",
       "<style scoped>\n",
       "    .dataframe tbody tr th:only-of-type {\n",
       "        vertical-align: middle;\n",
       "    }\n",
       "\n",
       "    .dataframe tbody tr th {\n",
       "        vertical-align: top;\n",
       "    }\n",
       "\n",
       "    .dataframe thead th {\n",
       "        text-align: right;\n",
       "    }\n",
       "</style>\n",
       "<table border=\"1\" class=\"dataframe\">\n",
       "  <thead>\n",
       "    <tr style=\"text-align: right;\">\n",
       "      <th></th>\n",
       "      <th>Quantity</th>\n",
       "      <th>InvoiceDate</th>\n",
       "      <th>UnitPrice</th>\n",
       "      <th>InvoiceYear</th>\n",
       "    </tr>\n",
       "  </thead>\n",
       "  <tbody>\n",
       "    <tr>\n",
       "      <th>count</th>\n",
       "      <td>397884.000000</td>\n",
       "      <td>397884</td>\n",
       "      <td>397884.000000</td>\n",
       "      <td>397884.000000</td>\n",
       "    </tr>\n",
       "    <tr>\n",
       "      <th>mean</th>\n",
       "      <td>12.988238</td>\n",
       "      <td>2011-07-10 23:41:23.511023360</td>\n",
       "      <td>3.116488</td>\n",
       "      <td>2010.934260</td>\n",
       "    </tr>\n",
       "    <tr>\n",
       "      <th>min</th>\n",
       "      <td>1.000000</td>\n",
       "      <td>2010-12-01 08:26:00</td>\n",
       "      <td>0.001000</td>\n",
       "      <td>2010.000000</td>\n",
       "    </tr>\n",
       "    <tr>\n",
       "      <th>25%</th>\n",
       "      <td>2.000000</td>\n",
       "      <td>2011-04-07 11:12:00</td>\n",
       "      <td>1.250000</td>\n",
       "      <td>2011.000000</td>\n",
       "    </tr>\n",
       "    <tr>\n",
       "      <th>50%</th>\n",
       "      <td>6.000000</td>\n",
       "      <td>2011-07-31 14:39:00</td>\n",
       "      <td>1.950000</td>\n",
       "      <td>2011.000000</td>\n",
       "    </tr>\n",
       "    <tr>\n",
       "      <th>75%</th>\n",
       "      <td>12.000000</td>\n",
       "      <td>2011-10-20 14:33:00</td>\n",
       "      <td>3.750000</td>\n",
       "      <td>2011.000000</td>\n",
       "    </tr>\n",
       "    <tr>\n",
       "      <th>max</th>\n",
       "      <td>80995.000000</td>\n",
       "      <td>2011-12-09 12:50:00</td>\n",
       "      <td>8142.750000</td>\n",
       "      <td>2011.000000</td>\n",
       "    </tr>\n",
       "    <tr>\n",
       "      <th>std</th>\n",
       "      <td>179.331775</td>\n",
       "      <td>NaN</td>\n",
       "      <td>22.097877</td>\n",
       "      <td>0.247828</td>\n",
       "    </tr>\n",
       "  </tbody>\n",
       "</table>\n",
       "</div>"
      ],
      "text/plain": [
       "            Quantity                    InvoiceDate      UnitPrice  \\\n",
       "count  397884.000000                         397884  397884.000000   \n",
       "mean       12.988238  2011-07-10 23:41:23.511023360       3.116488   \n",
       "min         1.000000            2010-12-01 08:26:00       0.001000   \n",
       "25%         2.000000            2011-04-07 11:12:00       1.250000   \n",
       "50%         6.000000            2011-07-31 14:39:00       1.950000   \n",
       "75%        12.000000            2011-10-20 14:33:00       3.750000   \n",
       "max     80995.000000            2011-12-09 12:50:00    8142.750000   \n",
       "std       179.331775                            NaN      22.097877   \n",
       "\n",
       "         InvoiceYear  \n",
       "count  397884.000000  \n",
       "mean     2010.934260  \n",
       "min      2010.000000  \n",
       "25%      2011.000000  \n",
       "50%      2011.000000  \n",
       "75%      2011.000000  \n",
       "max      2011.000000  \n",
       "std         0.247828  "
      ]
     },
     "execution_count": 27,
     "metadata": {},
     "output_type": "execute_result"
    }
   ],
   "source": [
    "df_clean.describe()"
   ]
  },
  {
   "cell_type": "code",
   "execution_count": 28,
   "id": "6aea7254",
   "metadata": {
    "execution": {
     "iopub.execute_input": "2024-07-30T20:14:03.041809Z",
     "iopub.status.busy": "2024-07-30T20:14:03.041414Z",
     "iopub.status.idle": "2024-07-30T20:14:03.108470Z",
     "shell.execute_reply": "2024-07-30T20:14:03.106421Z"
    },
    "papermill": {
     "duration": 0.105336,
     "end_time": "2024-07-30T20:14:03.113040",
     "exception": false,
     "start_time": "2024-07-30T20:14:03.007704",
     "status": "completed"
    },
    "tags": []
   },
   "outputs": [
    {
     "data": {
      "text/plain": [
       "Country\n",
       "United Kingdom          354321\n",
       "Germany                   9040\n",
       "France                    8341\n",
       "EIRE                      7236\n",
       "Spain                     2484\n",
       "Netherlands               2359\n",
       "Belgium                   2031\n",
       "Switzerland               1841\n",
       "Portugal                  1462\n",
       "Australia                 1182\n",
       "Norway                    1071\n",
       "Italy                      758\n",
       "Channel Islands            748\n",
       "Finland                    685\n",
       "Cyprus                     614\n",
       "Sweden                     451\n",
       "Austria                    398\n",
       "Denmark                    380\n",
       "Poland                     330\n",
       "Japan                      321\n",
       "Israel                     248\n",
       "Unspecified                244\n",
       "Singapore                  222\n",
       "Iceland                    182\n",
       "USA                        179\n",
       "Canada                     151\n",
       "Greece                     145\n",
       "Malta                      112\n",
       "United Arab Emirates        68\n",
       "European Community          60\n",
       "RSA                         57\n",
       "Lebanon                     45\n",
       "Lithuania                   35\n",
       "Brazil                      32\n",
       "Czech Republic              25\n",
       "Bahrain                     17\n",
       "Saudi Arabia                 9\n",
       "Name: count, dtype: int64"
      ]
     },
     "execution_count": 28,
     "metadata": {},
     "output_type": "execute_result"
    }
   ],
   "source": [
    "df_clean['Country'].value_counts()"
   ]
  },
  {
   "cell_type": "code",
   "execution_count": 29,
   "id": "ba818cca",
   "metadata": {
    "execution": {
     "iopub.execute_input": "2024-07-30T20:14:03.181514Z",
     "iopub.status.busy": "2024-07-30T20:14:03.181079Z",
     "iopub.status.idle": "2024-07-30T20:14:03.260393Z",
     "shell.execute_reply": "2024-07-30T20:14:03.258778Z"
    },
    "papermill": {
     "duration": 0.11767,
     "end_time": "2024-07-30T20:14:03.264469",
     "exception": false,
     "start_time": "2024-07-30T20:14:03.146799",
     "status": "completed"
    },
    "tags": []
   },
   "outputs": [
    {
     "name": "stdout",
     "output_type": "stream",
     "text": [
      "Number of customers:  4338\n",
      "Number of stocks:  3665\n"
     ]
    }
   ],
   "source": [
    "print(\"Number of customers: \",len(df_clean['CustomerID'].unique()))\n",
    "print(\"Number of stocks: \",len(df_clean['StockCode'].unique()))"
   ]
  },
  {
   "cell_type": "code",
   "execution_count": 30,
   "id": "492d6409",
   "metadata": {
    "execution": {
     "iopub.execute_input": "2024-07-30T20:14:03.337490Z",
     "iopub.status.busy": "2024-07-30T20:14:03.337008Z",
     "iopub.status.idle": "2024-07-30T20:14:03.442639Z",
     "shell.execute_reply": "2024-07-30T20:14:03.440703Z"
    },
    "papermill": {
     "duration": 0.146573,
     "end_time": "2024-07-30T20:14:03.446213",
     "exception": false,
     "start_time": "2024-07-30T20:14:03.299640",
     "status": "completed"
    },
    "tags": []
   },
   "outputs": [
    {
     "data": {
      "text/html": [
       "<div>\n",
       "<style scoped>\n",
       "    .dataframe tbody tr th:only-of-type {\n",
       "        vertical-align: middle;\n",
       "    }\n",
       "\n",
       "    .dataframe tbody tr th {\n",
       "        vertical-align: top;\n",
       "    }\n",
       "\n",
       "    .dataframe thead th {\n",
       "        text-align: right;\n",
       "    }\n",
       "</style>\n",
       "<table border=\"1\" class=\"dataframe\">\n",
       "  <thead>\n",
       "    <tr style=\"text-align: right;\">\n",
       "      <th></th>\n",
       "      <th>YearMonth</th>\n",
       "      <th>Count</th>\n",
       "    </tr>\n",
       "  </thead>\n",
       "  <tbody>\n",
       "    <tr>\n",
       "      <th>0</th>\n",
       "      <td>2010-12</td>\n",
       "      <td>26157</td>\n",
       "    </tr>\n",
       "    <tr>\n",
       "      <th>1</th>\n",
       "      <td>2011-01</td>\n",
       "      <td>21229</td>\n",
       "    </tr>\n",
       "    <tr>\n",
       "      <th>2</th>\n",
       "      <td>2011-02</td>\n",
       "      <td>19927</td>\n",
       "    </tr>\n",
       "    <tr>\n",
       "      <th>3</th>\n",
       "      <td>2011-03</td>\n",
       "      <td>27175</td>\n",
       "    </tr>\n",
       "    <tr>\n",
       "      <th>4</th>\n",
       "      <td>2011-04</td>\n",
       "      <td>22642</td>\n",
       "    </tr>\n",
       "    <tr>\n",
       "      <th>5</th>\n",
       "      <td>2011-05</td>\n",
       "      <td>28320</td>\n",
       "    </tr>\n",
       "    <tr>\n",
       "      <th>6</th>\n",
       "      <td>2011-06</td>\n",
       "      <td>27185</td>\n",
       "    </tr>\n",
       "    <tr>\n",
       "      <th>7</th>\n",
       "      <td>2011-07</td>\n",
       "      <td>26825</td>\n",
       "    </tr>\n",
       "    <tr>\n",
       "      <th>8</th>\n",
       "      <td>2011-08</td>\n",
       "      <td>27007</td>\n",
       "    </tr>\n",
       "    <tr>\n",
       "      <th>9</th>\n",
       "      <td>2011-09</td>\n",
       "      <td>40028</td>\n",
       "    </tr>\n",
       "    <tr>\n",
       "      <th>10</th>\n",
       "      <td>2011-10</td>\n",
       "      <td>49554</td>\n",
       "    </tr>\n",
       "    <tr>\n",
       "      <th>11</th>\n",
       "      <td>2011-11</td>\n",
       "      <td>64531</td>\n",
       "    </tr>\n",
       "    <tr>\n",
       "      <th>12</th>\n",
       "      <td>2011-12</td>\n",
       "      <td>17304</td>\n",
       "    </tr>\n",
       "  </tbody>\n",
       "</table>\n",
       "</div>"
      ],
      "text/plain": [
       "   YearMonth  Count\n",
       "0    2010-12  26157\n",
       "1    2011-01  21229\n",
       "2    2011-02  19927\n",
       "3    2011-03  27175\n",
       "4    2011-04  22642\n",
       "5    2011-05  28320\n",
       "6    2011-06  27185\n",
       "7    2011-07  26825\n",
       "8    2011-08  27007\n",
       "9    2011-09  40028\n",
       "10   2011-10  49554\n",
       "11   2011-11  64531\n",
       "12   2011-12  17304"
      ]
     },
     "execution_count": 30,
     "metadata": {},
     "output_type": "execute_result"
    }
   ],
   "source": [
    "monthly_volume = df_clean['YearMonth'].value_counts().sort_index().to_frame('Count').reset_index().rename(columns={'index': 'Value'})\n",
    "monthly_volume"
   ]
  },
  {
   "cell_type": "code",
   "execution_count": 31,
   "id": "9323f0b2",
   "metadata": {
    "execution": {
     "iopub.execute_input": "2024-07-30T20:14:03.517700Z",
     "iopub.status.busy": "2024-07-30T20:14:03.516520Z",
     "iopub.status.idle": "2024-07-30T20:14:03.956711Z",
     "shell.execute_reply": "2024-07-30T20:14:03.955426Z"
    },
    "papermill": {
     "duration": 0.479229,
     "end_time": "2024-07-30T20:14:03.959612",
     "exception": false,
     "start_time": "2024-07-30T20:14:03.480383",
     "status": "completed"
    },
    "tags": []
   },
   "outputs": [
    {
     "data": {
      "text/plain": [
       "<Axes: xlabel='YearMonth', ylabel='Count'>"
      ]
     },
     "execution_count": 31,
     "metadata": {},
     "output_type": "execute_result"
    },
    {
     "data": {
      "image/png": "[encoded data removed]",
      "text/plain": [
       "<Figure size 1200x600 with 1 Axes>"
      ]
     },
     "metadata": {},
     "output_type": "display_data"
    }
   ],
   "source": [
    "plt.figure(figsize=(12,6))\n",
    "sns.barplot(x=monthly_volume['YearMonth'], y=monthly_volume['Count'],color='steelblue')"
   ]
  },
  {
   "cell_type": "markdown",
   "id": "fa1b64e2",
   "metadata": {
    "papermill": {
     "duration": 0.035417,
     "end_time": "2024-07-30T20:14:04.027862",
     "exception": false,
     "start_time": "2024-07-30T20:14:03.992445",
     "status": "completed"
    },
    "tags": []
   },
   "source": [
    "## Clustering"
   ]
  },
  {
   "cell_type": "markdown",
   "id": "4f7d6634",
   "metadata": {
    "papermill": {
     "duration": 0.034602,
     "end_time": "2024-07-30T20:14:04.095519",
     "exception": false,
     "start_time": "2024-07-30T20:14:04.060917",
     "status": "completed"
    },
    "tags": []
   },
   "source": [
    "Now we are ready for the customer segmentation. We will start from feature engineering to create some important features for the clustering process. A good starting point is to define features using the RFM approach. \n",
    "\n",
    "RFM is a method used for analyzing customer value and segmenting customers which is commonly used in database marketing and direct marketing [1]. RFM stands for the three dimensions:\n",
    "- Recency – How recently did the customer purchase?\n",
    "- Frequency – How often do they purchase?\n",
    "- Monetary Value – How much do they spend? "
   ]
  },
  {
   "cell_type": "code",
   "execution_count": 32,
   "id": "7beacf37",
   "metadata": {
    "execution": {
     "iopub.execute_input": "2024-07-30T20:14:04.172591Z",
     "iopub.status.busy": "2024-07-30T20:14:04.170709Z",
     "iopub.status.idle": "2024-07-30T20:14:05.279375Z",
     "shell.execute_reply": "2024-07-30T20:14:05.277858Z"
    },
    "papermill": {
     "duration": 1.153541,
     "end_time": "2024-07-30T20:14:05.282957",
     "exception": false,
     "start_time": "2024-07-30T20:14:04.129416",
     "status": "completed"
    },
    "tags": []
   },
   "outputs": [],
   "source": [
    "anchorDate = dt.datetime(2011,12,10)\n",
    "df_clean['TotalValue'] = df_clean['Quantity']*df_clean['UnitPrice']\n",
    "rfm=df_clean.groupby('CustomerID').agg({'InvoiceDate': lambda x: (anchorDate-x.max()).days,\n",
    "                                       'InvoiceNo': lambda x: len(x),\n",
    "                                       'TotalValue': lambda x: x.sum()})\n",
    "rfm= rfm.rename(columns={'InvoiceDate':'Recency', 'InvoiceNo':'Frequency', 'TotalValue':'Monetary'})"
   ]
  },
  {
   "cell_type": "code",
   "execution_count": 33,
   "id": "3086c24a",
   "metadata": {
    "execution": {
     "iopub.execute_input": "2024-07-30T20:14:05.358934Z",
     "iopub.status.busy": "2024-07-30T20:14:05.358390Z",
     "iopub.status.idle": "2024-07-30T20:14:05.374544Z",
     "shell.execute_reply": "2024-07-30T20:14:05.372900Z"
    },
    "papermill": {
     "duration": 0.05841,
     "end_time": "2024-07-30T20:14:05.378153",
     "exception": false,
     "start_time": "2024-07-30T20:14:05.319743",
     "status": "completed"
    },
    "tags": []
   },
   "outputs": [
    {
     "data": {
      "text/html": [
       "<div>\n",
       "<style scoped>\n",
       "    .dataframe tbody tr th:only-of-type {\n",
       "        vertical-align: middle;\n",
       "    }\n",
       "\n",
       "    .dataframe tbody tr th {\n",
       "        vertical-align: top;\n",
       "    }\n",
       "\n",
       "    .dataframe thead th {\n",
       "        text-align: right;\n",
       "    }\n",
       "</style>\n",
       "<table border=\"1\" class=\"dataframe\">\n",
       "  <thead>\n",
       "    <tr style=\"text-align: right;\">\n",
       "      <th></th>\n",
       "      <th>Recency</th>\n",
       "      <th>Frequency</th>\n",
       "      <th>Monetary</th>\n",
       "    </tr>\n",
       "    <tr>\n",
       "      <th>CustomerID</th>\n",
       "      <th></th>\n",
       "      <th></th>\n",
       "      <th></th>\n",
       "    </tr>\n",
       "  </thead>\n",
       "  <tbody>\n",
       "    <tr>\n",
       "      <th>12346.0</th>\n",
       "      <td>325</td>\n",
       "      <td>1</td>\n",
       "      <td>77183.60</td>\n",
       "    </tr>\n",
       "    <tr>\n",
       "      <th>12347.0</th>\n",
       "      <td>2</td>\n",
       "      <td>182</td>\n",
       "      <td>4310.00</td>\n",
       "    </tr>\n",
       "    <tr>\n",
       "      <th>12348.0</th>\n",
       "      <td>75</td>\n",
       "      <td>31</td>\n",
       "      <td>1797.24</td>\n",
       "    </tr>\n",
       "    <tr>\n",
       "      <th>12349.0</th>\n",
       "      <td>18</td>\n",
       "      <td>73</td>\n",
       "      <td>1757.55</td>\n",
       "    </tr>\n",
       "    <tr>\n",
       "      <th>12350.0</th>\n",
       "      <td>310</td>\n",
       "      <td>17</td>\n",
       "      <td>334.40</td>\n",
       "    </tr>\n",
       "  </tbody>\n",
       "</table>\n",
       "</div>"
      ],
      "text/plain": [
       "            Recency  Frequency  Monetary\n",
       "CustomerID                              \n",
       "12346.0         325          1  77183.60\n",
       "12347.0           2        182   4310.00\n",
       "12348.0          75         31   1797.24\n",
       "12349.0          18         73   1757.55\n",
       "12350.0         310         17    334.40"
      ]
     },
     "execution_count": 33,
     "metadata": {},
     "output_type": "execute_result"
    }
   ],
   "source": [
    "rfm.head()"
   ]
  },
  {
   "cell_type": "markdown",
   "id": "c588acb7",
   "metadata": {
    "papermill": {
     "duration": 0.034417,
     "end_time": "2024-07-30T20:14:05.448160",
     "exception": false,
     "start_time": "2024-07-30T20:14:05.413743",
     "status": "completed"
    },
    "tags": []
   },
   "source": [
    "Let's check the distribution of these features."
   ]
  },
  {
   "cell_type": "code",
   "execution_count": 34,
   "id": "ed4eb2a3",
   "metadata": {
    "execution": {
     "iopub.execute_input": "2024-07-30T20:14:05.521228Z",
     "iopub.status.busy": "2024-07-30T20:14:05.520704Z",
     "iopub.status.idle": "2024-07-30T20:14:06.056117Z",
     "shell.execute_reply": "2024-07-30T20:14:06.054434Z"
    },
    "papermill": {
     "duration": 0.57614,
     "end_time": "2024-07-30T20:14:06.059325",
     "exception": false,
     "start_time": "2024-07-30T20:14:05.483185",
     "status": "completed"
    },
    "tags": []
   },
   "outputs": [
    {
     "data": {
      "image/png": "[encoded data removed]",
      "text/plain": [
       "<Figure size 1200x500 with 1 Axes>"
      ]
     },
     "metadata": {},
     "output_type": "display_data"
    }
   ],
   "source": [
    "plt.figure(figsize = (12,5))\n",
    "hist = plt.hist(rfm['Recency'], bins=100, range=[0,500], align='left', color='cornflowerblue')"
   ]
  },
  {
   "cell_type": "code",
   "execution_count": 35,
   "id": "1170c9bb",
   "metadata": {
    "execution": {
     "iopub.execute_input": "2024-07-30T20:14:06.133053Z",
     "iopub.status.busy": "2024-07-30T20:14:06.131265Z",
     "iopub.status.idle": "2024-07-30T20:14:06.743097Z",
     "shell.execute_reply": "2024-07-30T20:14:06.741592Z"
    },
    "papermill": {
     "duration": 0.650577,
     "end_time": "2024-07-30T20:14:06.746761",
     "exception": false,
     "start_time": "2024-07-30T20:14:06.096184",
     "status": "completed"
    },
    "tags": []
   },
   "outputs": [
    {
     "data": {
      "image/png": "[encoded data removed]",
      "text/plain": [
       "<Figure size 1200x500 with 1 Axes>"
      ]
     },
     "metadata": {},
     "output_type": "display_data"
    }
   ],
   "source": [
    "plt.figure(figsize = (12,5))\n",
    "hist = plt.hist(rfm['Frequency'], bins=100, range=[0,800], align='left', color='cornflowerblue')"
   ]
  },
  {
   "cell_type": "code",
   "execution_count": 36,
   "id": "2866e8e6",
   "metadata": {
    "execution": {
     "iopub.execute_input": "2024-07-30T20:14:06.826952Z",
     "iopub.status.busy": "2024-07-30T20:14:06.825798Z",
     "iopub.status.idle": "2024-07-30T20:14:07.325989Z",
     "shell.execute_reply": "2024-07-30T20:14:07.324266Z"
    },
    "papermill": {
     "duration": 0.544144,
     "end_time": "2024-07-30T20:14:07.329553",
     "exception": false,
     "start_time": "2024-07-30T20:14:06.785409",
     "status": "completed"
    },
    "tags": []
   },
   "outputs": [
    {
     "data": {
      "image/png": "[encoded data removed]",
      "text/plain": [
       "<Figure size 1200x500 with 1 Axes>"
      ]
     },
     "metadata": {},
     "output_type": "display_data"
    }
   ],
   "source": [
    "plt.figure(figsize = (12,5))\n",
    "hist = plt.hist(rfm['Monetary'], bins=100, range=[0,15000], align='left', color='cornflowerblue')"
   ]
  },
  {
   "cell_type": "markdown",
   "id": "2bae60c7",
   "metadata": {
    "papermill": {
     "duration": 0.037872,
     "end_time": "2024-07-30T20:14:07.404880",
     "exception": false,
     "start_time": "2024-07-30T20:14:07.367008",
     "status": "completed"
    },
    "tags": []
   },
   "source": [
    "All three features are right-skewed, with particularly large values in Frequency and Monetary. When using distance-based models such as KMeans, these large values can skew the model results, as KMeans relies on Euclidean distance. A good practice is to apply a logarithmic transformation to these features."
   ]
  },
  {
   "cell_type": "code",
   "execution_count": 37,
   "id": "4fcfe72a",
   "metadata": {
    "execution": {
     "iopub.execute_input": "2024-07-30T20:14:07.483238Z",
     "iopub.status.busy": "2024-07-30T20:14:07.482112Z",
     "iopub.status.idle": "2024-07-30T20:14:08.038617Z",
     "shell.execute_reply": "2024-07-30T20:14:08.037237Z"
    },
    "papermill": {
     "duration": 0.598654,
     "end_time": "2024-07-30T20:14:08.041538",
     "exception": false,
     "start_time": "2024-07-30T20:14:07.442884",
     "status": "completed"
    },
    "tags": []
   },
   "outputs": [
    {
     "data": {
      "image/png": "[encoded data removed]",
      "text/plain": [
       "<Figure size 1200x500 with 1 Axes>"
      ]
     },
     "metadata": {},
     "output_type": "display_data"
    }
   ],
   "source": [
    "plt.figure(figsize = (12,5))\n",
    "hist = plt.hist(np.log(rfm['Recency']+1), bins=100, range=[0,10], align='left', color='cornflowerblue')"
   ]
  },
  {
   "cell_type": "code",
   "execution_count": 38,
   "id": "d175f581",
   "metadata": {
    "execution": {
     "iopub.execute_input": "2024-07-30T20:14:08.114735Z",
     "iopub.status.busy": "2024-07-30T20:14:08.114165Z",
     "iopub.status.idle": "2024-07-30T20:14:08.656957Z",
     "shell.execute_reply": "2024-07-30T20:14:08.655115Z"
    },
    "papermill": {
     "duration": 0.583556,
     "end_time": "2024-07-30T20:14:08.660048",
     "exception": false,
     "start_time": "2024-07-30T20:14:08.076492",
     "status": "completed"
    },
    "tags": []
   },
   "outputs": [
    {
     "data": {
      "image/png": "[encoded data removed]",
      "text/plain": [
       "<Figure size 1200x500 with 1 Axes>"
      ]
     },
     "metadata": {},
     "output_type": "display_data"
    }
   ],
   "source": [
    "plt.figure(figsize = (12,5))\n",
    "hist = plt.hist(np.log(rfm['Frequency']+1), bins=100, range=[0,10], align='left', color='cornflowerblue')"
   ]
  },
  {
   "cell_type": "code",
   "execution_count": 39,
   "id": "f9cd3b83",
   "metadata": {
    "execution": {
     "iopub.execute_input": "2024-07-30T20:14:08.733651Z",
     "iopub.status.busy": "2024-07-30T20:14:08.733141Z",
     "iopub.status.idle": "2024-07-30T20:14:09.254901Z",
     "shell.execute_reply": "2024-07-30T20:14:09.252684Z"
    },
    "papermill": {
     "duration": 0.563715,
     "end_time": "2024-07-30T20:14:09.258698",
     "exception": false,
     "start_time": "2024-07-30T20:14:08.694983",
     "status": "completed"
    },
    "tags": []
   },
   "outputs": [
    {
     "data": {
      "image/png": "[encoded data removed]",
      "text/plain": [
       "<Figure size 1200x500 with 1 Axes>"
      ]
     },
     "metadata": {},
     "output_type": "display_data"
    }
   ],
   "source": [
    "plt.figure(figsize = (12,5))\n",
    "hist = plt.hist(np.log(rfm['Monetary']+1), bins=100, range=[0,15], align='left', color='cornflowerblue')"
   ]
  },
  {
   "cell_type": "markdown",
   "id": "a957e32c",
   "metadata": {
    "papermill": {
     "duration": 0.039624,
     "end_time": "2024-07-30T20:14:09.336608",
     "exception": false,
     "start_time": "2024-07-30T20:14:09.296984",
     "status": "completed"
    },
    "tags": []
   },
   "source": [
    "After taking the logarithm, the distributions are close to normal and their scales are the same."
   ]
  },
  {
   "cell_type": "code",
   "execution_count": 40,
   "id": "2ddc7a01",
   "metadata": {
    "execution": {
     "iopub.execute_input": "2024-07-30T20:14:09.418653Z",
     "iopub.status.busy": "2024-07-30T20:14:09.417977Z",
     "iopub.status.idle": "2024-07-30T20:14:09.430143Z",
     "shell.execute_reply": "2024-07-30T20:14:09.428298Z"
    },
    "papermill": {
     "duration": 0.057413,
     "end_time": "2024-07-30T20:14:09.433462",
     "exception": false,
     "start_time": "2024-07-30T20:14:09.376049",
     "status": "completed"
    },
    "tags": []
   },
   "outputs": [],
   "source": [
    "rfm['log_Recency'] = np.log1p(rfm['Recency'])\n",
    "rfm['log_Frequency'] = np.log1p(rfm['Frequency'])\n",
    "rfm['log_Monetary'] = np.log1p(rfm['Monetary'])"
   ]
  },
  {
   "cell_type": "code",
   "execution_count": 41,
   "id": "abe0a4ba",
   "metadata": {
    "execution": {
     "iopub.execute_input": "2024-07-30T20:14:09.509268Z",
     "iopub.status.busy": "2024-07-30T20:14:09.508851Z",
     "iopub.status.idle": "2024-07-30T20:14:09.525841Z",
     "shell.execute_reply": "2024-07-30T20:14:09.524248Z"
    },
    "papermill": {
     "duration": 0.058771,
     "end_time": "2024-07-30T20:14:09.529692",
     "exception": false,
     "start_time": "2024-07-30T20:14:09.470921",
     "status": "completed"
    },
    "tags": []
   },
   "outputs": [
    {
     "data": {
      "text/html": [
       "<div>\n",
       "<style scoped>\n",
       "    .dataframe tbody tr th:only-of-type {\n",
       "        vertical-align: middle;\n",
       "    }\n",
       "\n",
       "    .dataframe tbody tr th {\n",
       "        vertical-align: top;\n",
       "    }\n",
       "\n",
       "    .dataframe thead th {\n",
       "        text-align: right;\n",
       "    }\n",
       "</style>\n",
       "<table border=\"1\" class=\"dataframe\">\n",
       "  <thead>\n",
       "    <tr style=\"text-align: right;\">\n",
       "      <th></th>\n",
       "      <th>Recency</th>\n",
       "      <th>Frequency</th>\n",
       "      <th>Monetary</th>\n",
       "      <th>log_Recency</th>\n",
       "      <th>log_Frequency</th>\n",
       "      <th>log_Monetary</th>\n",
       "    </tr>\n",
       "    <tr>\n",
       "      <th>CustomerID</th>\n",
       "      <th></th>\n",
       "      <th></th>\n",
       "      <th></th>\n",
       "      <th></th>\n",
       "      <th></th>\n",
       "      <th></th>\n",
       "    </tr>\n",
       "  </thead>\n",
       "  <tbody>\n",
       "    <tr>\n",
       "      <th>12346.0</th>\n",
       "      <td>325</td>\n",
       "      <td>1</td>\n",
       "      <td>77183.60</td>\n",
       "      <td>5.786897</td>\n",
       "      <td>0.693147</td>\n",
       "      <td>11.253955</td>\n",
       "    </tr>\n",
       "    <tr>\n",
       "      <th>12347.0</th>\n",
       "      <td>2</td>\n",
       "      <td>182</td>\n",
       "      <td>4310.00</td>\n",
       "      <td>1.098612</td>\n",
       "      <td>5.209486</td>\n",
       "      <td>8.368925</td>\n",
       "    </tr>\n",
       "    <tr>\n",
       "      <th>12348.0</th>\n",
       "      <td>75</td>\n",
       "      <td>31</td>\n",
       "      <td>1797.24</td>\n",
       "      <td>4.330733</td>\n",
       "      <td>3.465736</td>\n",
       "      <td>7.494564</td>\n",
       "    </tr>\n",
       "    <tr>\n",
       "      <th>12349.0</th>\n",
       "      <td>18</td>\n",
       "      <td>73</td>\n",
       "      <td>1757.55</td>\n",
       "      <td>2.944439</td>\n",
       "      <td>4.304065</td>\n",
       "      <td>7.472245</td>\n",
       "    </tr>\n",
       "    <tr>\n",
       "      <th>12350.0</th>\n",
       "      <td>310</td>\n",
       "      <td>17</td>\n",
       "      <td>334.40</td>\n",
       "      <td>5.739793</td>\n",
       "      <td>2.890372</td>\n",
       "      <td>5.815324</td>\n",
       "    </tr>\n",
       "  </tbody>\n",
       "</table>\n",
       "</div>"
      ],
      "text/plain": [
       "            Recency  Frequency  Monetary  log_Recency  log_Frequency  \\\n",
       "CustomerID                                                             \n",
       "12346.0         325          1  77183.60     5.786897       0.693147   \n",
       "12347.0           2        182   4310.00     1.098612       5.209486   \n",
       "12348.0          75         31   1797.24     4.330733       3.465736   \n",
       "12349.0          18         73   1757.55     2.944439       4.304065   \n",
       "12350.0         310         17    334.40     5.739793       2.890372   \n",
       "\n",
       "            log_Monetary  \n",
       "CustomerID                \n",
       "12346.0        11.253955  \n",
       "12347.0         8.368925  \n",
       "12348.0         7.494564  \n",
       "12349.0         7.472245  \n",
       "12350.0         5.815324  "
      ]
     },
     "execution_count": 41,
     "metadata": {},
     "output_type": "execute_result"
    }
   ],
   "source": [
    "rfm.head()"
   ]
  },
  {
   "cell_type": "code",
   "execution_count": 42,
   "id": "ac429100",
   "metadata": {
    "execution": {
     "iopub.execute_input": "2024-07-30T20:14:09.609030Z",
     "iopub.status.busy": "2024-07-30T20:14:09.608599Z",
     "iopub.status.idle": "2024-07-30T20:14:09.645600Z",
     "shell.execute_reply": "2024-07-30T20:14:09.644096Z"
    },
    "papermill": {
     "duration": 0.079731,
     "end_time": "2024-07-30T20:14:09.648856",
     "exception": false,
     "start_time": "2024-07-30T20:14:09.569125",
     "status": "completed"
    },
    "tags": []
   },
   "outputs": [
    {
     "data": {
      "text/html": [
       "<div>\n",
       "<style scoped>\n",
       "    .dataframe tbody tr th:only-of-type {\n",
       "        vertical-align: middle;\n",
       "    }\n",
       "\n",
       "    .dataframe tbody tr th {\n",
       "        vertical-align: top;\n",
       "    }\n",
       "\n",
       "    .dataframe thead th {\n",
       "        text-align: right;\n",
       "    }\n",
       "</style>\n",
       "<table border=\"1\" class=\"dataframe\">\n",
       "  <thead>\n",
       "    <tr style=\"text-align: right;\">\n",
       "      <th></th>\n",
       "      <th>Recency</th>\n",
       "      <th>Frequency</th>\n",
       "      <th>Monetary</th>\n",
       "      <th>log_Recency</th>\n",
       "      <th>log_Frequency</th>\n",
       "      <th>log_Monetary</th>\n",
       "    </tr>\n",
       "  </thead>\n",
       "  <tbody>\n",
       "    <tr>\n",
       "      <th>count</th>\n",
       "      <td>4338.000000</td>\n",
       "      <td>4338.000000</td>\n",
       "      <td>4338.000000</td>\n",
       "      <td>4338.000000</td>\n",
       "      <td>4338.000000</td>\n",
       "      <td>4338.000000</td>\n",
       "    </tr>\n",
       "    <tr>\n",
       "      <th>mean</th>\n",
       "      <td>92.059474</td>\n",
       "      <td>91.720609</td>\n",
       "      <td>2054.266460</td>\n",
       "      <td>3.801055</td>\n",
       "      <td>3.737143</td>\n",
       "      <td>6.593627</td>\n",
       "    </tr>\n",
       "    <tr>\n",
       "      <th>std</th>\n",
       "      <td>100.012264</td>\n",
       "      <td>228.785094</td>\n",
       "      <td>8989.230441</td>\n",
       "      <td>1.383620</td>\n",
       "      <td>1.250560</td>\n",
       "      <td>1.257578</td>\n",
       "    </tr>\n",
       "    <tr>\n",
       "      <th>min</th>\n",
       "      <td>0.000000</td>\n",
       "      <td>1.000000</td>\n",
       "      <td>3.750000</td>\n",
       "      <td>0.000000</td>\n",
       "      <td>0.693147</td>\n",
       "      <td>1.558145</td>\n",
       "    </tr>\n",
       "    <tr>\n",
       "      <th>25%</th>\n",
       "      <td>17.000000</td>\n",
       "      <td>17.000000</td>\n",
       "      <td>307.415000</td>\n",
       "      <td>2.890372</td>\n",
       "      <td>2.890372</td>\n",
       "      <td>5.731446</td>\n",
       "    </tr>\n",
       "    <tr>\n",
       "      <th>50%</th>\n",
       "      <td>50.000000</td>\n",
       "      <td>41.000000</td>\n",
       "      <td>674.485000</td>\n",
       "      <td>3.931826</td>\n",
       "      <td>3.737670</td>\n",
       "      <td>6.515431</td>\n",
       "    </tr>\n",
       "    <tr>\n",
       "      <th>75%</th>\n",
       "      <td>141.750000</td>\n",
       "      <td>100.000000</td>\n",
       "      <td>1661.740000</td>\n",
       "      <td>4.961090</td>\n",
       "      <td>4.615121</td>\n",
       "      <td>7.416222</td>\n",
       "    </tr>\n",
       "    <tr>\n",
       "      <th>max</th>\n",
       "      <td>373.000000</td>\n",
       "      <td>7847.000000</td>\n",
       "      <td>280206.020000</td>\n",
       "      <td>5.924256</td>\n",
       "      <td>8.968014</td>\n",
       "      <td>12.543284</td>\n",
       "    </tr>\n",
       "  </tbody>\n",
       "</table>\n",
       "</div>"
      ],
      "text/plain": [
       "           Recency    Frequency       Monetary  log_Recency  log_Frequency  \\\n",
       "count  4338.000000  4338.000000    4338.000000  4338.000000    4338.000000   \n",
       "mean     92.059474    91.720609    2054.266460     3.801055       3.737143   \n",
       "std     100.012264   228.785094    8989.230441     1.383620       1.250560   \n",
       "min       0.000000     1.000000       3.750000     0.000000       0.693147   \n",
       "25%      17.000000    17.000000     307.415000     2.890372       2.890372   \n",
       "50%      50.000000    41.000000     674.485000     3.931826       3.737670   \n",
       "75%     141.750000   100.000000    1661.740000     4.961090       4.615121   \n",
       "max     373.000000  7847.000000  280206.020000     5.924256       8.968014   \n",
       "\n",
       "       log_Monetary  \n",
       "count   4338.000000  \n",
       "mean       6.593627  \n",
       "std        1.257578  \n",
       "min        1.558145  \n",
       "25%        5.731446  \n",
       "50%        6.515431  \n",
       "75%        7.416222  \n",
       "max       12.543284  "
      ]
     },
     "execution_count": 42,
     "metadata": {},
     "output_type": "execute_result"
    }
   ],
   "source": [
    "rfm.describe()"
   ]
  },
  {
   "cell_type": "markdown",
   "id": "f86ec214",
   "metadata": {
    "papermill": {
     "duration": 0.040439,
     "end_time": "2024-07-30T20:14:09.727684",
     "exception": false,
     "start_time": "2024-07-30T20:14:09.687245",
     "status": "completed"
    },
    "tags": []
   },
   "source": [
    "It depends on the business scenarios to determine the number of segmentations. We start from KMeans to identify the number of classes."
   ]
  },
  {
   "cell_type": "markdown",
   "id": "303617c1",
   "metadata": {
    "papermill": {
     "duration": 0.036756,
     "end_time": "2024-07-30T20:14:09.803447",
     "exception": false,
     "start_time": "2024-07-30T20:14:09.766691",
     "status": "completed"
    },
    "tags": []
   },
   "source": [
    "### Kmeans"
   ]
  },
  {
   "cell_type": "markdown",
   "id": "292e832e",
   "metadata": {
    "papermill": {
     "duration": 0.036555,
     "end_time": "2024-07-30T20:14:09.876159",
     "exception": false,
     "start_time": "2024-07-30T20:14:09.839604",
     "status": "completed"
    },
    "tags": []
   },
   "source": [
    "K-Means is a centroid-based clustering algorithm that partitions data into k clusters based on their distance from the mean (centroid) of each cluster."
   ]
  },
  {
   "cell_type": "code",
   "execution_count": 43,
   "id": "9977fbca",
   "metadata": {
    "execution": {
     "iopub.execute_input": "2024-07-30T20:14:09.951322Z",
     "iopub.status.busy": "2024-07-30T20:14:09.950918Z",
     "iopub.status.idle": "2024-07-30T20:14:09.959088Z",
     "shell.execute_reply": "2024-07-30T20:14:09.957805Z"
    },
    "papermill": {
     "duration": 0.049109,
     "end_time": "2024-07-30T20:14:09.961843",
     "exception": false,
     "start_time": "2024-07-30T20:14:09.912734",
     "status": "completed"
    },
    "tags": []
   },
   "outputs": [],
   "source": [
    "#scaler = MinMaxScaler((0, 1))\n",
    "#df_rfm = scaler.fit_transform(rfm.loc[:,['log_Recency','log_Frequency','log_Monetary']])\n",
    "df_rfm=np.array(rfm.loc[:,['log_Recency','log_Frequency','log_Monetary']])"
   ]
  },
  {
   "cell_type": "code",
   "execution_count": 44,
   "id": "71c7c3c8",
   "metadata": {
    "execution": {
     "iopub.execute_input": "2024-07-30T20:14:10.039565Z",
     "iopub.status.busy": "2024-07-30T20:14:10.039122Z",
     "iopub.status.idle": "2024-07-30T20:14:22.273187Z",
     "shell.execute_reply": "2024-07-30T20:14:22.271818Z"
    },
    "papermill": {
     "duration": 12.276718,
     "end_time": "2024-07-30T20:14:22.275870",
     "exception": false,
     "start_time": "2024-07-30T20:14:09.999152",
     "status": "completed"
    },
    "tags": []
   },
   "outputs": [
    {
     "data": {
      "image/png": "[encoded data removed]",
      "text/plain": [
       "<Figure size 800x550 with 2 Axes>"
      ]
     },
     "metadata": {},
     "output_type": "display_data"
    }
   ],
   "source": [
    "model = KMeans()\n",
    "visualizer = KElbowVisualizer(model, k=(2, 10))\n",
    "\n",
    "visualizer.fit(df_rfm) # Fit the data to the visualizer\n",
    "visualizer.show() # Finalize and render the figure\n",
    "plt.show()"
   ]
  },
  {
   "cell_type": "code",
   "execution_count": 45,
   "id": "d25ddf2c",
   "metadata": {
    "execution": {
     "iopub.execute_input": "2024-07-30T20:14:22.360078Z",
     "iopub.status.busy": "2024-07-30T20:14:22.359584Z",
     "iopub.status.idle": "2024-07-30T20:14:23.686592Z",
     "shell.execute_reply": "2024-07-30T20:14:23.685555Z"
    },
    "papermill": {
     "duration": 1.373345,
     "end_time": "2024-07-30T20:14:23.689312",
     "exception": false,
     "start_time": "2024-07-30T20:14:22.315967",
     "status": "completed"
    },
    "tags": []
   },
   "outputs": [],
   "source": [
    "km_mdl = KMeans(n_clusters=4, random_state=32)\n",
    "\n",
    "km = km_mdl.fit_predict(df_rfm)"
   ]
  },
  {
   "cell_type": "code",
   "execution_count": 46,
   "id": "f9185b01",
   "metadata": {
    "execution": {
     "iopub.execute_input": "2024-07-30T20:14:23.777463Z",
     "iopub.status.busy": "2024-07-30T20:14:23.776902Z",
     "iopub.status.idle": "2024-07-30T20:14:23.788723Z",
     "shell.execute_reply": "2024-07-30T20:14:23.787167Z"
    },
    "papermill": {
     "duration": 0.058349,
     "end_time": "2024-07-30T20:14:23.791922",
     "exception": false,
     "start_time": "2024-07-30T20:14:23.733573",
     "status": "completed"
    },
    "tags": []
   },
   "outputs": [
    {
     "data": {
      "text/plain": [
       "array([0, 1, 2, 3], dtype=int32)"
      ]
     },
     "execution_count": 46,
     "metadata": {},
     "output_type": "execute_result"
    }
   ],
   "source": [
    "np.unique(km)"
   ]
  },
  {
   "cell_type": "code",
   "execution_count": 47,
   "id": "67ab535a",
   "metadata": {
    "execution": {
     "iopub.execute_input": "2024-07-30T20:14:23.877512Z",
     "iopub.status.busy": "2024-07-30T20:14:23.876991Z",
     "iopub.status.idle": "2024-07-30T20:14:24.940688Z",
     "shell.execute_reply": "2024-07-30T20:14:24.938899Z"
    },
    "papermill": {
     "duration": 1.11635,
     "end_time": "2024-07-30T20:14:24.947396",
     "exception": false,
     "start_time": "2024-07-30T20:14:23.831046",
     "status": "completed"
    },
    "tags": []
   },
   "outputs": [
    {
     "data": {
      "text/html": [
       "        <script type=\"text/javascript\">\n",
       "        window.PlotlyConfig = {MathJaxConfig: 'local'};\n",
       "        if (window.MathJax && window.MathJax.Hub && window.MathJax.Hub.Config) {window.MathJax.Hub.Config({SVG: {font: \"STIX-Web\"}});}\n",
       "        if (typeof require !== 'undefined') {\n",
       "        require.undef(\"plotly\");\n",
       "        requirejs.config({\n",
       "            paths: {\n",
       "                'plotly': ['https://cdn.plot.ly/plotly-2.27.0.min']\n",
       "            }\n",
       "        });\n",
       "        require(['plotly'], function(Plotly) {\n",
       "            window._Plotly = Plotly;\n",
       "        });\n",
       "        }\n",
       "        </script>\n",
       "        "
      ]
     },
     "metadata": {},
     "output_type": "display_data"
    },
    {
     "data": {
      "text/html": [
       "<div>                            <div id=\"3049dfbe-df63-49ab-ac48-fdaa0e8c64dd\" class=\"plotly-graph-div\" style=\"height:800px; width:900px;\"></div>            <script type=\"text/javascript\">                require([\"plotly\"], function(Plotly) {                    window.PLOTLYENV=window.PLOTLYENV || {};                                    if (document.getElementById(\"3049dfbe-df63-49ab-ac48-fdaa0e8c64dd\")) {                    Plotly.newPlot(                        \"3049dfbe-df63-49ab-ac48-fdaa0e8c64dd\",                        [{\"marker\":{\"color\":\"blue\",\"opacity\":0.4,\"size\":5},\"mode\":\"markers\",\"name\":\"Cluster 0\",\"x\":[5.739792912179234,5.3230099791384085,5.3706380281276624,5.662960480135946,4.700480365792417,5.676753802268282,5.7430031878094825,5.823045895483019,5.717027701406222,5.780743515792329,3.912023005428146,5.733341276897746,5.384495062789089,5.272999558563747,4.605170185988092,5.905361848054571,5.497168225293202,5.056245805348308,5.820082930352362,4.1588830833596715,5.111987788356544,5.4510384535657,5.652489180268651,4.204692619390966,5.869296913133774,4.1588830833596715,4.406719247264253,5.288267030694535,5.117993812416755,5.8805329864007,5.739792912179234,5.713732805509369,5.568344503761097,5.666426688112432,4.465908118654584,5.429345628954441,5.755742213586912,4.3694478524670215,5.5093883366279774,5.476463551931511,5.762051382780177,4.532599493153256,4.6913478822291435,5.247024072160486,4.07753744390572,4.382026634673881,5.627621113690637,5.4510384535657,5.6240175061873385,5.476463551931511,4.7535901911063645,4.867534450455582,5.043425116919247,5.814130531825066,5.783825182329737,5.799092654460526,5.918893854273146,5.327876168789581,4.276666119016055,5.676753802268282,4.672828834461906,4.276666119016055,5.918893854273146,4.736198448394496,5.19295685089021,5.459585514144159,5.8664680569332965,5.808142489980444,5.921578419643816,4.859812404361672,5.638354669333745,4.465908118654584,4.9344739331306915,5.351858133476067,5.8998973535824915,4.189654742026425,5.262690188904886,5.924255797414532,5.54907608489522,5.814130531825066,5.902633333401366,5.231108616854587,5.181783550292085,5.564520407322694,4.624972813284271,5.641907070938114,5.568344503761097,5.3706380281276624,4.31748811353631,5.820082930352362,5.572154032177765,4.983606621708336,5.645446897643238,5.159055299214529,5.5909869805108565,4.574710978503383,5.68697535633982,5.921578419643816,3.970291913552122,4.9344739331306915,5.648974238161206,4.442651256490317,5.645446897643238,4.969813299576001,5.62040086571715,4.48863636973214,5.3706380281276624,5.225746673713202,5.3230099791384085,5.579729825986222,5.176149732573829,5.003946305945459,4.859812404361672,5.087596335232384,4.174387269895637,5.7430031878094825,4.3694478524670215,5.666426688112432,5.726847747587197,5.883322388488279,4.727387818712341,5.288267030694535,5.356586274672012,5.056245805348308,5.493061443340548,4.454347296253507,5.2832037287379885,5.765191102784844,4.663439094112067,5.159055299214529,4.04305126783455,5.780743515792329,5.921578419643816,5.8805329864007,5.6131281063880705,5.676753802268282,4.605170185988092,4.174387269895637,5.3612921657094255,5.521460917862246,5.537334267018537,4.290459441148391,5.2574953720277815,5.924255797414532,4.418840607796598,5.262690188904886,5.58724865840025,5.19295685089021,5.062595033026967,4.2626798770413155,4.2626798770413155,4.605170185988092,5.459585514144159,4.897839799950911,5.921578419643816,4.9344739331306915,5.476463551931511,5.598421958998375,4.356708826689592,4.553876891600541,5.568344503761097,5.6131281063880705,5.2832037287379885,5.808142489980444,5.749392985908253,5.648974238161206,4.174387269895637,3.828641396489095,5.5909869805108565,5.823045895483019,4.127134385045092,4.912654885736052,4.543294782270004,5.5909869805108565,4.812184355372417,4.852030263919617,5.303304908059076,5.6131281063880705,5.308267697401205,4.406719247264253,5.420534999272286,5.568344503761097,4.727387818712341,4.532599493153256,4.8283137373023015,4.127134385045092,5.594711379601839,5.575949103146316,5.905361848054571,4.736198448394496,4.3694478524670215,4.0943445622221,5.802118375377063,5.049856007249537,5.886104031450156,4.927253685157205,5.594711379601839,5.135798437050262,5.049856007249537,5.863631175598097,4.795790545596741,4.290459441148391,4.406719247264253,5.75890177387728,5.062595033026967,5.181783550292085,5.662960480135946,4.2626798770413155,4.174387269895637,4.204692619390966,5.594711379601839,4.276666119016055,3.9318256327243257,5.54907608489522,5.902633333401366,5.918893854273146,4.499809670330265,5.638354669333745,5.799092654460526,4.31748811353631,5.318119993844216,5.225746673713202,5.262690188904886,4.68213122712422,4.1588830833596715,5.0106352940962555,4.31748811353631,5.545177444479562,4.5217885770490405,5.560681631015528,5.111987788356544,5.53338948872752,5.220355825078325,4.605170185988092,5.4680601411351315,5.303304908059076,5.4510384535657,4.189654742026425,5.488937726156687,5.455321115357702,4.663439094112067,5.62040086571715,5.7430031878094825,5.645446897643238,4.276666119016055,4.174387269895637,5.75890177387728,5.497168225293202,5.564520407322694,4.844187086458591,4.304065093204169,4.3694478524670215,4.3694478524670215,5.327876168789581,5.209486152841421,5.768320995793772,5.375278407684165,5.159055299214529,5.497168225293202,5.736572297479192,5.726847747587197,4.1588830833596715,5.746203190540153,5.765191102784844,5.159055299214529,4.762173934797756,5.53338948872752,5.375278407684165,4.795790545596741,5.54907608489522,3.58351893845611,5.10594547390058,5.19295685089021,4.110873864173311,3.9318256327243257,4.330733340286331,5.71042701737487,5.0238805208462765,5.0238805208462765,5.236441962829949,5.655991810819852,5.209486152841421,4.1588830833596715,4.0943445622221,5.049856007249537,5.765191102784844,5.713732805509369,5.605802066295998,5.389071729816501,5.5093883366279774,5.598421958998375,5.5093883366279774,5.384495062789089,5.393627546352361,5.303304908059076,5.484796933490655,5.093750200806762,5.924255797414532,5.666426688112432,5.662960480135946,5.0238805208462765,5.389071729816501,4.406719247264253,4.6443908991413725,5.5254529391317835,5.908082938168931,4.330733340286331,4.852030263919617,4.204692619390966,5.736572297479192,4.204692619390966,5.545177444479562,4.1588830833596715,5.908082938168931,5.723585101952381,5.214935757608986,5.176149732573829,5.075173815233827,5.356586274672012,5.53338948872752,4.174387269895637,4.532599493153256,5.1298987149230735,4.060443010546419,5.7899601708972535,5.5134287461649825,4.31748811353631,4.787491742782046,5.883322388488279,4.1588830833596715,4.465908118654584,5.247024072160486,4.276666119016055,5.3230099791384085,4.532599493153256,5.697093486505405,5.786897381366708,5.863631175598097,4.31748811353631,5.135798437050262,5.68697535633982,4.700480365792417,5.19295685089021,5.135798437050262,3.58351893845611,4.382026634673881,4.189654742026425,5.8888779583328805,5.043425116919247,5.733341276897746,4.983606621708336,4.2626798770413155,5.662960480135946,5.332718793265369,4.110873864173311,5.365976015021851,5.356586274672012,5.627621113690637,4.709530201312334,5.049856007249537,5.420534999272286,4.804021044733257,4.110873864173311,4.1588830833596715,5.652489180268651,5.176149732573829,5.58724865840025,4.700480365792417,5.652489180268651,4.8283137373023015,4.189654742026425,4.672828834461906,5.58724865840025,5.58724865840025,5.771441123130016,4.867534450455582,4.8283137373023015,3.4965075614664802,5.8998973535824915,4.04305126783455,5.783825182329737,4.927253685157205,5.043425116919247,4.290459441148391,5.6131281063880705,4.969813299576001,4.442651256490317,4.867534450455582,5.924255797414532,4.897839799950911,4.3694478524670215,5.455321115357702,5.3981627015177525,5.58724865840025,5.159055299214529,5.62040086571715,5.697093486505405,5.805134968916488,5.308267697401205,4.672828834461906,5.389071729816501,5.480638923341991,4.553876891600541,4.499809670330265,5.5134287461649825,4.394449154672439,5.924255797414532,5.7899601708972535,5.214935757608986,5.459585514144159,5.631211781821365,5.765191102784844,4.955827057601261,5.043425116919247,5.805134968916488,5.420534999272286,5.2832037287379885,5.365976015021851,3.713572066704308,4.770684624465665,5.407171771460119,5.493061443340548,4.672828834461906,5.332718793265369,5.493061443340548,5.099866427824199,4.8283137373023015,4.219507705176107,5.087596335232384,5.493061443340548,5.389071729816501,3.6635616461296463,5.564520407322694,5.616771097666572,5.10594547390058,5.375278407684165,5.902633333401366,5.768320995793772,5.69035945432406,5.883322388488279,5.225746673713202,5.2574953720277815,5.6937321388027,5.389071729816501,5.0106352940962555,4.787491742782046,5.739792912179234,5.8944028342648505,4.605170185988092,5.389071729816501,5.713732805509369,4.59511985013459,5.902633333401366,5.726847747587197,5.198497031265826,5.25227342804663,5.739792912179234,4.709530201312334,4.59511985013459,4.31748811353631,5.552959584921617,5.537334267018537,5.10594547390058,5.641907070938114,5.337538079701318,5.170483995038151,3.9318256327243257,5.7430031878094825,5.736572297479192,4.48863636973214,5.214935757608986,5.236441962829949,4.61512051684126,4.174387269895637,4.6913478822291435,5.560681631015528,4.060443010546419,4.174387269895637,5.225746673713202,5.017279836814924,5.7430031878094825,5.0238805208462765,4.454347296253507,4.709530201312334,5.638354669333745,5.921578419643816,3.713572066704308,5.6240175061873385,5.918893854273146,5.723585101952381,5.616771097666572,4.290459441148391,5.493061443340548,5.5053315359323625,5.327876168789581,5.220355825078325,4.060443010546419,5.572154032177765,5.58724865840025,4.07753744390572,5.056245805348308,5.308267697401205,4.356708826689592,4.465908118654584,4.276666119016055,5.236441962829949,4.672828834461906,5.342334251964811,5.579729825986222,5.389071729816501,5.3706380281276624,5.293304824724492,4.997212273764115,5.616771097666572,5.924255797414532,5.521460917862246,4.330733340286331,5.697093486505405,4.07753744390572,5.575949103146316,3.8501476017100584,4.727387818712341,5.638354669333745,5.768320995793772,4.1588830833596715,5.117993812416755,3.970291913552122,3.9512437185814275,4.330733340286331,5.91350300563827,5.288267030694535,4.174387269895637,5.905361848054571,5.5909869805108565,5.003946305945459,5.7430031878094825,4.787491742782046,3.970291913552122,5.568344503761097,5.351858133476067,4.882801922586371,5.53338948872752,4.382026634673881,5.337538079701318,5.820082930352362,5.537334267018537,5.003946305945459,5.3230099791384085,5.062595033026967,4.31748811353631,4.5217885770490405,5.5053315359323625,5.902633333401366,5.697093486505405,4.290459441148391,4.382026634673881,5.537334267018537,5.602118820879701,5.5134287461649825,3.912023005428146,4.859812404361672,4.060443010546419,5.5093883366279774,5.356586274672012,5.075173815233827,5.153291594497779,5.58724865840025,4.276666119016055,4.499809670330265,5.14166355650266,5.298317366548036,5.0238805208462765,5.598421958998375,5.6131281063880705,5.768320995793772,5.365976015021851,5.921578419643816,5.54907608489522,5.641907070938114,5.733341276897746,5.375278407684165,4.442651256490317,5.8111409929767,5.7430031878094825,5.5053315359323625,4.90527477843843,5.5053315359323625,4.897839799950911,4.189654742026425,5.135798437050262,5.480638923341991,5.480638923341991,5.420534999272286,5.484796933490655,4.897839799950911,5.8805329864007,5.924255797414532,5.771441123130016,5.805134968916488,5.777652323222656,4.276666119016055,5.564520407322694,5.908082938168931,5.043425116919247,4.2626798770413155,4.532599493153256,5.8805329864007,5.420534999272286,5.488937726156687,5.765191102784844,4.477336814478207,5.176149732573829,5.905361848054571,5.765191102784844,5.420534999272286,5.883322388488279,5.459585514144159,5.739792912179234,5.480638923341991,5.6240175061873385,5.700443573390686,4.31748811353631,5.476463551931511,4.812184355372417,4.852030263919617,5.003946305945459,5.648974238161206,4.912654885736052,5.780743515792329,4.672828834461906,5.82600010738045,5.872117789475416,5.153291594497779,3.912023005428146,5.308267697401205,5.673323267171493,4.564348191467836,5.616771097666572,4.709530201312334,5.298317366548036,5.7899601708972535,5.648974238161206,4.6443908991413725,5.8111409929767,3.970291913552122,5.342334251964811,4.867534450455582,4.477336814478207,5.808142489980444,5.905361848054571,4.290459441148391,5.924255797414532,5.891644211825771,5.921578419643816,4.859812404361672,5.365976015021851,5.231108616854587,5.602118820879701,5.153291594497779,5.786897381366708,4.727387818712341,5.66988092298052,4.532599493153256,5.247024072160486,5.579729825986222,5.147494476813453,5.749392985908253,5.780743515792329,3.6635616461296463,5.541263545158426,5.365976015021851,5.572154032177765,4.882801922586371,5.517452896464707,5.579729825986222,5.802118375377063,5.746203190540153,5.8944028342648505,5.648974238161206,5.572154032177765,5.872117789475416,4.553876891600541,4.356708826689592,4.532599493153256,5.8944028342648505,4.406719247264253,5.802118375377063,5.049856007249537,3.8066624897703196,5.455321115357702,4.442651256490317,5.541263545158426,5.099866427824199,4.74493212836325,5.666426688112432,5.384495062789089,5.627621113690637,5.863631175598097,3.9318256327243257,5.0238805208462765,5.093750200806762,5.176149732573829,5.545177444479562,4.2626798770413155,3.9889840465642745,4.3694478524670215,5.820082930352362,5.220355825078325,3.9512437185814275,4.955827057601261,4.90527477843843,5.2574953720277815,5.062595033026967,5.3230099791384085,5.820082930352362,4.5217885770490405,4.532599493153256,5.497168225293202,3.1354942159291497,5.762051382780177,4.672828834461906,5.384495062789089,5.6937321388027,4.406719247264253,4.770684624465665,4.787491742782046,5.53338948872752,5.58724865840025,5.579729825986222,5.308267697401205,5.648974238161206,4.969813299576001,5.459585514144159,5.8998973535824915,5.308267697401205,5.3612921657094255,5.3612921657094255,5.645446897643238,4.204692619390966,3.912023005428146,4.356708826689592,4.90527477843843,5.720311776607412,5.389071729816501,4.174387269895637,4.7535901911063645,4.23410650459726,5.5053315359323625,4.897839799950911,5.488937726156687,5.214935757608986,5.883322388488279,4.962844630259907,3.9512437185814275,5.768320995793772,5.921578419643816,5.153291594497779,3.9318256327243257,5.717027701406222,3.8501476017100584,5.231108616854587,4.624972813284271,5.627621113690637,5.746203190540153,5.293304824724492,4.532599493153256,4.110873864173311,4.394449154672439,5.537334267018537,5.0106352940962555,5.272999558563747,5.910796644040527,5.159055299214529,5.187385805840755,5.5134287461649825,5.25227342804663,5.043425116919247,5.153291594497779,5.924255797414532,5.921578419643816,5.272999558563747,4.219507705176107,5.480638923341991,4.174387269895637,4.727387818712341,5.7430031878094825,4.897839799950911,5.6240175061873385,5.902633333401366,4.31748811353631,5.717027701406222,5.905361848054571,4.442651256490317,5.356586274672012,5.736572297479192,5.2832037287379885,5.924255797414532,5.159055299214529,5.3981627015177525,5.564520407322694,5.902633333401366,5.666426688112432,5.697093486505405,5.648974238161206,4.406719247264253,5.703782474656201,5.043425116919247,4.672828834461906,5.579729825986222,5.484796933490655,5.517452896464707,4.189654742026425,5.389071729816501,4.969813299576001,5.214935757608986,5.14166355650266,5.356586274672012,5.247024072160486,5.762051382780177,5.908082938168931,5.572154032177765,5.521460917862246,5.5093883366279774,4.897839799950911,5.6937321388027,5.641907070938114,5.53338948872752,5.4510384535657,4.0943445622221,4.9344739331306915,4.110873864173311,4.304065093204169,4.219507705176107,5.4680601411351315,4.330733340286331,5.8888779583328805,4.48863636973214,4.3694478524670215,4.394449154672439,5.4638318050256105,5.318119993844216,5.420534999272286,5.247024072160486,4.276666119016055,4.3694478524670215,5.14166355650266,4.127134385045092,5.568344503761097,5.58724865840025,5.176149732573829,4.762173934797756,5.924255797414532,5.2832037287379885,5.176149732573829,4.61512051684126,5.8289456176102075,5.135798437050262,4.804021044733257,5.594711379601839,4.844187086458591,4.9344739331306915,5.802118375377063,5.384495062789089,4.290459441148391,5.2832037287379885,5.062595033026967,5.652489180268651,4.330733340286331,5.0689042022202315,5.673323267171493,5.808142489980444,5.288267030694535,3.9889840465642745,5.5909869805108565,5.5134287461649825,5.777652323222656,5.598421958998375,4.553876891600541,5.579729825986222,5.746203190540153,4.2626798770413155,5.713732805509369,5.2574953720277815,5.713732805509369,5.575949103146316,4.672828834461906,4.060443010546419,4.174387269895637,4.219507705176107,4.912654885736052,5.293304824724492,5.0106352940962555,4.477336814478207,3.8066624897703196,5.389071729816501,5.181783550292085,4.304065093204169,4.31748811353631,5.616771097666572,5.10594547390058,5.262690188904886,5.159055299214529,5.087596335232384,5.8888779583328805,5.6937321388027,5.921578419643816,5.627621113690637,5.147494476813453,4.406719247264253,5.25227342804663,3.9889840465642745,5.10594547390058,5.673323267171493,5.493061443340548,5.8998973535824915,5.209486152841421,4.736198448394496,5.924255797414532,5.517452896464707,5.4510384535657,4.23410650459726,4.330733340286331,5.655991810819852,5.393627546352361,5.231108616854587,5.209486152841421,5.4638318050256105,5.575949103146316,5.5053315359323625,5.616771097666572,4.382026634673881,5.407171771460119,4.663439094112067,5.5053315359323625,5.135798437050262,4.276666119016055,4.955827057601261,5.910796644040527,5.247024072160486,5.8944028342648505,5.905361848054571,4.330733340286331,4.290459441148391,5.54907608489522,4.912654885736052,5.488937726156687,5.424950017481403,4.3694478524670215,5.58724865840025,5.91350300563827,5.572154032177765,5.8998973535824915,3.9889840465642745,5.697093486505405,5.176149732573829,3.8501476017100584,5.921578419643816,5.921578419643816,5.3706380281276624,5.765191102784844,4.189654742026425,4.574710978503383,5.293304824724492,5.68697535633982,5.564520407322694,4.394449154672439,4.31748811353631,5.921578419643816,5.645446897643238,4.060443010546419,5.902633333401366,4.499809670330265,4.189654742026425,4.605170185988092,5.262690188904886,5.8888779583328805,4.6443908991413725,4.564348191467836,5.429345628954441,4.543294782270004,5.056245805348308,5.220355825078325,5.429345628954441,4.859812404361672,5.288267030694535,3.9318256327243257,5.231108616854587,5.8111409929767,5.910796644040527,4.0943445622221,4.948759890378168,4.356708826689592,4.442651256490317,4.204692619390966,5.236441962829949,5.905361848054571,5.703782474656201,4.290459441148391,5.673323267171493,5.6240175061873385,5.918893854273146,4.7535901911063645,5.4638318050256105,4.9344739331306915,4.700480365792417,3.4339872044851463,5.220355825078325,5.480638923341991,4.477336814478207,4.762173934797756,5.236441962829949,5.424950017481403,5.247024072160486,5.5909869805108565,5.389071729816501,5.666426688112432,5.0106352940962555,3.828641396489095,4.110873864173311,5.225746673713202,4.709530201312334,4.1588830833596715,5.5053315359323625,4.927253685157205,4.736198448394496,5.062595033026967,5.272999558563747,4.875197323201151,5.58724865840025,4.3694478524670215,5.777652323222656,5.568344503761097,5.111987788356544,5.666426688112432,5.762051382780177,5.455321115357702,4.787491742782046,5.087596335232384,5.225746673713202,5.814130531825066,4.672828834461906,5.62040086571715,5.5134287461649825,5.480638923341991,3.9512437185814275,4.330733340286331,5.652489180268651,5.66988092298052,4.3694478524670215,5.384495062789089,5.308267697401205,3.8501476017100584,5.424950017481403,5.6131281063880705,3.9889840465642745,5.537334267018537,5.459585514144159,5.739792912179234,5.733341276897746,5.209486152841421,5.746203190540153,5.3230099791384085,5.8944028342648505,4.68213122712422,5.342334251964811,4.852030263919617,4.68213122712422,5.488937726156687,4.060443010546419,5.733341276897746,4.624972813284271,5.891644211825771,4.564348191467836,4.9344739331306915,5.638354669333745,4.820281565605037,4.454347296253507,5.713732805509369,4.553876891600541,5.87493073085203,4.465908118654584,5.19295685089021,4.867534450455582,5.7430031878094825,5.717027701406222,5.480638923341991,5.476463551931511,5.389071729816501,4.2626798770413155,4.189654742026425,5.099866427824199,5.726847747587197,5.393627546352361,5.099866427824199,5.220355825078325,4.382026634673881,4.276666119016055,5.749392985908253,5.537334267018537,5.056245805348308,5.393627546352361,5.176149732573829,5.318119993844216,5.902633333401366,5.0689042022202315,4.382026634673881,4.189654742026425,5.568344503761097,5.517452896464707,5.883322388488279,4.330733340286331,5.66988092298052,5.3981627015177525,4.330733340286331,5.638354669333745,4.290459441148391,4.859812404361672,5.733341276897746,5.891644211825771,5.886104031450156,5.25227342804663,3.9889840465642745,5.638354669333745,5.181783550292085,5.598421958998375,5.455321115357702,5.288267030694535,5.886104031450156,4.867534450455582,5.327876168789581,5.808142489980444,4.276666119016055,5.493061443340548,5.389071729816501,5.53338948872752,5.4680601411351315,5.480638923341991,4.3694478524670215,5.384495062789089,4.875197323201151,5.159055299214529,5.746203190540153,4.0943445622221,4.406719247264253,5.135798437050262,5.6240175061873385,4.465908118654584,5.924255797414532,4.189654742026425,5.627621113690637,4.955827057601261,5.429345628954441,5.575949103146316,5.883322388488279,4.927253685157205,4.955827057601261,5.4680601411351315,5.564520407322694,5.53338948872752,5.225746673713202,5.236441962829949,5.135798437050262,5.771441123130016,5.303304908059076,5.4510384535657,5.921578419643816,4.736198448394496,5.484796933490655,4.727387818712341,5.886104031450156,5.575949103146316,5.541263545158426,5.075173815233827,3.9889840465642745,4.304065093204169,5.641907070938114,5.19295685089021,4.304065093204169,5.700443573390686,3.5263605246161616,5.717027701406222,4.672828834461906,4.454347296253507,5.389071729816501,5.225746673713202,5.921578419643816,5.720311776607412,5.910796644040527,5.780743515792329,4.962844630259907,5.3230099791384085,5.14166355650266,5.159055299214529,5.8998973535824915,5.720311776607412,4.867534450455582,5.3612921657094255,5.093750200806762,5.420534999272286,4.454347296253507,5.075173815233827,5.25227342804663,5.5134287461649825,5.924255797414532,5.739792912179234,5.645446897643238,5.921578419643816,4.897839799950911,4.9344739331306915,5.075173815233827,4.875197323201151,5.455321115357702,4.997212273764115,5.293304824724492,5.521460917862246,4.204692619390966,4.762173934797756,5.147494476813453,4.962844630259907,5.918893854273146,5.924255797414532,5.117993812416755,5.356586274672012,5.488937726156687,5.921578419643816,5.902633333401366,4.983606621708336,4.04305126783455,5.225746673713202,5.4680601411351315,5.420534999272286,5.641907070938114,5.8944028342648505,5.4638318050256105,5.54907608489522,5.924255797414532,5.049856007249537,4.406719247264253,4.6913478822291435,3.9512437185814275,5.030437921392435,4.59511985013459,5.814130531825066,4.189654742026425,5.043425116919247,3.9889840465642745,5.318119993844216,5.886104031450156,4.2626798770413155,5.666426688112432,5.159055299214529,4.897839799950911,4.330733340286331,5.66988092298052,5.552959584921617,5.225746673713202,5.924255797414532,5.384495062789089,5.802118375377063,5.616771097666572,4.59511985013459,5.746203190540153,4.852030263919617,5.799092654460526,5.541263545158426,5.910796644040527,5.673323267171493,5.908082938168931,5.3706380281276624,5.497168225293202,5.3612921657094255,5.69035945432406,5.062595033026967,4.948759890378168,3.828641396489095,4.330733340286331,5.71042701737487,5.181783550292085,4.110873864173311,5.883322388488279,5.429345628954441,5.521460917862246,5.262690188904886,5.568344503761097,5.111987788356544,4.418840607796598,4.672828834461906,5.062595033026967,5.7899601708972535,5.4680601411351315,4.499809670330265,5.356586274672012,5.424950017481403,4.532599493153256,5.575949103146316,5.384495062789089,5.786897381366708,5.739792912179234,4.499809670330265,4.948759890378168,4.90527477843843,5.905361848054571,4.07753744390572,4.304065093204169,5.627621113690637,5.198497031265826],\"y\":[2.8903717578961645,1.6094379124341003,2.639057329615259,2.3978952727983707,3.1780538303479458,3.1354942159291497,2.70805020110221,2.3978952727983707,1.791759469228055,2.4849066497880004,1.791759469228055,3.295836866004329,2.9444389791664403,3.4339872044851463,2.833213344056216,2.4849066497880004,3.295836866004329,2.1972245773362196,2.772588722239781,3.044522437723423,3.1354942159291497,3.1780538303479458,2.0794415416798357,3.5553480614894135,2.833213344056216,2.9444389791664403,2.9444389791664403,2.1972245773362196,1.791759469228055,2.3978952727983707,3.091042453358316,2.833213344056216,3.091042453358316,2.302585092994046,2.995732273553991,3.367295829986474,2.4849066497880004,3.4011973816621555,3.2188758248682006,3.1354942159291497,3.295836866004329,2.9444389791664403,3.091042453358316,3.367295829986474,2.5649493574615367,2.833213344056216,3.044522437723423,2.4849066497880004,2.9444389791664403,3.1354942159291497,2.3978952727983707,3.4657359027997265,3.091042453358316,2.302585092994046,1.3862943611198906,2.3978952727983707,2.0794415416798357,2.833213344056216,3.091042453358316,3.5263605246161616,3.091042453358316,2.995732273553991,3.2188758248682006,3.295836866004329,2.5649493574615367,3.1354942159291497,1.6094379124341003,1.6094379124341003,2.4849066497880004,2.772588722239781,1.6094379124341003,1.6094379124341003,2.9444389791664403,2.5649493574615367,2.70805020110221,1.6094379124341003,3.091042453358316,1.0986122886681096,3.258096538021482,3.2188758248682006,2.639057329615259,3.258096538021482,3.258096538021482,3.4657359027997265,1.0986122886681096,1.6094379124341003,2.70805020110221,1.9459101490553132,1.791759469228055,2.4849066497880004,2.302585092994046,3.2188758248682006,2.9444389791664403,2.5649493574615367,3.332204510175204,3.9318256327243257,2.8903717578961645,1.3862943611198906,1.791759469228055,1.3862943611198906,3.295836866004329,2.4849066497880004,1.6094379124341003,1.0986122886681096,2.0794415416798357,2.0794415416798357,1.791759469228055,1.3862943611198906,1.6094379124341003,2.3978952727983707,1.0986122886681096,3.1354942159291497,1.0986122886681096,3.367295829986474,3.4011973816621555,2.1972245773362196,3.258096538021482,3.1780538303479458,2.995732273553991,2.995732273553991,1.791759469228055,2.1972245773362196,3.1354942159291497,2.302585092994046,3.367295829986474,1.3862943611198906,3.367295829986474,2.0794415416798357,1.9459101490553132,3.295836866004329,1.6094379124341003,2.70805020110221,1.3862943611198906,2.4849066497880004,2.639057329615259,3.5263605246161616,2.9444389791664403,2.70805020110221,2.9444389791664403,2.1972245773362196,2.772588722239781,2.3978952727983707,2.4849066497880004,2.70805020110221,2.772588722239781,2.302585092994046,2.0794415416798357,1.9459101490553132,3.1354942159291497,3.258096538021482,1.9459101490553132,0.6931471805599453,2.1972245773362196,0.6931471805599453,2.3978952727983707,3.4339872044851463,0.6931471805599453,3.9318256327243257,2.772588722239781,1.0986122886681096,1.3862943611198906,2.0794415416798357,0.6931471805599453,1.3862943611198906,2.1972245773362196,3.7376696182833684,2.8903717578961645,2.4849066497880004,0.6931471805599453,3.6375861597263857,3.4011973816621555,1.3862943611198906,3.1354942159291497,1.791759469228055,1.6094379124341003,1.791759469228055,1.791759469228055,2.833213344056216,2.302585092994046,1.0986122886681096,2.3978952727983707,3.091042453358316,2.639057329615259,3.332204510175204,3.295836866004329,2.1972245773362196,2.302585092994046,2.4849066497880004,0.6931471805599453,2.833213344056216,2.302585092994046,2.0794415416798357,2.639057329615259,3.7612001156935624,2.3978952727983707,1.791759469228055,1.791759469228055,3.044522437723423,0.6931471805599453,3.091042453358316,0.6931471805599453,2.4849066497880004,2.5649493574615367,2.8903717578961645,2.995732273553991,2.995732273553991,3.044522437723423,2.1972245773362196,2.70805020110221,2.833213344056216,3.4011973816621555,2.3978952727983707,0.6931471805599453,3.4011973816621555,2.70805020110221,3.6888794541139363,3.1780538303479458,2.772588722239781,3.58351893845611,2.639057329615259,0.6931471805599453,3.091042453358316,3.295836866004329,2.9444389791664403,2.833213344056216,2.1972245773362196,2.3978952727983707,4.007333185232471,2.639057329615259,1.0986122886681096,2.8903717578961645,2.302585092994046,2.8903717578961645,2.3978952727983707,4.174387269895637,2.772588722239781,2.4849066497880004,2.3978952727983707,2.1972245773362196,3.1780538303479458,2.70805020110221,2.1972245773362196,2.9444389791664403,2.995732273553991,2.8903717578961645,3.1354942159291497,3.295836866004329,2.5649493574615367,2.772588722239781,2.3978952727983707,1.6094379124341003,2.1972245773362196,2.772588722239781,3.1354942159291497,4.343805421853684,1.6094379124341003,2.70805020110221,3.8066624897703196,3.332204510175204,2.3978952727983707,3.2188758248682006,2.1972245773362196,2.995732273553991,3.1780538303479458,2.639057329615259,2.995732273553991,2.995732273553991,4.204692619390966,1.791759469228055,3.1780538303479458,1.9459101490553132,3.912023005428146,2.639057329615259,2.5649493574615367,2.302585092994046,3.258096538021482,1.9459101490553132,3.258096538021482,2.833213344056216,1.3862943611198906,3.4339872044851463,2.1972245773362196,1.9459101490553132,2.302585092994046,2.70805020110221,0.6931471805599453,3.044522437723423,3.9512437185814275,2.639057329615259,2.3978952727983707,3.091042453358316,2.5649493574615367,1.9459101490553132,3.6635616461296463,3.4339872044851463,3.1780538303479458,3.258096538021482,0.6931471805599453,2.302585092994046,3.58351893845611,2.5649493574615367,2.0794415416798357,3.1354942159291497,2.302585092994046,2.8903717578961645,2.0794415416798357,3.4657359027997265,2.4849066497880004,2.639057329615259,3.5263605246161616,3.1780538303479458,2.8903717578961645,2.3978952727983707,2.0794415416798357,2.5649493574615367,2.639057329615259,2.3978952727983707,3.4011973816621555,2.995732273553991,0.6931471805599453,2.302585092994046,1.791759469228055,2.70805020110221,2.4849066497880004,3.367295829986474,3.044522437723423,2.0794415416798357,3.1780538303479458,2.9444389791664403,2.0794415416798357,1.3862943611198906,3.367295829986474,2.833213344056216,2.995732273553991,2.772588722239781,3.091042453358316,2.5649493574615367,2.0794415416798357,3.091042453358316,2.302585092994046,2.833213344056216,3.1780538303479458,3.295836866004329,2.302585092994046,2.0794415416798357,2.4849066497880004,1.791759469228055,1.3862943611198906,3.5263605246161616,3.58351893845611,1.0986122886681096,2.772588722239781,2.4849066497880004,2.3978952727983707,2.4849066497880004,2.833213344056216,2.772588722239781,2.4849066497880004,3.5553480614894135,3.1354942159291497,3.367295829986474,2.833213344056216,1.9459101490553132,2.772588722239781,3.6635616461296463,3.367295829986474,3.091042453358316,1.9459101490553132,2.70805020110221,1.6094379124341003,1.9459101490553132,2.3978952727983707,2.1972245773362196,2.0794415416798357,3.2188758248682006,3.8501476017100584,2.5649493574615367,1.6094379124341003,3.4011973816621555,2.70805020110221,0.6931471805599453,3.295836866004329,3.091042453358316,2.302585092994046,2.772588722239781,1.3862943611198906,1.791759469228055,3.367295829986474,3.1354942159291497,2.0794415416798357,1.791759469228055,1.3862943611198906,3.367295829986474,1.9459101490553132,3.258096538021482,3.258096538021482,3.4657359027997265,1.3862943611198906,2.0794415416798357,1.9459101490553132,1.0986122886681096,3.044522437723423,2.3978952727983707,2.302585092994046,3.091042453358316,2.772588722239781,2.302585092994046,2.1972245773362196,2.3978952727983707,2.833213344056216,3.044522437723423,2.1972245773362196,1.791759469228055,2.8903717578961645,3.4011973816621555,2.3978952727983707,2.1972245773362196,2.833213344056216,1.791759469228055,2.639057329615259,2.8903717578961645,3.044522437723423,2.1972245773362196,3.4657359027997265,2.1972245773362196,2.5649493574615367,3.367295829986474,2.772588722239781,3.4657359027997265,2.70805020110221,1.9459101490553132,1.9459101490553132,2.9444389791664403,2.9444389791664403,0.6931471805599453,1.9459101490553132,2.4849066497880004,2.1972245773362196,1.6094379124341003,1.6094379124341003,4.330733340286331,2.4849066497880004,2.0794415416798357,1.791759469228055,3.258096538021482,2.1972245773362196,2.70805020110221,3.1780538303479458,3.4011973816621555,1.3862943611198906,2.8903717578961645,2.302585092994046,1.791759469228055,2.302585092994046,3.713572066704308,3.1354942159291497,1.6094379124341003,2.833213344056216,1.9459101490553132,2.0794415416798357,2.995732273553991,2.9444389791664403,3.4339872044851463,2.302585092994046,3.4339872044851463,2.8903717578961645,1.9459101490553132,2.995732273553991,3.4011973816621555,2.0794415416798357,2.3978952727983707,3.1780538303479458,2.5649493574615367,2.833213344056216,2.5649493574615367,2.995732273553991,2.3978952727983707,2.995732273553991,1.791759469228055,1.6094379124341003,4.04305126783455,4.07753744390572,2.833213344056216,1.6094379124341003,3.4011973816621555,0.6931471805599453,1.9459101490553132,2.995732273553991,1.3862943611198906,3.258096538021482,1.0986122886681096,1.6094379124341003,1.3862943611198906,3.044522437723423,3.295836866004329,3.091042453358316,2.639057329615259,2.1972245773362196,3.044522437723423,1.0986122886681096,3.4339872044851463,3.4339872044851463,3.4011973816621555,3.4339872044851463,2.0794415416798357,1.0986122886681096,2.772588722239781,2.639057329615259,2.1972245773362196,3.1354942159291497,2.1972245773362196,0.6931471805599453,3.4011973816621555,2.3978952727983707,4.276666119016055,2.9444389791664403,2.995732273553991,1.791759469228055,2.4849066497880004,3.091042453358316,1.9459101490553132,2.302585092994046,3.7376696182833684,1.9459101490553132,1.0986122886681096,1.9459101490553132,2.5649493574615367,2.639057329615259,2.4849066497880004,3.4339872044851463,1.6094379124341003,2.639057329615259,1.0986122886681096,1.6094379124341003,2.639057329615259,3.091042453358316,3.044522437723423,1.9459101490553132,2.639057329615259,3.367295829986474,2.772588722239781,2.9444389791664403,1.9459101490553132,3.044522437723423,2.3978952727983707,2.0794415416798357,3.5263605246161616,3.784189633918261,2.8903717578961645,2.302585092994046,2.5649493574615367,2.3978952727983707,2.8903717578961645,2.3978952727983707,2.70805020110221,3.044522437723423,2.5649493574615367,1.791759469228055,2.639057329615259,1.9459101490553132,2.9444389791664403,2.4849066497880004,2.1972245773362196,3.713572066704308,2.5649493574615367,3.044522437723423,4.2626798770413155,2.0794415416798357,3.332204510175204,4.219507705176107,1.791759469228055,2.5649493574615367,3.1354942159291497,1.3862943611198906,3.4339872044851463,1.791759469228055,0.6931471805599453,1.791759469228055,2.772588722239781,3.1780538303479458,3.295836866004329,3.1780538303479458,1.3862943611198906,2.833213344056216,3.367295829986474,0.6931471805599453,2.70805020110221,3.091042453358316,2.833213344056216,3.1354942159291497,2.302585092994046,2.639057329615259,2.70805020110221,3.367295829986474,3.1780538303479458,1.6094379124341003,3.332204510175204,3.7376696182833684,1.791759469228055,2.4849066497880004,3.1780538303479458,1.3862943611198906,1.9459101490553132,3.4011973816621555,3.091042453358316,2.3978952727983707,2.302585092994046,3.044522437723423,1.791759469228055,3.2188758248682006,1.0986122886681096,2.302585092994046,1.791759469228055,1.791759469228055,3.044522437723423,2.70805020110221,3.1780538303479458,2.1972245773362196,3.1780538303479458,2.70805020110221,2.772588722239781,3.1354942159291497,3.5263605246161616,1.9459101490553132,2.9444389791664403,1.9459101490553132,2.0794415416798357,2.995732273553991,2.3978952727983707,2.5649493574615367,1.9459101490553132,2.995732273553991,2.833213344056216,1.3862943611198906,3.258096538021482,3.4657359027997265,2.5649493574615367,2.995732273553991,0.6931471805599453,3.2188758248682006,0.6931471805599453,2.833213344056216,3.912023005428146,3.4011973816621555,2.3978952727983707,2.833213344056216,3.2188758248682006,3.091042453358316,2.8903717578961645,1.791759469228055,2.302585092994046,1.791759469228055,2.0794415416798357,2.833213344056216,1.3862943611198906,2.1972245773362196,3.4657359027997265,2.3978952727983707,0.6931471805599453,2.0794415416798357,2.70805020110221,1.9459101490553132,2.5649493574615367,2.1972245773362196,3.5553480614894135,2.3978952727983707,3.8918202981106265,1.9459101490553132,1.0986122886681096,2.8903717578961645,3.7376696182833684,3.828641396489095,3.258096538021482,1.0986122886681096,1.791759469228055,2.302585092994046,3.367295829986474,3.258096538021482,4.110873864173311,4.07753744390572,4.07753744390572,2.4849066497880004,3.4011973816621555,1.0986122886681096,4.2626798770413155,2.639057329615259,0.6931471805599453,2.0794415416798357,2.772588722239781,3.332204510175204,2.3978952727983707,3.295836866004329,3.2188758248682006,3.4011973816621555,3.367295829986474,2.8903717578961645,2.70805020110221,0.6931471805599453,2.1972245773362196,3.6888794541139363,2.639057329615259,3.4657359027997265,3.4011973816621555,1.791759469228055,2.70805020110221,1.0986122886681096,2.639057329615259,2.833213344056216,1.9459101490553132,2.995732273553991,3.258096538021482,3.5263605246161616,3.58351893845611,3.258096538021482,1.0986122886681096,3.091042453358316,1.9459101490553132,3.5553480614894135,0.6931471805599453,1.791759469228055,2.302585092994046,0.6931471805599453,2.5649493574615367,3.091042453358316,2.3978952727983707,2.302585092994046,1.0986122886681096,3.1354942159291497,1.791759469228055,1.9459101490553132,1.9459101490553132,2.995732273553991,2.0794415416798357,3.7376696182833684,2.4849066497880004,1.791759469228055,2.70805020110221,2.3978952727983707,2.1972245773362196,2.302585092994046,1.3862943611198906,3.367295829986474,0.6931471805599453,2.0794415416798357,2.4849066497880004,3.332204510175204,3.258096538021482,2.0794415416798357,2.9444389791664403,3.091042453358316,3.4011973816621555,3.258096538021482,0.6931471805599453,2.1972245773362196,2.8903717578961645,0.6931471805599453,3.044522437723423,2.3978952727983707,2.1972245773362196,2.4849066497880004,3.1354942159291497,3.828641396489095,2.772588722239781,3.4011973816621555,3.1780538303479458,2.9444389791664403,2.5649493574615367,2.5649493574615367,3.7376696182833684,2.4849066497880004,3.2188758248682006,1.6094379124341003,2.0794415416798357,2.995732273553991,2.5649493574615367,3.713572066704308,4.110873864173311,3.258096538021482,2.4849066497880004,3.091042453358316,2.5649493574615367,3.091042453358316,2.5649493574615367,2.0794415416798357,2.9444389791664403,0.6931471805599453,2.70805020110221,1.9459101490553132,1.0986122886681096,2.0794415416798357,2.4849066497880004,1.6094379124341003,3.2188758248682006,2.1972245773362196,3.4011973816621555,3.1354942159291497,2.1972245773362196,2.3978952727983707,2.1972245773362196,3.1780538303479458,4.31748811353631,3.1780538303479458,0.6931471805599453,0.6931471805599453,2.3978952727983707,3.6635616461296463,2.9444389791664403,0.6931471805599453,2.5649493574615367,2.3978952727983707,2.639057329615259,1.9459101490553132,2.9444389791664403,2.833213344056216,3.4339872044851463,2.1972245773362196,3.5553480614894135,3.4339872044851463,2.4849066497880004,2.639057329615259,3.091042453358316,3.6375861597263857,0.6931471805599453,3.1354942159291497,0.6931471805599453,2.70805020110221,1.0986122886681096,1.9459101490553132,1.3862943611198906,2.1972245773362196,2.4849066497880004,2.4849066497880004,2.772588722239781,2.995732273553991,2.772588722239781,2.9444389791664403,3.1780538303479458,1.9459101490553132,2.70805020110221,2.772588722239781,2.1972245773362196,1.9459101490553132,3.58351893845611,3.1354942159291497,3.044522437723423,2.833213344056216,2.0794415416798357,3.2188758248682006,2.639057329615259,1.0986122886681096,3.258096538021482,4.219507705176107,3.5263605246161616,1.9459101490553132,3.1780538303479458,2.4849066497880004,2.1972245773362196,2.8903717578961645,3.044522437723423,2.4849066497880004,3.1354942159291497,2.70805020110221,1.3862943611198906,2.5649493574615367,0.6931471805599453,2.4849066497880004,3.044522437723423,2.772588722239781,1.0986122886681096,2.302585092994046,2.1972245773362196,3.4657359027997265,1.791759469228055,1.791759469228055,3.1780538303479458,1.6094379124341003,3.828641396489095,3.4011973816621555,4.110873864173311,2.3978952727983707,3.1780538303479458,1.791759469228055,1.791759469228055,3.091042453358316,2.302585092994046,1.0986122886681096,1.9459101490553132,2.1972245773362196,3.2188758248682006,3.6109179126442243,3.044522437723423,2.4849066497880004,2.70805020110221,1.0986122886681096,2.302585092994046,3.5263605246161616,1.3862943611198906,1.0986122886681096,2.639057329615259,2.9444389791664403,2.995732273553991,3.258096538021482,2.772588722239781,2.995732273553991,2.639057329615259,2.639057329615259,2.8903717578961645,2.772588722239781,2.70805020110221,3.4339872044851463,1.791759469228055,1.3862943611198906,3.258096538021482,2.8903717578961645,1.3862943611198906,2.302585092994046,1.9459101490553132,2.70805020110221,2.1972245773362196,2.639057329615259,2.3978952727983707,3.9889840465642745,2.3978952727983707,1.9459101490553132,2.3978952727983707,3.295836866004329,1.791759469228055,2.70805020110221,1.791759469228055,3.1780538303479458,3.044522437723423,2.302585092994046,2.5649493574615367,3.332204510175204,2.70805020110221,3.2188758248682006,3.4011973816621555,2.1972245773362196,1.0986122886681096,2.302585092994046,1.3862943611198906,2.639057329615259,2.5649493574615367,1.3862943611198906,2.3978952727983707,3.091042453358316,1.791759469228055,2.995732273553991,1.0986122886681096,3.828641396489095,3.6375861597263857,3.8501476017100584,0.6931471805599453,0.6931471805599453,2.639057329615259,0.6931471805599453,2.302585092994046,1.0986122886681096,2.639057329615259,2.0794415416798357,3.1354942159291497,2.639057329615259,3.1780538303479458,0.6931471805599453,3.713572066704308,3.9318256327243257,2.833213344056216,2.8903717578961645,2.5649493574615367,2.833213344056216,4.204692619390966,2.9444389791664403,3.2188758248682006,3.1780538303479458,2.772588722239781,2.772588722239781,3.367295829986474,3.295836866004329,3.6635616461296463,2.1972245773362196,2.4849066497880004,2.5649493574615367,3.2188758248682006,2.3978952727983707,3.258096538021482,2.4849066497880004,2.1972245773362196,2.995732273553991,2.3978952727983707,1.9459101490553132,2.4849066497880004,2.0794415416798357,1.3862943611198906,0.6931471805599453,3.6635616461296463,3.828641396489095,3.6375861597263857,2.9444389791664403,2.1972245773362196,2.302585092994046,2.70805020110221,1.9459101490553132,3.091042453358316,2.995732273553991,2.833213344056216,0.6931471805599453,3.258096538021482,2.833213344056216,2.0794415416798357,2.70805020110221,2.0794415416798357,3.295836866004329,3.091042453358316,1.0986122886681096,0.6931471805599453,2.5649493574615367,1.6094379124341003,1.3862943611198906,2.302585092994046,1.6094379124341003,1.0986122886681096,2.4849066497880004,3.367295829986474,2.772588722239781,3.1354942159291497,3.1354942159291497,3.784189633918261,2.639057329615259,1.791759469228055,1.0986122886681096,2.70805020110221,0.6931471805599453,2.5649493574615367,2.302585092994046,2.3978952727983707,2.9444389791664403,2.0794415416798357,2.302585092994046,3.4965075614664802,2.70805020110221,3.2188758248682006,3.2188758248682006,3.044522437723423,2.772588722239781,2.302585092994046,3.1780538303479458,2.3978952727983707,2.833213344056216,2.772588722239781,1.6094379124341003,2.772588722239781,1.0986122886681096,2.3978952727983707,3.4011973816621555,2.0794415416798357,1.6094379124341003,2.302585092994046,3.912023005428146,3.091042453358316,2.70805020110221,2.772588722239781,2.302585092994046,3.6888794541139363,2.833213344056216,3.1780538303479458,3.6635616461296463,1.9459101490553132,2.772588722239781,2.302585092994046,0.6931471805599453,3.4339872044851463,3.9889840465642745,2.5649493574615367,2.70805020110221,1.9459101490553132,0.6931471805599453,3.367295829986474,2.4849066497880004,2.302585092994046,2.8903717578961645,0.6931471805599453,2.302585092994046,2.1972245773362196,2.995732273553991,4.0943445622221,3.58351893845611,3.5553480614894135,3.367295829986474,3.2188758248682006,1.0986122886681096,1.3862943611198906,4.143134726391533,1.6094379124341003,1.0986122886681096,2.639057329615259,2.70805020110221,1.0986122886681096,3.784189633918261,2.8903717578961645,1.791759469228055,0.6931471805599453,2.302585092994046,2.1972245773362196,2.8903717578961645,2.302585092994046,2.70805020110221,3.091042453358316,3.2188758248682006,2.5649493574615367,2.3978952727983707,2.8903717578961645,3.713572066704308,2.9444389791664403,2.70805020110221,3.1354942159291497,1.9459101490553132,3.713572066704308,2.4849066497880004,1.9459101490553132,2.302585092994046,2.70805020110221,2.302585092994046,2.639057329615259,1.3862943611198906,3.258096538021482,1.791759469228055,3.7612001156935624,3.784189633918261,1.0986122886681096,1.9459101490553132,3.4011973816621555,2.5649493574615367,2.1972245773362196,1.791759469228055,3.828641396489095,3.4011973816621555,2.302585092994046,2.4849066497880004,4.1588830833596715,2.70805020110221,1.3862943611198906,4.356708826689592,1.6094379124341003,1.791759469228055,3.295836866004329,2.0794415416798357,1.791759469228055,2.1972245773362196,2.0794415416798357,3.1354942159291497,3.828641396489095,2.4849066497880004,2.833213344056216,2.995732273553991,2.833213344056216,2.772588722239781,2.995732273553991,2.1972245773362196,3.2188758248682006,1.791759469228055,3.58351893845611,2.0794415416798357,2.3978952727983707,0.6931471805599453,1.9459101490553132,2.9444389791664403,2.772588722239781,1.9459101490553132,0.6931471805599453,0.6931471805599453,0.6931471805599453,1.3862943611198906,2.5649493574615367,2.639057329615259,1.791759469228055,2.70805020110221,3.8501476017100584,2.3978952727983707,3.4339872044851463,1.0986122886681096,3.6375861597263857,1.791759469228055,0.6931471805599453,3.295836866004329,2.772588722239781,2.8903717578961645,3.258096538021482,4.07753744390572,2.4849066497880004,2.302585092994046,2.3978952727983707,2.5649493574615367,1.9459101490553132,3.295836866004329,2.1972245773362196,2.3978952727983707,3.091042453358316,3.5553480614894135,2.833213344056216,3.367295829986474,3.4965075614664802,1.9459101490553132,2.5649493574615367,4.07753744390572,3.6635616461296463,0.6931471805599453,0.6931471805599453,3.091042453358316,3.4011973816621555,2.5649493574615367,1.0986122886681096,3.044522437723423,0.6931471805599453,2.995732273553991,0.6931471805599453,3.4657359027997265,2.0794415416798357,3.295836866004329,3.58351893845611,3.8918202981106265,4.454347296253507,2.70805020110221,3.4657359027997265,3.4657359027997265,4.189654742026425,2.5649493574615367,3.8918202981106265,0.6931471805599453,2.639057329615259,3.4011973816621555,1.791759469228055,1.0986122886681096,3.713572066704308,3.4965075614664802,2.70805020110221,3.367295829986474,3.4657359027997265,1.3862943611198906,3.4011973816621555,1.791759469228055,3.091042453358316,3.091042453358316,1.791759469228055,3.5553480614894135,2.995732273553991,2.0794415416798357,2.0794415416798357,1.791759469228055,3.044522437723423,2.995732273553991,3.332204510175204,2.0794415416798357,2.3978952727983707,0.6931471805599453,3.258096538021482,2.9444389791664403,2.639057329615259,3.4011973816621555,3.4011973816621555,2.0794415416798357,1.0986122886681096,3.091042453358316,2.995732273553991,3.6888794541139363,2.8903717578961645,0.6931471805599453,3.367295829986474,3.4339872044851463,2.8903717578961645,2.70805020110221,0.6931471805599453,2.1972245773362196,2.772588722239781,2.3978952727983707,2.0794415416798357,3.258096538021482,3.1780538303479458,2.3978952727983707,2.302585092994046,3.4339872044851463,3.6375861597263857,2.8903717578961645,2.772588722239781,2.0794415416798357,2.833213344056216,2.0794415416798357,3.4965075614664802,2.995732273553991,3.784189633918261,2.772588722239781,2.639057329615259,3.091042453358316,1.0986122886681096,2.995732273553991,2.3978952727983707,1.791759469228055,0.6931471805599453,3.091042453358316,1.9459101490553132,2.639057329615259,0.6931471805599453,2.0794415416798357,2.1972245773362196,2.302585092994046,2.3978952727983707,2.0794415416798357],\"z\":[5.815323849389109,4.499809670330265,6.132095676847728,5.251749730731702,6.315358001522335,6.46518002889759,5.901539839579995,5.998688392197302,4.446174454497633,5.423186348593906,6.0607573736039315,6.542947351813216,6.334007604663525,6.369438547154207,6.234430333369278,5.162211233551045,6.168543217293113,5.292701627762401,5.816902804925467,5.5767442414854775,6.0747481512447195,4.310799125385514,5.178970608915471,4.9346897371814515,5.95246380975825,5.83434279133577,5.857104239599851,5.341376856008484,4.566429357671661,5.1298987149230735,6.33276439774036,5.480013727948073,6.12665081966305,4.989888220951467,5.865476063654188,5.08475279001415,5.391124416134243,6.089996803172228,6.032366538428408,6.239027502962935,6.117766746972636,6.083587835983788,6.038109554931026,6.359677669513258,5.037731519757957,5.541969178493597,5.757639147446912,5.199049364889367,5.723911845951367,6.188469440812497,5.230573714461517,6.171512688316606,5.765347830314356,4.74493212836325,4.1588830833596715,5.424509391785796,4.501364017262502,5.966172379820607,5.650908985049133,6.404269320519532,5.871723345495433,5.477509030333064,6.060990609756592,6.118119224230488,5.469156586232957,5.953113455724059,4.713127327493184,5.459585514144159,5.05209708390385,5.623584199327089,8.246158446737232,4.72809553282539,6.204719365671822,7.209673041460572,5.74604343337071,4.530985287798715,5.786651952478496,5.265794174842477,5.995307154825432,6.303497710423594,5.541381185297377,6.060477418394936,6.1950378441253156,6.245816025546385,4.843556966714995,5.118233304694273,7.341535698070348,4.540311613639595,7.473353138595107,5.683579767338681,5.3755098623779425,6.0363901104609745,5.7474165116762626,4.906015244966153,5.872371278471126,4.9139775400548205,5.744764456377822,3.66612246699132,6.258050656265029,4.998022756045412,6.3281510464875765,5.9444777558836455,5.926926025970411,5.841310038608051,5.700443573390686,5.736733574795887,5.87245576052578,5.805134968916488,5.382198850528739,4.939354092091292,6.621405651764134,5.898937989430242,6.38856140554563,6.007288682454868,5.181614996761894,4.777862193806203,6.032606490439157,6.139776787799188,4.691989877940651,7.415716805133478,4.919615895709087,4.982235819574558,6.60610949951297,3.6948615257914836,5.970087681348397,5.358094570583897,6.124420774356607,4.803611124661929,5.010968571886377,6.243584206658709,4.413646418429337,5.4401207021224,3.942552210462969,5.255148871146658,6.248854923817375,6.330558344434147,5.724499716244923,6.488718490843878,5.8555016292920445,5.2171073111224935,5.731819083350057,5.519899699795292,5.85214500685857,5.3320422359496575,4.757547866408974,5.437209365414655,5.182625892051845,4.078892457663179,6.0332780499213925,6.171345628362577,4.32280727501391,5.339267352876991,4.626833825624118,4.350277936359301,5.8609571490281995,6.218878965272838,3.4531571205928664,5.6515413628105104,5.561335263505108,4.174387269895637,4.360547602996757,4.707726774313183,8.038189179973203,4.718052343044763,4.7340030578310595,6.035959786994534,5.6470357407703125,4.805495367221621,4.282206299391671,5.4681445257603025,4.778114580969449,4.122283930911342,5.8706519268912345,5.813354111085492,6.282229363019668,4.153242203469586,5.101085197018328,4.693272634209637,5.5556690891919835,5.883322388488279,5.087287645617338,5.800788185931274,5.603593747400769,4.810068296960951,6.145643797955656,6.325469456665338,6.8512907420010105,5.3047466543129405,6.3818160174060985,4.941499555261394,4.932673752626544,4.5502915244781015,5.309207849379209,5.8919480330707374,5.309257306586371,4.481871969643597,4.966335035199676,5.921283469984221,4.1705337005796475,5.7085046409915305,2.772588722239781,6.342755020769874,6.516636764580894,7.177385390826169,6.190356388619899,5.870510865261174,5.967427969279741,5.835862815013409,5.458563715690134,5.926766013169045,6.086842906406214,4.9123607248279155,4.045854353061666,6.436791188641277,5.734247015460021,6.62786940372116,5.939223435262291,5.411601408001375,6.283331600299074,6.30093257288162,4.107589788972121,5.7324347172293635,6.127611266781323,5.368542811437534,5.40294761562612,5.080472253685035,6.282715244436788,5.651471118359793,5.69588470252906,6.3818160174060985,5.880477118918353,5.0271645960474665,5.733017599924536,5.111987788356544,5.440641241760233,5.71026144075391,5.223809314372975,4.951168335262708,5.751937516543248,6.120824752413689,6.110402471179496,6.429122525704993,5.759721626980309,5.85521517841641,5.383806752563451,5.693496420787701,6.130182466419805,4.718230978272106,5.530262073815315,5.328361487896413,5.031744257306491,4.8182634014487995,5.7325642760816535,6.1837364347551045,5.605029709281564,4.530446639792155,4.961865129726826,5.267084664116938,5.482678508639762,4.77912349311153,4.96563792816552,6.570042272924791,5.395988393721483,6.037130789291114,5.183691840706733,5.3699401102210045,5.5538506606638975,5.874368775231734,5.533784667551078,5.851052393391237,4.55597994179732,5.941880317752222,5.249494701850468,4.450269224770129,5.391579997007726,5.859931157146132,5.233192006587575,6.189946485351331,5.453610250954072,4.102643365036796,4.222884350827332,4.290459441148391,6.814542897259958,5.1547356380700124,5.735216540145731,4.61015772749913,5.8045022386644325,5.696690720842445,5.5336266147611175,5.437383414671034,4.936486295459933,5.728637675654378,5.302558360805291,6.416062123365316,5.830708768228588,5.862920695994498,5.707243146285181,4.389498649512583,5.694573535570891,6.609699586102796,5.647564794657972,5.729190278590734,5.846438775057724,5.191288793789513,4.858571324462998,5.444147814759576,5.736701321413311,7.324489979348532,5.280916851867869,6.32672176017265,5.786283696167945,5.627872880555851,5.550553592065519,4.732683506287051,5.0501764687167885,6.703801422061068,5.249652194566756,5.955319100471629,5.606684030192651,4.454347296253507,5.749329289612172,7.135687347028144,5.964863865310803,5.38068045697316,5.309059463079938,5.726130878319963,4.988185165258664,5.967684018442578,6.294250726074389,4.8178592793984425,4.772716457199892,6.230087669270578,5.499460677582579,5.859503349652977,6.03524216945387,6.711862042158088,5.055799846050629,5.1547356380700124,5.857904582646717,6.737737716644347,5.731397641689174,6.413114635600407,5.933782466766897,5.074235875505851,4.2857910267930555,6.332515570780452,4.517431271680085,4.634728988229636,5.780620051380789,6.500598741212994,4.403054001865957,5.253581472706645,5.582367852765768,5.8832666766299955,5.304001183016334,5.7439642642890325,6.456235761113554,5.7984864101254985,6.161249514897758,6.45031243178126,6.089044875446846,5.795145480670174,4.661739537475986,6.149877558850261,6.441982686264217,4.998562712861986,4.958710221231336,7.415024586545351,5.049791902630777,5.565477803279021,4.53753353727228,6.588431169193958,5.218191322068752,5.034026246886832,5.586686702779954,4.815998211579652,5.929855065476291,3.8416005411316,5.2108513407667605,5.087596335232384,4.34795265434013,5.277604324950495,5.380864627515602,4.978112102390695,5.959793265151517,4.51085950651685,6.041634711020558,6.40793553439268,5.745595977469612,4.760463070394127,6.182911011678937,5.063860055333554,6.103944658191983,4.785406236291025,5.67112153241664,4.816564990267753,6.359400843323733,5.291544482260608,6.920671504248683,5.818657582682613,5.2278949022514904,5.796543954737512,5.028737129460238,6.976796149317125,6.45110213410454,6.198194123153937,5.0875963352323845,4.996198246298486,5.369241704884735,5.640310051700627,4.925585628056507,5.715645167198713,4.795790545596741,5.814040975576219,6.201826764057459,4.730215674962316,4.905571030847647,6.05818817915089,5.119190700650601,6.463247841809304,5.9518137414781895,5.740628575776864,4.795790545596741,6.17126208791851,5.219544685382641,5.745084354013307,6.139151525006747,6.031165913959534,6.378799628343676,5.73824831153748,4.9104465668408235,4.700298531079668,6.017546438106483,5.6487277289070565,3.9512437185814275,4.517431271680085,5.1670690799380825,5.049856007249537,4.620058798481842,4.350922889622548,5.555591776578392,6.426569360333832,4.96563792816552,4.233381604239311,6.355586691681764,5.061011501421323,6.96979066990159,4.8178592793984425,5.962344648534129,5.5842479059610115,6.1556221332742656,4.500476114873425,4.1588830833596715,4.8895969657192,6.182601302287106,4.795211865797184,4.741796783519916,6.076127334986691,6.2740461341708045,5.461031277035783,5.378513908542313,5.759690106594497,6.457569963184063,4.9279780604152466,6.14070318257422,5.834606037750557,4.826712455935327,6.2912172257920815,6.166194863206115,5.880113904184607,5.530262073815315,5.621414844220772,6.1237858328484185,5.166898027681201,5.489309557845162,5.152134856369956,5.876502528638301,5.964221810714108,4.646791860678911,6.48280149429011,5.670708166926772,5.112409386218662,6.671247827209794,7.267525427828172,5.3893456648956,3.594568774642695,4.74588819292697,5.473782135878778,3.7074558396868715,5.977188122189173,6.493753839851687,6.401187245468788,6.009009726323731,5.979999068998704,6.0253344316155975,5.773246346316266,5.424289006109973,4.749789875598035,5.846149715943123,4.575947327311188,6.393741244298632,5.498069458404876,4.7464961220785264,5.6585758818181215,6.214508093421858,3.970291913552122,6.444735207830545,4.73444252169223,5.158480421360237,5.2449693310461125,4.701661486176853,5.19295685089021,5.241323645027916,5.596865192310124,5.7509522791325915,5.796665468802915,6.04381977744191,4.502029427068578,5.548686904115838,5.70883634895888,5.632286472951131,4.943497843108764,5.958812214832733,5.303802296778606,1.9740810260220096,4.886205215718078,5.163299154869948,5.0670156275323635,5.269866450374021,5.052608625573678,5.608922193632241,5.609728172573878,3.9080149840306073,4.156536582478548,5.737861788309064,5.789195352504331,6.471805189861254,4.842532174539857,5.793775513182905,6.25513564959826,6.6415998370746365,5.9020867359567655,7.529943370601589,5.914043400139397,4.919250732294404,4.841427376447684,6.319652564141498,6.152243213225462,6.425112106189937,5.630494678886369,5.731657011422181,5.739953670961029,5.89860885258863,7.487571374232199,5.676137173835876,5.745212284419341,4.085808231199814,4.8496837630384935,5.333732771768991,6.141607205537701,4.751605464217637,5.638141123402764,4.635893358630932,5.8157411743422545,5.062025250478552,5.141897447276735,5.58724865840025,6.252443236725213,5.536270709515726,5.200428865728911,4.919469846344143,6.602126456028984,5.842442360714953,4.8054135174159684,5.378883014387604,5.918356075287344,4.674696248636701,4.490881039585964,5.7299049588017725,5.946257954269903,6.1286361810072245,6.019760416262829,6.776506992372183,5.7698822763607245,6.18610573794948,5.504518197131935,5.588745664667843,5.885603906408473,6.010114549603027,5.802450646452902,4.941999501706118,5.192734603972972,5.562410904191201,6.436951329565632,6.257284372702628,5.069909985558728,6.1918511112995755,5.099866427824199,7.162785019158669,4.91815444130209,5.416722430926658,3.725693427236653,4.483002552013883,6.43590995485703,5.741784496789209,5.271151698475267,5.760729755097951,5.805676990670853,4.632785353021065,5.797121015086702,4.580877493419047,5.7260330835910205,6.002033498457216,6.373319789577012,6.629032947901828,5.777899970574095,6.01713229385656,5.04606678592752,6.065179584930263,5.288267030694535,5.7747068129929,5.7610445868229965,6.244458120391077,5.877735781779639,5.708305563383786,4.599655005299981,5.762522969678801,5.544474072171247,5.19267903452504,5.059488948313644,4.789988622980633,5.675074310519458,4.737250526345299,5.4870764910004155,5.203676962393915,6.354404822801145,5.329331420077207,5.741303025403381,3.970291913552122,5.795966561197395,5.111987788356544,5.32544603393629,5.0955277611142185,5.74527624348556,5.345916345347316,6.936886805488385,6.0090342912180414,5.901266279189834,5.5350481913707625,5.311233591814583,5.069155742908264,4.759177998467439,6.040064216944044,5.7899601708972535,5.1298987149230735,6.393339886365589,5.979240132485259,4.952582362647639,6.2166061010848646,4.6862892372728835,5.66704933159998,4.553876891600541,6.575354741730978,5.85821882796062,5.591658396851496,5.25504445431457,6.3522983310705525,4.592084946439436,3.7954891891721947,5.951527577504281,6.2809574789637255,5.304100611303764,5.059933265817542,6.38856140554563,4.740574822994295,5.050945157499754,6.2058498567482925,5.19351225218191,6.105284183307442,5.472564748074418,5.383393538903156,5.462135451777431,6.120539147973894,4.52526080275979,4.997820197049412,3.985830932572866,5.5254529391317835,4.804021044733257,4.149936935645806,5.591098914544516,6.023471805742961,5.439513063214814,4.717784330357226,4.455857782801083,4.858726543710496,4.512177319138926,5.38541207339897,4.909340575944674,5.159974416926292,5.5602199860123305,4.852811208902689,6.123150487933357,6.172806457538428,5.302309387817574,5.487614537078416,3.9015685475242874,4.6611723761033765,5.702047637362485,4.731450351898421,5.7105263501895465,6.055190237988527,6.499787040655854,6.106220784406171,6.489736704802353,6.705639094860003,5.825232851462975,6.7781476070590925,6.330914488818843,3.4339872044851463,5.739149618493492,4.935480620495495,4.34795265434013,5.159342614257448,5.782870880975165,5.271716684750857,5.541655625147766,4.925803358579558,6.018544551511725,5.358941988364472,4.970507503005477,4.899703733388974,5.879694646264972,5.01926462079431,5.318610069815799,5.390212631252292,4.454347296253507,5.68738205328842,5.095588999976419,6.109514213881797,5.049086480470509,3.5779478934066544,5.287660786359508,4.384523514872469,5.5374917349347745,5.755932068980957,6.434273608356568,5.605066501717043,4.662495252607361,5.491496433342773,6.954743821204941,6.166005916582974,5.864483085347192,6.11461095192969,6.032654473932845,5.337441921232086,2.772588722239781,6.2802834730968256,4.929931256681293,4.787074989285704,4.880830283212546,5.085804607589853,5.444709454763107,5.014892884348897,6.219376710497294,6.248738957138337,5.9410918814433105,5.204501070343752,5.131731354140141,5.5780302693501405,5.1939008496276085,5.407395961574274,4.047427642434349,5.262379259742407,5.582066715972104,4.821087692210561,5.814816863409831,5.126935749792416,5.820171947161762,5.914853444736142,4.85265506868846,5.3382589736409845,6.058258335716989,6.035146448194105,4.986001013137895,6.0053181413965175,3.6054978451748854,5.8243468240563,5.787204082795274,5.204006687076795,4.657288140250198,5.752890048763229,5.732758582892719,5.91892073563227,4.628886712605407,5.805857599322498,6.083815808172168,5.550786683244073,4.933754249760298,4.911183215124596,5.818063087688587,5.921819677402093,6.3721587062242255,4.8154311114712876,4.384523514872469,5.385228738537333,6.0803450096018565,5.755932068980957,2.8903717578961645,5.773370724425878,5.226015454792631,5.822927545284644,4.694828057918627,6.418169158208566,5.281883060084612,5.089939267434301,4.918154441302091,6.419636557751217,5.451939335203601,5.521460917862246,5.671087091818059,6.251036455035743,6.284768288327816,5.171619713502079,5.929589143389895,4.34795265434013,5.855644823965448,3.648057459593681,6.754137790316538,4.3067641501733345,5.292802185859927,5.379113636376126,5.725348252570762,5.828092312472439,5.754000190816819,5.995658241267266,5.903370766348874,6.306311782632405,5.075173815233827,5.494500736279464,5.721131112990815,5.545646084650602,5.753270807747395,6.297164567026571,6.287263587661711,6.071199515126835,4.749789875598035,5.036562916106171,5.967274308306765,6.624636113950167,3.8701588013294472,6.022720936758536,5.883183103022492,6.329489149614112,6.69900760795166,6.34102927325157,5.13167228913909,4.966335035199676,5.7145575478241595,5.713402718033191,5.4562608446139915,5.8922517620363895,5.426578646492048,6.004874234017899,5.92599225681032,5.339939041238856,5.374352052824034,4.709079649378603,5.778920868124441,4.62595272517062,3.9982007016691985,5.042779747422823,5.360211770085627,4.703747749349086,6.51796665025898,5.897016495564268,4.55765920331704,5.403532871692347,5.720082242069654,5.705780477318874,5.184588601219694,6.095937168704514,5.125450968524837,4.902010196224638,5.716040372051703,5.489185629310458,5.654417145110872,5.709930205242435,5.664348405410794,5.945944031806173,5.560720091814363,5.246444957137325,5.74594756681688,5.590875033946567,2.066862759472976,5.34405525822189,5.026639868237971,4.919980925828125,4.3294166844015844,5.4158781552871815,5.759248716840184,4.9441393028078915,6.004627533634263,4.624678652376135,5.903862086371859,5.8990750978146345,5.517854422268135,5.09803548437709,5.674559615979297,5.433983977969571,6.123040904896701,4.792645108022841,5.82982758150686,6.669688427072551,5.9420904624901825,5.163070217140011,4.67133238824176,5.751365561394358,5.457242345535596,6.141929872924206,5.421198495923852,5.368309738368072,5.204501070343752,4.9839490288337505,4.339380059952409,4.871296595474155,6.228885686840323,5.029457048336844,5.425874699962912,4.870990011582737,5.811380485254219,5.780126041243535,5.388615004528817,5.447168313280391,6.191359942102381,5.37091705896238,6.252712804455737,6.400705849743913,4.822215178840431,3.691874963093735,4.915591745409362,4.873287102945032,6.048789613727251,5.423098083445343,7.152268856032539,6.490571777919774,4.73400305783106,7.6004023345004,5.712808285863513,6.804836224974296,6.437351569715062,5.681775419393111,5.61247095620561,6.036915810011899,1.55814461804655,5.78074351579233,6.143971018822751,5.339939041238856,7.602601016177664,5.4823042026610525,4.680555912893981,5.91442150260967,5.760855699682501,6.418120207787174,3.5553480614894135,5.94382247363014,5.426490680271019,5.509145392139597,5.743804149005687,4.7129477781615225,5.500604935982869,6.030396757109769,5.725609195882308,5.809042985313694,5.667878920309847,5.738312717553024,6.174515004855747,6.035624962893637,6.211824227045576,5.8843803244983075,4.863680881139593,5.289377524978562,5.299067085438582,6.026976468109342,5.203182171432998,6.3798682672878515,5.372125293692757,4.8328633720008725,5.809372963868082,5.931422568022302,5.163413604083235,5.341089458391906,6.523591674293888,2.6602595372658615,6.07073772800249,5.626649418726376,4.989956282887855,5.672566967503279,5.940539605922692,4.74005066818191,5.972587491338293,5.443499376392535,6.299041154397021,6.009991851721866,6.0776881138566,5.127588355789889,3.0819099697950434,6.25319399473728,6.03461981742191,4.773646335959993,5.46030865686874,4.714472920878541,5.309207849379209,5.768383493840728,5.5314904534994245,5.19295685089021,6.555356891810665,5.69035945432406,4.573163389853005,5.882681514648826,5.048765669457523,6.57507584059962,4.996333509385396,6.07426498720113,6.110868490605405,5.83023889860876,6.46617582795296,5.513993103014726,6.213567557246944,5.460606269591755,4.785823685681349,5.713732805509369,3.2771447329921766,5.101694025043223,4.763881877142913,5.062721607294587,5.731592175295469,4.9367734454978,5.847305451408376,5.703415740750875,5.063164491108096,6.054439346269371,5.9441108507245115,6.144872093737295,6.363028103540465,4.835329072196206,5.800122427092944,5.073171812563154,5.420136689869131,5.764438468529548,4.109233174715851,5.7272711107251055,4.976733742420574,5.322766046950346,5.57450867228432,5.324180026073764,5.428687517709892,4.740574822994295,6.058632420966027,5.977593791422191,5.01655109452556,5.9493396208073115,5.15010733938285,5.6499596679586945,5.484796933490655,4.165734558308774,5.763999170144748,6.639405134829848,5.509550266836412,5.240847139393487,6.313185661783185,6.21344742510144,5.525612288984722,4.427836170705175,6.469715324941794,4.582924577040772,5.171619713502079,6.20506268557866,5.73016471593032,5.498642547781566,5.271151698475267,5.43790538075509,4.716264233493678,7.462214939768189,5.188614101456073,5.904953045160003,5.746937744970128,5.132262782217954,6.208127142322502,5.319099905730565,4.1956970564823886,6.234018491942015,6.128854112403284,5.3223756316411075,3.5160130560907366,6.6500849805983275,6.23213362528801,4.623010104116422,6.002157176646725,5.9647354873659575,5.233352087695677,6.282715244436788,4.803201036487226,4.888090941338162,5.524895014596528,5.673185800678734,5.274895196603544,6.028374901128079,5.986125318762377,5.92844487193968,5.605985872931934,5.610277331459341,6.435958042183625,5.668500660511561,5.714392653768217,5.961803989689555,6.2426122948317895,5.345439473616771,5.043037945203756,4.983606621708336,6.049025657632513,5.69608626802173,5.413251904640136,5.108366782589591,4.350277936359301,5.146039931102459,4.647271362006727,5.591583817293719,5.729580167477342,7.305591359925811,5.0682750735426705,5.843950131819433,5.428248536140067,5.229235205360593,4.973002652622701,5.37860619777684,5.1720169104318625,4.7622594012308666,5.980706890455021,5.737732914025749,5.800909185386924,6.3494885806160095,5.39144334453752,4.412070756022258,4.340553386467307,6.223766036206957,4.695924549256556,6.434000623425247,4.63035048451839,4.8982874609298115,4.775334812511415,5.2832037287379885,5.331268466687723,5.700811398711247,5.674696893761104,5.3056404869278175,5.649396684129609,5.828798547972469,5.049535443053812,6.037751581059296,5.0330488889331555,5.591285443429055,4.9305092496169705,5.0369526024136295,5.791182664937034,4.9441393028078915,5.7202134111139475,5.875239671888878,4.711779921046349,4.282206299391671,4.402319337941644,2.772588722239781,4.050044303325521,5.24185282956691,4.889897898613436,7.020101338813675,5.424509391785796,5.861896717749893,6.240879951161022,6.7914910892950235,3.594568774642695,5.330203555410359,3.9619553741763553,7.617808739608441,6.408199247474378,5.743836174113374,5.346964663369558,5.00535470965233,5.536546555280287,5.804833718725929,5.801060414120672,5.055608659738987,5.474830419933934,5.190286622334331,6.131052561315036,4.9004483350615,4.721618998631338,5.3223756316411075,5.3223268190083886,4.7295977643631435,5.030830001381775,5.054971107916307,4.729156165769083,4.302712827954156,5.498315108354934,5.743035238577902,5.339939041238856,5.501584687857454,5.98718038316893,4.989002993969142,4.606569206901799,5.722146158673159,5.014494504421976,5.884881061705198,6.324896452316315,2.6210388241125804,4.724551943008172,6.233351341239327,4.314550469548967,4.642754946315362,4.82084592245478,5.628879314629517,5.434594984840585,6.369198681477835,4.920272854015864,5.869833492313257,5.71016208162024,5.034872518460301,3.0819099697950434,5.2961650519798935,6.448636197538339,4.547011271814559,4.345103280569283,5.138559328162834,5.5542765468038695,5.169346985251076,4.642369626977198,5.237983327508337,6.261491684321042,4.813321919483064,3.6750340472918834,5.968144741786365,4.7562590403509475,4.310799125385514,4.5948167739086,4.262961527514942,5.112288947822756,5.1549664916521545,4.32280727501391,5.707176707724217,5.898937989430242,6.581360097857453,6.703188113240863,5.765191102784844,4.631812116934513,6.118097198041348,5.515201367691102,6.195629131824389,5.820468612643942,6.538067462249494,4.628300603376946,8.308130044310031,6.364836811668883,5.131731354140141,6.067730902561432,5.605802066295998,4.34795265434013,5.3986150878634005,5.204665810466581,4.719837260966218,4.732243268551567,6.83786915151797,5.034677288576494,6.928067580294015,5.083575918497971,5.19484395807176,5.920559133592208,6.275044467226023,5.715249806097095,5.316402834094422,6.168249974444042,6.450581000548326,5.721131112990814,5.654101914201623,5.341376856008484,5.500278138594339,6.882273354967445,5.1047326174753715,5.084009663896226,5.519138222492601,5.453096420335591,5.7049151662521345,6.496895646556665,5.724499716244923,6.095824562432225,5.074861266395527,4.5512418439625355,6.089044875446846,5.858704285656805,4.647271362006727,5.013830184992775,3.2771447329921766,5.133442723357803,4.7129477781615225,5.164214382024556,5.201806466167193,4.404521712501253],\"type\":\"scatter3d\"},{\"marker\":{\"color\":\"orange\",\"opacity\":0.4,\"size\":5},\"mode\":\"markers\",\"name\":\"Cluster 1\",\"x\":[5.786897381366708,4.330733340286331,2.9444389791664403,3.6109179126442243,5.4510384535657,3.1354942159291497,4.060443010546419,3.970291913552122,3.9512437185814275,3.8066624897703196,4.276666119016055,5.755742213586912,4.867534450455582,4.406719247264253,5.220355825078325,4.382026634673881,4.290459441148391,4.1588830833596715,3.58351893845611,3.828641396489095,4.787491742782046,5.003946305945459,3.912023005428146,3.4965075614664802,4.3694478524670215,4.31748811353631,4.204692619390966,4.727387818712341,4.1588830833596715,4.564348191467836,5.093750200806762,4.3694478524670215,3.7612001156935624,4.442651256490317,4.382026634673881,4.060443010546419,4.90527477843843,4.04305126783455,4.304065093204169,3.8066624897703196,4.204692619390966,4.276666119016055,4.553876891600541,2.9444389791664403,3.9889840465642745,5.236441962829949,3.9889840465642745,2.772588722239781,4.406719247264253,5.820082930352362,4.564348191467836,4.90527477843843,4.962844630259907,4.727387818712341,5.5909869805108565,4.356708826689592,4.382026634673881,4.962844630259907,4.0943445622221,4.875197323201151,4.5217885770490405,3.4011973816621555,4.330733340286331,3.8501476017100584,4.382026634673881,3.9318256327243257,3.58351893845611,3.58351893845611,5.459585514144159,5.356586274672012,3.6375861597263857,3.4011973816621555,3.367295829986474,4.110873864173311,4.3694478524670215,3.1354942159291497,3.970291913552122,4.31748811353631,4.060443010546419,4.564348191467836,4.672828834461906,5.356586274672012,4.060443010546419,4.07753744390572,4.499809670330265,4.219507705176107,3.1780538303479458,3.258096538021482,4.859812404361672,3.5263605246161616,4.68213122712422,5.805134968916488,5.003946305945459,4.07753744390572,5.017279836814924,3.6635616461296463,3.2188758248682006,4.07753744390572,4.736198448394496,3.258096538021482,4.852030263919617,4.2626798770413155,3.367295829986474,4.382026634673881,3.4011973816621555,4.574710978503383,5.0238805208462765,3.4657359027997265,4.454347296253507,3.367295829986474,4.276666119016055,5.755742213586912,4.3694478524670215,4.90527477843843,4.406719247264253,5.4638318050256105,4.762173934797756,3.970291913552122,5.75890177387728,5.476463551931511,4.0943445622221,2.8903717578961645,3.6375861597263857,4.1588830833596715,3.9889840465642745,4.997212273764115,4.564348191467836,4.2626798770413155,3.6375861597263857,4.0943445622221,3.5263605246161616,4.969813299576001,4.2626798770413155,4.189654742026425,3.1354942159291497,3.4657359027997265,4.90527477843843,4.3694478524670215,5.351858133476067,3.295836866004329,5.225746673713202,5.7899601708972535,4.060443010546419,5.4680601411351315,4.1588830833596715,4.219507705176107,3.6888794541139363,3.1780538303479458,4.9344739331306915,4.48863636973214,3.58351893845611,3.2188758248682006,2.8903717578961645,4.174387269895637,4.007333185232471,4.882801922586371,4.969813299576001,4.499809670330265,5.062595033026967,4.304065093204169,5.680172609017068,3.1354942159291497,4.672828834461906,3.9889840465642745,4.304065093204169,4.174387269895637,4.736198448394496,3.970291913552122,4.007333185232471,4.304065093204169,4.9344739331306915,4.394449154672439,4.3694478524670215,4.867534450455582,4.844187086458591,5.62040086571715,3.091042453358316,3.8066624897703196,4.0943445622221,3.4657359027997265,3.091042453358316,2.995732273553991,4.553876891600541,4.499809670330265,3.1780538303479458,4.454347296253507,4.04305126783455,3.1354942159291497,4.6913478822291435,4.442651256490317,5.69035945432406,3.5263605246161616,3.912023005428146,4.553876891600541,4.812184355372417,3.8501476017100584,3.6109179126442243,3.8501476017100584,3.6888794541139363,4.564348191467836,4.07753744390572,2.995732273553991,4.04305126783455,4.3694478524670215,5.484796933490655,4.110873864173311,4.31748811353631,5.3612921657094255,4.574710978503383,5.318119993844216,4.532599493153256,5.056245805348308,4.127134385045092,3.9889840465642745,4.1588830833596715,3.713572066704308,4.812184355372417,5.247024072160486,4.6443908991413725,3.1354942159291497,3.367295829986474,3.1354942159291497,3.6375861597263857,4.204692619390966,4.3694478524670215,3.6109179126442243,3.6635616461296463,4.532599493153256,4.418840607796598,4.356708826689592,5.303304908059076,5.564520407322694,4.219507705176107,4.276666119016055,4.812184355372417,4.394449154672439,5.552959584921617,2.8903717578961645,3.5263605246161616,4.110873864173311,4.48863636973214,4.605170185988092,3.295836866004329,4.882801922586371,3.4011973816621555,4.290459441148391,4.852030263919617,4.31748811353631,4.897839799950911,3.713572066704308,4.174387269895637,4.6913478822291435,4.219507705176107,3.1780538303479458,3.295836866004329,3.2188758248682006,2.8903717578961645,3.6635616461296463,4.07753744390572,5.2574953720277815,5.187385805840755,3.6375861597263857,3.828641396489095,4.3694478524670215,4.060443010546419,3.9512437185814275,4.919980925828125,3.1780538303479458,5.666426688112432,4.290459441148391,4.290459441148391,3.091042453358316,4.0943445622221,4.454347296253507,4.07753744390572,3.5263605246161616,3.784189633918261,4.454347296253507,4.574710978503383,3.258096538021482,4.204692619390966,4.304065093204169,4.406719247264253,4.442651256490317,4.976733742420574,3.713572066704308,5.327876168789581,3.258096538021482,5.049856007249537,4.174387269895637,4.6913478822291435,3.828641396489095,3.713572066704308,4.499809670330265,3.713572066704308,3.4339872044851463,4.0943445622221,4.605170185988092,3.5263605246161616,4.219507705176107,3.6109179126442243,3.970291913552122,4.31748811353631,3.828641396489095,3.784189633918261,4.74493212836325,5.327876168789581,4.454347296253507,5.0106352940962555,3.2188758248682006,3.4657359027997265,5.5909869805108565,5.641907070938114,3.4965075614664802,4.762173934797756,4.882801922586371,3.912023005428146,3.6635616461296463,3.6109179126442243,4.912654885736052,4.276666119016055,4.564348191467836,4.564348191467836,3.9889840465642745,4.8283137373023015,3.9318256327243257,4.1588830833596715,4.2626798770413155,4.174387269895637,3.5263605246161616,4.762173934797756,4.9344739331306915,3.4339872044851463,3.367295829986474,3.6888794541139363,4.532599493153256,5.71042701737487,4.976733742420574,3.4965075614664802,4.060443010546419,3.258096538021482,4.07753744390572,3.2188758248682006,3.9512437185814275,4.867534450455582,4.564348191467836,4.060443010546419,3.4657359027997265,4.820281565605037,3.9889840465642745,4.007333185232471,4.787491742782046,3.367295829986474,5.214935757608986,4.290459441148391,4.382026634673881,4.060443010546419,3.912023005428146,4.532599493153256,4.564348191467836,5.575949103146316,5.176149732573829,5.384495062789089,4.382026634673881,4.304065093204169,3.6888794541139363,3.4011973816621555,4.189654742026425,3.7612001156935624,3.828641396489095,4.90527477843843,3.784189633918261,4.7535901911063645,5.293304824724492,4.356708826689592,3.970291913552122,5.087596335232384,3.8501476017100584,3.1354942159291497,3.367295829986474,4.3694478524670215,3.713572066704308,3.295836866004329,5.723585101952381,3.4657359027997265,3.4011973816621555,4.1588830833596715,4.624972813284271,5.713732805509369,4.304065093204169,5.480638923341991,3.9512437185814275,2.995732273553991,4.812184355372417,4.110873864173311,5.768320995793772,3.8501476017100584,4.330733340286331,5.480638923341991,5.375278407684165,4.477336814478207,4.2626798770413155,3.6888794541139363,4.59511985013459,4.0943445622221,4.465908118654584,3.713572066704308,3.4339872044851463,4.219507705176107,4.110873864173311,4.663439094112067,3.9889840465642745,3.4339872044851463,3.7612001156935624,5.181783550292085,4.532599493153256,4.709530201312334,3.367295829986474,3.9512437185814275,5.214935757608986,3.7612001156935624,3.912023005428146,3.1354942159291497,4.330733340286331,3.784189633918261,3.4339872044851463,5.393627546352361,4.709530201312334,5.564520407322694,4.174387269895637,3.9318256327243257,4.700480365792417,5.093750200806762,4.304065093204169,4.59511985013459,3.091042453358316,2.8903717578961645,4.276666119016055,3.9512437185814275,4.48863636973214,3.8501476017100584,3.8066624897703196,4.74493212836325,3.828641396489095,4.852030263919617,4.795790545596741,5.062595033026967,4.382026634673881,3.4657359027997265,4.6913478822291435,3.295836866004329,3.6635616461296463,3.4965075614664802,4.189654742026425,4.189654742026425,4.875197323201151,3.5263605246161616,4.68213122712422,4.276666119016055,4.532599493153256,3.7612001156935624,4.5217885770490405,4.060443010546419,5.768320995793772,5.3230099791384085,3.9889840465642745,2.9444389791664403,4.110873864173311,5.049856007249537,5.003946305945459,4.204692619390966,5.5093883366279774,3.4011973816621555,4.6443908991413725,4.276666119016055,3.295836866004329,4.219507705176107,3.7612001156935624,3.295836866004329,3.8712010109078907,3.1780538303479458,4.127134385045092,3.4657359027997265,4.110873864173311,5.4680601411351315,3.2188758248682006,4.110873864173311,4.07753744390572,3.367295829986474,3.2188758248682006,2.995732273553991,4.330733340286331,4.564348191467836,4.04305126783455,5.19295685089021,5.135798437050262,3.58351893845611,3.091042453358316,3.4965075614664802,5.2832037287379885,4.5217885770490405,3.9318256327243257,3.970291913552122,3.2188758248682006,5.14166355650266,4.219507705176107,4.219507705176107,5.135798437050262,2.8903717578961645,3.367295829986474,2.995732273553991,4.110873864173311,5.488937726156687,5.638354669333745,5.459585514144159,3.4657359027997265,3.4339872044851463,4.927253685157205,3.4965075614664802,2.70805020110221,3.2188758248682006,3.7612001156935624,5.288267030694535,4.727387818712341,3.4011973816621555,4.477336814478207,3.8066624897703196,4.976733742420574,5.4510384535657,4.07753744390572,3.9512437185814275,4.852030263919617,5.093750200806762,3.6888794541139363,3.713572066704308,3.6109179126442243,5.303304908059076,4.304065093204169,5.198497031265826,5.2832037287379885,2.8903717578961645,4.499809670330265,3.9889840465642745,3.784189633918261,4.1588830833596715,4.07753744390572,4.3694478524670215,3.6109179126442243,4.0943445622221,3.258096538021482,5.225746673713202,4.68213122712422,4.356708826689592,4.454347296253507,3.1780538303479458,3.58351893845611,4.2626798770413155,4.7535901911063645,5.3612921657094255,3.4339872044851463,3.9318256327243257,4.6913478822291435,4.406719247264253,4.04305126783455,3.1780538303479458,4.0943445622221,4.997212273764115,4.174387269895637,4.574710978503383,4.23410650459726,3.58351893845611,4.68213122712422,4.060443010546419,4.290459441148391,5.293304824724492,5.14166355650266,3.8712010109078907,4.7535901911063645,4.997212273764115,3.9512437185814275,3.9889840465642745,4.394449154672439,3.4339872044851463,5.54907608489522,4.290459441148391,4.07753744390572,4.189654742026425,3.258096538021482,3.1780538303479458,5.62040086571715,3.713572066704308,4.276666119016055,3.6375861597263857,3.9889840465642745,4.3694478524670215,3.8501476017100584,5.19295685089021,4.543294782270004,4.663439094112067,4.356708826689592,5.153291594497779,5.3612921657094255,3.091042453358316,4.219507705176107,4.6443908991413725,5.209486152841421,5.2832037287379885,4.955827057601261,3.4011973816621555,2.8903717578961645,4.74493212836325,4.110873864173311,3.9318256327243257,4.852030263919617,3.970291913552122,5.10594547390058,4.330733340286331,4.23410650459726,4.787491742782046,4.0943445622221,4.477336814478207,3.258096538021482,4.454347296253507,4.110873864173311,3.8501476017100584,3.9512437185814275,3.6109179126442243,4.204692619390966,4.736198448394496,5.384495062789089,3.4011973816621555,3.8066624897703196,4.204692619390966,4.189654742026425,4.90527477843843,3.6109179126442243,4.204692619390966,5.1298987149230735,4.61512051684126,5.0238805208462765,2.772588722239781,4.060443010546419,4.07753744390572,3.784189633918261,3.4011973816621555,3.9318256327243257,4.219507705176107,3.9318256327243257,4.110873864173311,4.174387269895637,4.330733340286331,4.174387269895637,4.2626798770413155,4.454347296253507,3.6888794541139363,5.905361848054571,5.056245805348308,4.204692619390966,4.394449154672439,5.0689042022202315,5.541263545158426,4.564348191467836,3.258096538021482,4.330733340286331,4.060443010546419,3.713572066704308,4.927253685157205,3.713572066704308,5.135798437050262,5.135798437050262,2.833213344056216,5.003946305945459,3.5263605246161616,4.442651256490317,3.295836866004329,4.174387269895637,4.454347296253507,4.07753744390572,3.5263605246161616,4.007333185232471,3.295836866004329,5.82600010738045,4.454347296253507,4.736198448394496,3.713572066704308,4.762173934797756,5.087596335232384,3.4339872044851463,3.1354942159291497,4.564348191467836,3.091042453358316,3.970291913552122,3.1354942159291497,5.147494476813453,5.247024072160486,4.174387269895637,3.713572066704308,3.091042453358316,2.995732273553991,5.159055299214529,4.007333185232471,4.356708826689592,4.110873864173311,3.1354942159291497,4.6443908991413725,3.4657359027997265,5.181783550292085,3.6375861597263857,4.23410650459726,4.795790545596741,3.1780538303479458,4.61512051684126,3.295836866004329,3.6109179126442243,4.127134385045092,3.367295829986474,3.4965075614664802,4.04305126783455,3.784189633918261,4.762173934797756,4.6443908991413725,4.31748811353631,3.828641396489095,4.499809670330265,4.663439094112067,5.117993812416755,3.828641396489095,5.25227342804663,3.258096538021482,5.1298987149230735,4.48863636973214,4.304065093204169,3.912023005428146,3.2188758248682006,3.258096538021482,3.5263605246161616,5.153291594497779,4.948759890378168,4.1588830833596715,3.58351893845611,4.983606621708336,3.2188758248682006,3.58351893845611,4.189654742026425,4.74493212836325,2.70805020110221,2.833213344056216,2.995732273553991,5.4638318050256105,4.127134385045092,4.189654742026425,4.189654742026425,3.4657359027997265,4.48863636973214,3.4965075614664802,3.295836866004329,3.784189633918261,5.0106352940962555,4.736198448394496,4.330733340286331,4.68213122712422,3.8501476017100584,3.8501476017100584,3.9318256327243257,5.726847747587197,4.3694478524670215,4.68213122712422,5.337538079701318,4.1588830833596715,3.912023005428146,3.8066624897703196,4.04305126783455,4.304065093204169,4.605170185988092,4.07753744390572,5.541263545158426,4.2626798770413155,3.8066624897703196,3.5263605246161616,4.290459441148391,4.919980925828125,3.713572066704308,3.713572066704308,4.1588830833596715,5.91350300563827,5.056245805348308,5.424950017481403,2.995732273553991,3.091042453358316,4.499809670330265,4.418840607796598,3.4657359027997265,3.5263605246161616,2.8903717578961645,3.6888794541139363,5.111987788356544,2.8903717578961645,4.356708826689592,4.48863636973214,3.1354942159291497,4.820281565605037,3.8066624897703196,4.48863636973214,3.4011973816621555,3.8712010109078907,3.1354942159291497,5.5053315359323625,3.58351893845611,3.6375861597263857,3.8501476017100584,5.564520407322694,3.8501476017100584,4.5217885770490405,4.532599493153256,4.477336814478207,5.598421958998375,4.189654742026425,3.1354942159291497,3.6375861597263857,4.787491742782046,3.713572066704308,3.4965075614664802,4.983606621708336,3.828641396489095,4.189654742026425,4.04305126783455,4.61512051684126,3.1780538303479458,4.0943445622221,4.74493212836325,4.477336814478207,3.9318256327243257,4.2626798770413155,3.7612001156935624,2.8903717578961645,4.442651256490317,3.828641396489095,4.0943445622221,4.060443010546419,4.304065093204169,3.6888794541139363,3.9512437185814275,4.0943445622221,4.189654742026425,4.48863636973214,5.062595033026967,3.7612001156935624,5.594711379601839,3.912023005428146,4.189654742026425,3.9318256327243257,4.564348191467836,4.844187086458591,4.553876891600541,4.61512051684126,4.290459441148391,4.174387269895637,3.8066624897703196,4.07753744390572,3.4339872044851463,4.007333185232471,3.8066624897703196,4.48863636973214,5.14166355650266,5.5909869805108565,3.4011973816621555,3.6109179126442243,5.765191102784844,4.060443010546419,3.8066624897703196,4.477336814478207,3.784189633918261,3.713572066704308,5.356586274672012,3.1780538303479458,3.970291913552122,4.204692619390966,3.828641396489095,3.9318256327243257,2.8903717578961645,4.304065093204169,4.276666119016055,5.869296913133774,3.091042453358316,4.290459441148391,3.4657359027997265,5.365976015021851,4.672828834461906,4.174387269895637,4.787491742782046,5.153291594497779,4.859812404361672,3.367295829986474,4.68213122712422,3.2188758248682006,3.8066624897703196,3.4965075614664802,3.091042453358316,4.1588830833596715,3.4965075614664802,2.8903717578961645,3.6375861597263857,4.418840607796598,3.5263605246161616,4.204692619390966,4.127134385045092,4.31748811353631,4.499809670330265,4.110873864173311,3.9889840465642745,4.04305126783455,4.110873864173311,5.043425116919247,3.6109179126442243,3.295836866004329,3.8066624897703196,4.727387818712341,5.365976015021851,3.4011973816621555,3.8501476017100584,5.288267030694535,4.1588830833596715,4.605170185988092,3.367295829986474,3.091042453358316,3.5263605246161616,3.1780538303479458,3.9512437185814275,4.48863636973214,4.1588830833596715,4.330733340286331,4.356708826689592,3.8501476017100584,4.382026634673881,5.6937321388027,3.912023005428146,4.672828834461906,3.258096538021482,3.091042453358316,3.970291913552122,4.127134385045092,5.231108616854587,3.1354942159291497,4.709530201312334,4.6913478822291435,4.564348191467836,5.099866427824199,3.7612001156935624,4.204692619390966,3.295836866004329,3.9889840465642745,5.272999558563747,3.295836866004329,4.852030263919617,4.442651256490317,4.394449154672439,4.276666119016055,4.127134385045092,4.31748811353631,3.4965075614664802,4.2626798770413155,3.4657359027997265,3.9512437185814275,4.394449154672439,3.4011973816621555,4.304065093204169,3.4965075614664802,3.1354942159291497,3.4657359027997265,5.181783550292085,4.07753744390572,2.833213344056216,4.23410650459726,3.1780538303479458,4.007333185232471,3.5263605246161616,4.290459441148391,4.127134385045092,4.23410650459726,3.6375861597263857,4.442651256490317,5.389071729816501,4.5217885770490405,5.713732805509369,3.295836866004329,3.8501476017100584,3.970291913552122,3.970291913552122,4.3694478524670215,3.4011973816621555,4.465908118654584,3.6375861597263857,2.8903717578961645,3.8066624897703196,3.4339872044851463,4.74493212836325,2.995732273553991,5.6131281063880705,3.8712010109078907,4.060443010546419,3.5263605246161616,4.219507705176107,4.110873864173311,4.61512051684126,4.820281565605037,5.099866427824199,5.159055299214529,4.6443908991413725,4.962844630259907,3.1780538303479458,3.6109179126442243,4.61512051684126,4.976733742420574,3.1354942159291497,4.219507705176107,3.4339872044851463,4.204692619390966,5.272999558563747,3.295836866004329,2.833213344056216,4.762173934797756,4.406719247264253,3.4011973816621555,3.367295829986474,3.1780538303479458,3.912023005428146,5.056245805348308,3.091042453358316,4.394449154672439,4.007333185232471,3.970291913552122,5.356586274672012,4.04305126783455,4.90527477843843,3.6635616461296463,3.6888794541139363,4.356708826689592,5.545177444479562,4.48863636973214,3.4339872044851463,4.454347296253507,3.8501476017100584,3.9318256327243257,3.367295829986474,4.3694478524670215,4.465908118654584,4.477336814478207,3.295836866004329,3.4965075614664802,4.454347296253507,4.770684624465665,4.574710978503383,3.367295829986474,3.367295829986474,4.406719247264253,4.304065093204169,5.749392985908253,3.091042453358316,4.07753744390572,3.367295829986474,4.74493212836325,3.367295829986474,2.8903717578961645,3.5263605246161616,4.700480365792417,3.58351893845611,4.820281565605037,3.367295829986474,3.9318256327243257,3.1354942159291497,2.9444389791664403,5.075173815233827,3.4011973816621555,5.030437921392435,4.663439094112067,3.1354942159291497,5.272999558563747,3.4965075614664802,3.091042453358316,3.367295829986474,3.4965075614664802,4.060443010546419,3.8066624897703196,5.187385805840755,4.04305126783455,4.672828834461906,3.58351893845611,3.1780538303479458,3.58351893845611,5.170483995038151,3.713572066704308,4.110873864173311,4.574710978503383,5.579729825986222,4.6913478822291435,3.9889840465642745,4.795790545596741,4.762173934797756,5.003946305945459,4.9344739331306915,3.7612001156935624,5.429345628954441,4.875197323201151,4.110873864173311,3.295836866004329,3.4657359027997265,3.367295829986474,2.70805020110221,4.3694478524670215,3.4657359027997265,3.8501476017100584,4.61512051684126,5.0238805208462765,5.056245805348308,3.9318256327243257,2.8903717578961645,3.1780538303479458,4.290459441148391,3.713572066704308,3.713572066704308,5.298317366548036,2.995732273553991,4.356708826689592,3.6888794541139363,3.1354942159291497,4.74493212836325,4.844187086458591,5.8111409929767,2.833213344056216,4.859812404361672,4.48863636973214,3.6109179126442243,4.997212273764115,5.262690188904886,4.844187086458591,3.784189633918261,4.553876891600541,3.1354942159291497,4.110873864173311,3.8066624897703196,5.2574953720277815,4.356708826689592,5.332718793265369,5.087596335232384,5.568344503761097,3.367295829986474,3.4657359027997265,2.772588722239781,3.9889840465642745,3.4011973816621555,3.784189633918261,4.110873864173311,4.553876891600541,2.70805020110221,3.9318256327243257,4.700480365792417,4.61512051684126,4.110873864173311,4.304065093204169,4.454347296253507,5.365976015021851,3.713572066704308,3.9889840465642745,4.060443010546419,3.4657359027997265,3.6109179126442243,4.787491742782046,5.393627546352361,4.110873864173311,4.9344739331306915,3.6109179126442243,4.304065093204169,3.258096538021482,4.204692619390966,3.7612001156935624,2.772588722239781,3.9318256327243257,4.31748811353631,3.970291913552122,4.852030263919617,4.882801922586371,3.6635616461296463,3.4339872044851463,3.58351893845611,5.1298987149230735,3.295836866004329,4.574710978503383,4.852030263919617,4.276666119016055,2.772588722239781,4.382026634673881,3.9889840465642745,5.187385805840755,2.8903717578961645,3.9318256327243257,5.0689042022202315,5.293304824724492,4.574710978503383,3.2188758248682006,3.091042453358316,4.290459441148391,4.454347296253507,5.030437921392435,3.713572066704308,3.1354942159291497,3.6375861597263857,4.418840607796598,4.276666119016055,3.1354942159291497,3.7612001156935624,3.295836866004329,4.406719247264253,5.921578419643816,4.0943445622221,3.4339872044851463,4.68213122712422,4.394449154672439,5.225746673713202,3.4657359027997265,3.091042453358316,5.777652323222656,4.276666119016055,5.153291594497779,4.276666119016055,4.07753744390572,3.828641396489095,4.48863636973214,4.174387269895637,3.58351893845611,4.90527477843843,3.4011973816621555,3.912023005428146,4.290459441148391,3.4657359027997265,3.6375861597263857,3.2188758248682006,3.58351893845611,5.111987788356544,4.804021044733257,4.31748811353631,3.6375861597263857,4.2626798770413155,3.4965075614664802,3.58351893845611,3.58351893845611,3.4965075614664802,3.2188758248682006,3.091042453358316,4.74493212836325,3.828641396489095,3.258096538021482,4.543294782270004,4.406719247264253,3.6375861597263857,4.219507705176107,5.0106352940962555,3.4011973816621555,2.772588722239781,4.1588830833596715,4.762173934797756,4.90527477843843,4.060443010546419,3.1780538303479458,5.176149732573829,3.5263605246161616,4.07753744390572,4.465908118654584,3.4657359027997265,4.859812404361672,4.356708826689592,4.276666119016055,4.564348191467836,5.298317366548036,4.276666119016055,3.1354942159291497,4.04305126783455,5.262690188904886,4.406719247264253,4.276666119016055,3.4011973816621555,5.389071729816501,4.290459441148391,4.812184355372417,4.477336814478207,3.9318256327243257,3.6888794541139363,3.2188758248682006,5.153291594497779,3.258096538021482,4.290459441148391,3.7612001156935624],\"y\":[0.6931471805599453,3.4657359027997265,4.304065093204169,4.454347296253507,4.07753744390572,4.0943445622221,5.517452896464707,4.867534450455582,5.123963979403259,4.1588830833596715,3.970291913552122,4.356708826689592,5.393627546352361,3.713572066704308,4.605170185988092,3.4965075614664802,4.174387269895637,3.332204510175204,4.844187086458591,4.454347296253507,4.0943445622221,4.007333185232471,4.356708826689592,4.663439094112067,4.700480365792417,4.127134385045092,3.6635616461296463,3.5553480614894135,3.4011973816621555,3.6888794541139363,3.4339872044851463,3.6109179126442243,4.6913478822291435,3.9318256327243257,3.6109179126442243,4.060443010546419,3.784189633918261,2.772588722239781,4.51085950651685,4.836281906951478,4.143134726391533,3.6635616461296463,3.58351893845611,4.143134726391533,4.430816798843313,3.6635616461296463,3.6109179126442243,4.356708826689592,2.70805020110221,5.0106352940962555,4.997212273764115,3.091042453358316,3.5263605246161616,3.58351893845611,3.9512437185814275,3.295836866004329,5.030437921392435,3.6635616461296463,4.204692619390966,4.1588830833596715,3.5553480614894135,3.970291913552122,3.9318256327243257,4.248495242049359,4.060443010546419,4.804021044733257,4.48863636973214,4.997212273764115,4.477336814478207,4.23410650459726,4.77912349311153,4.143134726391533,4.174387269895637,4.624972813284271,4.110873864173311,4.672828834461906,4.189654742026425,2.995732273553991,5.0369526024136295,3.4965075614664802,3.6635616461296463,4.465908118654584,3.4657359027997265,4.624972813284271,4.624972813284271,5.968707559985366,3.9889840465642745,3.8712010109078907,3.2188758248682006,4.304065093204169,3.4657359027997265,3.8918202981106265,3.784189633918261,3.5263605246161616,4.624972813284271,4.430816798843313,3.828641396489095,3.8918202981106265,5.147494476813453,4.290459441148391,3.6888794541139363,3.6375861597263857,3.7376696182833684,3.9889840465642745,5.062595033026967,4.356708826689592,4.02535169073515,5.087596335232384,3.9889840465642745,4.8283137373023015,3.8501476017100584,3.784189633918261,3.6635616461296463,4.90527477843843,3.9889840465642745,4.1588830833596715,4.584967478670572,4.564348191467836,3.828641396489095,3.4965075614664802,4.02535169073515,4.204692619390966,5.0106352940962555,3.258096538021482,3.828641396489095,3.8712010109078907,3.4011973816621555,3.8501476017100584,3.6635616461296463,5.170483995038151,4.820281565605037,4.736198448394496,3.5553480614894135,4.6443908991413725,4.5217885770490405,3.9512437185814275,4.3694478524670215,4.709530201312334,3.8501476017100584,4.564348191467836,4.68213122712422,4.204692619390966,4.454347296253507,3.8712010109078907,4.276666119016055,4.418840607796598,4.5217885770490405,4.330733340286331,4.68213122712422,3.4339872044851463,4.442651256490317,4.672828834461906,4.143134726391533,3.8712010109078907,4.605170185988092,4.330733340286331,4.584967478670572,4.700480365792417,3.044522437723423,3.367295829986474,4.532599493153256,4.0943445622221,3.4657359027997265,5.176149732573829,3.8712010109078907,3.713572066704308,3.295836866004329,4.276666119016055,3.6375861597263857,3.332204510175204,3.8918202981106265,3.367295829986474,4.343805421853684,3.1354942159291497,4.304065093204169,5.075173815233827,3.2188758248682006,4.07753744390572,3.8712010109078907,4.983606621708336,4.343805421853684,4.382026634673881,4.02535169073515,5.4638318050256105,3.8066624897703196,4.59511985013459,4.852030263919617,4.1588830833596715,3.8501476017100584,4.912654885736052,4.31748811353631,4.454347296253507,4.477336814478207,4.382026634673881,4.382026634673881,3.7612001156935624,4.882801922586371,4.290459441148391,4.382026634673881,4.1588830833596715,5.0106352940962555,4.962844630259907,4.51085950651685,3.091042453358316,4.204692619390966,4.6913478822291435,3.784189633918261,4.07753744390572,4.219507705176107,4.07753744390572,3.1780538303479458,3.6109179126442243,4.477336814478207,4.5217885770490405,3.4339872044851463,3.8501476017100584,4.454347296253507,4.007333185232471,4.406719247264253,4.007333185232471,4.290459441148391,4.3694478524670215,4.477336814478207,4.8283137373023015,4.672828834461906,4.330733340286331,4.6913478822291435,3.9889840465642745,5.594711379601839,3.9512437185814275,4.007333185232471,3.7612001156935624,4.787491742782046,3.9512437185814275,3.4965075614664802,3.7612001156935624,4.51085950651685,4.110873864173311,4.859812404361672,5.0689042022202315,3.6375861597263857,3.9889840465642745,4.584967478670572,3.58351893845611,3.784189633918261,3.6635616461296463,3.6888794541139363,3.332204510175204,3.2188758248682006,4.653960350157523,4.852030263919617,4.3694478524670215,3.8501476017100584,4.0943445622221,4.276666119016055,3.8501476017100584,4.1588830833596715,3.332204510175204,3.7376696182833684,4.465908118654584,4.07753744390572,4.382026634673881,4.700480365792417,4.248495242049359,3.5553480614894135,4.465908118654584,3.9318256327243257,4.189654742026425,3.970291913552122,5.375278407684165,4.0943445622221,3.8066624897703196,4.955827057601261,3.6635616461296463,4.543294782270004,5.4116460518550396,3.258096538021482,3.6375861597263857,4.8283137373023015,3.9512437185814275,4.700480365792417,4.919980925828125,4.418840607796598,3.912023005428146,4.430816798843313,5.176149732573829,3.5263605246161616,4.430816798843313,3.9889840465642745,4.07753744390572,4.859812404361672,4.605170185988092,4.59511985013459,4.31748811353631,3.8066624897703196,4.406719247264253,4.532599493153256,2.4849066497880004,5.241747015059643,4.143134726391533,4.1588830833596715,4.624972813284271,3.713572066704308,4.1588830833596715,5.117993812416755,4.04305126783455,4.653960350157523,3.9889840465642745,4.477336814478207,3.9889840465642745,4.51085950651685,3.8918202981106265,4.663439094112067,4.634728988229636,3.784189633918261,4.454347296253507,4.653960350157523,3.7612001156935624,4.1588830833596715,3.784189633918261,3.5553480614894135,4.290459441148391,3.367295829986474,3.2188758248682006,4.343805421853684,4.2626798770413155,2.772588722239781,5.342334251964811,4.787491742782046,5.181783550292085,3.6888794541139363,4.110873864173311,4.927253685157205,3.58351893845611,4.248495242049359,4.060443010546419,3.6109179126442243,4.0943445622221,3.8501476017100584,4.543294782270004,4.02535169073515,5.332718793265369,4.02535169073515,4.624972813284271,4.543294782270004,4.406719247264253,3.1780538303479458,4.127134385045092,5.730099782973575,4.653960350157523,3.6109179126442243,3.713572066704308,4.77912349311153,3.784189633918261,5.0106352940962555,4.812184355372417,5.003946305945459,3.4339872044851463,3.7376696182833684,4.07753744390572,3.4657359027997265,3.6888794541139363,4.927253685157205,4.532599493153256,4.007333185232471,4.718498871295094,4.68213122712422,3.7376696182833684,4.804021044733257,3.6888794541139363,3.8712010109078907,5.147494476813453,3.4339872044851463,3.7612001156935624,3.6888794541139363,3.044522437723423,5.087596335232384,4.204692619390966,4.499809670330265,4.204692619390966,4.532599493153256,5.4638318050256105,5.3471075307174685,4.454347296253507,4.007333185232471,4.394449154672439,3.970291913552122,4.189654742026425,5.0369526024136295,3.58351893845611,4.31748811353631,4.820281565605037,4.290459441148391,3.8066624897703196,3.8501476017100584,4.219507705176107,2.4849066497880004,3.912023005428146,3.970291913552122,4.6913478822291435,3.970291913552122,3.4011973816621555,3.970291913552122,4.07753744390572,5.0106352940962555,3.7612001156935624,5.111987788356544,4.189654742026425,3.7612001156935624,3.6375861597263857,4.634728988229636,4.727387818712341,4.219507705176107,5.267858159063328,3.7376696182833684,4.110873864173311,4.77912349311153,4.219507705176107,3.713572066704308,3.9318256327243257,4.7535901911063645,3.58351893845611,5.075173815233827,4.382026634673881,4.727387818712341,3.7612001156935624,4.6913478822291435,4.330733340286331,3.9889840465642745,4.672828834461906,3.970291913552122,3.4657359027997265,4.02535169073515,3.5263605246161616,4.174387269895637,3.332204510175204,4.143134726391533,4.663439094112067,3.5263605246161616,5.198497031265826,4.477336814478207,4.624972813284271,3.6109179126442243,4.867534450455582,4.276666119016055,4.110873864173311,3.8712010109078907,3.5263605246161616,4.77912349311153,4.248495242049359,4.882801922586371,4.0943445622221,4.948759890378168,3.828641396489095,4.304065093204169,3.044522437723423,4.6443908991413725,4.304065093204169,4.007333185232471,5.267858159063328,3.784189633918261,4.584967478670572,3.332204510175204,3.4965075614664802,4.1588830833596715,4.543294782270004,4.2626798770413155,4.700480365792417,3.6375861597263857,5.198497031265826,5.484796933490655,4.875197323201151,4.290459441148391,5.641907070938114,3.7612001156935624,4.976733742420574,3.8501476017100584,5.267858159063328,5.272999558563747,4.68213122712422,4.574710978503383,4.304065093204169,5.318119993844216,5.438079308923196,4.174387269895637,4.143134726391533,5.802118375377063,4.718498871295094,4.290459441148391,4.74493212836325,4.736198448394496,4.248495242049359,4.852030263919617,3.5263605246161616,5.4638318050256105,4.61512051684126,5.10594547390058,5.030437921392435,4.90527477843843,3.9889840465642745,3.2188758248682006,3.7376696182833684,5.153291594497779,4.672828834461906,3.4657359027997265,3.295836866004329,4.634728988229636,4.394449154672439,4.844187086458591,5.1298987149230735,4.605170185988092,4.51085950651685,5.14166355650266,4.890349128221754,4.127134385045092,3.7612001156935624,4.276666119016055,4.23410650459726,4.7535901911063645,4.941642422609304,4.276666119016055,4.007333185232471,4.499809670330265,4.248495242049359,4.499809670330265,3.4339872044851463,3.7376696182833684,4.276666119016055,3.970291913552122,4.110873864173311,4.770684624465665,3.58351893845611,3.8066624897703196,5.4638318050256105,5.545177444479562,3.9889840465642745,4.1588830833596715,3.8918202981106265,4.2626798770413155,2.8903717578961645,4.219507705176107,4.6913478822291435,4.9344739331306915,4.983606621708336,4.875197323201151,4.969813299576001,4.852030263919617,4.204692619390966,4.110873864173311,3.8918202981106265,3.6109179126442243,3.8712010109078907,3.8712010109078907,3.1780538303479458,4.762173934797756,4.477336814478207,4.356708826689592,3.828641396489095,4.060443010546419,4.3694478524670215,3.8066624897703196,4.859812404361672,4.477336814478207,3.5553480614894135,4.1588830833596715,4.9344739331306915,3.7612001156935624,4.0943445622221,4.430816798843313,3.5553480614894135,5.081404364984463,3.4965075614664802,4.290459441148391,5.37989735354046,4.477336814478207,4.330733340286331,4.356708826689592,4.7535901911063645,5.0689042022202315,4.976733742420574,4.859812404361672,4.127134385045092,3.58351893845611,3.970291913552122,4.852030263919617,4.875197323201151,4.584967478670572,4.3694478524670215,4.969813299576001,3.258096538021482,5.472270673671475,4.060443010546419,5.049856007249537,3.7612001156935624,4.418840607796598,4.653960350157523,4.2626798770413155,3.295836866004329,3.7612001156935624,3.332204510175204,3.912023005428146,3.8712010109078907,4.060443010546419,3.4339872044851463,3.8712010109078907,1.3862943611198906,4.248495242049359,4.110873864173311,4.442651256490317,3.828641396489095,4.418840607796598,4.634728988229636,4.442651256490317,3.4011973816621555,4.394449154672439,4.5217885770490405,4.454347296253507,4.6443908991413725,3.9512437185814275,2.639057329615259,4.248495242049359,4.962844630259907,3.6375861597263857,3.970291913552122,3.58351893845611,4.770684624465665,4.07753744390572,4.836281906951478,3.4657359027997265,4.969813299576001,3.9318256327243257,4.3694478524670215,4.709530201312334,3.5553480614894135,4.499809670330265,3.8066624897703196,3.8712010109078907,3.5553480614894135,4.356708826689592,4.418840607796598,3.7376696182833684,4.1588830833596715,4.941642422609304,4.48863636973214,4.07753744390572,5.272999558563747,2.0794415416798357,5.497168225293202,3.1780538303479458,4.07753744390572,3.8712010109078907,3.6375861597263857,4.564348191467836,3.7612001156935624,4.060443010546419,3.58351893845611,4.605170185988092,4.465908118654584,2.8903717578961645,4.290459441148391,4.1588830833596715,3.4011973816621555,4.74493212836325,3.8066624897703196,4.564348191467836,4.553876891600541,3.332204510175204,4.770684624465665,5.272999558563747,3.7376696182833684,4.304065093204169,3.7612001156935624,5.0369526024136295,4.812184355372417,4.605170185988092,5.262690188904886,3.367295829986474,3.9889840465642745,5.726847747587197,4.143134726391533,4.110873864173311,5.062595033026967,4.060443010546419,4.343805421853684,3.8501476017100584,3.828641396489095,4.48863636973214,4.465908118654584,3.9318256327243257,5.043425116919247,4.836281906951478,4.584967478670572,5.10594547390058,3.8501476017100584,4.532599493153256,5.3706380281276624,5.225746673713202,4.6913478822291435,4.430816798843313,4.330733340286331,4.406719247264253,4.7535901911063645,4.04305126783455,4.736198448394496,3.4657359027997265,4.653960350157523,5.1298987149230735,3.828641396489095,3.9512437185814275,5.0106352940962555,4.820281565605037,4.356708826689592,3.970291913552122,4.219507705176107,4.356708826689592,4.110873864173311,3.828641396489095,4.61512051684126,5.225746673713202,3.5553480614894135,4.174387269895637,3.912023005428146,4.110873864173311,3.258096538021482,4.787491742782046,5.476463551931511,3.8712010109078907,3.8918202981106265,4.51085950651685,4.762173934797756,5.049856007249537,4.74493212836325,3.5263605246161616,4.709530201312334,3.9889840465642745,5.147494476813453,4.465908118654584,4.770684624465665,4.02535169073515,5.3706380281276624,4.77912349311153,4.859812404361672,4.248495242049359,4.2626798770413155,3.295836866004329,4.290459441148391,4.48863636973214,4.143134726391533,2.3978952727983707,5.262690188904886,3.828641396489095,3.6375861597263857,4.127134385045092,5.198497031265826,4.430816798843313,5.332718793265369,4.330733340286331,3.7612001156935624,2.1972245773362196,4.59511985013459,4.787491742782046,4.174387269895637,3.4657359027997265,3.8918202981106265,5.342334251964811,4.499809670330265,3.7376696182833684,3.713572066704308,3.912023005428146,4.820281565605037,4.143134726391533,4.23410650459726,4.7535901911063645,3.9512437185814275,4.23410650459726,4.007333185232471,5.6131281063880705,3.9318256327243257,4.143134726391533,3.8712010109078907,4.394449154672439,4.962844630259907,3.713572066704308,4.795790545596741,4.663439094112067,4.543294782270004,4.143134726391533,4.969813299576001,4.31748811353631,4.343805421853684,3.4011973816621555,4.59511985013459,4.5217885770490405,4.812184355372417,5.176149732573829,4.59511985013459,4.189654742026425,3.912023005428146,3.784189633918261,4.736198448394496,3.6375861597263857,3.970291913552122,4.875197323201151,4.6443908991413725,5.955837369464831,4.51085950651685,4.465908118654584,4.553876891600541,4.983606621708336,5.081404364984463,4.343805421853684,4.624972813284271,2.833213344056216,4.61512051684126,4.02535169073515,3.6888794541139363,4.189654742026425,4.276666119016055,3.6888794541139363,4.430816798843313,5.746203190540153,4.442651256490317,4.2626798770413155,4.23410650459726,5.198497031265826,5.429345628954441,3.4657359027997265,5.123963979403259,3.6888794541139363,3.9512437185814275,4.219507705176107,3.6888794541139363,4.343805421853684,4.060443010546419,3.4657359027997265,3.8918202981106265,5.872117789475416,3.4339872044851463,5.3612921657094255,3.6635616461296463,3.713572066704308,4.3694478524670215,3.6375861597263857,3.58351893845611,3.4339872044851463,3.4011973816621555,4.770684624465665,3.4011973816621555,4.499809670330265,3.044522437723423,4.836281906951478,4.248495242049359,3.1780538303479458,4.07753744390572,5.093750200806762,3.367295829986474,3.828641396489095,4.219507705176107,3.58351893845611,4.59511985013459,4.1588830833596715,4.204692619390966,3.8501476017100584,3.8066624897703196,3.6375861597263857,4.442651256490317,4.584967478670572,4.927253685157205,4.574710978503383,4.90527477843843,3.8712010109078907,3.6375861597263857,3.8501476017100584,4.5217885770490405,4.51085950651685,4.248495242049359,4.820281565605037,4.912654885736052,2.9444389791664403,4.8283137373023015,4.127134385045092,3.828641396489095,4.007333185232471,4.68213122712422,2.8903717578961645,4.700480365792417,3.7376696182833684,3.7612001156935624,5.0238805208462765,4.248495242049359,4.04305126783455,4.77912349311153,5.0369526024136295,5.0369526024136295,4.356708826689592,3.6635616461296463,5.4638318050256105,4.060443010546419,3.6888794541139363,4.406719247264253,3.9512437185814275,4.875197323201151,5.43372200355424,4.584967478670572,4.718498871295094,3.4965075614664802,4.634728988229636,3.5263605246161616,4.0943445622221,3.5553480614894135,4.430816798843313,5.351858133476067,4.418840607796598,5.4510384535657,4.276666119016055,4.634728988229636,3.9512437185814275,4.430816798843313,4.700480365792417,4.442651256490317,3.713572066704308,4.605170185988092,4.718498871295094,4.912654885736052,4.418840607796598,5.003946305945459,5.209486152841421,5.14166355650266,3.367295829986474,4.990432586778736,3.9889840465642745,3.7612001156935624,3.6888794541139363,4.04305126783455,3.9318256327243257,4.919980925828125,4.442651256490317,4.465908118654584,5.135798437050262,4.736198448394496,3.713572066704308,5.056245805348308,4.356708826689592,4.02535169073515,5.529429087511423,3.4965075614664802,4.442651256490317,3.970291913552122,5.337538079701318,4.04305126783455,2.995732273553991,3.58351893845611,4.477336814478207,4.060443010546419,3.7612001156935624,3.367295829986474,3.5263605246161616,4.454347296253507,3.5553480614894135,4.204692619390966,3.4339872044851463,4.574710978503383,3.4011973816621555,3.8918202981106265,4.770684624465665,4.174387269895637,4.248495242049359,4.553876891600541,3.9318256327243257,4.143134726391533,4.77912349311153,4.248495242049359,3.9889840465642745,5.081404364984463,4.59511985013459,4.499809670330265,3.8066624897703196,4.143134726391533,4.110873864173311,4.820281565605037,4.382026634673881,4.543294782270004,3.784189633918261,5.0238805208462765,5.225746673713202,5.598421958998375,4.418840607796598,3.9889840465642745,4.836281906951478,5.2574953720277815,5.8805329864007,3.7612001156935624,4.248495242049359,4.564348191467836,3.258096538021482,5.14166355650266,4.499809670330265,3.5553480614894135,4.007333185232471,4.983606621708336,5.545177444479562,3.8918202981106265,4.343805421853684,4.110873864173311,5.049856007249537,4.343805421853684,4.59511985013459,4.6443908991413725,4.219507705176107,5.0106352940962555,4.762173934797756,4.1588830833596715,3.970291913552122,4.859812404361672,4.727387818712341,5.187385805840755,3.6888794541139363,4.912654885736052,5.093750200806762,4.382026634673881,3.8066624897703196,4.543294782270004,5.0238805208462765,4.624972813284271,4.969813299576001,4.859812404361672,5.793013608384144,4.430816798843313,5.3471075307174685,4.143134726391533,5.723585101952381,3.5263605246161616,3.7612001156935624,4.465908118654584,4.624972813284271,3.7612001156935624,3.6888794541139363,4.477336814478207,6.0112671744041615,3.6375861597263857,3.912023005428146,3.8066624897703196,3.970291913552122,5.384495062789089,5.0369526024136295,3.367295829986474,4.330733340286331,4.2626798770413155,4.634728988229636,4.189654742026425,3.784189633918261,5.75890177387728,4.532599493153256,4.430816798843313,4.143134726391533,4.605170185988092,4.2626798770413155,4.3694478524670215,4.143134726391533,4.969813299576001,4.174387269895637,4.948759890378168,4.356708826689592,4.406719247264253,3.970291913552122,5.093750200806762,5.236441962829949,4.7535901911063645,4.836281906951478,4.31748811353631,4.189654742026425,4.51085950651685,4.770684624465665,5.564520407322694,3.58351893845611,4.406719247264253,2.70805020110221,4.219507705176107,4.624972813284271,4.653960350157523,4.976733742420574,4.007333185232471,4.1588830833596715,4.394449154672439,4.859812404361672,4.127134385045092,3.4965075614664802,4.574710978503383,5.030437921392435,4.060443010546419,5.062595033026967,4.6443908991413725,3.8712010109078907,4.248495242049359,3.713572066704308,3.4657359027997265,4.248495242049359,4.477336814478207,4.8283137373023015,4.852030263919617,4.74493212836325,4.248495242049359,4.553876891600541,5.680172609017068,4.8283137373023015,4.718498871295094,4.248495242049359,4.382026634673881,4.02535169073515,3.2188758248682006,2.302585092994046,4.304065093204169,6.298949246855942,5.214935757608986,2.833213344056216,4.890349128221754,4.718498871295094,3.5263605246161616,5.537334267018537,4.060443010546419,4.248495242049359,4.3694478524670215,2.772588722239781,3.332204510175204,4.532599493153256,3.6635616461296463,5.365976015021851,4.736198448394496,4.174387269895637,3.6888794541139363,4.007333185232471,4.912654885736052,4.912654885736052,4.127134385045092,2.995732273553991,4.718498871295094,3.4011973816621555,4.718498871295094,3.332204510175204,4.3694478524670215,5.204006687076795,3.4011973816621555,4.852030263919617,3.970291913552122,4.48863636973214,4.663439094112067,4.477336814478207,4.927253685157205,3.8712010109078907,4.330733340286331,4.983606621708336,3.912023005428146,3.295836866004329,4.1588830833596715,5.703782474656201,5.3706380281276624,3.1780538303479458,5.537334267018537,5.117993812416755,3.9318256327243257,4.02535169073515,5.472270673671475,4.912654885736052,4.61512051684126,4.2626798770413155,5.697093486505405,3.713572066704308,3.9512437185814275,4.5217885770490405,3.970291913552122,3.8066624897703196,4.418840607796598,4.465908118654584,4.762173934797756,4.23410650459726,3.9889840465642745,4.709530201312334,3.332204510175204,3.4339872044851463,3.8501476017100584,3.58351893845611,4.7535901911063645,4.31748811353631,4.02535169073515,3.4657359027997265,3.9318256327243257,4.7535901911063645,2.3978952727983707,3.713572066704308,4.204692619390966,4.219507705176107,3.784189633918261,3.58351893845611,4.564348191467836,4.330733340286331,4.060443010546419,3.6635616461296463,5.056245805348308,5.272999558563747,4.418840607796598,4.219507705176107,4.290459441148391,4.90527477843843,4.418840607796598,4.718498871295094,4.653960350157523,4.948759890378168,3.8918202981106265,4.219507705176107,5.135798437050262,4.804021044733257,3.9512437185814275,5.697093486505405,5.003946305945459,4.382026634673881,3.713572066704308,3.8066624897703196,3.8501476017100584,4.700480365792417,4.219507705176107,4.553876891600541,5.267858159063328,4.74493212836325,3.5553480614894135,4.0943445622221,4.553876891600541,3.1780538303479458,4.983606621708336,3.6888794541139363,4.189654742026425,4.51085950651685,2.995732273553991,4.276666119016055,4.653960350157523,4.23410650459726,5.19295685089021,4.990432586778736,3.4339872044851463,4.406719247264253,5.117993812416755,4.543294782270004,3.4339872044851463,4.820281565605037,5.2574953720277815,3.9889840465642745,4.574710978503383,4.804021044733257,3.8501476017100584,4.304065093204169,4.852030263919617,4.304065093204169,3.6109179126442243,4.2626798770413155,3.6635616461296463,5.937536205082426,3.4965075614664802,5.2832037287379885,4.2626798770413155,3.6635616461296463,4.127134385045092,3.6635616461296463,3.6888794541139363,3.6375861597263857,4.882801922586371,3.6635616461296463,4.007333185232471,3.4657359027997265,4.31748811353631,4.584967478670572,4.23410650459726,3.828641396489095,4.955827057601261,4.23410650459726,5.303304908059076,4.174387269895637,3.4339872044851463,4.8283137373023015,3.6375861597263857,4.653960350157523,3.912023005428146,4.48863636973214,4.3694478524670215,3.8712010109078907,2.833213344056216,4.59511985013459,4.77912349311153,3.7612001156935624,4.90527477843843,4.127134385045092,3.8501476017100584,4.2626798770413155],\"z\":[11.253955234248428,7.494563687769957,7.472244884833674,7.826858053356099,6.985086621918461,7.941804157314053,8.759916600117213,7.887231116540211,8.173770053153254,7.543781692052325,7.169380809114137,7.395795270713971,8.29645175271804,6.749040867823617,7.52378380598577,6.311444385858925,7.3674560152319755,7.149508589545504,7.7877554007552545,7.4004128587924045,7.011799929268738,7.445061184797548,7.4437338971514055,7.968856059639959,9.312325497408466,7.1130443840624835,6.632133521022722,6.506650650150935,6.399243642547877,6.690295544136225,7.474182104762846,6.6569835605504535,8.529185001388596,6.6934971352559,8.965831447914956,6.9110598129904375,6.562571204258897,8.168866163607964,7.81110665732229,8.065277779528966,7.768207666517555,6.854776354191251,6.718868216346018,7.082204261557526,7.204729049594601,6.593783986707386,6.585316116572351,7.128576134926702,6.950910549296065,7.682662153888476,8.222787230875806,7.174578816863813,6.8911888096735625,6.418837907265027,6.926262950537877,7.180115570136106,7.876737127834484,6.39806234681208,7.416546835435133,6.9940980992041535,6.575563866544399,6.889774590946188,6.9091443138264115,7.058328137461511,6.872987835288763,6.404749004268278,7.182982612166326,6.490419998303485,7.621244157199997,9.196774773912752,8.113492525763553,6.940783782995926,7.863282108506616,7.3655028587473295,7.0280684444921455,7.6499497335130995,7.085332264745334,6.558254538791405,8.115335568501695,6.571303042160927,6.464790775403018,7.895368965589599,6.463809184055691,7.6801664025186325,7.432590311121191,8.70332414988414,7.06951692181073,6.9219145615400475,8.11541328460481,7.482220269767765,6.4369673422476765,6.82543832049292,7.701132335950876,6.431540399799523,7.917547282845659,7.586600674831223,7.194729601037682,7.015730373647435,8.491836408313453,7.1297862115656185,6.753332895580138,6.769263030204804,6.865463454791294,6.682997926190526,7.906145678459555,7.047534612510416,6.939234566008755,7.885001871924596,6.906384339674138,7.867143813759015,6.730218258020336,6.660024422032584,6.921697631104843,6.305234599635373,8.382010149855951,8.010273263812737,7.934724759609325,7.334616515331031,7.435367220848186,7.042810509975002,6.795112758210396,7.23492725912033,8.289629887368429,6.718699095412067,6.758570581561217,6.970222907300612,6.351234695954017,6.856335660826602,8.826975250212882,7.868583334984023,6.528147958043258,7.911239704558553,7.0210750356778515,7.440299340765267,6.771408498297926,6.958343825092948,7.579729894309281,7.18954502572908,7.009770204388867,7.358340332174572,7.3827837624756185,6.3985450164839985,7.704820935960927,6.752258693830513,7.0700611857921905,7.229403900997191,7.68692876817782,8.031398334442155,8.008748065349305,6.840225622188538,7.632255767200078,6.411046212773516,6.970636177021338,9.357276518099342,6.818421206622862,6.529272842203859,7.380872805015112,6.65016261231351,8.905973207660795,6.327400925897314,6.284730997853663,7.113052528147638,6.283854271159006,8.115903354718549,6.673158893621945,6.537995095494749,8.841158975945264,6.918873244715984,6.467341519456512,6.827499215216475,6.782271417936915,6.812851016782114,7.102836747411359,6.825036493805135,8.192744778040643,8.966160858120457,7.564404436501881,7.334733968170588,6.668914163060628,7.306309897899894,6.893565072546089,7.089084677082725,6.828051680471256,8.26031962543717,6.979424565672496,7.4925262902571115,7.866572791402729,6.870458314237744,6.051430128275416,7.778944036943872,7.1379697721602025,6.880137391945465,7.462915441057162,7.091792030654675,7.432063601299488,6.929986327823459,7.185530944616075,6.202211578085641,7.363209831835215,6.81667016102037,7.11061448699364,6.670867709875668,7.327504547645857,6.7096579362724444,6.743364009514037,7.676450465777418,6.407077986267962,6.939321773198559,6.499260586313608,6.3987114002985646,6.56865358837482,6.9386723816168585,5.681264163225599,7.653807953637002,6.3833883846494786,6.298452800117238,6.704242771617076,6.773926699344786,6.428250657915328,7.23454507743516,7.032650739053453,7.35007933912113,8.695963449808064,7.729594662150939,7.345816642793289,8.871077244439467,8.196649026863438,7.040475092365302,8.17126599722425,6.67974992825102,6.758233867538541,6.65524728153801,7.841775903285653,6.612753146812557,6.515749190558129,6.645403014442647,6.415015122762531,6.901234061991872,7.708127735453272,8.105684859760789,6.658845101030894,6.928302726869797,6.351862551846838,6.519294769689797,7.216702144538598,7.342863328186895,6.433309799308898,6.351672492640208,7.238137580965946,7.524064610817457,7.8737119818711125,7.393392317183492,7.146850916510274,7.030096797837492,7.623016139787193,6.965401351674954,7.477445859614847,7.27655640271871,6.515719591185634,7.2673718919667785,7.122439147874555,7.283159725605137,7.498626071957096,7.024123981607583,6.356801864125368,7.103996177364902,7.147433378135437,7.062851226189096,7.201409482704207,8.388138619999735,6.793600652679757,7.237353946660178,7.663604921153483,6.492906279563631,8.195706114352095,7.735656229758609,7.156059625954847,6.449427224173901,6.527094972292893,6.823503726534546,8.227126945747532,8.330931080828272,7.495725260414088,6.657407526177046,7.467382495423683,6.775034985898857,7.233635907747459,7.4316550622354,6.661893102980819,7.019412926024924,7.6197634671830015,6.54293294933599,6.520635854990748,7.067149331132387,6.301116015363744,6.618445215404971,7.402128297855622,8.029895274358873,7.362746788107369,6.977309326313799,6.856588292406893,6.698884386954646,6.941518821134943,6.999495457544853,7.90408748775984,6.83944431779864,7.36150248570835,6.80101603553803,5.723650459293667,7.30607491892943,7.826095908379989,6.693831593776871,6.985031085389294,7.276563318324119,6.685736095329637,7.773346224518516,7.5916396922628975,6.985327244577021,6.924750046357999,6.624861723262153,6.50642660402637,7.053896828321335,6.855672199111911,7.407475465015805,7.0794202555875625,6.976954795783142,7.447727969752915,7.328279756761194,7.876809224383177,7.032738994075221,6.536488678453885,8.433902882657025,7.8773175472322325,7.313227053734746,7.221002753764198,7.365256072504094,7.039967051290641,5.957494027536828,7.438348235303808,6.023568651008515,6.728114126692287,8.127587652841866,6.763954190227071,7.338855644682132,7.375556484672673,7.883242790261331,6.994978300240205,6.923914020481024,8.04107490570398,7.488735499171278,7.156589968584206,6.407919050015748,7.8609833498631,6.609281855452135,7.961439934295112,7.770877274716226,7.856284714098846,7.101544167216986,6.520989248306457,7.121680471486267,6.8277375709961055,6.5153791354156905,8.087047303147697,6.3955954322030095,6.769492711981712,7.535195255760907,7.864969120264265,7.144470319606423,8.151148776464021,7.622703089500935,6.274253417348632,8.430248721279204,6.8702506924408615,6.546225713269575,6.226892337255411,6.8225676924206855,8.376138714077541,7.260248491657529,6.481301440435488,7.264744173633187,7.3533253245866055,8.193101597373525,6.48283208421685,6.018422883689063,6.616546996753797,7.211364832983292,5.928790952579924,6.956897762032364,6.84110252442736,8.695806213421232,7.144588695022355,7.902572492717126,7.232545257257799,6.566264470368445,6.459121675472594,6.183860189473411,8.227696139552007,6.433406222026163,7.205353028221294,7.013483726944571,7.802581283035999,7.398033237980444,6.355829844330721,5.899321845543751,8.078160958464125,6.3286686587005025,6.580333958961338,7.628206294069428,6.750387764017587,6.617991040326032,7.553202700664662,7.715168205670426,6.913120858480547,8.141422798643111,6.528206424753791,6.89985414708588,6.957611541333566,7.711186335546904,7.344848244770613,6.831640679513165,7.625141310661702,7.288736419398736,6.654745128061634,8.053842581674434,7.775632775640216,6.792725948397371,7.435113483382488,7.296453945912696,6.8773579252545485,8.039389621570026,7.060004151519799,6.275100946851013,7.3246481738226015,6.08440829275072,7.021744460399267,7.555387177088957,7.174976957856921,7.528310261099659,7.646984197329087,8.005273636192019,7.385596861065875,7.816872341508149,6.406978991069148,7.688583612181916,6.7922658609726465,6.9300841244652,6.984679282395341,6.5542609856927125,7.663515690998328,8.221035300483413,6.441058177144555,7.129850280760371,7.479615793333997,6.9512552844279885,6.19234203936802,7.297639635123279,7.296630194396398,7.677275364797242,7.630679684529584,7.008568471218721,6.647727283312172,7.311872812853191,6.702095492007746,7.8869231526671975,7.372004885545176,7.259256864146872,7.059815203273879,6.4976644888838795,7.516933721754878,7.651624090561262,7.603409314753263,6.965665632266971,7.72903178725261,7.569329229702976,6.831791740175098,7.08784935678574,6.97099295438666,7.579842241810434,6.704806434953446,6.513615793203887,7.2328631855243,6.962574848746244,7.532987578243441,6.431395492097425,6.839315825759616,7.575953814178117,7.96038994457645,7.288005137949238,8.19735425133861,7.613547177075161,6.757246293462842,6.986344623342368,8.039196099401456,7.3339115084475965,7.411205773215894,6.9501057048558685,6.3481944895342695,6.428089117465248,6.791502322157887,6.803094518438584,6.511685892514334,6.915703607164632,8.001519166458744,7.662035187544821,6.54363842689435,6.723543937669715,6.485550846869675,5.676925020486318,6.744318281129723,6.649204733036604,6.459732295584099,7.5157257621344895,7.147551403337889,6.022308930402963,6.641899927756463,7.843550554514272,7.656966107678013,6.384435257634458,7.712577993432672,6.408742936168336,6.766629406877568,7.181934091396172,7.278773859355933,7.107638391655096,7.256120795049728,6.335320173584455,6.459982698577723,7.303210454460983,6.7769857830927895,6.9205727826927514,7.839643731479347,6.59558923883879,6.741169266574241,7.91650485674164,7.644383316153618,6.658652688497831,7.013321773424877,6.490419998303485,5.775886058412575,7.668916185155464,7.4508350982774605,7.408833551293248,8.10069544697357,7.946507861544517,8.068030082042343,7.950745619900337,7.923286638140286,7.179597561714504,7.068274209815247,6.736017515727827,6.567066163812884,7.290511139663592,6.561299370951966,6.4873034285656495,7.173590436003909,7.113492210280828,7.146756431297139,7.384703488712166,6.886296681323568,7.1831648514317985,6.62020653097559,7.772272601231864,7.5453580366354,7.3919576276276855,7.005761820334205,8.999679832658012,6.215967174459823,6.545952926608586,6.396929655216146,7.373411973984176,7.0189119643469615,7.181934091396172,6.674384608512411,7.566528382450746,5.696254208235409,6.06580642047611,6.197502630519253,7.404133033112973,7.128752528637921,6.220769080535665,6.049827790404897,6.152732694704104,6.972746822489577,8.50918118080606,6.14536519568003,6.560309047742739,5.953373195985259,7.486103093313854,7.238934963295533,7.306866913118126,7.199469212547289,6.896552764474143,8.058051952218728,6.796365512756079,7.464945269906789,6.317814295200602,7.01259265782776,6.890680328191671,6.619899858173064,6.651610632528512,6.782021973516374,6.798620984904737,7.057097272731341,6.177342273229703,7.223733220588765,10.594570103213856,6.93579837000678,7.171080619929179,7.357862276513416,7.2106337983152,7.399263517702882,7.294377299288821,8.14566563433577,6.891036292375262,7.764402157928777,7.1915498047067254,5.695145281260538,6.738211734547398,6.952078337618801,7.1465359310757455,7.120880817152784,7.511415293040546,6.483474256616332,6.797281713937488,6.601148593666668,7.484346171123521,7.106933952842515,8.127909455886419,6.418462810428566,7.718023053610256,6.978204422922778,7.442826586212262,7.471613483699497,6.449790886414747,7.83075942537543,6.60905270324689,6.793297957004312,6.4364067457583465,7.502059546979103,7.317955823857119,7.775061627827598,6.58332623116324,7.754974564853873,7.743928633728395,6.846709318414996,8.208998159442066,8.413611093435822,8.53136233333043,6.544487219573761,7.069321254563527,6.830712234483825,6.348264483234866,7.919105250086756,6.523092298503236,6.957211887694729,7.415813075846797,5.8655327755013085,6.354491772518179,7.611604982675218,6.1629147240133015,6.6567522307888485,6.818038427312331,7.74730318590928,6.40276261040859,7.538276774433291,7.77781357291459,7.605093664160551,7.118307896116917,8.217246886437776,6.46678215711498,7.2052861919886055,6.4421738573469876,6.963606171722143,8.146662701187065,7.215151739543018,8.290372889129587,6.234018491942015,6.857892539809733,7.302590758900265,5.952411819844281,6.882970662159506,6.956402575803658,5.81571137119206,5.920398098674122,7.274077537572235,6.809591030194905,5.458776676484857,7.853993087224244,7.034634595526282,8.039508941575132,7.170296450877509,8.192005840278435,6.88781784259962,6.201239130683238,6.909024473214282,7.572220023179759,8.006767487671574,7.315451230241662,6.695267255355902,6.286742696181391,5.68262693258341,7.435001346315463,6.082743886707506,7.245255558414779,7.227451873789157,6.410914739782809,6.555712447369967,6.8476548947291755,5.85678964378138,8.210931583386559,6.58770151849905,7.249634301131203,6.636917213055248,7.089434963153261,7.9797360766493295,6.998217362097996,6.656534989127214,7.348703354335633,8.2189380876069,6.3786468723710446,7.336455026785429,6.517375808292013,7.079479212140812,6.587219381659278,7.543379273298417,6.70196036600254,6.619406317542652,6.932545447789356,7.378920733047961,7.7155739928250275,7.966246716160649,7.802863231588385,6.489554414321968,6.6622127327244485,7.263441734527154,7.914785762145856,6.54776054491873,7.738322531443156,6.967494803332995,6.852855489000475,7.0209143070410205,6.3964795539357615,7.706864794070598,7.022761128491225,7.200760657465263,7.095163874824649,6.666269533420063,6.999048309928502,10.70403741211812,6.280320929787532,6.572869782822179,6.371184405464288,6.992022895300704,8.095894389365505,7.753610670940375,6.855461484261003,7.386278760989393,6.415113325649775,7.70002355040989,6.785745824587275,6.551194614227575,6.97068312868461,6.666422298467717,6.807824440357088,8.225762769337907,7.239200616174941,7.496730126604398,7.173889351861321,7.65045423837133,7.552998152884997,6.349069058864647,7.411743581448863,7.515938076938256,6.456989411643809,6.688055790070482,6.7307674724187825,7.711884643967962,6.861805576878038,6.9560596108684605,7.110745101371203,6.569817969665846,6.885724370911315,6.798085491736212,8.390922235063499,5.8414552797812735,6.104503011733608,6.2643882485842175,6.462857835330253,7.0107269436060164,8.718665202103209,7.443804106257556,7.476761127694584,6.694029738646186,6.741275574785469,8.14414202904651,6.068286689709266,6.961987749755856,7.002865438783795,7.783165681301249,7.2971045552041165,7.04177905036834,6.675961925760257,6.967607838128994,7.914387503517288,7.4401114480984,6.9014454135860985,6.012491914300058,7.255796055544432,6.497347978334654,8.239392800596635,6.4445763086835,6.58037557967181,6.841209411138237,6.30980918136658,6.633213164581926,6.752293740354778,7.181249680723068,7.088634128908167,6.652850126044293,7.201692745596426,7.014625654228094,7.321816666315659,6.665556321132768,6.501064419948154,7.286780582381662,7.940192151975948,7.184341014166175,6.890110521808668,7.023215619268875,6.707913129070193,7.604211977042565,6.597009266931805,7.16371445923797,7.519225917888408,8.072517290105589,6.737559901986023,7.199289920749408,7.1778892807139885,6.7663184347416205,6.530031789055632,6.488064463609991,8.162670216045589,6.5658000381285,6.587797917978568,6.431974996958947,6.600047354321349,7.627554127539443,7.512093103520082,7.5094612854730665,6.933851783703411,7.542239973976666,7.039844382006876,6.918250016074778,6.945619303018016,9.235538222765896,8.797646700642568,7.055994233228931,6.890466688844595,6.386710955021814,6.636445119047319,6.287970078106996,6.500177941687698,7.724720580712637,6.969555679887584,6.819939942540059,8.034527333444103,6.763723232676042,6.742550392588373,7.167269331605997,7.000626122386744,6.91928851479581,6.89960213222575,6.766548793757163,7.328929680795481,7.254644498519316,7.496136211716589,8.21198781204284,8.557280836367838,6.9435566914455205,6.617175679416844,6.760287220618741,6.5052607543188055,7.04074652575415,7.320248962019425,7.6319455965067835,6.715347022037144,6.450896871486089,6.56183656455249,7.986134247619265,7.202400551985058,6.946456626519212,6.0630407455972035,7.374127321993823,6.310045542855303,7.587244614343444,6.356819213038024,7.2933237553758445,7.018822480489789,5.983432375410718,6.600917569890576,7.340459348477051,6.69145078789068,7.186568135964853,5.910606924147827,6.161270610831517,7.485261502995209,6.5063220319873425,6.372466183037772,6.322367733889242,7.2320609449898114,7.350092189866152,7.305121008833652,7.4423755513138445,7.61573195698808,6.958828549166138,6.516592404584732,6.880620436574819,6.467403651518229,7.328601489128604,6.485657613592114,6.563418195373777,7.518704931910683,7.67757179146855,6.704071158824147,7.260803654865171,7.380542530354457,6.47916994643317,6.637769040932695,6.301336101932016,7.822228359929267,6.646767067319571,5.898937989430242,6.596463340891223,7.209806124401014,6.7184453603705006,7.99520213218973,7.267476578065606,6.18493208931219,6.857787421604214,7.395187395954291,6.1848084671836725,6.954228475339207,7.127364592228089,6.309863731284314,7.740651358353913,6.827759236886412,8.651867430742618,6.73113742510486,8.106149552197078,6.736266831594512,6.9835489723662585,6.764577509305809,7.260304724743686,6.918299492857808,6.499200402451892,6.8427686574625834,6.131748092555038,5.8893210734392785,6.180989265398516,7.08058190121429,6.429057968967668,7.881782701906185,6.70254987279894,6.6989706432467875,7.691222938742128,6.037226320804645,7.052262466590724,7.427572358185583,7.137683760511223,6.72716821708184,8.820990217693817,7.101395866495808,6.347616854496022,7.226841537285894,5.770225431204915,7.373449636639774,7.479491601287774,5.784563371339637,6.180037357371996,6.277301167760615,8.016604986002726,7.058353943580143,6.380376741875078,6.661880315665835,7.2320247928761745,6.9619309154279065,6.612188873366803,6.47929274564127,7.741342432871859,7.713824812307198,8.881183314074189,6.729895752508072,7.324424057597627,6.437639643463934,7.476313818197086,7.311772672991101,7.314805796331314,7.044556320474282,6.17188847120203,6.647818066838915,7.717711687868648,6.496050746083953,5.964298879035213,6.054885256226418,6.39439310756415,7.390631944012902,6.134677051181064,6.687719393867342,7.02339379457603,6.81967787944687,7.534132116408228,7.142977587511544,6.618485279775064,6.717103118867857,7.648038876071995,7.326518244034276,6.559785194721083,7.364971243447073,6.234038107285137,6.789095609194309,7.443008114269093,6.364354809283968,6.890253003845995,7.854140591872849,6.358292771601229,6.975245689005592,7.862285473509961,6.742585781005748,7.954582924500485,6.858491502676181,8.023185352576407,6.706532208766916,7.072896766566239,7.153638317265837,6.2305798679318904,6.479139244274806,5.84450048159508,6.984679282395341,8.407902741450327,7.284793477350012,7.309700867507591,7.254135412741511,6.792265860972646,7.519453763930569,6.792669851506807,6.9384202652929305,7.145448469088846,6.987093122912967,7.459442576481153,7.004791241493731,6.831252132996021,8.080187879386058,6.027675929070554,7.213274813763556,7.074023670453844,8.56278395725042,6.290401791806313,7.287656394959027,6.757339283199166,7.904962183102404,5.746650374883377,7.795658881937399,6.727575427100043,7.603324523974459,7.249058683836842,7.989814654309178,7.3573329617086225,7.596899458212264,7.483683015038365,7.189288485847039,6.880116831678181,6.5024601564256095,6.78676209631286,6.9134888108298975,6.621112666105018,7.447512323761201,7.43277962214794,7.145172475411292,7.33945977029367,7.448019309392898,7.811305190205457,6.729561192451421,7.275650044659092,6.569186846877494,6.680892319236134,5.954281755980266,7.43855998506344,6.541347409127499,8.178877256226862,7.355998866445309,7.931008043401064,6.975526070700374,5.767570714403068,8.199576859581033,7.0353038099288,6.862653305069717,5.767226647212736,5.871723345495433,6.40418659316403,6.334876930813137,7.67305101328875,6.9719968810436015,7.440974288775877,7.410697913471,6.970833359194831,6.851618695836514,6.324269352631711,7.035823023024634,7.234068948784864,7.7535548746739895,7.863781975859922,7.091425925345387,7.61523426680226,6.662314992669317,7.239975632001093,6.374667004542158,7.55677814335483,6.102961198121657,7.203167397495829,6.473767231940735,5.9942107727760074,6.665823835354018,7.13931134565379,8.899976330900701,6.547373473112078,6.483688222474311,7.664327861392181,7.6968578856756675,7.1030917728535865,6.265149109915909,5.7175538787401186,7.7184899205194295,7.9865185392775535,6.25099788520506,7.460892986533744,6.489660754473831,6.435236489370733,6.6312900617355215,6.517213265531828,7.02648897373005,6.567080222875004,6.239924906405982,8.00571068528359,7.0447656130660885,6.407836624054821,7.981388163939233,6.461499425865447,6.645194995304136,6.8462734148384685,6.80086025323236,6.472284468787567,6.836699567016301,6.7522119632207875,7.024097276842117,7.312893667056457,7.0335682107776405,7.123833932574225,7.785375866112405,7.708397196129362,6.901918276781505,7.623333981206562,7.015011995713845,7.625326743452606,5.968886572094735,7.189801499815289,7.767674581380544,6.569888069839022,6.917101466981717,7.494708263135679,6.767906832865638,7.09718484723547,7.4239802997335635,7.4977118102428095,7.628765650289339,8.133798724949507,7.361191168037923,8.064375435416844,6.31362050741984,7.597451511865824,6.6092683773641365,6.641625935491769,7.734869382309582,7.509537985193698,6.684286674843982,6.7869313745672155,7.087523578988375,7.793603298080906,8.094805704112124,6.9411900550683745,6.967202737625557,7.123761419471479,6.553406199550885,6.515482764659955,6.728616651290672,6.7090848039668485,5.921256652064486,7.042522158078838,7.111846481470871,6.502580128832101,6.491588107540731,5.65062779985168,5.6338606003511575,7.531654198303087,6.5495076704830835,6.6611255745126075,7.090085169074703,7.159323008512906,8.217673327978565,7.507190501900052,7.374240224916247,7.930314114531487,6.804836224974296,8.59271059842128,8.058643712215618,7.088492247645854,6.061876411348347,7.528417784512986,6.528630206205813,6.803072311514464,6.588995250959495,6.402066439321299,7.021806917181424,6.3414169452858875,6.686160527657778,6.022478600637151,5.835629115549854,7.173988970628048,6.718433276143438,7.462490605387541,6.014594964496837,7.19486468749322,8.320555242379292,6.180430646620605,6.15846093779919,7.0025471426656845,6.6090661842420575,6.631619622697395,6.700054373848785,6.521342516779448,7.586636178360024,5.948191634874515,7.657845016753332,7.302873711036083,6.5059484711261995,6.594960505715282,6.007879088376076,6.328847083566265,7.659364745193834,8.263208916550349,8.20329581433342,6.557303786277275,7.653267179747945,8.012449037966114,6.627565072288652,7.25772881858561,6.513378467859393,7.042277430642797,6.966392043966782,6.666104011612187,6.908914606701984,6.483642376501489,6.45999834668313,7.234076164546974,7.065562124027093,6.888888413724063,7.116645735818236,7.653419005452329,7.202229234290873,7.372627012548272,6.995069943308846,6.8658597918081,6.536879985642264,7.24279076969235,7.598248942076519,6.949482463694109,6.660447100668629,7.642173953022541,6.386828813036717,7.494140962968628,6.783596964352348,7.354112779132593,7.711320663504336,6.690867121830435,8.370019449389407,6.268471088312343,7.757320566811742,7.757735253568871,7.880123841075997,7.10180775865179,6.687744315985722,7.516585630812605],\"type\":\"scatter3d\"},{\"marker\":{\"color\":\"green\",\"opacity\":0.4,\"size\":5},\"mode\":\"markers\",\"name\":\"Cluster 2\",\"x\":[1.0986122886681096,3.5263605246161616,1.3862943611198906,2.0794415416798357,3.091042453358316,1.6094379124341003,2.772588722239781,2.995732273553991,3.1354942159291497,3.2188758248682006,1.3862943611198906,0.0,3.258096538021482,2.302585092994046,3.58351893845611,0.0,0.6931471805599453,2.70805020110221,3.091042453358316,3.1354942159291497,2.3978952727983707,1.0986122886681096,3.4965075614664802,3.4011973816621555,2.8903717578961645,2.772588722239781,3.1354942159291497,3.367295829986474,3.1354942159291497,2.8903717578961645,3.4965075614664802,2.302585092994046,1.791759469228055,3.1780538303479458,3.367295829986474,0.0,2.995732273553991,2.302585092994046,0.0,2.302585092994046,3.784189633918261,3.1354942159291497,2.995732273553991,2.1972245773362196,2.833213344056216,1.791759469228055,2.1972245773362196,3.1354942159291497,1.0986122886681096,3.091042453358316,1.0986122886681096,1.3862943611198906,2.995732273553991,2.302585092994046,1.0986122886681096,2.833213344056216,2.70805020110221,0.6931471805599453,3.1780538303479458,2.3978952727983707,2.302585092994046,1.6094379124341003,3.1354942159291497,2.8903717578961645,2.4849066497880004,0.0,2.1972245773362196,2.4849066497880004,2.3978952727983707,3.7612001156935624,0.0,2.70805020110221,1.3862943611198906,1.6094379124341003,2.0794415416798357,3.367295829986474,2.0794415416798357,2.0794415416798357,2.772588722239781,2.772588722239781,3.367295829986474,0.0,2.302585092994046,1.3862943611198906,1.0986122886681096,1.3862943611198906,1.791759469228055,2.3978952727983707,3.1780538303479458,3.9512437185814275,1.0986122886681096,0.0,1.3862943611198906,3.1354942159291497,2.772588722239781,2.0794415416798357,1.3862943611198906,1.6094379124341003,1.0986122886681096,2.3978952727983707,1.3862943611198906,1.0986122886681096,1.0986122886681096,1.0986122886681096,1.6094379124341003,2.0794415416798357,3.295836866004329,1.3862943611198906,2.1972245773362196,2.4849066497880004,1.0986122886681096,1.6094379124341003,2.1972245773362196,2.302585092994046,3.091042453358316,1.0986122886681096,2.772588722239781,2.833213344056216,3.4339872044851463,1.0986122886681096,2.1972245773362196,1.791759469228055,0.6931471805599453,2.302585092994046,2.1972245773362196,2.0794415416798357,1.3862943611198906,0.0,1.3862943611198906,1.6094379124341003,1.6094379124341003,2.4849066497880004,2.302585092994046,0.6931471805599453,2.3978952727983707,2.833213344056216,1.6094379124341003,0.6931471805599453,2.4849066497880004,3.4657359027997265,2.70805020110221,2.70805020110221,2.5649493574615367,0.0,0.6931471805599453,1.3862943611198906,2.4849066497880004,1.0986122886681096,2.1972245773362196,3.4965075614664802,0.6931471805599453,0.6931471805599453,0.0,2.4849066497880004,1.6094379124341003,2.3978952727983707,2.833213344056216,3.4011973816621555,2.70805020110221,2.1972245773362196,2.833213344056216,3.295836866004329,2.0794415416798357,2.70805020110221,2.4849066497880004,2.3978952727983707,1.3862943611198906,3.4339872044851463,1.3862943611198906,1.6094379124341003,2.5649493574615367,2.9444389791664403,0.6931471805599453,2.4849066497880004,1.0986122886681096,2.8903717578961645,0.6931471805599453,3.1780538303479458,2.0794415416798357,1.6094379124341003,2.0794415416798357,0.6931471805599453,1.791759469228055,3.828641396489095,2.302585092994046,3.4657359027997265,3.4339872044851463,0.6931471805599453,0.6931471805599453,2.4849066497880004,0.0,1.791759469228055,2.70805020110221,2.833213344056216,3.295836866004329,2.0794415416798357,2.3978952727983707,0.6931471805599453,0.6931471805599453,2.8903717578961645,2.0794415416798357,1.3862943611198906,0.6931471805599453,0.6931471805599453,3.5263605246161616,1.0986122886681096,0.6931471805599453,1.791759469228055,2.5649493574615367,2.3978952727983707,2.772588722239781,2.4849066497880004,1.791759469228055,0.6931471805599453,2.5649493574615367,3.2188758248682006,3.1780538303479458,1.791759469228055,3.2188758248682006,2.833213344056216,2.302585092994046,2.833213344056216,2.302585092994046,1.0986122886681096,0.6931471805599453,1.0986122886681096,1.3862943611198906,3.295836866004329,1.791759469228055,1.3862943611198906,3.2188758248682006,1.791759469228055,2.833213344056216,1.0986122886681096,1.3862943611198906,1.0986122886681096,2.4849066497880004,1.0986122886681096,1.0986122886681096,0.0,2.5649493574615367,2.302585092994046,0.6931471805599453,1.791759469228055,3.1354942159291497,1.791759469228055,2.833213344056216,1.791759469228055,2.1972245773362196,0.6931471805599453,2.9444389791664403,2.0794415416798357,1.0986122886681096,3.1354942159291497,3.091042453358316,1.3862943611198906,1.0986122886681096,2.3978952727983707,0.6931471805599453,0.6931471805599453,3.091042453358316,1.0986122886681096,2.0794415416798357,1.791759469228055,2.0794415416798357,2.9444389791664403,3.4657359027997265,1.6094379124341003,2.995732273553991,1.3862943611198906,2.772588722239781,2.3978952727983707,2.302585092994046,2.9444389791664403,2.0794415416798357,1.0986122886681096,2.833213344056216,0.0,0.6931471805599453,3.1780538303479458,1.6094379124341003,2.302585092994046,1.3862943611198906,1.6094379124341003,1.0986122886681096,2.3978952727983707,2.0794415416798357,1.6094379124341003,2.833213344056216,1.791759469228055,1.3862943611198906,3.1354942159291497,1.3862943611198906,1.3862943611198906,2.3978952727983707,0.6931471805599453,1.0986122886681096,0.6931471805599453,0.6931471805599453,1.3862943611198906,2.1972245773362196,2.302585092994046,2.995732273553991,2.1972245773362196,2.3978952727983707,1.0986122886681096,0.6931471805599453,1.6094379124341003,2.3978952727983707,2.4849066497880004,1.3862943611198906,0.6931471805599453,3.295836866004329,2.1972245773362196,2.0794415416798357,0.6931471805599453,2.302585092994046,2.1972245773362196,2.772588722239781,1.3862943611198906,3.1780538303479458,2.4849066497880004,0.6931471805599453,2.0794415416798357,1.3862943611198906,2.1972245773362196,2.1972245773362196,2.1972245773362196,2.3978952727983707,2.8903717578961645,2.833213344056216,2.833213344056216,2.1972245773362196,2.3978952727983707,2.3978952727983707,1.0986122886681096,1.0986122886681096,1.6094379124341003,2.3978952727983707,0.6931471805599453,1.3862943611198906,2.3978952727983707,0.0,3.1780538303479458,2.0794415416798357,2.302585092994046,2.1972245773362196,0.0,0.0,2.9444389791664403,1.791759469228055,2.9444389791664403,2.0794415416798357,2.995732273553991,1.3862943611198906,2.8903717578961645,2.8903717578961645,2.4849066497880004,2.8903717578961645,2.995732273553991,1.0986122886681096,3.258096538021482,1.0986122886681096,2.302585092994046,1.791759469228055,1.3862943611198906,2.3978952727983707,2.0794415416798357,1.3862943611198906,1.3862943611198906,2.5649493574615367,1.791759469228055,2.9444389791664403,2.772588722239781,2.995732273553991,0.6931471805599453,2.772588722239781,0.6931471805599453,3.1780538303479458,1.6094379124341003,0.6931471805599453,1.6094379124341003,0.6931471805599453,2.1972245773362196,2.1972245773362196,2.3978952727983707,1.3862943611198906,3.258096538021482,3.258096538021482,2.0794415416798357,1.6094379124341003,0.6931471805599453,2.3978952727983707,0.6931471805599453,2.4849066497880004,2.772588722239781,2.3978952727983707,2.302585092994046,0.6931471805599453,2.3978952727983707,0.6931471805599453,2.1972245773362196,2.833213344056216,1.3862943611198906,1.6094379124341003,2.4849066497880004,2.302585092994046,1.6094379124341003,2.1972245773362196,1.0986122886681096,1.0986122886681096,0.6931471805599453,3.8712010109078907,1.3862943611198906,3.091042453358316,2.5649493574615367,2.3978952727983707,1.3862943611198906,1.3862943611198906,2.5649493574615367,2.302585092994046,2.0794415416798357,2.0794415416798357,2.4849066497880004,3.091042453358316,1.0986122886681096,1.3862943611198906,0.6931471805599453,1.6094379124341003,3.5263605246161616,3.4011973816621555,2.3978952727983707,2.302585092994046,2.772588722239781,2.5649493574615367,2.1972245773362196,2.4849066497880004,1.3862943611198906,2.302585092994046,1.6094379124341003,1.6094379124341003,2.772588722239781,2.302585092994046,2.995732273553991,2.302585092994046,3.258096538021482,1.3862943611198906,2.0794415416798357,2.3978952727983707,2.9444389791664403,2.9444389791664403,2.8903717578961645,2.302585092994046,3.4339872044851463,2.70805020110221,2.0794415416798357,3.258096538021482,2.70805020110221,1.0986122886681096,2.1972245773362196,1.6094379124341003,2.8903717578961645,2.302585092994046,0.6931471805599453,1.3862943611198906,0.6931471805599453,2.1972245773362196,2.9444389791664403,0.6931471805599453,0.6931471805599453,1.3862943611198906,0.6931471805599453,0.6931471805599453,2.3978952727983707,0.6931471805599453,3.4657359027997265,2.302585092994046,2.0794415416798357,1.6094379124341003,3.258096538021482,1.0986122886681096,0.0,2.5649493574615367,3.4657359027997265,1.6094379124341003,2.1972245773362196,2.1972245773362196,2.70805020110221,1.6094379124341003,2.302585092994046,0.6931471805599453,2.995732273553991,2.5649493574615367,0.6931471805599453,2.302585092994046,0.6931471805599453,2.995732273553991,2.772588722239781,0.6931471805599453,3.4965075614664802,1.0986122886681096,2.1972245773362196,2.772588722239781,2.4849066497880004,3.5263605246161616,2.5649493574615367,1.0986122886681096,2.9444389791664403,3.1354942159291497,2.1972245773362196,3.258096538021482,2.302585092994046,2.0794415416798357,2.5649493574615367,1.0986122886681096,2.0794415416798357,1.6094379124341003,2.772588722239781,2.4849066497880004,2.302585092994046,2.3978952727983707,1.6094379124341003,2.772588722239781,1.6094379124341003,2.9444389791664403,2.9444389791664403,2.302585092994046,2.1972245773362196,0.0,1.0986122886681096,3.713572066704308,3.4965075614664802,2.833213344056216,2.9444389791664403,2.5649493574615367,1.0986122886681096,3.6888794541139363,2.3978952727983707,2.0794415416798357,2.302585092994046,3.8501476017100584,0.6931471805599453,0.0,3.1780538303479458,3.1354942159291497,2.833213344056216,2.4849066497880004,2.8903717578961645,1.6094379124341003,1.6094379124341003,2.772588722239781,2.5649493574615367,2.1972245773362196,1.791759469228055,0.6931471805599453,0.6931471805599453,2.302585092994046,2.995732273553991,1.3862943611198906,0.0,2.833213344056216,1.6094379124341003,2.772588722239781,3.2188758248682006,2.8903717578961645,3.2188758248682006,1.0986122886681096,2.5649493574615367,2.1972245773362196,3.6109179126442243,1.0986122886681096,2.5649493574615367,2.1972245773362196,1.3862943611198906,1.3862943611198906,1.3862943611198906,3.6635616461296463,1.791759469228055,2.833213344056216,2.302585092994046,2.833213344056216,1.3862943611198906,2.0794415416798357,2.302585092994046,3.4011973816621555,2.8903717578961645,1.3862943611198906,1.3862943611198906,2.1972245773362196,2.1972245773362196,0.6931471805599453,2.3978952727983707,2.1972245773362196,2.772588722239781,3.1354942159291497,3.4657359027997265,1.0986122886681096,1.6094379124341003,1.3862943611198906,0.6931471805599453,3.2188758248682006,2.302585092994046,2.1972245773362196,2.833213344056216,2.302585092994046,1.0986122886681096,1.791759469228055,3.091042453358316,2.302585092994046,3.258096538021482,1.791759469228055,2.70805020110221,2.0794415416798357,2.4849066497880004,1.3862943611198906,0.6931471805599453,2.0794415416798357,1.6094379124341003,2.302585092994046,2.9444389791664403,2.1972245773362196,1.6094379124341003,1.0986122886681096,0.6931471805599453,2.5649493574615367,2.8903717578961645,1.0986122886681096,1.791759469228055,2.0794415416798357,0.6931471805599453,0.0,1.0986122886681096,2.995732273553991,2.0794415416798357,1.3862943611198906,2.1972245773362196,0.6931471805599453,1.0986122886681096,2.995732273553991,1.0986122886681096,2.3978952727983707,0.0,2.772588722239781,1.6094379124341003,1.6094379124341003,2.8903717578961645,2.772588722239781,0.0,2.8903717578961645,2.8903717578961645,3.1354942159291497,2.302585092994046,2.833213344056216,1.0986122886681096,1.0986122886681096,1.6094379124341003,3.8712010109078907,0.6931471805599453,2.1972245773362196,2.1972245773362196,0.0,2.995732273553991,2.302585092994046,2.9444389791664403,3.1780538303479458,2.70805020110221,2.8903717578961645,3.6635616461296463,2.4849066497880004,1.6094379124341003,1.3862943611198906,3.4339872044851463,2.3978952727983707,1.0986122886681096,2.3978952727983707,1.3862943611198906,3.4011973816621555,0.6931471805599453,2.4849066497880004,2.1972245773362196,2.70805020110221,1.0986122886681096,2.3978952727983707,0.6931471805599453,3.4657359027997265,2.1972245773362196,3.7612001156935624,3.1354942159291497,1.6094379124341003,2.5649493574615367,0.6931471805599453,0.6931471805599453,2.0794415416798357,1.6094379124341003,1.791759469228055,1.6094379124341003,2.5649493574615367,1.3862943611198906,1.791759469228055,2.1972245773362196,2.5649493574615367,3.091042453358316,1.3862943611198906,0.0,2.1972245773362196,1.3862943611198906,2.5649493574615367,2.8903717578961645,1.3862943611198906,2.3978952727983707,0.0,1.0986122886681096,2.4849066497880004,1.0986122886681096,1.0986122886681096,3.4011973816621555,2.5649493574615367,2.8903717578961645,2.0794415416798357,1.6094379124341003,1.0986122886681096,1.0986122886681096,2.3978952727983707,3.5263605246161616,1.791759469228055,1.791759469228055,2.772588722239781,2.772588722239781,0.6931471805599453,3.4657359027997265,1.791759469228055,2.0794415416798357,2.4849066497880004,3.367295829986474,3.295836866004329,1.6094379124341003,3.2188758248682006,2.772588722239781,2.5649493574615367,2.5649493574615367,1.0986122886681096,0.6931471805599453,2.302585092994046,1.3862943611198906,2.1972245773362196,2.3978952727983707,3.2188758248682006,0.6931471805599453,2.1972245773362196,2.772588722239781,2.8903717578961645,3.4011973816621555,1.3862943611198906,2.70805020110221,2.1972245773362196,0.0,2.5649493574615367,3.1780538303479458,2.1972245773362196,2.0794415416798357,0.0,1.6094379124341003,1.6094379124341003,0.6931471805599453,1.0986122886681096,3.4011973816621555,2.4849066497880004,2.833213344056216,2.1972245773362196,0.0,1.0986122886681096,1.0986122886681096,2.1972245773362196,0.6931471805599453,2.833213344056216,2.833213344056216,1.3862943611198906,0.0,0.6931471805599453,4.060443010546419,1.0986122886681096,2.8903717578961645,0.6931471805599453,0.6931471805599453,0.6931471805599453,0.6931471805599453,2.1972245773362196,2.0794415416798357,2.1972245773362196,0.0,1.0986122886681096,1.3862943611198906,3.1780538303479458,1.0986122886681096,2.0794415416798357,3.1354942159291497,1.791759469228055,2.9444389791664403,1.791759469228055,0.6931471805599453,2.4849066497880004,3.258096538021482,2.3978952727983707,2.8903717578961645,0.6931471805599453,0.6931471805599453,1.6094379124341003,0.6931471805599453,2.3978952727983707,2.833213344056216,2.0794415416798357,3.4339872044851463,2.833213344056216,1.3862943611198906,1.6094379124341003,3.1354942159291497,3.6375861597263857,2.833213344056216,1.3862943611198906,1.3862943611198906,1.0986122886681096,2.995732273553991,2.4849066497880004,1.3862943611198906,1.791759469228055,0.0,0.6931471805599453,2.995732273553991,2.1972245773362196,2.5649493574615367,3.295836866004329,3.1354942159291497,2.833213344056216,1.6094379124341003,2.5649493574615367,2.70805020110221,1.791759469228055,0.6931471805599453,1.6094379124341003,1.791759469228055,1.3862943611198906,3.4339872044851463,1.0986122886681096,1.3862943611198906,1.3862943611198906,1.6094379124341003,2.4849066497880004,2.1972245773362196,0.6931471805599453,1.791759469228055,3.091042453358316,3.6375861597263857,2.772588722239781,2.4849066497880004,1.6094379124341003,2.0794415416798357,1.791759469228055,3.295836866004329,3.1780538303479458,2.1972245773362196,1.0986122886681096,2.4849066497880004,2.0794415416798357,0.0,0.6931471805599453,2.3978952727983707,2.1972245773362196,2.8903717578961645,2.0794415416798357,2.5649493574615367,2.5649493574615367,2.772588722239781,2.70805020110221,2.302585092994046,1.6094379124341003,2.772588722239781,1.6094379124341003,0.6931471805599453,1.0986122886681096,1.6094379124341003,1.3862943611198906,3.8066624897703196,2.4849066497880004,2.302585092994046,1.0986122886681096,2.302585092994046,2.0794415416798357,1.0986122886681096,1.3862943611198906],\"y\":[5.209486152841421,4.882801922586371,5.58724865840025,4.454347296253507,4.653960350157523,4.477336814478207,4.61512051684126,5.056245805348308,4.663439094112067,6.5722825426940075,5.262690188904886,4.836281906951478,5.68697535633982,4.584967478670572,5.4638318050256105,6.042632833682381,5.298317366548036,4.59511985013459,5.176149732573829,5.2574953720277815,5.872117789475416,6.133398042996649,5.8289456176102075,5.1298987149230735,6.052089168924417,5.455321115357702,5.707110264748875,5.043425116919247,5.384495062789089,4.330733340286331,5.849324779946859,4.02535169073515,5.5053315359323625,4.127134385045092,5.652489180268651,4.8283137373023015,4.672828834461906,4.976733742420574,4.276666119016055,4.532599493153256,5.568344503761097,5.6131281063880705,6.171700597410915,5.2574953720277815,3.5263605246161616,4.663439094112067,5.1298987149230735,6.102558594613569,5.241747015059643,4.74493212836325,5.5134287461649825,4.574710978503383,5.332718793265369,4.890349128221754,4.663439094112067,4.51085950651685,4.532599493153256,6.148468295917647,5.68697535633982,5.442417710521793,4.174387269895637,3.828641396489095,4.804021044733257,4.844187086458591,3.8712010109078907,5.442417710521793,3.6375861597263857,5.087596335232384,4.532599493153256,5.111987788356544,3.970291913552122,6.459904454377535,6.26530121273771,5.84354441703136,4.663439094112067,5.062595033026967,5.594711379601839,4.48863636973214,5.814130531825066,5.342334251964811,4.897839799950911,3.6635616461296463,5.560681631015528,4.248495242049359,5.872117789475416,4.248495242049359,3.9889840465642745,4.941642422609304,5.616771097666572,5.407171771460119,4.6443908991413725,8.432941638968646,5.298317366548036,5.288267030694535,5.918893854273146,4.248495242049359,5.739792912179234,4.6443908991413725,4.442651256490317,2.1972245773362196,4.0943445622221,4.5217885770490405,4.04305126783455,5.752572638825633,6.042632833682381,5.752572638825633,6.289715570908998,5.043425116919247,4.762173934797756,4.1588830833596715,3.2188758248682006,3.9318256327243257,3.9318256327243257,6.580639137284949,4.418840607796598,4.867534450455582,4.795790545596741,4.762173934797756,5.375278407684165,3.1780538303479458,4.1588830833596715,4.382026634673881,5.198497031265826,5.476463551931511,4.564348191467836,5.0238805208462765,5.723585101952381,4.343805421853684,4.174387269895637,4.127134385045092,5.8289456176102075,6.003887067106539,4.499809670330265,5.393627546352361,4.700480365792417,6.129050210060545,4.882801922586371,3.713572066704308,4.605170185988092,5.153291594497779,4.919980925828125,6.0014148779611505,4.248495242049359,6.054439346269371,4.727387818712341,5.883322388488279,6.932447891572509,7.506042178518122,5.049856007249537,6.049733455231958,6.35088571671474,5.720311776607412,5.303304908059076,4.795790545596741,4.948759890378168,6.558197802812269,5.14166355650266,5.768320995793772,4.465908118654584,4.804021044733257,5.752572638825633,5.583496308781699,4.553876891600541,5.204006687076795,4.709530201312334,5.424950017481403,4.787491742782046,5.7745515455444085,3.4965075614664802,6.416732282512326,5.337538079701318,4.955827057601261,7.425357887027151,5.236441962829949,5.356586274672012,6.089044875446846,5.75890177387728,5.236441962829949,4.0943445622221,4.406719247264253,4.68213122712422,4.143134726391533,6.1675164908883415,4.90527477843843,5.117993812416755,5.153291594497779,5.030437921392435,5.049856007249537,6.171700597410915,5.720311776607412,5.062595033026967,4.624972813284271,5.123963979403259,5.278114659230518,6.095824562432225,5.948034989180646,4.605170185988092,5.713732805509369,5.564520407322694,6.0473721790462776,3.8918202981106265,5.093750200806762,4.7535901911063645,6.07993319509559,5.153291594497779,5.6937321388027,5.19295685089021,5.170483995038151,5.834810737062605,4.844187086458591,5.1647859739235145,4.477336814478207,5.117993812416755,5.5134287461649825,5.424950017481403,5.308267697401205,4.0943445622221,4.276666119016055,4.990432586778736,4.990432586778736,4.382026634673881,4.574710978503383,4.6913478822291435,6.154858094016418,5.278114659230518,3.6888794541139363,6.343880434126331,5.288267030694535,4.90527477843843,5.820082930352362,5.2832037287379885,5.2574953720277815,5.7745515455444085,3.7376696182833684,5.83773044716594,4.962844630259907,4.770684624465665,5.910796644040527,4.912654885736052,5.288267030694535,4.7535901911063645,3.4657359027997265,5.857933154483459,4.343805421853684,5.176149732573829,4.574710978503383,4.31748811353631,5.1647859739235145,4.709530201312334,4.343805421853684,4.941642422609304,3.5263605246161616,4.7535901911063645,5.820082930352362,5.111987788356544,5.187385805840755,4.189654742026425,4.962844630259907,4.709530201312334,4.770684624465665,3.828641396489095,5.081404364984463,3.044522437723423,5.030437921392435,6.440946540632921,5.0106352940962555,5.82600010738045,5.857933154483459,5.459585514144159,5.049856007249537,4.465908118654584,5.342334251964811,4.442651256490317,5.497168225293202,5.5254529391317835,4.969813299576001,6.192362489474872,5.351858133476067,7.009408932708637,5.652489180268651,5.313205979041787,4.718498871295094,5.783825182329737,5.204006687076795,6.111467339502679,6.380122536899765,5.3706380281276624,8.53934599605737,5.5254529391317835,4.382026634673881,5.049856007249537,5.081404364984463,3.5553480614894135,5.075173815233827,5.123963979403259,3.970291913552122,5.303304908059076,4.90527477843843,3.8712010109078907,4.204692619390966,5.351858133476067,7.244941546337007,7.094234845924755,5.793013608384144,5.484796933490655,5.583496308781699,5.560681631015528,6.363028103540465,4.477336814478207,4.6913478822291435,4.0943445622221,4.61512051684126,5.170483995038151,4.955827057601261,4.718498871295094,4.3694478524670215,4.718498871295094,4.969813299576001,5.420534999272286,5.056245805348308,5.638354669333745,4.624972813284271,5.472270673671475,4.61512051684126,4.127134385045092,7.401231264413015,4.969813299576001,4.770684624465665,4.820281565605037,5.560681631015528,5.093750200806762,4.51085950651685,6.263398262591624,5.231108616854587,5.659482215759621,5.860786223465865,4.477336814478207,5.209486152841421,4.68213122712422,6.3818160174060985,4.8283137373023015,5.332718793265369,5.407171771460119,5.41610040220442,4.976733742420574,5.948034989180646,4.02535169073515,3.9512437185814275,5.683579767338681,5.556828061699537,6.878326468291325,4.976733742420574,4.795790545596741,6.437751649736401,5.10594547390058,6.684611727667927,5.75890177387728,4.23410650459726,4.624972813284271,5.676753802268282,6.880384082186005,5.37989735354046,6.253828811575473,4.343805421853684,5.991464547107982,5.905361848054571,5.37989735354046,4.31748811353631,6.049733455231958,5.602118820879701,4.820281565605037,5.802118375377063,5.950642552587727,5.288267030694535,4.634728988229636,7.901377353792616,4.465908118654584,4.532599493153256,4.812184355372417,5.030437921392435,7.638679823876112,5.298317366548036,5.472270673671475,3.912023005428146,5.537334267018537,6.352629396319567,4.31748811353631,5.556828061699537,6.045005314036012,5.793013608384144,4.875197323201151,5.351858133476067,5.817111159963204,5.8522024797744745,6.030685260261263,5.2832037287379885,5.8805329864007,5.8289456176102075,5.472270673671475,5.631211781821365,6.218600119691729,4.997212273764115,5.313205979041787,5.272999558563747,4.110873864173311,4.0943445622221,5.4638318050256105,4.634728988229636,4.912654885736052,6.994849985833071,4.394449154672439,7.040536390215956,5.955837369464831,4.804021044733257,5.963579343618446,4.07753744390572,4.605170185988092,4.976733742420574,4.59511985013459,4.8283137373023015,4.304065093204169,6.212606095751519,4.02535169073515,4.574710978503383,5.87493073085203,4.248495242049359,5.111987788356544,8.644002038279933,3.7376696182833684,5.8998973535824915,5.14166355650266,5.746203190540153,5.293304824724492,7.02108396428914,5.209486152841421,6.159095388491933,4.912654885736052,6.333279628139691,5.049856007249537,4.718498871295094,6.236369590203704,5.978885764901122,7.315218389752975,6.118097198041348,5.332718793265369,5.6240175061873385,6.0014148779611505,6.089044875446846,4.983606621708336,4.6913478822291435,4.624972813284271,4.61512051684126,4.61512051684126,5.288267030694535,4.382026634673881,4.672828834461906,4.852030263919617,4.304065093204169,4.23410650459726,5.384495062789089,4.219507705176107,5.840641657373398,5.605802066295998,4.02535169073515,4.836281906951478,6.566672429803241,4.709530201312334,4.543294782270004,4.5217885770490405,5.3612921657094255,5.739792912179234,3.7612001156935624,4.709530201312334,5.117993812416755,4.605170185988092,5.860786223465865,4.718498871295094,5.616771097666572,5.3230099791384085,4.6443908991413725,5.262690188904886,7.77485576666552,5.420534999272286,6.253828811575473,6.313548046277095,4.890349128221754,3.6109179126442243,5.713732805509369,4.442651256490317,4.454347296253507,3.9318256327243257,5.680172609017068,5.799092654460526,5.948034989180646,5.393627546352361,5.659482215759621,4.584967478670572,4.59511985013459,5.241747015059643,5.697093486505405,6.240275845170769,4.23410650459726,5.365976015021851,5.081404364984463,5.733341276897746,5.187385805840755,5.187385805840755,5.099866427824199,6.511745329644728,5.43372200355424,5.54907608489522,5.560681631015528,6.555356891810665,6.802394763324311,3.9889840465642745,5.780743515792329,5.375278407684165,4.6443908991413725,6.018593214496234,3.784189633918261,6.049733455231958,5.049856007249537,5.123963979403259,6.184148890937483,4.3694478524670215,5.313205979041787,4.3694478524670215,5.117993812416755,4.3694478524670215,5.472270673671475,5.666426688112432,6.843749949006225,5.713732805509369,5.159055299214529,4.543294782270004,5.683579767338681,6.021023349349527,4.955827057601261,4.875197323201151,3.784189633918261,5.5909869805108565,4.897839799950911,5.572154032177765,5.71042701737487,4.897839799950911,4.290459441148391,5.123963979403259,4.9344739331306915,4.948759890378168,6.470799503782602,5.2574953720277815,6.304448802421981,4.997212273764115,6.135564891081739,4.867534450455582,4.465908118654584,4.31748811353631,5.017279836814924,5.521460917862246,5.5909869805108565,5.049856007249537,4.7535901911063645,4.59511985013459,5.214935757608986,3.58351893845611,4.584967478670572,5.602118820879701,4.948759890378168,6.315358001522335,6.2285110035911835,2.302585092994046,5.389071729816501,5.3612921657094255,4.941642422609304,5.209486152841421,5.4638318050256105,5.493061443340548,7.037027614686276,4.804021044733257,4.174387269895637,4.634728988229636,4.867534450455582,3.8918202981106265,5.652489180268651,4.770684624465665,4.499809670330265,5.82600010738045,4.770684624465665,5.41610040220442,4.875197323201151,6.163314804034641,4.59511985013459,4.454347296253507,4.442651256490317,5.389071729816501,5.69035945432406,4.90527477843843,5.19295685089021,4.718498871295094,4.820281565605037,4.912654885736052,6.4967749901858625,5.68697535633982,5.602118820879701,5.556828061699537,4.897839799950911,5.117993812416755,4.77912349311153,4.382026634673881,5.093750200806762,5.768320995793772,5.768320995793772,3.828641396489095,4.532599493153256,4.553876891600541,4.700480365792417,4.204692619390966,6.4967749901858625,4.672828834461906,4.77912349311153,4.836281906951478,4.6913478822291435,5.802118375377063,5.231108616854587,5.153291594497779,5.91350300563827,5.921578419643816,4.890349128221754,5.645446897643238,5.1647859739235145,1.3862943611198906,5.313205979041787,5.4680601411351315,5.8888779583328805,4.584967478670572,4.564348191467836,5.673323267171493,5.214935757608986,5.181783550292085,3.828641396489095,6.889591308354466,6.133398042996649,4.844187086458591,5.37989735354046,4.143134726391533,5.153291594497779,5.6240175061873385,5.19295685089021,5.030437921392435,5.568344503761097,4.304065093204169,5.342334251964811,5.53338948872752,4.74493212836325,5.099866427824199,5.627621113690637,6.373319789577012,4.143134726391533,5.733341276897746,4.976733742420574,5.602118820879701,5.998936561946683,6.104793232414985,6.437751649736401,5.298317366548036,5.308267697401205,5.420534999272286,6.493753839851687,5.493061443340548,6.1092475827643655,6.561030665896573,5.407171771460119,5.0689042022202315,5.8111409929767,5.25227342804663,4.543294782270004,5.771441123130016,5.655991810819852,5.10594547390058,6.1092475827643655,5.783825182329737,4.465908118654584,5.241747015059643,3.8712010109078907,5.111987788356544,5.58724865840025,5.937536205082426,4.927253685157205,5.634789603169249,5.075173815233827,5.318119993844216,4.605170185988092,4.836281906951478,6.566672429803241,5.342334251964811,6.306275286948016,6.511745329644728,4.356708826689592,6.80128303447162,5.488937726156687,5.641907070938114,5.521460917862246,4.110873864173311,4.007333185232471,3.367295829986474,4.499809670330265,5.003946305945459,4.795790545596741,4.867534450455582,4.543294782270004,5.135798437050262,5.53338948872752,5.459585514144159,4.59511985013459,5.765191102784844,6.248042874508429,5.6937321388027,5.1647859739235145,4.574710978503383,4.1588830833596715,5.278114659230518,5.356586274672012,3.7612001156935624,6.037870919922137,4.852030263919617,4.90527477843843,3.332204510175204,6.171700597410915,3.8918202981106265,5.438079308923196,4.465908118654584,4.304065093204169,4.442651256490317,5.472270673671475,5.356586274672012,5.616771097666572,6.159095388491933,5.342334251964811,6.295266001439646,4.663439094112067,6.340359303727752,5.993961427306569,4.962844630259907,4.634728988229636,4.912654885736052,4.204692619390966,4.882801922586371,6.161207321695077,4.68213122712422,5.303304908059076,6.625392368007956,6.0112671744041615,6.2166061010848646,5.375278407684165,4.276666119016055,6.021023349349527,6.150602768446279,6.037870919922137,4.700480365792417,3.367295829986474,5.365976015021851,4.0943445622221,5.293304824724492,4.418840607796598,4.204692619390966,5.598421958998375,5.332718793265369,4.770684624465665,5.605802066295998,5.796057750765372,4.90527477843843,5.627621113690637,5.823045895483019,4.61512051684126,5.375278407684165,4.48863636973214,4.418840607796598,4.343805421853684,4.700480365792417,5.905361848054571,6.871091294610546,4.418840607796598,4.304065093204169,5.537334267018537,5.978885764901122,4.48863636973214,5.030437921392435,5.111987788356544,6.021023349349527,6.089044875446846,5.308267697401205,5.365976015021851,5.602118820879701,6.329720905522696,6.3578422665081,5.746203190540153,4.3694478524670215,5.755742213586912,4.820281565605037,5.062595033026967,5.4510384535657,5.560681631015528,4.5217885770490405,5.0689042022202315,5.429345628954441,6.559615237493242,4.3694478524670215,5.720311776607412,4.77912349311153,4.875197323201151,5.659482215759621,5.54907608489522,4.962844630259907,4.6443908991413725,5.948034989180646,5.5053315359323625,5.616771097666572,5.262690188904886,5.111987788356544,5.389071729816501,6.53813982376767,4.584967478670572,3.8712010109078907,4.919980925828125,5.267858159063328,4.532599493153256,6.60934924316738,6.023447592961033,4.663439094112067,5.739792912179234,5.25227342804663,6.013715156042802,4.127134385045092,6.747586526829315,4.955827057601261,5.918893854273146,5.3981627015177525,8.9680140012452,4.007333185232471,5.298317366548036,5.407171771460119,5.916202062607435,5.634789603169249,4.983606621708336,4.770684624465665,6.546785410760524,3.4657359027997265,3.784189633918261,4.2626798770413155,6.186208623900494,5.521460917862246,5.799092654460526,5.6937321388027,6.159095388491933,4.852030263919617,5.8888779583328805,4.927253685157205,6.154858094016418,4.962844630259907,5.429345628954441,4.499809670330265,5.365976015021851,4.6913478822291435,6.068425588244111,6.09807428216624,7.154615356913663,5.8998973535824915,5.075173815233827,3.784189633918261,5.402677381872279,4.948759890378168,4.394449154672439,5.247024072160486,4.51085950651685,4.787491742782046,4.276666119016055,5.075173815233827,4.90527477843843,4.74493212836325,5.60947179518496,5.605802066295998,5.493061443340548,5.10594547390058,4.465908118654584,4.127134385045092,4.653960350157523,5.170483995038151,5.117993812416755,6.6293632534374485],\"z\":[8.368925174747135,8.733701981297274,8.56163678004062,7.180907299649593,7.910520910634419,7.520944331624911,7.930803150780257,8.012889586306857,8.136313373066384,11.735393027855736,8.202509843461513,7.528498419486568,8.981865132439246,8.22988438262624,8.777778952206313,9.50128237507538,8.507629605767502,7.97516925547983,8.518484357502437,8.310978042729836,9.109029423519523,9.894701568567964,8.790742363252102,8.278821782571185,8.906093863622669,8.82723638014411,9.489542087633343,8.096400209353131,8.630043190742814,7.8184222269860015,8.421281230578023,7.169857970780942,8.597653657970227,8.356747405587967,7.825580832414862,7.629436465014086,7.490400973937009,8.408877201532766,7.183612715167257,7.567593835498341,9.441676670894656,8.625033629522884,9.503102518971122,8.214270231095687,9.391991704219832,7.666226609492505,8.238203893748778,9.148707492038316,8.324988557507531,7.935769837637909,8.89321301083995,7.757542894498013,8.245966975595675,8.01436219197595,7.73726297143202,8.200354155974704,7.20073081629489,9.524469857917655,8.798074188898816,8.407273409191232,7.1482513998271635,7.206355036031724,8.222505302105255,8.30700781907883,7.4049970586737315,8.256031004164345,8.49349048870337,8.244898785891763,8.005383750527514,9.777326645314199,6.761352837213469,9.531593091360708,9.416477734313304,9.045179131116987,7.733959364615189,7.960002460651312,8.505320994961897,7.758692224146705,8.83481603198626,9.18374174409217,8.388707334356674,6.744706797531768,8.45741346257719,6.960812516706486,8.662631168498327,6.587646428909592,6.9396511539657,8.2894641427604,9.846753695617958,9.965536571182271,8.342127645985029,10.425868060754532,8.316759801128319,9.972565287088774,8.969300125921881,7.549356501658852,8.852325959921869,7.754447241564618,7.708370253328926,8.85052335403181,6.849426769082011,7.296901285267718,6.927273552128017,8.629167388389371,8.299870167916959,7.687506670317465,8.30346022135619,7.337438090181039,9.77880489413093,7.979616254055095,7.416558859796489,7.817879034084851,7.197577559553778,9.716440246960428,10.646780168946005,7.678650228164007,7.316727563085719,7.63334544803145,8.335244365149629,7.519692404116539,6.970795803683085,7.236188143419333,8.46761631787212,8.298673931566155,7.527056760684021,6.116421786512366,9.322857120608939,7.123173063265281,8.842909215405916,6.882868147474188,9.192158071241616,8.640633085723934,7.4162822628986245,8.478855608188903,8.151125703889235,8.892707553816384,7.869929096421559,6.883831370862763,6.685211547739895,8.082877889943946,7.515840091091689,8.672119570311168,7.02152136861392,8.39776079631407,6.593414328773672,9.443746284664895,10.251972348590337,10.982353322333951,9.095133764476557,8.701416272499749,10.271023699486712,8.767965917447414,9.413033021909968,7.73882793403321,7.6499973391858,8.202868673351237,8.530294986827844,8.21828028862164,7.424797539358498,7.271599462399201,7.943793338250078,8.652854564021988,8.283691175973804,7.439729682398054,7.4948639363112814,8.132189317204716,9.191984936991869,8.681454302434094,8.774133542253146,7.940217081327947,7.214210036757201,7.595035281264035,8.916649616826117,8.25199250811344,8.416818006100614,8.075797232617925,8.584333948798262,7.904748193336201,7.645325960844005,7.601832027360015,7.2846768692730555,6.655363127308804,9.29160233605445,9.28149570365981,8.036489318202769,8.199824121839633,8.331569388203366,7.832418860516229,10.244166642215127,8.720693878671442,8.200376120238847,8.245618036642021,8.134191872452362,8.17198652044002,7.998721746041357,9.174461349151194,6.989067949142608,8.64926827413607,7.836993824962504,9.101564029017187,7.623578405880983,7.816078353206984,7.4914000447169204,6.998189956453345,8.285483051435902,8.677793882270105,8.145923691744827,6.406978991069148,7.646506601347098,8.812596379192264,7.815993677665464,7.592325784791223,6.54827640771067,8.547658378883066,7.032518341914804,7.384895879352644,8.96102736808007,7.617159593311352,7.660241549534091,7.87293521773988,7.426025125637361,7.516074152465826,7.878598588006556,8.758505094148523,8.22239787975808,8.045729296501372,11.082767276771584,7.725824396937778,7.744595794291895,8.752905424886302,7.967709895959368,6.597009266931805,8.049433442786347,7.2023633115046515,7.67895087223838,8.55458916381921,8.068261971187837,9.753905752795765,7.936485014799888,10.165011464005927,6.816735880594968,7.809456093748633,10.522849593441716,7.466605059322925,8.301114624224146,6.450470422144176,7.69802463305743,6.540640312882445,9.000917263426343,7.1284157500025405,7.700910677173299,8.068885298365506,7.927302715053892,8.764717111455825,8.077375740386112,9.75036667561313,7.083496902081326,7.891884082485147,7.54158229904591,7.517439325540823,8.539729334154528,7.794954939211736,8.16527264169811,6.934806084458451,9.111065744122175,7.922717806819661,7.834898904574059,8.862360374336811,8.330612979409075,7.746793407219949,7.240427447338227,8.269452085493503,7.964058356660503,7.7668786557999,9.757759800051202,7.998533628991687,8.645185270331435,9.655756055028828,9.013796150895738,8.735357969180969,8.722811264760628,9.255872854706382,7.272273384756895,6.926998926548841,8.400555999030642,10.829586228889369,8.313339881248881,11.084689916963537,8.040823743271407,7.216180712571818,8.645436878735076,7.978019532134758,7.518292292095945,7.930619790211972,7.916234961051039,7.025413862450224,8.185079841032296,8.453467140135627,6.890995617166797,6.841668893854277,8.340933226000878,11.673177181281428,8.454042506787907,7.391372077147292,8.465798839290947,8.44571437538519,8.452283401366893,9.337018836838048,7.637441696132993,7.490373052597007,7.517683880791149,7.603887998382448,8.117300528356548,7.859324347661552,7.552263533935522,7.965788599152331,9.447069618390275,7.870635660430322,8.346926679702795,8.224254661298708,8.440258149942116,7.747445704647495,8.264685193972111,8.491450677872692,6.954218929392177,10.849886450287096,8.285669625656425,7.763671607732549,7.334166151605764,8.520356183877372,7.845106670027843,7.387653544460817,9.133731428846275,8.07522176285542,8.445443666706893,8.163003727539861,7.868621591848266,8.307084318372484,7.866158692081993,8.682924555516289,7.569540783099068,6.965137001220243,8.358113048391361,8.407974130025062,7.127557253441968,7.72157465089916,7.765857419506838,7.446520919735376,6.947533528990549,6.811354504695783,8.027280689230453,7.63489317390932,7.7766356942591806,7.81264931452068,8.173084672465158,8.683832420808084,7.607465873142059,7.182207724562219,7.651162970792683,8.374061578071412,9.048976069757353,7.9817025380127955,8.400221076874432,6.905011518311074,7.855191902519445,8.29618236422828,7.775712542385502,7.713681886891689,8.532233516538977,7.949387961352689,6.757757630038034,6.959920692962816,7.379095514571502,7.278035253354833,7.462559509920338,9.405713880264752,9.71537928498044,7.489613293002015,7.934610164077709,6.8669437010742955,12.5432839661044,7.257207199581212,7.5748407852142225,7.5669474581621285,7.836342103110113,9.131535231533652,7.46014502182582,10.266570769562204,7.1206707008607255,8.636196815185112,7.640099133944896,7.132305839993802,7.843993725665985,8.099596795897188,7.3446609129246205,8.501478357695712,7.961997619914306,7.888844498199721,7.379713247262653,7.055571653676355,7.60392787834377,7.902298809906396,9.168153905320404,8.710568430543226,8.269572504294867,7.245184200691345,8.519446650469105,7.394474668204541,7.813741097146052,9.275730093240115,7.186076171996967,8.990128768299758,8.375800119472242,7.708819205258206,8.978602495018041,7.211364832983292,9.574351341358595,7.99111517232888,6.260307777673182,7.304206550922399,7.121938808924836,9.31827148082645,7.220651779074644,7.260023527685966,7.941519665325918,6.933851783703411,8.161118067549474,11.876359931772127,7.137818831761513,9.004302186164907,8.682919471860497,8.860169942031078,7.305725705328041,8.751089919533372,7.141070918737701,7.55790100839738,6.809083455178767,8.825230679525026,7.415975511662447,6.505993305798354,7.8585131358985345,8.368602691764597,9.89925058927075,8.9491353353444,8.559250262914823,7.661992855221969,10.906600543518254,9.184418278884316,7.7922828608243835,8.433381055030935,7.740633966671485,7.2608879564964575,8.19155445989142,7.923551016427314,7.347802151813069,7.6963535385105635,9.352662512506273,7.236332143304382,7.160612960279738,8.792008845361094,7.0865121565162825,8.578376715841037,8.465202812016113,6.869523676497577,7.568931801112307,9.83317291504409,7.393293863521244,7.69981976221305,8.471814999842545,9.694394208164745,8.938207449152076,6.769779740037806,7.416041681653177,8.658326367134135,7.253696825551129,8.808288432375653,9.257795359479534,7.8272688120491205,8.98019989919854,8.448764446494256,8.476558679320053,11.014833423928879,7.581265918452825,7.925699664582792,9.029801225744318,7.790245143766921,7.433229092253918,8.692273594221074,7.337281906274171,7.6891605590501255,6.705357537478585,7.278207873697534,7.024230793538578,8.08268333891615,7.257890888001,7.236605685971544,8.903219925879805,9.3107249280559,8.187385497313695,7.60230148045579,9.496826729846124,7.032235836086242,9.248207284539456,6.813697314828437,9.599623251229634,8.328562171758088,6.717707955157117,7.7959674724834,8.293106695669628,7.605113580313547,7.366400899561026,8.174057603899483,8.50832195812781,8.477655788121927,6.6323837861074395,8.334836434002748,7.845361219115093,7.48030421490088,8.821372434155471,7.373028989779162,9.249632236444302,7.962499271193586,8.097520633770152,9.43481583590086,7.885378147031288,8.142284446073054,7.1964468417270915,8.004398964555403,8.776537515836264,7.341574580586829,8.121254561972354,8.526472009726604,8.552552613215992,8.479163129156776,6.882478495797344,7.810547311984927,7.877920371424875,7.768639003584553,10.937627451213288,7.869302319258532,8.503743143691834,7.9056481174197435,8.344597781932356,8.617849057545314,7.705091289043697,7.573700826991937,10.423592390918046,8.219533507739182,7.998217781509793,9.704339419609372,7.272294220477656,8.06033794212576,6.726089507114236,8.246339392612617,6.20310215823599,7.236972691462756,8.54242419563319,7.357996155136706,6.875696855288249,7.117351477910972,7.332428066198071,7.822793226449505,7.414801770816047,8.393274873346142,8.343042164747578,8.134315065980752,7.951090911604787,7.280890014259552,7.93686385141862,8.036240236488123,9.4250242408686,6.423879880082695,8.120799810480259,10.522223638082183,6.560167492904158,7.319705976779256,11.302523395126636,9.084482320962824,7.724941441452005,7.051526564493091,7.328351991405618,7.712323075642278,7.265877175579781,7.419961948665055,8.74652078208272,7.53967578152618,9.58809438311691,7.793974357128903,8.242885284769901,8.046562165398301,8.626327377813633,8.239751836694179,7.5087707231305965,7.257933162659462,8.296032672592768,8.841077965865253,8.552853728502956,6.986215196242001,7.530732109384843,9.956426242517606,8.221425182381026,7.8666724563751735,8.189857885621135,7.871276864694926,8.60300384782935,7.265597541339543,7.359983100544423,7.718681050744145,7.192595818099262,8.587023312312066,8.043008031745238,8.254586097468055,10.189711061801596,6.789703457206,8.806380630235296,7.615051882646502,7.468467608353335,8.164376509090179,6.799791377454196,7.349012151188359,6.895692819154136,7.677122485453491,8.021981696860243,8.318576385278623,7.66290495518365,10.454074128115597,7.554465773768493,6.683798897410901,8.20019764662707,6.426148593885366,12.034533746376653,8.155861708321998,7.182108921222586,7.535029715391374,6.530017199354501,7.378083855426812,9.150534102717932,9.474890706788237,6.999933285923126,7.236922326134238,8.332221726715552,9.028757342403852,8.226680449731173,8.322316345810338,6.702598982682314,8.116330476031974,8.611495590853199,8.392559241748096,7.966968171867508,8.241576702840911,9.062628915777827,6.8401400295665695,8.317985869145499,9.004046563069934,8.042696282491956,11.107278740370788,8.02742104629252,7.1403421019236415,8.532584140771885,8.59402459452009,9.549380024249162,7.817641545983298,8.201503885750249,8.842767691394254,8.258261827796161,7.490763880431157,8.46206307213662,8.887503549130026,7.174540525720933,8.809662785376391,7.9374639778918485,8.627230752625026,7.4364168915956546,9.271503201873838,7.732325380902501,7.343827183683202,7.4516945441039795,7.109642506895798,7.092149685937022,7.434836068766861,8.781110096067739,7.381346216137902,8.116885759599102,7.0098875895885335,8.062111277564622,9.716877814621636,9.22990473559571,7.942127668587332,8.871311670381246,6.750773929921596,6.697898071993661,6.266327302097504,7.156613359576336,8.230915465741086,8.0402632304197,7.320566670286484,8.888565005329367,7.167338757569021,8.434945721706782,7.914756537547509,7.560908247315509,8.377126202519118,7.1602789758030285,7.643041985736175,7.675996017275306,7.52456122628536,7.56644040598698,8.606141358283566,7.3939090399424785,7.38728216770102,8.291689356823657,9.070533328583988,7.149610666818088,6.952135734662869,8.641352301085709,8.037879154522797,8.423572383818774,7.277309922347602,7.626121762674929,7.623128618300249,8.250296269962053,6.862151034377116,7.391865195080271,9.28882155340966,6.696565001785386,7.8096103157799615,8.495609939749013,9.275141671084599,6.893220154004312,8.165940662434437,8.234193472948663,8.116211019915529,7.814088599978061,7.647848066418356,7.748554928800743,7.581576918422193,8.070671686317706,7.553333799033199,8.063163693649658,6.821249228838842,8.228350445643704,9.068529081120177,7.258926103006179,6.265757382440746,7.536955763241639,9.063267419175418,7.835547613113086,8.747234498421118,6.5537339539375346,6.826621142583565,8.801609436855593,9.421758650158734,7.8926612110344125,7.056623459516872,7.160123596171432,8.407864814197026,8.47690438805764,8.319210435760528,9.917223283969056,7.896336904550999,10.36831154057086,7.8765815333589115,10.370606399796605,6.9396511539657,7.138120689779327,8.838467667762448,8.349382638885205,7.591038974917671,8.524816063361785,9.756022391409203,7.77267692412289,7.8327520034852345,12.178453679089982,7.451473946050154,7.548245077314868,7.5347466312681,7.136156981955326,7.646506601347098,8.177479306325386,8.71868645756525,11.419311026583387,7.520245396524275,6.977010782644906,8.196850176724896,7.777373602657861,7.577352319081822,6.804847308929716,8.373895405306746,8.195245363043425,9.309827271674928,7.299946004359693,8.275972223773232,7.947653827269738,8.537773947264405,8.290347796726813,8.425110796704255,6.879952334320048,7.6246189861593985,7.503906860215884,7.971306723565063,8.28045768658256,8.490586347854247,7.878511468609366,8.006520889229225,7.396408910722918,9.922077680345927,7.236108934642959,9.702853134193733,7.814128999448025,8.068568984886818,8.655294625475447,8.467782334657008,7.838201349644471,7.5090722177237925,9.259653256646303,8.640647227620185,8.593605934116098,8.143250005910986,7.964506839388399,8.575363981519251,9.481208376934894,7.539053651215015,7.934638814191774,7.750786909079374,7.494747183701588,7.480574939429047,8.631644460675744,8.14835890712986,7.72937482685066,8.293794607584,7.584036017432181,8.025166423362391,8.596542120019182,8.966832110426772,6.597363959103647,7.479796408781624,7.599130891241214,10.62114610975201,10.199139282731217,8.548044362073345,7.650549399431497,9.261729061813442,7.547158797032136,6.511403517890506,6.577096113675216,8.344053353337122,7.994126281227893,8.366886447525236,10.976978253283772,7.755218839925959,7.1681483711962475,7.872291264684285,8.40956566358259,8.339116213637862,7.644727939082112,8.822497574824574,7.780649872736044,7.619562277217285,7.868158585474613,7.876262678803233,9.11264595212913,6.8158044502342285,7.9005625087532705,12.467121814869783,8.99392041654725,8.640263557804902,7.510545492301356,9.040659385480165,7.968925272174377,7.959468114958852,6.601148593666668,7.3899900518904555,8.930980903708734,7.4922977984414185,7.520099045938476,7.601921939695548,8.599060694675584,7.871837581358896,7.635675797768084,8.777330362366365,8.614341680494203,8.561984896200169,8.892597638039238,7.941366717432833,6.895783907200917,7.637277782254905,7.850906029022888,8.03254850303289,7.647728791893583],\"type\":\"scatter3d\"},{\"marker\":{\"color\":\"#D12B60\",\"opacity\":0.4,\"size\":5},\"mode\":\"markers\",\"name\":\"Cluster 3\",\"x\":[0.6931471805599453,1.6094379124341003,3.258096538021482,2.3978952727983707,3.367295829986474,3.091042453358316,2.772588722239781,3.091042453358316,3.784189633918261,1.3862943611198906,3.1354942159291497,3.8066624897703196,2.833213344056216,2.3978952727983707,2.8903717578961645,1.3862943611198906,2.4849066497880004,3.6635616461296463,3.091042453358316,2.9444389791664403,3.295836866004329,3.6888794541139363,2.70805020110221,3.4339872044851463,3.4011973816621555,3.6109179126442243,3.6635616461296463,2.0794415416798357,3.6888794541139363,2.1972245773362196,3.6888794541139363,2.8903717578961645,2.0794415416798357,3.6888794541139363,3.367295829986474,3.9512437185814275,3.091042453358316,3.4011973816621555,3.091042453358316,1.6094379124341003,3.5263605246161616,1.3862943611198906,2.3978952727983707,2.9444389791664403,3.4011973816621555,2.4849066497880004,1.791759469228055,3.367295829986474,2.0794415416798357,2.995732273553991,1.791759469228055,4.1588830833596715,2.995732273553991,2.302585092994046,2.302585092994046,2.9444389791664403,3.6109179126442243,3.8066624897703196,4.0943445622221,1.791759469228055,3.4965075614664802,3.4011973816621555,3.8066624897703196,2.302585092994046,3.2188758248682006,3.2188758248682006,3.4339872044851463,3.7612001156935624,2.9444389791664403,2.8903717578961645,1.6094379124341003,3.258096538021482,3.58351893845611,2.302585092994046,2.0794415416798357,2.302585092994046,3.4011973816621555,2.9444389791664403,3.4657359027997265,3.1780538303479458,3.1780538303479458,2.0794415416798357,3.1354942159291497,3.4339872044851463,2.1972245773362196,3.4339872044851463,3.2188758248682006,3.2188758248682006,2.3978952727983707,1.6094379124341003,1.6094379124341003,3.367295829986474,3.6888794541139363,1.3862943611198906,2.995732273553991,3.6888794541139363,3.295836866004329,2.3978952727983707,1.791759469228055,3.1354942159291497,2.9444389791664403,4.1588830833596715,3.295836866004329,3.091042453358316,1.6094379124341003,2.4849066497880004,2.9444389791664403,2.995732273553991,2.302585092994046,2.772588722239781,2.3978952727983707,3.2188758248682006,2.8903717578961645,3.9318256327243257,2.8903717578961645,2.302585092994046,2.4849066497880004,3.6375861597263857,3.4657359027997265,2.772588722239781,2.9444389791664403,3.6635616461296463,0.6931471805599453,1.6094379124341003,0.6931471805599453,2.8903717578961645,1.3862943611198906,3.4657359027997265,2.70805020110221,2.3978952727983707,2.833213344056216,4.110873864173311,4.1588830833596715,2.4849066497880004,2.8903717578961645,0.6931471805599453,3.2188758248682006,3.784189633918261,1.6094379124341003,2.995732273553991,2.3978952727983707,2.3978952727983707,2.9444389791664403,0.6931471805599453,3.1780538303479458,3.4011973816621555,4.110873864173311,2.3978952727983707,2.8903717578961645,2.833213344056216,2.1972245773362196,3.4339872044851463,3.713572066704308,2.70805020110221,3.5263605246161616,3.6888794541139363,2.5649493574615367,3.367295829986474,2.0794415416798357,2.995732273553991,2.8903717578961645,3.9318256327243257,3.1780538303479458,2.70805020110221,2.70805020110221,3.58351893845611,3.970291913552122,3.8712010109078907,4.174387269895637,3.295836866004329,3.4011973816621555,2.772588722239781,3.4657359027997265,2.3978952727983707,2.9444389791664403,2.8903717578961645,3.6635616461296463,2.0794415416798357,3.4657359027997265,2.772588722239781,3.6109179126442243,3.367295829986474,3.367295829986474,2.9444389791664403,3.5263605246161616,4.007333185232471,2.0794415416798357,1.6094379124341003,3.970291913552122,3.7612001156935624,3.1780538303479458,3.4011973816621555,2.9444389791664403,3.1354942159291497,2.995732273553991,2.4849066497880004,4.07753744390572,2.0794415416798357,3.295836866004329,3.1780538303479458,3.9318256327243257,2.833213344056216,3.6375861597263857,2.4849066497880004,3.912023005428146,4.0943445622221,3.9889840465642745,3.1780538303479458,2.3978952727983707,4.060443010546419,3.1780538303479458,2.8903717578961645,2.4849066497880004,0.6931471805599453,3.091042453358316,3.091042453358316,3.912023005428146,2.70805020110221,3.295836866004329,2.8903717578961645,2.5649493574615367,3.4339872044851463,2.833213344056216,2.0794415416798357,3.5263605246161616,2.1972245773362196,2.995732273553991,3.4965075614664802,1.6094379124341003,3.713572066704308,1.0986122886681096,2.5649493574615367,3.6109179126442243,3.4339872044851463,2.70805020110221,2.0794415416798357,3.8501476017100584,1.0986122886681096,3.58351893845611,2.995732273553991,3.713572066704308,2.3978952727983707,3.5263605246161616,4.204692619390966,2.9444389791664403,1.0986122886681096,2.833213344056216,3.7612001156935624,1.6094379124341003,3.9512437185814275,3.4339872044851463,2.1972245773362196,2.1972245773362196,2.9444389791664403,4.174387269895637,3.1354942159291497,2.833213344056216,3.091042453358316,2.3978952727983707,1.791759469228055,3.784189633918261,2.995732273553991,3.1354942159291497,3.8066624897703196,3.970291913552122,2.302585092994046,3.1354942159291497,2.8903717578961645,3.9318256327243257,3.091042453358316,2.302585092994046,2.3978952727983707,2.8903717578961645,2.4849066497880004,3.8501476017100584,2.995732273553991,2.4849066497880004,3.9318256327243257,3.6635616461296463,3.258096538021482,3.1354942159291497,3.5263605246161616,0.6931471805599453,3.2188758248682006,3.6375861597263857,2.772588722239781,2.3978952727983707,2.9444389791664403,4.060443010546419,0.6931471805599453,1.3862943611198906,2.833213344056216,3.9318256327243257,2.0794415416798357,2.4849066497880004,3.8066624897703196,2.3978952727983707,1.6094379124341003,2.302585092994046,3.6109179126442243,3.9318256327243257,3.091042453358316,1.791759469228055,3.295836866004329,3.2188758248682006,2.833213344056216,3.8066624897703196,2.70805020110221,1.0986122886681096,3.4011973816621555,3.2188758248682006,3.784189633918261,1.791759469228055,3.2188758248682006,3.8712010109078907,1.3862943611198906,2.833213344056216,3.784189633918261,2.772588722239781,3.4011973816621555,2.8903717578961645,4.007333185232471,3.295836866004329,2.3978952727983707,2.0794415416798357,3.367295829986474,2.833213344056216,3.091042453358316,4.127134385045092,2.1972245773362196,2.772588722239781,3.091042453358316,2.3978952727983707,3.4011973816621555,3.9889840465642745,2.3978952727983707,3.1780538303479458,3.2188758248682006,2.995732273553991,3.4011973816621555,2.0794415416798357,2.1972245773362196,2.995732273553991,3.295836866004329,2.9444389791664403,3.258096538021482,1.0986122886681096,2.833213344056216,3.4965075614664802,2.70805020110221,2.995732273553991,3.258096538021482,2.5649493574615367,2.1972245773362196,2.70805020110221,3.4339872044851463,3.6375861597263857,2.995732273553991,2.772588722239781,3.6635616461296463,3.8501476017100584,3.58351893845611,3.784189633918261,3.5263605246161616,3.6635616461296463,3.5263605246161616,2.1972245773362196,3.4657359027997265,1.6094379124341003,2.5649493574615367,2.1972245773362196,2.302585092994046,3.1354942159291497,3.7612001156935624,1.6094379124341003,2.1972245773362196,3.4657359027997265,3.1780538303479458,2.9444389791664403,3.9318256327243257,3.1354942159291497,2.9444389791664403,3.8501476017100584,2.3978952727983707,3.4657359027997265,3.828641396489095,2.9444389791664403,3.258096538021482,4.204692619390966,3.4011973816621555,2.70805020110221,4.110873864173311,1.0986122886681096,2.3978952727983707,2.3978952727983707,2.3978952727983707,2.833213344056216,4.174387269895637,3.1354942159291497,3.1780538303479458,1.6094379124341003,3.6375861597263857,4.204692619390966,3.8501476017100584,3.1354942159291497,2.3978952727983707,4.174387269895637,1.3862943611198906,3.8066624897703196,3.4965075614664802,3.9889840465642745,0.0,3.828641396489095,3.4011973816621555,3.6888794541139363,3.091042453358316,3.713572066704308,2.833213344056216,3.4657359027997265,2.302585092994046,3.2188758248682006,2.772588722239781,3.295836866004329,3.1780538303479458,2.1972245773362196,3.1354942159291497,3.4339872044851463,3.4011973816621555,3.258096538021482,3.4011973816621555,2.302585092994046,3.9512437185814275,3.9318256327243257,1.0986122886681096,2.70805020110221,3.367295829986474,2.8903717578961645,0.6931471805599453,3.4965075614664802,3.2188758248682006,3.5263605246161616,2.0794415416798357,2.4849066497880004,1.6094379124341003,3.6109179126442243,3.2188758248682006,3.367295829986474,2.4849066497880004,2.9444389791664403,2.4849066497880004,3.2188758248682006,3.9318256327243257,3.8501476017100584,3.58351893845611,2.1972245773362196,3.970291913552122,3.6109179126442243,2.3978952727983707,1.6094379124341003,2.8903717578961645,3.970291913552122,2.9444389791664403,3.6109179126442243,2.302585092994046,3.784189633918261,3.9318256327243257,3.6888794541139363,3.713572066704308,3.970291913552122,1.6094379124341003,3.367295829986474,2.8903717578961645,2.302585092994046,2.4849066497880004,2.4849066497880004,2.772588722239781,3.713572066704308,3.9512437185814275,3.2188758248682006,1.791759469228055,3.258096538021482,2.3978952727983707,2.3978952727983707,2.70805020110221,3.6109179126442243,1.3862943611198906,3.6375861597263857,4.174387269895637,4.07753744390572,3.6635616461296463,2.995732273553991,3.9512437185814275,2.9444389791664403,3.258096538021482,3.1354942159291497,3.4965075614664802,2.70805020110221,1.0986122886681096,3.1780538303479458,2.833213344056216,2.1972245773362196,2.1972245773362196,2.833213344056216,2.1972245773362196,3.4657359027997265,2.995732273553991,3.1780538303479458,1.0986122886681096,3.4339872044851463,2.995732273553991,1.3862943611198906,4.007333185232471,3.1780538303479458,3.8712010109078907,3.6888794541139363,2.833213344056216,2.5649493574615367,3.4011973816621555,3.784189633918261,2.0794415416798357,3.4339872044851463,4.007333185232471,3.1354942159291497,3.8066624897703196,2.833213344056216,2.4849066497880004,4.127134385045092,2.1972245773362196,3.9512437185814275,3.091042453358316,2.9444389791664403,1.6094379124341003,2.772588722239781,2.8903717578961645,3.9318256327243257,2.833213344056216,2.772588722239781,3.713572066704308,3.1780538303479458,3.258096538021482,2.995732273553991,4.04305126783455,3.5263605246161616,3.1354942159291497,3.6375861597263857,2.8903717578961645,1.3862943611198906,3.58351893845611,0.6931471805599453,3.8501476017100584,2.8903717578961645,3.6109179126442243,2.833213344056216,2.8903717578961645,3.5263605246161616,2.4849066497880004,2.9444389791664403,1.0986122886681096,3.367295829986474,2.995732273553991,2.9444389791664403,2.995732273553991,3.9889840465642745,4.04305126783455,3.091042453358316,3.8066624897703196,3.2188758248682006,3.367295829986474,3.5263605246161616,3.258096538021482,2.3978952727983707,2.772588722239781,3.5263605246161616,1.6094379124341003,3.4657359027997265,2.995732273553991,1.6094379124341003,3.4339872044851463,3.258096538021482,1.3862943611198906,2.8903717578961645,1.791759469228055,3.58351893845611,3.2188758248682006,1.791759469228055,2.772588722239781,1.3862943611198906,4.276666119016055,3.9318256327243257,2.772588722239781,1.6094379124341003,3.713572066704308,3.6109179126442243,2.772588722239781,1.3862943611198906,1.6094379124341003,3.7612001156935624,2.833213344056216,2.995732273553991,2.772588722239781,3.367295829986474,3.784189633918261,1.6094379124341003,3.828641396489095,1.3862943611198906,3.295836866004329,3.4657359027997265,4.07753744390572,2.0794415416798357,4.060443010546419,2.995732273553991,2.1972245773362196,3.1780538303479458,1.6094379124341003,2.772588722239781,3.6635616461296463,3.9512437185814275,3.6635616461296463,3.6888794541139363,3.784189633918261,3.970291913552122,1.6094379124341003,2.3978952727983707,3.1780538303479458,2.70805020110221,3.4657359027997265,3.6375861597263857,2.772588722239781,3.58351893845611,4.174387269895637,3.4011973816621555,3.6109179126442243,2.302585092994046,4.127134385045092,3.295836866004329,3.9889840465642745,0.6931471805599453,3.258096538021482,2.8903717578961645,1.6094379124341003,3.6635616461296463,4.110873864173311,3.4011973816621555,1.791759469228055,2.0794415416798357,3.1780538303479458,1.6094379124341003,2.9444389791664403,3.4339872044851463,2.1972245773362196,3.713572066704308,3.4657359027997265,2.4849066497880004,2.833213344056216,3.4339872044851463,3.258096538021482,3.6109179126442243,3.6109179126442243,3.1354942159291497,3.258096538021482,2.772588722239781,3.8712010109078907,2.1972245773362196,1.3862943611198906,3.9318256327243257,2.833213344056216,3.2188758248682006,2.8903717578961645,2.0794415416798357,3.091042453358316,3.6635616461296463,4.060443010546419,4.07753744390572,3.4011973816621555,3.9889840465642745,3.9889840465642745,3.4657359027997265,2.0794415416798357,4.189654742026425,2.9444389791664403,1.0986122886681096,3.58351893845611,3.258096538021482,2.4849066497880004,2.772588722239781,1.3862943611198906,2.9444389791664403,1.6094379124341003,3.713572066704308,3.970291913552122,1.0986122886681096,3.58351893845611,3.091042453358316,2.8903717578961645,2.4849066497880004,3.091042453358316,2.8903717578961645,2.70805020110221,3.1354942159291497,3.8501476017100584,2.772588722239781,3.6109179126442243,3.2188758248682006,2.4849066497880004,3.912023005428146,2.8903717578961645,2.4849066497880004,1.6094379124341003,2.995732273553991,2.70805020110221,3.6109179126442243,2.5649493574615367,3.784189633918261,3.7612001156935624,3.9318256327243257,3.8501476017100584,2.995732273553991,3.4965075614664802,2.9444389791664403,0.6931471805599453,3.713572066704308,2.8903717578961645,2.772588722239781,2.3978952727983707,2.3978952727983707,4.07753744390572,2.0794415416798357,2.8903717578961645,2.302585092994046,1.0986122886681096,3.2188758248682006,3.9889840465642745,3.4011973816621555,2.4849066497880004,1.6094379124341003,3.258096538021482,3.2188758248682006,3.1780538303479458,2.995732273553991,2.70805020110221,2.995732273553991,3.2188758248682006,3.4011973816621555,1.6094379124341003,2.0794415416798357,2.5649493574615367,2.8903717578961645,3.5263605246161616,3.091042453358316,3.4965075614664802,2.70805020110221,0.6931471805599453,2.995732273553991,3.4657359027997265,3.091042453358316,3.258096538021482,2.9444389791664403,1.3862943611198906,0.6931471805599453,3.1780538303479458,3.784189633918261,2.3978952727983707,3.8066624897703196,3.6635616461296463,2.302585092994046,2.302585092994046,3.091042453358316,3.4965075614664802,2.772588722239781,4.04305126783455,2.3978952727983707,3.4011973816621555,3.258096538021482,2.4849066497880004,3.6109179126442243,1.6094379124341003,3.9512437185814275,0.6931471805599453,3.912023005428146,1.0986122886681096,3.8712010109078907,3.7612001156935624,2.4849066497880004,0.6931471805599453,2.5649493574615367,3.784189633918261,2.5649493574615367,4.04305126783455,3.8066624897703196,3.1780538303479458,3.4011973816621555,3.091042453358316,2.302585092994046,1.3862943611198906,3.828641396489095,2.4849066497880004,3.9512437185814275,1.791759469228055,2.0794415416798357,3.6375861597263857,3.6888794541139363,3.9512437185814275,3.4011973816621555,3.1354942159291497,2.4849066497880004,2.5649493574615367,1.3862943611198906,3.1780538303479458,3.367295829986474,1.6094379124341003,1.6094379124341003,3.091042453358316,2.995732273553991,3.828641396489095,2.302585092994046,3.1780538303479458,3.713572066704308,2.9444389791664403,3.6109179126442243,2.833213344056216,4.127134385045092,2.4849066497880004,3.6375861597263857,2.995732273553991,2.5649493574615367,3.258096538021482,3.2188758248682006,4.110873864173311,2.995732273553991,3.4011973816621555,3.9318256327243257,3.4965075614664802,1.3862943611198906,2.302585092994046,3.6375861597263857,2.0794415416798357,3.2188758248682006,2.772588722239781,3.6109179126442243,3.367295829986474,3.258096538021482,3.4657359027997265,3.4011973816621555,3.8501476017100584,3.1780538303479458,2.8903717578961645,3.784189633918261,3.6635616461296463,1.0986122886681096,3.4339872044851463,3.784189633918261,2.0794415416798357],\"y\":[2.995732273553991,2.4849066497880004,3.5263605246161616,2.8903717578961645,3.332204510175204,4.61512051684126,3.828641396489095,3.4657359027997265,2.4849066497880004,2.5649493574615367,1.6094379124341003,3.1354942159291497,3.1354942159291497,3.4011973816621555,3.8712010109078907,3.6109179126442243,3.4657359027997265,3.295836866004329,3.1780538303479458,2.302585092994046,4.248495242049359,2.5649493574615367,2.8903717578961645,2.833213344056216,3.091042453358316,2.995732273553991,3.044522437723423,2.4849066497880004,3.5553480614894135,4.110873864173311,2.772588722239781,2.4849066497880004,1.6094379124341003,2.3978952727983707,3.58351893845611,3.332204510175204,1.0986122886681096,3.7612001156935624,2.4849066497880004,3.7376696182833684,3.6888794541139363,3.044522437723423,3.6635616461296463,3.6109179126442243,1.791759469228055,2.639057329615259,3.7612001156935624,3.4965075614664802,3.332204510175204,2.5649493574615367,3.6888794541139363,3.332204510175204,3.9318256327243257,4.0943445622221,3.044522437723423,2.70805020110221,3.367295829986474,2.772588722239781,3.258096538021482,3.258096538021482,3.332204510175204,3.970291913552122,2.3978952727983707,2.639057329615259,3.7612001156935624,4.418840607796598,3.5553480614894135,3.1354942159291497,4.290459441148391,3.367295829986474,3.828641396489095,2.302585092994046,3.4339872044851463,2.8903717578961645,2.833213344056216,2.3978952727983707,3.044522437723423,1.6094379124341003,2.639057329615259,3.4657359027997265,3.332204510175204,0.6931471805599453,3.828641396489095,2.3978952727983707,3.784189633918261,3.58351893845611,2.1972245773362196,3.8918202981106265,1.0986122886681096,1.9459101490553132,2.9444389791664403,3.091042453358316,2.1972245773362196,3.044522437723423,3.1780538303479458,1.9459101490553132,2.8903717578961645,1.6094379124341003,2.772588722239781,1.6094379124341003,4.189654742026425,2.639057329615259,3.4965075614664802,3.8501476017100584,3.784189633918261,1.0986122886681096,3.4011973816621555,3.8501476017100584,4.060443010546419,2.1972245773362196,4.04305126783455,3.6109179126442243,3.4657359027997265,2.833213344056216,3.258096538021482,2.639057329615259,3.6635616461296463,4.574710978503383,2.772588722239781,2.1972245773362196,3.6375861597263857,3.4657359027997265,1.0986122886681096,3.295836866004329,3.044522437723423,3.258096538021482,3.091042453358316,2.8903717578961645,3.091042453358316,2.833213344056216,3.713572066704308,3.2188758248682006,3.1780538303479458,3.9512437185814275,1.3862943611198906,2.4849066497880004,3.367295829986474,2.995732273553991,3.367295829986474,3.4011973816621555,4.31748811353631,4.219507705176107,3.912023005428146,2.5649493574615367,2.995732273553991,2.8903717578961645,3.091042453358316,3.58351893845611,3.7612001156935624,2.9444389791664403,3.8066624897703196,1.791759469228055,3.332204510175204,1.9459101490553132,4.204692619390966,4.477336814478207,4.59511985013459,3.5553480614894135,3.5263605246161616,3.6635616461296463,4.454347296253507,3.295836866004329,3.8501476017100584,3.1780538303479458,3.091042453358316,2.833213344056216,3.295836866004329,3.713572066704308,3.1780538303479458,3.332204510175204,3.784189633918261,2.1972245773362196,3.367295829986474,2.833213344056216,4.189654742026425,4.060443010546419,2.5649493574615367,3.367295829986474,2.1972245773362196,4.110873864173311,3.367295829986474,3.044522437723423,3.5263605246161616,1.3862943611198906,3.258096538021482,4.060443010546419,4.060443010546419,3.828641396489095,2.639057329615259,3.6109179126442243,3.367295829986474,3.2188758248682006,3.713572066704308,2.772588722239781,1.3862943611198906,3.044522437723423,3.4339872044851463,4.0943445622221,3.332204510175204,3.332204510175204,2.8903717578961645,2.995732273553991,3.295836866004329,3.5263605246161616,2.9444389791664403,3.367295829986474,3.044522437723423,2.4849066497880004,3.332204510175204,2.8903717578961645,3.828641396489095,3.912023005428146,3.58351893845611,3.258096538021482,2.5649493574615367,2.4849066497880004,3.367295829986474,2.772588722239781,2.833213344056216,2.639057329615259,4.442651256490317,1.791759469228055,3.6888794541139363,3.4657359027997265,1.9459101490553132,3.4965075614664802,4.04305126783455,2.639057329615259,3.784189633918261,3.7612001156935624,4.248495242049359,4.663439094112067,3.091042453358316,3.5553480614894135,2.3978952727983707,2.772588722239781,3.295836866004329,3.713572066704308,3.295836866004329,3.8918202981106265,3.7376696182833684,3.4011973816621555,3.295836866004329,3.2188758248682006,3.6888794541139363,3.8066624897703196,3.2188758248682006,2.5649493574615367,2.0794415416798357,3.4011973816621555,3.4965075614664802,2.302585092994046,3.8712010109078907,1.3862943611198906,3.2188758248682006,3.295836866004329,4.1588830833596715,3.091042453358316,3.4657359027997265,2.302585092994046,3.7376696182833684,4.02535169073515,3.7376696182833684,3.8501476017100584,4.04305126783455,2.70805020110221,2.70805020110221,0.6931471805599453,2.8903717578961645,2.5649493574615367,3.044522437723423,4.143134726391533,4.51085950651685,3.784189633918261,3.4011973816621555,2.3978952727983707,2.639057329615259,2.70805020110221,3.8712010109078907,2.0794415416798357,4.060443010546419,2.9444389791664403,1.6094379124341003,2.8903717578961645,2.9444389791664403,3.4965075614664802,3.8918202981106265,2.3978952727983707,3.091042453358316,2.5649493574615367,3.2188758248682006,2.8903717578961645,3.4011973816621555,3.9889840465642745,4.02535169073515,3.9318256327243257,2.0794415416798357,3.044522437723423,2.833213344056216,3.367295829986474,2.833213344056216,2.0794415416798357,3.4011973816621555,1.6094379124341003,2.70805020110221,4.634728988229636,3.9318256327243257,3.1354942159291497,3.367295829986474,3.258096538021482,2.3978952727983707,4.02535169073515,3.6375861597263857,3.970291913552122,3.828641396489095,2.8903717578961645,3.295836866004329,1.791759469228055,3.6635616461296463,3.6888794541139363,1.791759469228055,3.332204510175204,2.772588722239781,1.3862943611198906,3.4339872044851463,1.9459101490553132,3.8501476017100584,2.70805020110221,4.0943445622221,2.5649493574615367,3.8712010109078907,3.4011973816621555,3.4011973816621555,3.7612001156935624,3.713572066704308,1.9459101490553132,3.367295829986474,2.302585092994046,2.4849066497880004,2.4849066497880004,1.6094379124341003,4.276666119016055,2.8903717578961645,2.4849066497880004,3.9889840465642745,3.044522437723423,3.4339872044851463,3.332204510175204,2.4849066497880004,1.3862943611198906,2.995732273553991,4.02535169073515,4.454347296253507,3.332204510175204,3.6635616461296463,3.6375861597263857,3.091042453358316,3.7376696182833684,1.6094379124341003,4.127134385045092,3.295836866004329,3.044522437723423,3.58351893845611,3.044522437723423,3.4657359027997265,4.290459441148391,3.8918202981106265,1.3862943611198906,4.276666119016055,4.74493212836325,4.804021044733257,4.007333185232471,3.5263605246161616,2.4849066497880004,3.258096538021482,2.1972245773362196,3.58351893845611,3.58351893845611,3.091042453358316,3.367295829986474,2.772588722239781,3.970291913552122,3.295836866004329,3.044522437723423,3.1354942159291497,2.0794415416798357,3.4011973816621555,1.791759469228055,2.833213344056216,4.1588830833596715,2.995732273553991,2.995732273553991,0.6931471805599453,3.4965075614664802,2.302585092994046,3.912023005428146,3.9889840465642745,3.1780538303479458,2.4849066497880004,1.0986122886681096,3.8712010109078907,3.7376696182833684,3.970291913552122,2.5649493574615367,3.044522437723423,3.6888794541139363,3.367295829986474,3.5263605246161616,3.6109179126442243,2.639057329615259,3.6109179126442243,3.295836866004329,3.044522437723423,2.70805020110221,2.639057329615259,1.6094379124341003,2.5649493574615367,2.5649493574615367,3.9889840465642745,3.6888794541139363,2.1972245773362196,1.9459101490553132,4.418840607796598,2.3978952727983707,4.02535169073515,3.4011973816621555,3.4339872044851463,4.07753744390572,2.0794415416798357,2.0794415416798357,3.970291913552122,3.2188758248682006,3.2188758248682006,4.356708826689592,2.4849066497880004,3.58351893845611,2.772588722239781,2.9444389791664403,4.060443010546419,0.6931471805599453,1.6094379124341003,3.7376696182833684,2.772588722239781,4.127134385045092,3.4011973816621555,3.4657359027997265,3.044522437723423,3.332204510175204,2.0794415416798357,4.060443010546419,3.8066624897703196,2.302585092994046,3.2188758248682006,3.1354942159291497,3.8501476017100584,2.8903717578961645,1.9459101490553132,1.3862943611198906,2.833213344056216,2.772588722239781,2.772588722239781,3.970291913552122,3.4965075614664802,3.091042453358316,2.4849066497880004,2.8903717578961645,2.639057329615259,3.5263605246161616,2.5649493574615367,2.995732273553991,2.5649493574615367,2.9444389791664403,3.9889840465642745,3.58351893845611,4.5217885770490405,3.4965075614664802,3.091042453358316,3.367295829986474,2.302585092994046,2.3978952727983707,3.044522437723423,2.70805020110221,3.58351893845611,2.5649493574615367,3.58351893845611,3.5263605246161616,3.6888794541139363,3.2188758248682006,3.332204510175204,3.1354942159291497,4.584967478670572,3.4339872044851463,2.70805020110221,2.9444389791664403,3.044522437723423,4.343805421853684,4.859812404361672,3.912023005428146,3.9512437185814275,4.762173934797756,3.4339872044851463,4.110873864173311,2.995732273553991,3.7376696182833684,3.7612001156935624,3.367295829986474,4.442651256490317,3.044522437723423,2.70805020110221,3.332204510175204,1.3862943611198906,3.58351893845611,3.5263605246161616,3.4965075614664802,3.367295829986474,3.8501476017100584,4.174387269895637,3.367295829986474,3.4965075614664802,3.295836866004329,1.9459101490553132,3.5553480614894135,3.5263605246161616,3.091042453358316,3.091042453358316,4.1588830833596715,3.4011973816621555,2.833213344056216,2.833213344056216,3.58351893845611,3.4657359027997265,2.9444389791664403,2.9444389791664403,3.5553480614894135,2.772588722239781,3.4657359027997265,2.4849066497880004,1.9459101490553132,4.060443010546419,2.995732273553991,3.7376696182833684,2.995732273553991,3.9512437185814275,3.332204510175204,1.6094379124341003,3.6375861597263857,2.833213344056216,2.995732273553991,3.6375861597263857,2.9444389791664403,3.6888794541139363,2.3978952727983707,3.8712010109078907,3.367295829986474,3.5553480614894135,3.9889840465642745,2.9444389791664403,4.343805421853684,4.48863636973214,4.304065093204169,4.143134726391533,3.828641396489095,3.58351893845611,3.4657359027997265,2.0794415416798357,4.007333185232471,2.9444389791664403,2.8903717578961645,4.1588830833596715,2.8903717578961645,3.58351893845611,2.9444389791664403,3.4011973816621555,2.4849066497880004,1.6094379124341003,1.3862943611198906,3.58351893845611,1.9459101490553132,2.639057329615259,2.8903717578961645,1.6094379124341003,3.4657359027997265,2.8903717578961645,2.4849066497880004,3.4657359027997265,2.9444389791664403,1.791759469228055,3.367295829986474,3.332204510175204,2.5649493574615367,2.0794415416798357,3.4657359027997265,3.4011973816621555,3.5263605246161616,2.302585092994046,3.5553480614894135,2.995732273553991,2.833213344056216,3.4965075614664802,3.044522437723423,1.9459101490553132,2.3978952727983707,3.4339872044851463,3.332204510175204,3.1354942159291497,3.332204510175204,3.367295829986474,3.5553480614894135,3.7612001156935624,3.295836866004329,1.3862943611198906,1.791759469228055,4.110873864173311,3.367295829986474,3.295836866004329,3.367295829986474,3.1354942159291497,3.1780538303479458,2.4849066497880004,2.5649493574615367,2.70805020110221,3.044522437723423,2.302585092994046,2.995732273553991,1.0986122886681096,3.295836866004329,3.295836866004329,4.624972813284271,3.6375861597263857,4.248495242049359,4.110873864173311,3.6635616461296463,4.060443010546419,4.110873864173311,4.007333185232471,3.9889840465642745,3.8066624897703196,4.060443010546419,2.833213344056216,3.4657359027997265,3.7376696182833684,3.1354942159291497,1.3862943611198906,2.0794415416798357,2.5649493574615367,3.1780538303479458,3.8066624897703196,2.4849066497880004,2.772588722239781,4.31748811353631,2.833213344056216,2.0794415416798357,3.1354942159291497,3.4339872044851463,3.1354942159291497,1.9459101490553132,3.258096538021482,3.367295829986474,2.1972245773362196,4.174387269895637,3.8918202981106265,3.4339872044851463,3.6888794541139363,3.58351893845611,3.713572066704308,3.970291913552122,2.70805020110221,3.044522437723423,2.639057329615259,1.791759469228055,2.5649493574615367,3.1780538303479458,2.995732273553991,3.4011973816621555,3.713572066704308,2.639057329615259,3.258096538021482,4.1588830833596715,3.367295829986474,3.8712010109078907,3.6109179126442243,3.258096538021482,3.4011973816621555,2.995732273553991,4.02535169073515,4.060443010546419,2.9444389791664403,4.727387818712341,4.3694478524670215,2.5649493574615367,4.394449154672439,3.332204510175204,3.828641396489095,3.9512437185814275,4.060443010546419,4.204692619390966,3.9318256327243257,3.5263605246161616,1.9459101490553132,3.4965075614664802,4.477336814478207,3.332204510175204,3.828641396489095,2.772588722239781,3.4011973816621555,4.477336814478207,4.430816798843313,3.9512437185814275,2.772588722239781,3.8712010109078907,3.5263605246161616,3.7376696182833684,1.9459101490553132,3.4339872044851463,3.4339872044851463,3.295836866004329,3.784189633918261,2.70805020110221,3.8918202981106265,2.302585092994046,3.6109179126442243,2.995732273553991,4.007333185232471,3.7376696182833684,1.791759469228055,3.4011973816621555,3.332204510175204,1.791759469228055,3.367295829986474,3.6635616461296463,3.044522437723423,3.4339872044851463,3.828641396489095,3.5263605246161616,2.995732273553991,2.302585092994046,3.258096538021482,1.9459101490553132,4.672828834461906,3.5553480614894135,3.8501476017100584,3.912023005428146,3.258096538021482,3.9318256327243257,3.58351893845611,4.430816798843313,2.639057329615259,4.0943445622221,3.295836866004329,3.5263605246161616,3.9318256327243257,3.6888794541139363,3.044522437723423,3.58351893845611,2.1972245773362196,2.995732273553991,3.784189633918261,2.9444389791664403,2.772588722239781,2.4849066497880004,2.772588722239781,3.1780538303479458,3.4011973816621555,3.58351893845611,3.258096538021482,2.3978952727983707,3.258096538021482,2.995732273553991,3.091042453358316,4.007333185232471,3.9889840465642745,2.3978952727983707,4.07753744390572,3.784189633918261,2.8903717578961645,3.5263605246161616,2.639057329615259,3.1780538303479458,4.127134385045092,4.127134385045092,3.2188758248682006,4.04305126783455,3.2188758248682006,2.772588722239781,4.634728988229636,3.295836866004329,4.174387269895637,3.367295829986474,2.833213344056216,1.0986122886681096,2.995732273553991,3.6635616461296463,3.6888794541139363,4.394449154672439,3.1780538303479458,1.791759469228055,3.091042453358316,4.356708826689592,1.0986122886681096,2.302585092994046,3.044522437723423,2.772588722239781,3.091042453358316,3.1780538303479458,3.6635616461296463,4.07753744390572,4.110873864173311,3.1354942159291497,3.4965075614664802,3.8501476017100584,2.302585092994046,4.727387818712341,2.995732273553991,3.8712010109078907,1.3862943611198906,2.9444389791664403,3.6375861597263857,1.0986122886681096,2.8903717578961645,0.6931471805599453,3.6888794541139363,3.7376696182833684,2.9444389791664403,3.8501476017100584,3.295836866004329,4.31748811353631,3.6109179126442243,4.04305126783455,3.8712010109078907,3.044522437723423,2.833213344056216,3.6375861597263857,3.091042453358316,3.5553480614894135,3.2188758248682006,0.6931471805599453,3.8066624897703196,0.6931471805599453,3.4965075614664802,2.1972245773362196,3.7612001156935624,3.295836866004329,3.4657359027997265,1.9459101490553132,1.6094379124341003,2.1972245773362196,3.091042453358316,2.4849066497880004,1.3862943611198906,2.4849066497880004,2.70805020110221,2.5649493574615367],\"z\":[7.063955286074528,5.135210028677887,6.6119469443852195,6.127960291696519,6.373780434317174,6.1353267674944725,6.694611562246261,6.717562827807613,5.5506312951620265,5.153638355178593,4.900820428089049,6.110247083097449,6.067429722163682,7.100893128209941,6.610951732080795,6.525014994979365,6.269474999863032,6.134265345739653,6.00314605188182,6.180120167963518,5.989637879766574,5.266413817535028,4.838026416156094,5.860301775655642,5.899760357897641,5.923453336491439,6.084089306213804,5.601971208509516,6.255001200981438,6.928949094989139,5.291846475417724,5.2879639544685455,4.976733742420574,5.3748153375207615,6.473396747218992,6.428541364981557,6.606920419952056,5.876418387786465,5.183523608545955,6.668812575758953,6.511284599453549,5.753968489569372,6.401884028681278,6.532407069777784,4.529152699564175,5.50573795739701,6.415947661051908,6.94389432559801,6.368358698228111,5.393627546352361,6.47072210140631,6.060524083039477,6.713235627004493,6.355100208942306,6.141305955347142,6.067221159507229,6.183426980938617,5.440858053330147,5.986753467377863,6.066456057398334,5.950720674536128,5.7898378392560215,6.353012598149689,7.288955016552379,6.5574457470395595,5.944032210673093,5.242487481587366,5.923720895021463,6.235547334435847,5.1073384426629,6.5439837854231016,4.7461487792476635,6.406071078133402,5.801665100458068,5.588708266810736,5.0825217528963655,5.922168058105325,4.590056548178043,6.017375928892483,6.22408306878471,6.030108170700187,5.3230099791384085,6.495748822830551,7.129698109719828,6.519132538569087,6.446211761854101,5.607271574275357,6.1565551669735745,5.84354441703136,5.3986150878634005,5.719491768361381,5.848805913370404,5.501013282593141,7.0025926197429715,5.7303919480814,6.428944984648157,5.437687927995845,6.57060281105606,6.188715766456242,4.530446639792155,6.674977971699642,6.570714880987815,4.7622594012308666,6.151476586982075,5.871131387648096,4.750135956238277,5.567122383230128,6.769745301020691,6.769021807549381,5.526488259576272,7.088759301542255,6.614524507599939,6.553548714657728,6.067267510523482,6.218839134950008,5.992738734985712,6.550480154971372,5.38623666458592,5.626037126031348,5.5583712718823435,7.032747819149021,6.362924649913461,5.8888779583328805,6.396212731621162,6.464214402021743,5.300714491147758,6.670576188703463,6.672032945461067,5.863347044327539,5.514718236994854,6.887675013147945,5.988911290320265,6.088046644954226,6.683310881934879,4.330733340286331,5.5353243745214,6.911807059422236,6.570182436916891,6.4643234711171225,6.369215816648631,5.391215548914767,6.915525016246497,6.5227543440063265,5.287711320760812,5.679762968811981,5.217324207338505,6.048884037975468,6.483611811351871,7.056270107190766,5.680172609017067,6.888286995786739,4.842611042003125,6.523826588404497,6.445370552049637,5.353326249578836,5.678156927017228,6.442524242774538,6.371714406075083,5.166898027681201,5.485709380155097,5.926259136982707,5.68833037009728,6.597241195280628,6.148553762350757,5.941880317752222,5.5172922409900265,5.986376625559036,5.199435816987919,6.063529362008149,5.108003959824529,5.640274533399819,4.817374117263916,6.254674607635275,5.948400457636955,5.986250980055094,6.720015067761323,5.025852259901116,6.569285047698251,5.201145454795763,6.949549600639115,6.263664893709055,5.81257708704831,6.200225158054739,5.384036241950574,6.492860854269306,5.662231047497966,5.888905658780245,5.857361562584502,6.830442175879467,6.29156913955832,6.3503096345809205,5.950590467898009,6.865536476045727,5.349438146055752,3.9740583963475986,5.893355453997662,6.219715035790337,6.670259221443527,6.4520016347056774,6.337922474636114,5.743515876874801,5.9649152118744455,5.810062567373411,6.441663986556317,5.609618304598452,5.955345020301596,5.864000425598742,5.415433513216716,6.143262461351643,5.824051307047146,6.344846575345921,6.73356854461668,6.61480602592395,6.088863453095115,5.443369638247176,5.139028508864655,6.027290080077415,5.287205861793318,6.8260136289229445,5.772873119140995,6.753402912150756,4.354141431184346,6.467388118864708,6.371731498193053,5.0317442573064906,7.177484661947137,5.422126652274323,5.024143644121048,6.849341960431477,6.2154477458196355,5.275151088516197,6.095486667514328,4.99957434673683,6.395111336409363,6.54225579881702,6.56121452452395,6.032654473932844,6.820158276001622,6.49169423166057,6.072767998172017,6.231779816930511,6.1133281348648225,4.908676393786758,6.1178548779353035,6.554503042320907,5.087781503272909,6.147827064731841,5.1386179877903615,4.510199948396864,6.329667428156979,6.390660042202551,5.179702735211794,6.815925037163848,3.7887247890836524,6.233586857019973,6.7653964676596825,6.151156985841575,6.506620780234419,4.901564199041894,5.103639787544498,5.423936287972195,6.816933013408364,5.088830141681313,5.855358414110991,5.316550134809097,5.3137477042033945,6.196892092616412,5.777899970574095,5.898087497602683,7.225335901779781,5.930519561480541,5.581388826442135,6.396529575194807,6.135976061950666,6.3074789418267985,7.178240326605397,5.634968158655841,5.777404614526815,5.1164956847957335,4.945634443878841,5.625532603335144,5.8034769686874,5.604330395684541,6.882991163835519,5.900499911733888,6.288750355702458,6.6419912418312865,5.232337807614061,5.784255858806078,5.431054693986231,5.133619594507631,4.938781190328272,5.062911438661627,5.942353081326715,6.784626731500986,5.40703723326228,5.370451964307236,7.48781774447192,6.317958595345153,6.414851429850069,6.097175001530096,4.7136657821413905,5.51403340203345,4.690889061390629,5.279389356662517,6.406467359696635,5.9207738064852125,5.765723876196384,7.027642765394543,6.822273640436711,5.08258379340884,5.801151140384475,6.499501285546037,6.577972617178215,5.942851867187289,7.060948357598531,7.00395597125342,5.967786419753405,6.606596130683188,5.541694824693056,5.265794174842477,6.106309938777023,5.673288902319859,4.361823927356363,6.522739647741382,5.2914941411999115,6.61480602592395,5.438035829717119,5.26857954828408,5.8700593342813,6.3201385996316555,6.231052150838124,7.028830666672489,6.549006758096496,5.2889233809061675,4.639088404191552,6.239007985245727,6.16709711575114,5.14353315274717,5.590091056903071,3.9740583963475986,6.58851373762259,5.546738725046515,6.38130827431319,6.63672053430313,5.810122510427528,6.076150305274624,6.767170498168263,5.415566926598276,4.623991940228679,5.91943134420815,5.67270451908534,5.820587254198285,5.4038928590966755,5.259160651346843,5.001190835268257,4.748317695206576,5.3672369020126345,5.791182664937034,5.456303538604819,6.3048143663083405,5.736378730359188,5.56517153628838,4.840874519347159,6.209012472065032,5.934920650296115,6.442747151414763,6.2878585601617845,6.549350267911373,5.714062784063757,5.717323710222868,6.951207411654662,6.226141334235865,5.3953987041986,5.517774130004251,5.763716662099238,6.557289589092577,6.904851065834747,5.832205005910728,6.12844000213506,5.221382325073915,6.886460138441978,6.214087963175304,5.711386821516136,5.799849943402434,5.9974466187855295,5.721851574117078,4.678048831400664,6.537387007911402,6.010678766031786,6.022018000151438,6.215247893709531,8.258940462988459,6.985280975485229,6.04334516898497,6.661330306378558,6.823503726534546,5.978227320325962,7.449125626576209,6.0156692358048,6.5758705038506235,6.4234742104382585,4.914931703582751,5.548686904115838,6.189679958097341,6.466051407286527,6.2094749463104435,5.748182061952885,5.591471937527057,6.573624299478299,5.164614530656529,6.33671953081712,5.9777205293157225,5.627800953633574,6.061293735451147,6.104659294874325,5.761673953071979,5.45043741460887,6.237758058320892,6.654023645899904,4.918958505524351,4.551558416539442,5.987331015826375,5.148598518298094,6.94935776883665,5.012566760946003,6.0657367914825695,6.291069014516638,5.091539169320091,4.845288841508263,6.265073049828404,6.149557446167864,6.290735458809743,6.1537534501517,7.479976991613202,6.492936561946857,7.141403462941432,5.842094090453713,5.991064467086642,6.089044875446846,5.006894974480533,6.290568639224737,5.367376902479531,6.35720081298715,6.080070485442006,5.637535828837275,6.162577690327807,6.686597255202886,5.231162091360629,6.47916994643317,6.527826330017913,6.818574277330894,5.965069235748451,5.785577492291319,7.16924993468027,5.381692975469088,5.278879672655561,5.821269170111868,7.165516658717914,5.499419786985366,5.413251904640136,6.418381249016855,6.472809865551464,6.828203284222655,5.7283124723994785,5.959535187313809,5.711486059041234,6.529915065486092,5.868449096211435,5.48380058667957,5.257703683662739,5.738666876509702,6.978549194282216,5.804773457796085,6.230638915494719,6.031286041294654,5.012699828145134,6.130291269692714,5.32908902521479,6.4562671745616536,5.847767371850795,5.510602174527371,5.402001477824919,6.873795104898541,6.247597901247849,6.787247283994098,6.3578422665081,5.97375871998905,5.876502528638301,5.966838807281577,5.480013727948073,4.716711560720999,5.697093486505405,4.246206911531347,7.569060853685924,5.872371278471126,5.8914508229616045,5.9851446183631625,5.863943626780142,5.899568532403445,5.110058217087329,6.863008927569726,5.901868013296226,6.56416577459204,6.063529362008149,6.156470381692249,6.039849867434441,6.502939959715469,5.1306085221219275,5.069092863667825,3.76096753050819,6.059286733610594,6.173327665501776,5.360728626669434,6.015913227510292,6.747598263849638,5.530381015236806,6.0882736030360425,5.468439815884993,6.1586301640127346,8.060666341057626,5.894568109862285,6.748935381973274,5.790693846645498,7.210079628170789,6.984003102876341,5.7149202190666575,6.050582151591071,5.732629049213781,6.428250657915328,6.455843009727984,5.64020349301333,6.488733695691184,6.713539262741108,5.807992328556631,6.273650292389249,5.3774981644224775,5.37564870948436,6.008100400759408,5.979847327767791,6.538631743276411,6.028760331851679,6.016401032398013,6.3955954322030095,7.848153086199526,6.425290328985104,5.617316403505768,5.796513573913885,5.792251122643809,6.38896468556185,5.533033694214862,5.024209414123374,5.917495026907807,6.205446256629806,6.492058000307724,6.562500589272956,5.793927824507547,6.211463158278113,5.762680115903686,6.015107828855458,5.100293166026791,5.373656723093852,5.029326192539745,5.572914199451162,4.846153655430632,5.3535155270127985,5.849670541490095,5.221760243825881,5.444623069137622,5.805134968916488,5.709863944972069,5.400964203508179,6.214208018400852,5.996103769256407,6.657497435176356,4.514150787600923,6.774897944843427,4.631812116934513,5.37564870948436,5.502930281242811,8.81726815379798,6.388141149183067,5.659098867029561,5.644916721789165,6.238558972577978,6.422694863102173,4.829912458665998,6.11465515766318,5.802209005711098,5.526050370196054,4.511298970378021,5.504518197131934,6.271139649157846,6.2174440732414,5.192734603972972,6.535720111358577,5.675588740285419,7.145708621949827,4.787325062224947,5.729190278590734,7.434416849630159,5.218732887205194,6.9363427358340495,6.488642463139346,7.4097601137223315,5.051393286568423,6.404815149490137,5.415744783424001,6.673032445794151,5.150918839543312,4.687671407499835,4.404277243608702,6.287839972628443,6.306403016016588,6.134785366552204,6.654384452047831,5.836855428880563,5.789684903656904,5.5328755226775,5.270123632177254,5.643395324641106,5.839041540659891,4.982989993275931,5.79727281774354,3.594568774642695,6.22217936391851,6.0657367914825695,6.158058910731007,5.277502226834117,5.394263707595246,5.924897302835869,5.344532790344999,6.4340327431676485,5.1404347316311005,5.944241903735642,5.093382034882495,6.335461969788099,5.574736246721107,5.735733235888028,6.087751522419478,5.881119406601529,5.95339916630119,7.535937180689723,4.845131522228461,7.033726918544073,6.185838184926078,6.6628516858853635,5.279949709189852,5.605434351638425,6.375586842443011,6.82556860799419,4.276666119016055,5.943717588610248,6.615422408314929,4.730921391293652,6.855914466312751,6.735875021605469,5.938063770380867,5.665110944007932,5.673872944250057,6.930621835101851,5.519899699795292,6.731614581263263,6.410026844693401,5.562026879608908,7.039423687328594,5.369614248430071,5.532203014394148,5.768320995793772,5.68391984555995,5.334359957894966,5.4844649281755204,6.09973582239177,6.921668046035439,5.839565497125275,5.953451104909766,4.746930131025923,5.817497989896762,5.872540235443819,6.84622024286434,6.046236782954962,5.256870176633863,6.311843696146471,5.754760719420831,5.646118050461663,5.954593072332077,5.188837265929216,5.6110822193672805,5.701813871561357,7.134380761332616,5.741848675462657,4.727210811897116,5.0429088546465515,4.888693623291013,6.507441878013575,5.291443797604865,6.898946596200742,6.261701585954275,5.899623343442402,5.084938485288739,6.2892330797607725,6.37698201740645,5.96393917604323,4.858726543710496,6.192771403813017,6.051830311894415,6.005515370330642,5.299766316313141,5.821269170111868,5.568764262978113,5.6441032391546,6.659216993647982,6.658011045870748,6.140875440444677,6.3966462817363405,6.550237122496749,6.63354209247732,5.586349377764106,5.9047076831817,5.3812788872623845,6.296243383424822,6.189741470692064,5.760477818332746,6.638934214171274,4.927253685157205,5.933941360864315,6.211723943242329,7.037905963447182,6.536836514626556,6.327865352606624,5.7348934696812535,6.305928511499892,6.585081405576444,6.48270971889503,7.087490159879325,4.599353300666527,6.362855674882395,5.0097015249361645,6.182621952564336,6.29611434997733,5.127647662494529,6.120319396731415,5.944372939574132,6.109025335847126,7.1255244139588925,5.965608132562755,5.091723608778362,5.270020767392923,7.230490739491305,6.269190976192483,6.7387210533149595,6.271612055889925,5.657947938312401,6.3063847700056215,5.118472739628975,6.39094511686889,6.406285750140171,6.591893186664721,5.854355333135575,5.2225156531317545,5.482345799133678,5.956096403270191,6.261319913844147,6.541304131886272,5.936057539836243,5.131317825851867,5.665006995704794,6.570574791610563,5.6065370902173655,5.508618809848949,5.2136849757073325,4.673762977453703,5.78086696496229,6.304521925890991,3.625939654340062,5.9627563829712384,5.701780471985528,5.990714265717278,5.052224993855419,5.862607924982978,4.71142030583075,5.828357209237831,4.747884288187267,7.25772881858561,6.394426524998027,5.941354762622532,5.253267697994312,5.501666290534067,4.59511985013459,5.550320446542799,4.7129477781615225,5.260978880892669,5.9059883547555305,5.821358081393286,5.363824168750156,6.738152494595957,6.558552349882106,5.968298269076143,4.363098624788363,5.179984179586172,6.917250060543927,5.823164231676281,5.6669109998802965,6.455119943897493,5.308861580423708,6.036031520433106,5.524336778607711,6.09960120571256,5.12050562523191,4.7960384487505126,5.4452276118626575,6.049450396306635,5.881091489626612,5.249127122357264,5.142598791548616,5.728344997484453,5.98476716966025,7.116799905916845,5.841948942039205,4.516120369154581,5.127944143269923,5.414543635516169,4.740400135248196,5.469325163441718,5.868420823264403,5.773681602035868,6.380868021668796,5.336720437830982,5.857161428207895,6.52636307929225,6.4184954331307065,6.341381708583335,5.991939434331193,6.118977867406942,5.99308822822408,4.653960350157523,5.950121583573599,3.927896354584436,6.2506699815672135,4.942356453342962,6.3987114002985646,6.179498921308624,6.43414515414229,6.0487423982594555,6.392084603552947,4.567883601202075,5.784563371339637,5.649502267743131,5.3230099791384085,5.175697653000126,5.819667413770239,5.187665096444442],\"type\":\"scatter3d\"}],                        {\"template\":{\"data\":{\"histogram2dcontour\":[{\"type\":\"histogram2dcontour\",\"colorbar\":{\"outlinewidth\":0,\"ticks\":\"\"},\"colorscale\":[[0.0,\"#0d0887\"],[0.1111111111111111,\"#46039f\"],[0.2222222222222222,\"#7201a8\"],[0.3333333333333333,\"#9c179e\"],[0.4444444444444444,\"#bd3786\"],[0.5555555555555556,\"#d8576b\"],[0.6666666666666666,\"#ed7953\"],[0.7777777777777778,\"#fb9f3a\"],[0.8888888888888888,\"#fdca26\"],[1.0,\"#f0f921\"]]}],\"choropleth\":[{\"type\":\"choropleth\",\"colorbar\":{\"outlinewidth\":0,\"ticks\":\"\"}}],\"histogram2d\":[{\"type\":\"histogram2d\",\"colorbar\":{\"outlinewidth\":0,\"ticks\":\"\"},\"colorscale\":[[0.0,\"#0d0887\"],[0.1111111111111111,\"#46039f\"],[0.2222222222222222,\"#7201a8\"],[0.3333333333333333,\"#9c179e\"],[0.4444444444444444,\"#bd3786\"],[0.5555555555555556,\"#d8576b\"],[0.6666666666666666,\"#ed7953\"],[0.7777777777777778,\"#fb9f3a\"],[0.8888888888888888,\"#fdca26\"],[1.0,\"#f0f921\"]]}],\"heatmap\":[{\"type\":\"heatmap\",\"colorbar\":{\"outlinewidth\":0,\"ticks\":\"\"},\"colorscale\":[[0.0,\"#0d0887\"],[0.1111111111111111,\"#46039f\"],[0.2222222222222222,\"#7201a8\"],[0.3333333333333333,\"#9c179e\"],[0.4444444444444444,\"#bd3786\"],[0.5555555555555556,\"#d8576b\"],[0.6666666666666666,\"#ed7953\"],[0.7777777777777778,\"#fb9f3a\"],[0.8888888888888888,\"#fdca26\"],[1.0,\"#f0f921\"]]}],\"heatmapgl\":[{\"type\":\"heatmapgl\",\"colorbar\":{\"outlinewidth\":0,\"ticks\":\"\"},\"colorscale\":[[0.0,\"#0d0887\"],[0.1111111111111111,\"#46039f\"],[0.2222222222222222,\"#7201a8\"],[0.3333333333333333,\"#9c179e\"],[0.4444444444444444,\"#bd3786\"],[0.5555555555555556,\"#d8576b\"],[0.6666666666666666,\"#ed7953\"],[0.7777777777777778,\"#fb9f3a\"],[0.8888888888888888,\"#fdca26\"],[1.0,\"#f0f921\"]]}],\"contourcarpet\":[{\"type\":\"contourcarpet\",\"colorbar\":{\"outlinewidth\":0,\"ticks\":\"\"}}],\"contour\":[{\"type\":\"contour\",\"colorbar\":{\"outlinewidth\":0,\"ticks\":\"\"},\"colorscale\":[[0.0,\"#0d0887\"],[0.1111111111111111,\"#46039f\"],[0.2222222222222222,\"#7201a8\"],[0.3333333333333333,\"#9c179e\"],[0.4444444444444444,\"#bd3786\"],[0.5555555555555556,\"#d8576b\"],[0.6666666666666666,\"#ed7953\"],[0.7777777777777778,\"#fb9f3a\"],[0.8888888888888888,\"#fdca26\"],[1.0,\"#f0f921\"]]}],\"surface\":[{\"type\":\"surface\",\"colorbar\":{\"outlinewidth\":0,\"ticks\":\"\"},\"colorscale\":[[0.0,\"#0d0887\"],[0.1111111111111111,\"#46039f\"],[0.2222222222222222,\"#7201a8\"],[0.3333333333333333,\"#9c179e\"],[0.4444444444444444,\"#bd3786\"],[0.5555555555555556,\"#d8576b\"],[0.6666666666666666,\"#ed7953\"],[0.7777777777777778,\"#fb9f3a\"],[0.8888888888888888,\"#fdca26\"],[1.0,\"#f0f921\"]]}],\"mesh3d\":[{\"type\":\"mesh3d\",\"colorbar\":{\"outlinewidth\":0,\"ticks\":\"\"}}],\"scatter\":[{\"fillpattern\":{\"fillmode\":\"overlay\",\"size\":10,\"solidity\":0.2},\"type\":\"scatter\"}],\"parcoords\":[{\"type\":\"parcoords\",\"line\":{\"colorbar\":{\"outlinewidth\":0,\"ticks\":\"\"}}}],\"scatterpolargl\":[{\"type\":\"scatterpolargl\",\"marker\":{\"colorbar\":{\"outlinewidth\":0,\"ticks\":\"\"}}}],\"bar\":[{\"error_x\":{\"color\":\"#2a3f5f\"},\"error_y\":{\"color\":\"#2a3f5f\"},\"marker\":{\"line\":{\"color\":\"#E5ECF6\",\"width\":0.5},\"pattern\":{\"fillmode\":\"overlay\",\"size\":10,\"solidity\":0.2}},\"type\":\"bar\"}],\"scattergeo\":[{\"type\":\"scattergeo\",\"marker\":{\"colorbar\":{\"outlinewidth\":0,\"ticks\":\"\"}}}],\"scatterpolar\":[{\"type\":\"scatterpolar\",\"marker\":{\"colorbar\":{\"outlinewidth\":0,\"ticks\":\"\"}}}],\"histogram\":[{\"marker\":{\"pattern\":{\"fillmode\":\"overlay\",\"size\":10,\"solidity\":0.2}},\"type\":\"histogram\"}],\"scattergl\":[{\"type\":\"scattergl\",\"marker\":{\"colorbar\":{\"outlinewidth\":0,\"ticks\":\"\"}}}],\"scatter3d\":[{\"type\":\"scatter3d\",\"line\":{\"colorbar\":{\"outlinewidth\":0,\"ticks\":\"\"}},\"marker\":{\"colorbar\":{\"outlinewidth\":0,\"ticks\":\"\"}}}],\"scattermapbox\":[{\"type\":\"scattermapbox\",\"marker\":{\"colorbar\":{\"outlinewidth\":0,\"ticks\":\"\"}}}],\"scatterternary\":[{\"type\":\"scatterternary\",\"marker\":{\"colorbar\":{\"outlinewidth\":0,\"ticks\":\"\"}}}],\"scattercarpet\":[{\"type\":\"scattercarpet\",\"marker\":{\"colorbar\":{\"outlinewidth\":0,\"ticks\":\"\"}}}],\"carpet\":[{\"aaxis\":{\"endlinecolor\":\"#2a3f5f\",\"gridcolor\":\"white\",\"linecolor\":\"white\",\"minorgridcolor\":\"white\",\"startlinecolor\":\"#2a3f5f\"},\"baxis\":{\"endlinecolor\":\"#2a3f5f\",\"gridcolor\":\"white\",\"linecolor\":\"white\",\"minorgridcolor\":\"white\",\"startlinecolor\":\"#2a3f5f\"},\"type\":\"carpet\"}],\"table\":[{\"cells\":{\"fill\":{\"color\":\"#EBF0F8\"},\"line\":{\"color\":\"white\"}},\"header\":{\"fill\":{\"color\":\"#C8D4E3\"},\"line\":{\"color\":\"white\"}},\"type\":\"table\"}],\"barpolar\":[{\"marker\":{\"line\":{\"color\":\"#E5ECF6\",\"width\":0.5},\"pattern\":{\"fillmode\":\"overlay\",\"size\":10,\"solidity\":0.2}},\"type\":\"barpolar\"}],\"pie\":[{\"automargin\":true,\"type\":\"pie\"}]},\"layout\":{\"autotypenumbers\":\"strict\",\"colorway\":[\"#636efa\",\"#EF553B\",\"#00cc96\",\"#ab63fa\",\"#FFA15A\",\"#19d3f3\",\"#FF6692\",\"#B6E880\",\"#FF97FF\",\"#FECB52\"],\"font\":{\"color\":\"#2a3f5f\"},\"hovermode\":\"closest\",\"hoverlabel\":{\"align\":\"left\"},\"paper_bgcolor\":\"white\",\"plot_bgcolor\":\"#E5ECF6\",\"polar\":{\"bgcolor\":\"#E5ECF6\",\"angularaxis\":{\"gridcolor\":\"white\",\"linecolor\":\"white\",\"ticks\":\"\"},\"radialaxis\":{\"gridcolor\":\"white\",\"linecolor\":\"white\",\"ticks\":\"\"}},\"ternary\":{\"bgcolor\":\"#E5ECF6\",\"aaxis\":{\"gridcolor\":\"white\",\"linecolor\":\"white\",\"ticks\":\"\"},\"baxis\":{\"gridcolor\":\"white\",\"linecolor\":\"white\",\"ticks\":\"\"},\"caxis\":{\"gridcolor\":\"white\",\"linecolor\":\"white\",\"ticks\":\"\"}},\"coloraxis\":{\"colorbar\":{\"outlinewidth\":0,\"ticks\":\"\"}},\"colorscale\":{\"sequential\":[[0.0,\"#0d0887\"],[0.1111111111111111,\"#46039f\"],[0.2222222222222222,\"#7201a8\"],[0.3333333333333333,\"#9c179e\"],[0.4444444444444444,\"#bd3786\"],[0.5555555555555556,\"#d8576b\"],[0.6666666666666666,\"#ed7953\"],[0.7777777777777778,\"#fb9f3a\"],[0.8888888888888888,\"#fdca26\"],[1.0,\"#f0f921\"]],\"sequentialminus\":[[0.0,\"#0d0887\"],[0.1111111111111111,\"#46039f\"],[0.2222222222222222,\"#7201a8\"],[0.3333333333333333,\"#9c179e\"],[0.4444444444444444,\"#bd3786\"],[0.5555555555555556,\"#d8576b\"],[0.6666666666666666,\"#ed7953\"],[0.7777777777777778,\"#fb9f3a\"],[0.8888888888888888,\"#fdca26\"],[1.0,\"#f0f921\"]],\"diverging\":[[0,\"#8e0152\"],[0.1,\"#c51b7d\"],[0.2,\"#de77ae\"],[0.3,\"#f1b6da\"],[0.4,\"#fde0ef\"],[0.5,\"#f7f7f7\"],[0.6,\"#e6f5d0\"],[0.7,\"#b8e186\"],[0.8,\"#7fbc41\"],[0.9,\"#4d9221\"],[1,\"#276419\"]]},\"xaxis\":{\"gridcolor\":\"white\",\"linecolor\":\"white\",\"ticks\":\"\",\"title\":{\"standoff\":15},\"zerolinecolor\":\"white\",\"automargin\":true,\"zerolinewidth\":2},\"yaxis\":{\"gridcolor\":\"white\",\"linecolor\":\"white\",\"ticks\":\"\",\"title\":{\"standoff\":15},\"zerolinecolor\":\"white\",\"automargin\":true,\"zerolinewidth\":2},\"scene\":{\"xaxis\":{\"backgroundcolor\":\"#E5ECF6\",\"gridcolor\":\"white\",\"linecolor\":\"white\",\"showbackground\":true,\"ticks\":\"\",\"zerolinecolor\":\"white\",\"gridwidth\":2},\"yaxis\":{\"backgroundcolor\":\"#E5ECF6\",\"gridcolor\":\"white\",\"linecolor\":\"white\",\"showbackground\":true,\"ticks\":\"\",\"zerolinecolor\":\"white\",\"gridwidth\":2},\"zaxis\":{\"backgroundcolor\":\"#E5ECF6\",\"gridcolor\":\"white\",\"linecolor\":\"white\",\"showbackground\":true,\"ticks\":\"\",\"zerolinecolor\":\"white\",\"gridwidth\":2}},\"shapedefaults\":{\"line\":{\"color\":\"#2a3f5f\"}},\"annotationdefaults\":{\"arrowcolor\":\"#2a3f5f\",\"arrowhead\":0,\"arrowwidth\":1},\"geo\":{\"bgcolor\":\"white\",\"landcolor\":\"#E5ECF6\",\"subunitcolor\":\"white\",\"showland\":true,\"showlakes\":true,\"lakecolor\":\"white\"},\"title\":{\"x\":0.05},\"mapbox\":{\"style\":\"light\"}}},\"title\":{\"text\":\"3D Visualization of Customer Clusters\",\"x\":0.5},\"scene\":{\"xaxis\":{\"backgroundcolor\":\"#fcf0dc\",\"gridcolor\":\"white\",\"title\":{\"text\":\"Recency\"}},\"yaxis\":{\"backgroundcolor\":\"#fcf0dc\",\"gridcolor\":\"white\",\"title\":{\"text\":\"Frequency\"}},\"zaxis\":{\"backgroundcolor\":\"#fcf0dc\",\"gridcolor\":\"white\",\"title\":{\"text\":\"Monetary\"}}},\"width\":900,\"height\":800},                        {\"responsive\": true}                    ).then(function(){\n",
       "                            \n",
       "var gd = document.getElementById('3049dfbe-df63-49ab-ac48-fdaa0e8c64dd');\n",
       "var x = new MutationObserver(function (mutations, observer) {{\n",
       "        var display = window.getComputedStyle(gd).display;\n",
       "        if (!display || display === 'none') {{\n",
       "            console.log([gd, 'removed!']);\n",
       "            Plotly.purge(gd);\n",
       "            observer.disconnect();\n",
       "        }}\n",
       "}});\n",
       "\n",
       "// Listen for the removal of the full notebook cells\n",
       "var notebookContainer = gd.closest('#notebook-container');\n",
       "if (notebookContainer) {{\n",
       "    x.observe(notebookContainer, {childList: true});\n",
       "}}\n",
       "\n",
       "// Listen for the clearing of the current output cell\n",
       "var outputEl = gd.closest('.output');\n",
       "if (outputEl) {{\n",
       "    x.observe(outputEl, {childList: true});\n",
       "}}\n",
       "\n",
       "                        })                };                });            </script>        </div>"
      ]
     },
     "metadata": {},
     "output_type": "display_data"
    }
   ],
   "source": [
    "colors = ['blue', 'orange', 'green', '#D12B60']\n",
    "\n",
    "# Create a 3D scatter plot\n",
    "fig = go.Figure()\n",
    "fig.add_trace(go.Scatter3d(x=df_rfm[km == 0,0], y=df_rfm[km == 0,1], z=df_rfm[km == 0,2], \n",
    "                           mode='markers', marker=dict(color=colors[0], size=5, opacity=0.4), name='Cluster 0'))\n",
    "fig.add_trace(go.Scatter3d(x=df_rfm[km == 1,0], y=df_rfm[km == 1,1], z=df_rfm[km == 1,2], \n",
    "                           mode='markers', marker=dict(color=colors[1], size=5, opacity=0.4), name='Cluster 1'))\n",
    "fig.add_trace(go.Scatter3d(x=df_rfm[km == 2,0], y=df_rfm[km == 2,1], z=df_rfm[km == 2,2],\n",
    "                           mode='markers', marker=dict(color=colors[2], size=5, opacity=0.4), name='Cluster 2'))\n",
    "fig.add_trace(go.Scatter3d(x=df_rfm[km == 3,0], y=df_rfm[km == 3,1], z=df_rfm[km == 3,2],\n",
    "                           mode='markers', marker=dict(color=colors[3], size=5, opacity=0.4), name='Cluster 3'))\n",
    "\n",
    "fig.update_layout(\n",
    "    title=dict(text='3D Visualization of Customer Clusters', x=0.5),\n",
    "    scene=dict(\n",
    "        xaxis=dict(backgroundcolor=\"#fcf0dc\", gridcolor='white', title='Recency'),\n",
    "        yaxis=dict(backgroundcolor=\"#fcf0dc\", gridcolor='white', title='Frequency'),\n",
    "        zaxis=dict(backgroundcolor=\"#fcf0dc\", gridcolor='white', title='Monetary'),\n",
    "    ),\n",
    "    width=900,\n",
    "    height=800\n",
    ")\n",
    "fig.show()"
   ]
  },
  {
   "cell_type": "markdown",
   "id": "b9495329",
   "metadata": {
    "papermill": {
     "duration": 0.0457,
     "end_time": "2024-07-30T20:14:25.035386",
     "exception": false,
     "start_time": "2024-07-30T20:14:24.989686",
     "status": "completed"
    },
    "tags": []
   },
   "source": [
    "The figure above shows the 4 clusters from KMeans. The results seems promising: Cluster 2 (green) is the class with small Receny, high Frequency and high Monetary, while Cluster 0 (blue) is the class with large Receny, low Frequency and small Monetary. We will check more detials later."
   ]
  },
  {
   "cell_type": "markdown",
   "id": "b8d7f2e8",
   "metadata": {
    "papermill": {
     "duration": 0.042237,
     "end_time": "2024-07-30T20:14:25.120154",
     "exception": false,
     "start_time": "2024-07-30T20:14:25.077917",
     "status": "completed"
    },
    "tags": []
   },
   "source": [
    "### RFM"
   ]
  },
  {
   "cell_type": "markdown",
   "id": "eadc70f8",
   "metadata": {
    "papermill": {
     "duration": 0.044076,
     "end_time": "2024-07-30T20:14:25.208487",
     "exception": false,
     "start_time": "2024-07-30T20:14:25.164411",
     "status": "completed"
    },
    "tags": []
   },
   "source": [
    "To create customer segments using our RFM model, we can compare use quartiles, which divide the data into four sections with an equal number of observations. Let's see the results below."
   ]
  },
  {
   "cell_type": "code",
   "execution_count": 48,
   "id": "82adcd85",
   "metadata": {
    "execution": {
     "iopub.execute_input": "2024-07-30T20:14:25.299913Z",
     "iopub.status.busy": "2024-07-30T20:14:25.299434Z",
     "iopub.status.idle": "2024-07-30T20:14:25.326611Z",
     "shell.execute_reply": "2024-07-30T20:14:25.325174Z"
    },
    "papermill": {
     "duration": 0.07656,
     "end_time": "2024-07-30T20:14:25.329771",
     "exception": false,
     "start_time": "2024-07-30T20:14:25.253211",
     "status": "completed"
    },
    "tags": []
   },
   "outputs": [
    {
     "data": {
      "text/html": [
       "<div>\n",
       "<style scoped>\n",
       "    .dataframe tbody tr th:only-of-type {\n",
       "        vertical-align: middle;\n",
       "    }\n",
       "\n",
       "    .dataframe tbody tr th {\n",
       "        vertical-align: top;\n",
       "    }\n",
       "\n",
       "    .dataframe thead th {\n",
       "        text-align: right;\n",
       "    }\n",
       "</style>\n",
       "<table border=\"1\" class=\"dataframe\">\n",
       "  <thead>\n",
       "    <tr style=\"text-align: right;\">\n",
       "      <th></th>\n",
       "      <th>Q_Recency</th>\n",
       "      <th>Q_Frequency</th>\n",
       "      <th>Q_Monetary</th>\n",
       "    </tr>\n",
       "  </thead>\n",
       "  <tbody>\n",
       "    <tr>\n",
       "      <th>min</th>\n",
       "      <td>0.00</td>\n",
       "      <td>1.0</td>\n",
       "      <td>3.750</td>\n",
       "    </tr>\n",
       "    <tr>\n",
       "      <th>first_part</th>\n",
       "      <td>17.00</td>\n",
       "      <td>17.0</td>\n",
       "      <td>307.415</td>\n",
       "    </tr>\n",
       "    <tr>\n",
       "      <th>second_part</th>\n",
       "      <td>50.00</td>\n",
       "      <td>41.0</td>\n",
       "      <td>674.485</td>\n",
       "    </tr>\n",
       "    <tr>\n",
       "      <th>third_part</th>\n",
       "      <td>141.75</td>\n",
       "      <td>100.0</td>\n",
       "      <td>1661.740</td>\n",
       "    </tr>\n",
       "    <tr>\n",
       "      <th>max</th>\n",
       "      <td>373.00</td>\n",
       "      <td>7847.0</td>\n",
       "      <td>280206.020</td>\n",
       "    </tr>\n",
       "  </tbody>\n",
       "</table>\n",
       "</div>"
      ],
      "text/plain": [
       "             Q_Recency  Q_Frequency  Q_Monetary\n",
       "min               0.00          1.0       3.750\n",
       "first_part       17.00         17.0     307.415\n",
       "second_part      50.00         41.0     674.485\n",
       "third_part      141.75        100.0    1661.740\n",
       "max             373.00       7847.0  280206.020"
      ]
     },
     "execution_count": 48,
     "metadata": {},
     "output_type": "execute_result"
    }
   ],
   "source": [
    "r_quarters = rfm['Recency'].quantile(q=[0.0, 0.25,0.5,0.75, 1]).to_list()\n",
    "f_quarters = rfm['Frequency'].quantile(q=[0.0, 0.25,0.5,0.75, 1]).to_list()\n",
    "m_quarters = rfm['Monetary'].quantile(q=[0.0, 0.25,0.5,0.75, 1]).to_list()\n",
    "quartile_spread = pd.DataFrame(list(zip(r_quarters, f_quarters, m_quarters)), \n",
    "                      columns=['Q_Recency','Q_Frequency', 'Q_Monetary'],\n",
    "                     index = ['min', 'first_part','second_part','third_part', 'max'])\n",
    "quartile_spread"
   ]
  },
  {
   "cell_type": "code",
   "execution_count": 49,
   "id": "fb995cce",
   "metadata": {
    "execution": {
     "iopub.execute_input": "2024-07-30T20:14:25.424372Z",
     "iopub.status.busy": "2024-07-30T20:14:25.423405Z",
     "iopub.status.idle": "2024-07-30T20:14:25.448704Z",
     "shell.execute_reply": "2024-07-30T20:14:25.446590Z"
    },
    "papermill": {
     "duration": 0.076003,
     "end_time": "2024-07-30T20:14:25.452217",
     "exception": false,
     "start_time": "2024-07-30T20:14:25.376214",
     "status": "completed"
    },
    "tags": []
   },
   "outputs": [],
   "source": [
    "rfm['r_score'] = pd.cut(rfm['Recency'], bins=r_quarters, labels=[4,3,2,1],include_lowest=True)\n",
    "rfm['f_score'] = pd.cut(rfm['Frequency'], bins=f_quarters, labels=[1,2,3,4],include_lowest=True)\n",
    "rfm['m_score'] = pd.cut(rfm['Monetary'], bins=m_quarters, labels=[1,2,3,4],include_lowest=True)\n",
    "rfm['rfm_score'] = rfm['r_score'].astype(str) + rfm['f_score'].astype(str) + rfm['m_score'].astype(str)"
   ]
  },
  {
   "cell_type": "code",
   "execution_count": 50,
   "id": "d3cc4d1f",
   "metadata": {
    "execution": {
     "iopub.execute_input": "2024-07-30T20:14:25.536033Z",
     "iopub.status.busy": "2024-07-30T20:14:25.534668Z",
     "iopub.status.idle": "2024-07-30T20:14:26.419597Z",
     "shell.execute_reply": "2024-07-30T20:14:26.418133Z"
    },
    "papermill": {
     "duration": 0.930078,
     "end_time": "2024-07-30T20:14:26.422937",
     "exception": false,
     "start_time": "2024-07-30T20:14:25.492859",
     "status": "completed"
    },
    "tags": []
   },
   "outputs": [
    {
     "data": {
      "image/png": "[encoded data removed]",
      "text/plain": [
       "<Figure size 1500x500 with 1 Axes>"
      ]
     },
     "metadata": {},
     "output_type": "display_data"
    }
   ],
   "source": [
    "ax = rfm['rfm_score'].value_counts().plot(kind='bar', figsize=(15, 5), fontsize=12)\n",
    "ax.set_xlabel(\"RFM Score based on Quartile partitions\", fontsize=12)\n",
    "ax.set_ylabel(\"Count\", fontsize=12)\n",
    "plt.show()"
   ]
  },
  {
   "cell_type": "code",
   "execution_count": 51,
   "id": "4a3b855f",
   "metadata": {
    "execution": {
     "iopub.execute_input": "2024-07-30T20:14:26.536615Z",
     "iopub.status.busy": "2024-07-30T20:14:26.535976Z",
     "iopub.status.idle": "2024-07-30T20:14:26.575839Z",
     "shell.execute_reply": "2024-07-30T20:14:26.574433Z"
    },
    "papermill": {
     "duration": 0.10598,
     "end_time": "2024-07-30T20:14:26.579101",
     "exception": false,
     "start_time": "2024-07-30T20:14:26.473121",
     "status": "completed"
    },
    "tags": []
   },
   "outputs": [
    {
     "data": {
      "text/html": [
       "<div>\n",
       "<style scoped>\n",
       "    .dataframe tbody tr th:only-of-type {\n",
       "        vertical-align: middle;\n",
       "    }\n",
       "\n",
       "    .dataframe tbody tr th {\n",
       "        vertical-align: top;\n",
       "    }\n",
       "\n",
       "    .dataframe thead th {\n",
       "        text-align: right;\n",
       "    }\n",
       "</style>\n",
       "<table border=\"1\" class=\"dataframe\">\n",
       "  <thead>\n",
       "    <tr style=\"text-align: right;\">\n",
       "      <th></th>\n",
       "      <th>Recency</th>\n",
       "      <th>Frequency</th>\n",
       "      <th>Monetary</th>\n",
       "      <th>log_Recency</th>\n",
       "      <th>log_Frequency</th>\n",
       "      <th>log_Monetary</th>\n",
       "      <th>r_score</th>\n",
       "      <th>f_score</th>\n",
       "      <th>m_score</th>\n",
       "      <th>rfm_score</th>\n",
       "    </tr>\n",
       "    <tr>\n",
       "      <th>CustomerID</th>\n",
       "      <th></th>\n",
       "      <th></th>\n",
       "      <th></th>\n",
       "      <th></th>\n",
       "      <th></th>\n",
       "      <th></th>\n",
       "      <th></th>\n",
       "      <th></th>\n",
       "      <th></th>\n",
       "      <th></th>\n",
       "    </tr>\n",
       "  </thead>\n",
       "  <tbody>\n",
       "    <tr>\n",
       "      <th>16985.0</th>\n",
       "      <td>17</td>\n",
       "      <td>120</td>\n",
       "      <td>5464.12</td>\n",
       "      <td>2.890372</td>\n",
       "      <td>4.795791</td>\n",
       "      <td>8.606141</td>\n",
       "      <td>4</td>\n",
       "      <td>4</td>\n",
       "      <td>4</td>\n",
       "      <td>444</td>\n",
       "    </tr>\n",
       "    <tr>\n",
       "      <th>17659.0</th>\n",
       "      <td>17</td>\n",
       "      <td>158</td>\n",
       "      <td>2999.46</td>\n",
       "      <td>2.890372</td>\n",
       "      <td>5.068904</td>\n",
       "      <td>8.006521</td>\n",
       "      <td>4</td>\n",
       "      <td>4</td>\n",
       "      <td>4</td>\n",
       "      <td>444</td>\n",
       "    </tr>\n",
       "    <tr>\n",
       "      <th>16655.0</th>\n",
       "      <td>17</td>\n",
       "      <td>261</td>\n",
       "      <td>3794.52</td>\n",
       "      <td>2.890372</td>\n",
       "      <td>5.568345</td>\n",
       "      <td>8.241577</td>\n",
       "      <td>4</td>\n",
       "      <td>4</td>\n",
       "      <td>4</td>\n",
       "      <td>444</td>\n",
       "    </tr>\n",
       "    <tr>\n",
       "      <th>16633.0</th>\n",
       "      <td>17</td>\n",
       "      <td>152</td>\n",
       "      <td>2883.10</td>\n",
       "      <td>2.890372</td>\n",
       "      <td>5.030438</td>\n",
       "      <td>7.966968</td>\n",
       "      <td>4</td>\n",
       "      <td>4</td>\n",
       "      <td>4</td>\n",
       "      <td>444</td>\n",
       "    </tr>\n",
       "    <tr>\n",
       "      <th>14505.0</th>\n",
       "      <td>17</td>\n",
       "      <td>799</td>\n",
       "      <td>5905.64</td>\n",
       "      <td>2.890372</td>\n",
       "      <td>6.684612</td>\n",
       "      <td>8.683832</td>\n",
       "      <td>4</td>\n",
       "      <td>4</td>\n",
       "      <td>4</td>\n",
       "      <td>444</td>\n",
       "    </tr>\n",
       "    <tr>\n",
       "      <th>...</th>\n",
       "      <td>...</td>\n",
       "      <td>...</td>\n",
       "      <td>...</td>\n",
       "      <td>...</td>\n",
       "      <td>...</td>\n",
       "      <td>...</td>\n",
       "      <td>...</td>\n",
       "      <td>...</td>\n",
       "      <td>...</td>\n",
       "      <td>...</td>\n",
       "    </tr>\n",
       "    <tr>\n",
       "      <th>17581.0</th>\n",
       "      <td>0</td>\n",
       "      <td>440</td>\n",
       "      <td>11045.04</td>\n",
       "      <td>0.000000</td>\n",
       "      <td>6.089045</td>\n",
       "      <td>9.309827</td>\n",
       "      <td>4</td>\n",
       "      <td>4</td>\n",
       "      <td>4</td>\n",
       "      <td>444</td>\n",
       "    </tr>\n",
       "    <tr>\n",
       "      <th>13113.0</th>\n",
       "      <td>0</td>\n",
       "      <td>200</td>\n",
       "      <td>12245.96</td>\n",
       "      <td>0.000000</td>\n",
       "      <td>5.303305</td>\n",
       "      <td>9.413033</td>\n",
       "      <td>4</td>\n",
       "      <td>4</td>\n",
       "      <td>4</td>\n",
       "      <td>444</td>\n",
       "    </tr>\n",
       "    <tr>\n",
       "      <th>16626.0</th>\n",
       "      <td>0</td>\n",
       "      <td>179</td>\n",
       "      <td>4413.10</td>\n",
       "      <td>0.000000</td>\n",
       "      <td>5.192957</td>\n",
       "      <td>8.392559</td>\n",
       "      <td>4</td>\n",
       "      <td>4</td>\n",
       "      <td>4</td>\n",
       "      <td>444</td>\n",
       "    </tr>\n",
       "    <tr>\n",
       "      <th>13426.0</th>\n",
       "      <td>0</td>\n",
       "      <td>157</td>\n",
       "      <td>3641.32</td>\n",
       "      <td>0.000000</td>\n",
       "      <td>5.062595</td>\n",
       "      <td>8.200376</td>\n",
       "      <td>4</td>\n",
       "      <td>4</td>\n",
       "      <td>4</td>\n",
       "      <td>444</td>\n",
       "    </tr>\n",
       "    <tr>\n",
       "      <th>17001.0</th>\n",
       "      <td>0</td>\n",
       "      <td>169</td>\n",
       "      <td>3989.57</td>\n",
       "      <td>0.000000</td>\n",
       "      <td>5.135798</td>\n",
       "      <td>8.291689</td>\n",
       "      <td>4</td>\n",
       "      <td>4</td>\n",
       "      <td>4</td>\n",
       "      <td>444</td>\n",
       "    </tr>\n",
       "  </tbody>\n",
       "</table>\n",
       "<p>440 rows × 10 columns</p>\n",
       "</div>"
      ],
      "text/plain": [
       "            Recency  Frequency  Monetary  log_Recency  log_Frequency  \\\n",
       "CustomerID                                                             \n",
       "16985.0          17        120   5464.12     2.890372       4.795791   \n",
       "17659.0          17        158   2999.46     2.890372       5.068904   \n",
       "16655.0          17        261   3794.52     2.890372       5.568345   \n",
       "16633.0          17        152   2883.10     2.890372       5.030438   \n",
       "14505.0          17        799   5905.64     2.890372       6.684612   \n",
       "...             ...        ...       ...          ...            ...   \n",
       "17581.0           0        440  11045.04     0.000000       6.089045   \n",
       "13113.0           0        200  12245.96     0.000000       5.303305   \n",
       "16626.0           0        179   4413.10     0.000000       5.192957   \n",
       "13426.0           0        157   3641.32     0.000000       5.062595   \n",
       "17001.0           0        169   3989.57     0.000000       5.135798   \n",
       "\n",
       "            log_Monetary r_score f_score m_score rfm_score  \n",
       "CustomerID                                                  \n",
       "16985.0         8.606141       4       4       4       444  \n",
       "17659.0         8.006521       4       4       4       444  \n",
       "16655.0         8.241577       4       4       4       444  \n",
       "16633.0         7.966968       4       4       4       444  \n",
       "14505.0         8.683832       4       4       4       444  \n",
       "...                  ...     ...     ...     ...       ...  \n",
       "17581.0         9.309827       4       4       4       444  \n",
       "13113.0         9.413033       4       4       4       444  \n",
       "16626.0         8.392559       4       4       4       444  \n",
       "13426.0         8.200376       4       4       4       444  \n",
       "17001.0         8.291689       4       4       4       444  \n",
       "\n",
       "[440 rows x 10 columns]"
      ]
     },
     "execution_count": 51,
     "metadata": {},
     "output_type": "execute_result"
    }
   ],
   "source": [
    "rfm[rfm['rfm_score']=='444'].sort_values('Recency',ascending=False)"
   ]
  },
  {
   "cell_type": "markdown",
   "id": "362486a8",
   "metadata": {
    "papermill": {
     "duration": 0.04374,
     "end_time": "2024-07-30T20:14:26.668318",
     "exception": false,
     "start_time": "2024-07-30T20:14:26.624578",
     "status": "completed"
    },
    "tags": []
   },
   "source": [
    "### Aggregate the RFM results"
   ]
  },
  {
   "cell_type": "code",
   "execution_count": 52,
   "id": "83546bae",
   "metadata": {
    "execution": {
     "iopub.execute_input": "2024-07-30T20:14:26.767727Z",
     "iopub.status.busy": "2024-07-30T20:14:26.766243Z",
     "iopub.status.idle": "2024-07-30T20:14:26.898124Z",
     "shell.execute_reply": "2024-07-30T20:14:26.896293Z"
    },
    "papermill": {
     "duration": 0.188016,
     "end_time": "2024-07-30T20:14:26.901618",
     "exception": false,
     "start_time": "2024-07-30T20:14:26.713602",
     "status": "completed"
    },
    "tags": []
   },
   "outputs": [
    {
     "data": {
      "text/html": [
       "<div>\n",
       "<style scoped>\n",
       "    .dataframe tbody tr th:only-of-type {\n",
       "        vertical-align: middle;\n",
       "    }\n",
       "\n",
       "    .dataframe tbody tr th {\n",
       "        vertical-align: top;\n",
       "    }\n",
       "\n",
       "    .dataframe thead th {\n",
       "        text-align: right;\n",
       "    }\n",
       "</style>\n",
       "<table border=\"1\" class=\"dataframe\">\n",
       "  <thead>\n",
       "    <tr style=\"text-align: right;\">\n",
       "      <th></th>\n",
       "      <th>Recency</th>\n",
       "      <th>Frequency</th>\n",
       "      <th>Monetary</th>\n",
       "      <th>log_Recency</th>\n",
       "      <th>log_Frequency</th>\n",
       "      <th>log_Monetary</th>\n",
       "      <th>r_score</th>\n",
       "      <th>f_score</th>\n",
       "      <th>m_score</th>\n",
       "      <th>rfm_score</th>\n",
       "      <th>RFM_segment</th>\n",
       "    </tr>\n",
       "    <tr>\n",
       "      <th>CustomerID</th>\n",
       "      <th></th>\n",
       "      <th></th>\n",
       "      <th></th>\n",
       "      <th></th>\n",
       "      <th></th>\n",
       "      <th></th>\n",
       "      <th></th>\n",
       "      <th></th>\n",
       "      <th></th>\n",
       "      <th></th>\n",
       "      <th></th>\n",
       "    </tr>\n",
       "  </thead>\n",
       "  <tbody>\n",
       "    <tr>\n",
       "      <th>12346.0</th>\n",
       "      <td>325</td>\n",
       "      <td>1</td>\n",
       "      <td>77183.60</td>\n",
       "      <td>5.786897</td>\n",
       "      <td>0.693147</td>\n",
       "      <td>11.253955</td>\n",
       "      <td>1</td>\n",
       "      <td>1</td>\n",
       "      <td>4</td>\n",
       "      <td>114</td>\n",
       "      <td>04_promising</td>\n",
       "    </tr>\n",
       "    <tr>\n",
       "      <th>12347.0</th>\n",
       "      <td>2</td>\n",
       "      <td>182</td>\n",
       "      <td>4310.00</td>\n",
       "      <td>1.098612</td>\n",
       "      <td>5.209486</td>\n",
       "      <td>8.368925</td>\n",
       "      <td>4</td>\n",
       "      <td>4</td>\n",
       "      <td>4</td>\n",
       "      <td>444</td>\n",
       "      <td>01_core</td>\n",
       "    </tr>\n",
       "    <tr>\n",
       "      <th>12348.0</th>\n",
       "      <td>75</td>\n",
       "      <td>31</td>\n",
       "      <td>1797.24</td>\n",
       "      <td>4.330733</td>\n",
       "      <td>3.465736</td>\n",
       "      <td>7.494564</td>\n",
       "      <td>2</td>\n",
       "      <td>2</td>\n",
       "      <td>4</td>\n",
       "      <td>224</td>\n",
       "      <td>04_promising</td>\n",
       "    </tr>\n",
       "    <tr>\n",
       "      <th>12349.0</th>\n",
       "      <td>18</td>\n",
       "      <td>73</td>\n",
       "      <td>1757.55</td>\n",
       "      <td>2.944439</td>\n",
       "      <td>4.304065</td>\n",
       "      <td>7.472245</td>\n",
       "      <td>3</td>\n",
       "      <td>3</td>\n",
       "      <td>4</td>\n",
       "      <td>334</td>\n",
       "      <td>01_core</td>\n",
       "    </tr>\n",
       "    <tr>\n",
       "      <th>12350.0</th>\n",
       "      <td>310</td>\n",
       "      <td>17</td>\n",
       "      <td>334.40</td>\n",
       "      <td>5.739793</td>\n",
       "      <td>2.890372</td>\n",
       "      <td>5.815324</td>\n",
       "      <td>1</td>\n",
       "      <td>1</td>\n",
       "      <td>2</td>\n",
       "      <td>112</td>\n",
       "      <td>09_low_priority</td>\n",
       "    </tr>\n",
       "  </tbody>\n",
       "</table>\n",
       "</div>"
      ],
      "text/plain": [
       "            Recency  Frequency  Monetary  log_Recency  log_Frequency  \\\n",
       "CustomerID                                                             \n",
       "12346.0         325          1  77183.60     5.786897       0.693147   \n",
       "12347.0           2        182   4310.00     1.098612       5.209486   \n",
       "12348.0          75         31   1797.24     4.330733       3.465736   \n",
       "12349.0          18         73   1757.55     2.944439       4.304065   \n",
       "12350.0         310         17    334.40     5.739793       2.890372   \n",
       "\n",
       "            log_Monetary r_score f_score m_score rfm_score      RFM_segment  \n",
       "CustomerID                                                                   \n",
       "12346.0        11.253955       1       1       4       114     04_promising  \n",
       "12347.0         8.368925       4       4       4       444          01_core  \n",
       "12348.0         7.494564       2       2       4       224     04_promising  \n",
       "12349.0         7.472245       3       3       4       334          01_core  \n",
       "12350.0         5.815324       1       1       2       112  09_low_priority  "
      ]
     },
     "execution_count": 52,
     "metadata": {},
     "output_type": "execute_result"
    }
   ],
   "source": [
    "agg_map = {\n",
    "    r'[3-4][3-4]4': '01_core',\n",
    "    r'[3-4][3-4]3': '02_loyal_large',\n",
    "    r'[3-4][1-2][3-4]': '03_new_large',\n",
    "    r'[1-2][1-2][3-4]': '04_promising',\n",
    "    r'[3-4][3-4][1-2]': '05_loyal_small',\n",
    "    r'[3-4][1-2][1-2]': '06_new_small',\n",
    "    r'[1-2][3-4][3-4]': '07_lost_loyal_large',\n",
    "    r'[1-2][3-4][1-2]': '08_lost_loyal_small',\n",
    "    r'[1-2][1-2][1-2]': '09_low_priority',\n",
    "}\n",
    "\n",
    "rfm['RFM_segment'] = rfm['rfm_score'].replace(agg_map, regex=True)\n",
    "\n",
    "rfm.reset_index()\n",
    "rfm.head()"
   ]
  },
  {
   "cell_type": "code",
   "execution_count": 53,
   "id": "0369bcc0",
   "metadata": {
    "execution": {
     "iopub.execute_input": "2024-07-30T20:14:26.993568Z",
     "iopub.status.busy": "2024-07-30T20:14:26.992123Z",
     "iopub.status.idle": "2024-07-30T20:14:27.031427Z",
     "shell.execute_reply": "2024-07-30T20:14:27.029957Z"
    },
    "papermill": {
     "duration": 0.089931,
     "end_time": "2024-07-30T20:14:27.034718",
     "exception": false,
     "start_time": "2024-07-30T20:14:26.944787",
     "status": "completed"
    },
    "tags": []
   },
   "outputs": [
    {
     "data": {
      "text/html": [
       "<div>\n",
       "<style scoped>\n",
       "    .dataframe tbody tr th:only-of-type {\n",
       "        vertical-align: middle;\n",
       "    }\n",
       "\n",
       "    .dataframe tbody tr th {\n",
       "        vertical-align: top;\n",
       "    }\n",
       "\n",
       "    .dataframe thead tr th {\n",
       "        text-align: left;\n",
       "    }\n",
       "\n",
       "    .dataframe thead tr:last-of-type th {\n",
       "        text-align: right;\n",
       "    }\n",
       "</style>\n",
       "<table border=\"1\" class=\"dataframe\">\n",
       "  <thead>\n",
       "    <tr>\n",
       "      <th></th>\n",
       "      <th colspan=\"2\" halign=\"left\">Recency</th>\n",
       "      <th colspan=\"2\" halign=\"left\">Frequency</th>\n",
       "      <th colspan=\"2\" halign=\"left\">Monetary</th>\n",
       "    </tr>\n",
       "    <tr>\n",
       "      <th></th>\n",
       "      <th>mean</th>\n",
       "      <th>count</th>\n",
       "      <th>mean</th>\n",
       "      <th>count</th>\n",
       "      <th>mean</th>\n",
       "      <th>count</th>\n",
       "    </tr>\n",
       "    <tr>\n",
       "      <th>RFM_segment</th>\n",
       "      <th></th>\n",
       "      <th></th>\n",
       "      <th></th>\n",
       "      <th></th>\n",
       "      <th></th>\n",
       "      <th></th>\n",
       "    </tr>\n",
       "  </thead>\n",
       "  <tbody>\n",
       "    <tr>\n",
       "      <th>01_core</th>\n",
       "      <td>14.987608</td>\n",
       "      <td>807</td>\n",
       "      <td>283.262701</td>\n",
       "      <td>807</td>\n",
       "      <td>7256.615452</td>\n",
       "      <td>807</td>\n",
       "    </tr>\n",
       "    <tr>\n",
       "      <th>02_loyal_large</th>\n",
       "      <td>19.565844</td>\n",
       "      <td>486</td>\n",
       "      <td>104.991770</td>\n",
       "      <td>486</td>\n",
       "      <td>1125.265558</td>\n",
       "      <td>486</td>\n",
       "    </tr>\n",
       "    <tr>\n",
       "      <th>03_new_large</th>\n",
       "      <td>20.515528</td>\n",
       "      <td>161</td>\n",
       "      <td>25.919255</td>\n",
       "      <td>161</td>\n",
       "      <td>2680.389876</td>\n",
       "      <td>161</td>\n",
       "    </tr>\n",
       "    <tr>\n",
       "      <th>04_promising</th>\n",
       "      <td>136.227679</td>\n",
       "      <td>224</td>\n",
       "      <td>23.723214</td>\n",
       "      <td>224</td>\n",
       "      <td>2042.523795</td>\n",
       "      <td>224</td>\n",
       "    </tr>\n",
       "    <tr>\n",
       "      <th>05_loyal_small</th>\n",
       "      <td>22.299492</td>\n",
       "      <td>197</td>\n",
       "      <td>79.827411</td>\n",
       "      <td>197</td>\n",
       "      <td>441.755635</td>\n",
       "      <td>197</td>\n",
       "    </tr>\n",
       "    <tr>\n",
       "      <th>06_new_small</th>\n",
       "      <td>24.483810</td>\n",
       "      <td>525</td>\n",
       "      <td>19.150476</td>\n",
       "      <td>525</td>\n",
       "      <td>323.418419</td>\n",
       "      <td>525</td>\n",
       "    </tr>\n",
       "    <tr>\n",
       "      <th>07_lost_loyal_large</th>\n",
       "      <td>114.077393</td>\n",
       "      <td>491</td>\n",
       "      <td>101.790224</td>\n",
       "      <td>491</td>\n",
       "      <td>1876.588862</td>\n",
       "      <td>491</td>\n",
       "    </tr>\n",
       "    <tr>\n",
       "      <th>08_lost_loyal_small</th>\n",
       "      <td>164.207865</td>\n",
       "      <td>178</td>\n",
       "      <td>70.331461</td>\n",
       "      <td>178</td>\n",
       "      <td>403.648258</td>\n",
       "      <td>178</td>\n",
       "    </tr>\n",
       "    <tr>\n",
       "      <th>09_low_priority</th>\n",
       "      <td>190.263199</td>\n",
       "      <td>1269</td>\n",
       "      <td>16.154452</td>\n",
       "      <td>1269</td>\n",
       "      <td>291.014202</td>\n",
       "      <td>1269</td>\n",
       "    </tr>\n",
       "  </tbody>\n",
       "</table>\n",
       "</div>"
      ],
      "text/plain": [
       "                        Recency         Frequency           Monetary      \n",
       "                           mean count        mean count         mean count\n",
       "RFM_segment                                                               \n",
       "01_core               14.987608   807  283.262701   807  7256.615452   807\n",
       "02_loyal_large        19.565844   486  104.991770   486  1125.265558   486\n",
       "03_new_large          20.515528   161   25.919255   161  2680.389876   161\n",
       "04_promising         136.227679   224   23.723214   224  2042.523795   224\n",
       "05_loyal_small        22.299492   197   79.827411   197   441.755635   197\n",
       "06_new_small          24.483810   525   19.150476   525   323.418419   525\n",
       "07_lost_loyal_large  114.077393   491  101.790224   491  1876.588862   491\n",
       "08_lost_loyal_small  164.207865   178   70.331461   178   403.648258   178\n",
       "09_low_priority      190.263199  1269   16.154452  1269   291.014202  1269"
      ]
     },
     "execution_count": 53,
     "metadata": {},
     "output_type": "execute_result"
    }
   ],
   "source": [
    "rfm[[\"RFM_segment\",\"Recency\",\"Frequency\",\"Monetary\"]].groupby([\"RFM_segment\"]).agg([\"mean\",\"count\"])"
   ]
  },
  {
   "cell_type": "code",
   "execution_count": 54,
   "id": "cb72038a",
   "metadata": {
    "execution": {
     "iopub.execute_input": "2024-07-30T20:14:27.136916Z",
     "iopub.status.busy": "2024-07-30T20:14:27.134732Z",
     "iopub.status.idle": "2024-07-30T20:14:27.143964Z",
     "shell.execute_reply": "2024-07-30T20:14:27.142255Z"
    },
    "papermill": {
     "duration": 0.064477,
     "end_time": "2024-07-30T20:14:27.147736",
     "exception": false,
     "start_time": "2024-07-30T20:14:27.083259",
     "status": "completed"
    },
    "tags": []
   },
   "outputs": [],
   "source": [
    "rfm['KMean_Segment'] = km"
   ]
  },
  {
   "cell_type": "code",
   "execution_count": 55,
   "id": "0317ac56",
   "metadata": {
    "execution": {
     "iopub.execute_input": "2024-07-30T20:14:27.249798Z",
     "iopub.status.busy": "2024-07-30T20:14:27.248530Z",
     "iopub.status.idle": "2024-07-30T20:14:27.281758Z",
     "shell.execute_reply": "2024-07-30T20:14:27.280005Z"
    },
    "papermill": {
     "duration": 0.092338,
     "end_time": "2024-07-30T20:14:27.289997",
     "exception": false,
     "start_time": "2024-07-30T20:14:27.197659",
     "status": "completed"
    },
    "tags": []
   },
   "outputs": [
    {
     "data": {
      "text/html": [
       "<div>\n",
       "<style scoped>\n",
       "    .dataframe tbody tr th:only-of-type {\n",
       "        vertical-align: middle;\n",
       "    }\n",
       "\n",
       "    .dataframe tbody tr th {\n",
       "        vertical-align: top;\n",
       "    }\n",
       "\n",
       "    .dataframe thead tr th {\n",
       "        text-align: left;\n",
       "    }\n",
       "\n",
       "    .dataframe thead tr:last-of-type th {\n",
       "        text-align: right;\n",
       "    }\n",
       "</style>\n",
       "<table border=\"1\" class=\"dataframe\">\n",
       "  <thead>\n",
       "    <tr>\n",
       "      <th></th>\n",
       "      <th colspan=\"2\" halign=\"left\">Recency</th>\n",
       "      <th colspan=\"2\" halign=\"left\">Frequency</th>\n",
       "      <th colspan=\"2\" halign=\"left\">Monetary</th>\n",
       "    </tr>\n",
       "    <tr>\n",
       "      <th></th>\n",
       "      <th>mean</th>\n",
       "      <th>count</th>\n",
       "      <th>mean</th>\n",
       "      <th>count</th>\n",
       "      <th>mean</th>\n",
       "      <th>count</th>\n",
       "    </tr>\n",
       "    <tr>\n",
       "      <th>KMean_Segment</th>\n",
       "      <th></th>\n",
       "      <th></th>\n",
       "      <th></th>\n",
       "      <th></th>\n",
       "      <th></th>\n",
       "      <th></th>\n",
       "    </tr>\n",
       "  </thead>\n",
       "  <tbody>\n",
       "    <tr>\n",
       "      <th>0</th>\n",
       "      <td>200.248851</td>\n",
       "      <td>1306</td>\n",
       "      <td>16.167688</td>\n",
       "      <td>1306</td>\n",
       "      <td>315.446555</td>\n",
       "      <td>1306</td>\n",
       "    </tr>\n",
       "    <tr>\n",
       "      <th>1</th>\n",
       "      <td>83.857475</td>\n",
       "      <td>1291</td>\n",
       "      <td>86.202169</td>\n",
       "      <td>1291</td>\n",
       "      <td>1608.988709</td>\n",
       "      <td>1291</td>\n",
       "    </tr>\n",
       "    <tr>\n",
       "      <th>2</th>\n",
       "      <td>10.208099</td>\n",
       "      <td>889</td>\n",
       "      <td>269.884139</td>\n",
       "      <td>889</td>\n",
       "      <td>6773.513915</td>\n",
       "      <td>889</td>\n",
       "    </tr>\n",
       "    <tr>\n",
       "      <th>3</th>\n",
       "      <td>24.053991</td>\n",
       "      <td>852</td>\n",
       "      <td>29.994131</td>\n",
       "      <td>852</td>\n",
       "      <td>470.160106</td>\n",
       "      <td>852</td>\n",
       "    </tr>\n",
       "  </tbody>\n",
       "</table>\n",
       "</div>"
      ],
      "text/plain": [
       "                  Recency         Frequency           Monetary      \n",
       "                     mean count        mean count         mean count\n",
       "KMean_Segment                                                       \n",
       "0              200.248851  1306   16.167688  1306   315.446555  1306\n",
       "1               83.857475  1291   86.202169  1291  1608.988709  1291\n",
       "2               10.208099   889  269.884139   889  6773.513915   889\n",
       "3               24.053991   852   29.994131   852   470.160106   852"
      ]
     },
     "execution_count": 55,
     "metadata": {},
     "output_type": "execute_result"
    }
   ],
   "source": [
    "rfm[[\"KMean_Segment\",\"Recency\",\"Frequency\",\"Monetary\"]].groupby([\"KMean_Segment\"]).agg([\"mean\",\"count\"])"
   ]
  },
  {
   "cell_type": "markdown",
   "id": "973a3a91",
   "metadata": {
    "papermill": {
     "duration": 0.056292,
     "end_time": "2024-07-30T20:14:27.397928",
     "exception": false,
     "start_time": "2024-07-30T20:14:27.341636",
     "status": "completed"
    },
    "tags": []
   },
   "source": [
    "From the table above, the results from KMeans can be interpreted as:\n",
    "\n",
    "- Cluster 2: Core customers\n",
    "- Cluster 1: Loyal customers\n",
    "- Cluster 3: New customers\n",
    "- Cluster 0: Low priority\n",
    "\n",
    "This is consistent with the figure of the clusters we previously saw."
   ]
  },
  {
   "cell_type": "markdown",
   "id": "c064a295",
   "metadata": {
    "papermill": {
     "duration": 0.061062,
     "end_time": "2024-07-30T20:14:27.518792",
     "exception": false,
     "start_time": "2024-07-30T20:14:27.457730",
     "status": "completed"
    },
    "tags": []
   },
   "source": [
    "## Model Comparison"
   ]
  },
  {
   "cell_type": "code",
   "execution_count": 56,
   "id": "a773258c",
   "metadata": {
    "execution": {
     "iopub.execute_input": "2024-07-30T20:14:27.629005Z",
     "iopub.status.busy": "2024-07-30T20:14:27.628520Z",
     "iopub.status.idle": "2024-07-30T20:14:27.689974Z",
     "shell.execute_reply": "2024-07-30T20:14:27.687835Z"
    },
    "papermill": {
     "duration": 0.120361,
     "end_time": "2024-07-30T20:14:27.693733",
     "exception": false,
     "start_time": "2024-07-30T20:14:27.573372",
     "status": "completed"
    },
    "tags": []
   },
   "outputs": [],
   "source": [
    "rfm['KMean_Segment'] = rfm['KMean_Segment'].astype(str)\n",
    "km_map = {\n",
    "    r'0': 'Low priority',\n",
    "    r'1': 'Loyal',\n",
    "    r'3': 'New',\n",
    "    r'2': 'Core',\n",
    "}\n",
    "\n",
    "rfm['KMeans_seg_trans'] = rfm['KMean_Segment'].replace(km_map, regex=True)"
   ]
  },
  {
   "cell_type": "code",
   "execution_count": 57,
   "id": "09ddc249",
   "metadata": {
    "execution": {
     "iopub.execute_input": "2024-07-30T20:14:27.798687Z",
     "iopub.status.busy": "2024-07-30T20:14:27.798184Z",
     "iopub.status.idle": "2024-07-30T20:14:27.830730Z",
     "shell.execute_reply": "2024-07-30T20:14:27.828712Z"
    },
    "papermill": {
     "duration": 0.091844,
     "end_time": "2024-07-30T20:14:27.833788",
     "exception": false,
     "start_time": "2024-07-30T20:14:27.741944",
     "status": "completed"
    },
    "tags": []
   },
   "outputs": [
    {
     "data": {
      "text/html": [
       "<div>\n",
       "<style scoped>\n",
       "    .dataframe tbody tr th:only-of-type {\n",
       "        vertical-align: middle;\n",
       "    }\n",
       "\n",
       "    .dataframe tbody tr th {\n",
       "        vertical-align: top;\n",
       "    }\n",
       "\n",
       "    .dataframe thead th {\n",
       "        text-align: right;\n",
       "    }\n",
       "</style>\n",
       "<table border=\"1\" class=\"dataframe\">\n",
       "  <thead>\n",
       "    <tr style=\"text-align: right;\">\n",
       "      <th></th>\n",
       "      <th>Recency</th>\n",
       "      <th>Frequency</th>\n",
       "      <th>Monetary</th>\n",
       "      <th>log_Recency</th>\n",
       "      <th>log_Frequency</th>\n",
       "      <th>log_Monetary</th>\n",
       "      <th>r_score</th>\n",
       "      <th>f_score</th>\n",
       "      <th>m_score</th>\n",
       "      <th>rfm_score</th>\n",
       "      <th>RFM_segment</th>\n",
       "      <th>KMean_Segment</th>\n",
       "      <th>KMeans_seg_trans</th>\n",
       "    </tr>\n",
       "    <tr>\n",
       "      <th>CustomerID</th>\n",
       "      <th></th>\n",
       "      <th></th>\n",
       "      <th></th>\n",
       "      <th></th>\n",
       "      <th></th>\n",
       "      <th></th>\n",
       "      <th></th>\n",
       "      <th></th>\n",
       "      <th></th>\n",
       "      <th></th>\n",
       "      <th></th>\n",
       "      <th></th>\n",
       "      <th></th>\n",
       "    </tr>\n",
       "  </thead>\n",
       "  <tbody>\n",
       "    <tr>\n",
       "      <th>12346.0</th>\n",
       "      <td>325</td>\n",
       "      <td>1</td>\n",
       "      <td>77183.60</td>\n",
       "      <td>5.786897</td>\n",
       "      <td>0.693147</td>\n",
       "      <td>11.253955</td>\n",
       "      <td>1</td>\n",
       "      <td>1</td>\n",
       "      <td>4</td>\n",
       "      <td>114</td>\n",
       "      <td>04_promising</td>\n",
       "      <td>1</td>\n",
       "      <td>Loyal</td>\n",
       "    </tr>\n",
       "    <tr>\n",
       "      <th>12347.0</th>\n",
       "      <td>2</td>\n",
       "      <td>182</td>\n",
       "      <td>4310.00</td>\n",
       "      <td>1.098612</td>\n",
       "      <td>5.209486</td>\n",
       "      <td>8.368925</td>\n",
       "      <td>4</td>\n",
       "      <td>4</td>\n",
       "      <td>4</td>\n",
       "      <td>444</td>\n",
       "      <td>01_core</td>\n",
       "      <td>2</td>\n",
       "      <td>Core</td>\n",
       "    </tr>\n",
       "    <tr>\n",
       "      <th>12348.0</th>\n",
       "      <td>75</td>\n",
       "      <td>31</td>\n",
       "      <td>1797.24</td>\n",
       "      <td>4.330733</td>\n",
       "      <td>3.465736</td>\n",
       "      <td>7.494564</td>\n",
       "      <td>2</td>\n",
       "      <td>2</td>\n",
       "      <td>4</td>\n",
       "      <td>224</td>\n",
       "      <td>04_promising</td>\n",
       "      <td>1</td>\n",
       "      <td>Loyal</td>\n",
       "    </tr>\n",
       "    <tr>\n",
       "      <th>12349.0</th>\n",
       "      <td>18</td>\n",
       "      <td>73</td>\n",
       "      <td>1757.55</td>\n",
       "      <td>2.944439</td>\n",
       "      <td>4.304065</td>\n",
       "      <td>7.472245</td>\n",
       "      <td>3</td>\n",
       "      <td>3</td>\n",
       "      <td>4</td>\n",
       "      <td>334</td>\n",
       "      <td>01_core</td>\n",
       "      <td>1</td>\n",
       "      <td>Loyal</td>\n",
       "    </tr>\n",
       "    <tr>\n",
       "      <th>12350.0</th>\n",
       "      <td>310</td>\n",
       "      <td>17</td>\n",
       "      <td>334.40</td>\n",
       "      <td>5.739793</td>\n",
       "      <td>2.890372</td>\n",
       "      <td>5.815324</td>\n",
       "      <td>1</td>\n",
       "      <td>1</td>\n",
       "      <td>2</td>\n",
       "      <td>112</td>\n",
       "      <td>09_low_priority</td>\n",
       "      <td>0</td>\n",
       "      <td>Low priority</td>\n",
       "    </tr>\n",
       "  </tbody>\n",
       "</table>\n",
       "</div>"
      ],
      "text/plain": [
       "            Recency  Frequency  Monetary  log_Recency  log_Frequency  \\\n",
       "CustomerID                                                             \n",
       "12346.0         325          1  77183.60     5.786897       0.693147   \n",
       "12347.0           2        182   4310.00     1.098612       5.209486   \n",
       "12348.0          75         31   1797.24     4.330733       3.465736   \n",
       "12349.0          18         73   1757.55     2.944439       4.304065   \n",
       "12350.0         310         17    334.40     5.739793       2.890372   \n",
       "\n",
       "            log_Monetary r_score f_score m_score rfm_score      RFM_segment  \\\n",
       "CustomerID                                                                    \n",
       "12346.0        11.253955       1       1       4       114     04_promising   \n",
       "12347.0         8.368925       4       4       4       444          01_core   \n",
       "12348.0         7.494564       2       2       4       224     04_promising   \n",
       "12349.0         7.472245       3       3       4       334          01_core   \n",
       "12350.0         5.815324       1       1       2       112  09_low_priority   \n",
       "\n",
       "           KMean_Segment KMeans_seg_trans  \n",
       "CustomerID                                 \n",
       "12346.0                1            Loyal  \n",
       "12347.0                2             Core  \n",
       "12348.0                1            Loyal  \n",
       "12349.0                1            Loyal  \n",
       "12350.0                0     Low priority  "
      ]
     },
     "execution_count": 57,
     "metadata": {},
     "output_type": "execute_result"
    }
   ],
   "source": [
    "rfm.head()"
   ]
  },
  {
   "cell_type": "code",
   "execution_count": 58,
   "id": "65ce7fb4",
   "metadata": {
    "execution": {
     "iopub.execute_input": "2024-07-30T20:14:27.933256Z",
     "iopub.status.busy": "2024-07-30T20:14:27.932727Z",
     "iopub.status.idle": "2024-07-30T20:14:27.964260Z",
     "shell.execute_reply": "2024-07-30T20:14:27.961713Z"
    },
    "papermill": {
     "duration": 0.089277,
     "end_time": "2024-07-30T20:14:27.969291",
     "exception": false,
     "start_time": "2024-07-30T20:14:27.880014",
     "status": "completed"
    },
    "tags": []
   },
   "outputs": [
    {
     "data": {
      "text/html": [
       "<div>\n",
       "<style scoped>\n",
       "    .dataframe tbody tr th:only-of-type {\n",
       "        vertical-align: middle;\n",
       "    }\n",
       "\n",
       "    .dataframe tbody tr th {\n",
       "        vertical-align: top;\n",
       "    }\n",
       "\n",
       "    .dataframe thead th {\n",
       "        text-align: right;\n",
       "    }\n",
       "</style>\n",
       "<table border=\"1\" class=\"dataframe\">\n",
       "  <thead>\n",
       "    <tr style=\"text-align: right;\">\n",
       "      <th></th>\n",
       "      <th></th>\n",
       "      <th>count</th>\n",
       "    </tr>\n",
       "    <tr>\n",
       "      <th>KMeans_seg_trans</th>\n",
       "      <th>RFM_segment</th>\n",
       "      <th></th>\n",
       "    </tr>\n",
       "  </thead>\n",
       "  <tbody>\n",
       "    <tr>\n",
       "      <th rowspan=\"5\" valign=\"top\">Core</th>\n",
       "      <th>01_core</th>\n",
       "      <td>673</td>\n",
       "    </tr>\n",
       "    <tr>\n",
       "      <th>02_loyal_large</th>\n",
       "      <td>180</td>\n",
       "    </tr>\n",
       "    <tr>\n",
       "      <th>03_new_large</th>\n",
       "      <td>23</td>\n",
       "    </tr>\n",
       "    <tr>\n",
       "      <th>05_loyal_small</th>\n",
       "      <td>11</td>\n",
       "    </tr>\n",
       "    <tr>\n",
       "      <th>07_lost_loyal_large</th>\n",
       "      <td>2</td>\n",
       "    </tr>\n",
       "    <tr>\n",
       "      <th rowspan=\"4\" valign=\"top\">Low priority</th>\n",
       "      <th>04_promising</th>\n",
       "      <td>66</td>\n",
       "    </tr>\n",
       "    <tr>\n",
       "      <th>06_new_small</th>\n",
       "      <td>29</td>\n",
       "    </tr>\n",
       "    <tr>\n",
       "      <th>08_lost_loyal_small</th>\n",
       "      <td>57</td>\n",
       "    </tr>\n",
       "    <tr>\n",
       "      <th>09_low_priority</th>\n",
       "      <td>1154</td>\n",
       "    </tr>\n",
       "    <tr>\n",
       "      <th rowspan=\"9\" valign=\"top\">Loyal</th>\n",
       "      <th>01_core</th>\n",
       "      <td>134</td>\n",
       "    </tr>\n",
       "    <tr>\n",
       "      <th>02_loyal_large</th>\n",
       "      <td>251</td>\n",
       "    </tr>\n",
       "    <tr>\n",
       "      <th>03_new_large</th>\n",
       "      <td>35</td>\n",
       "    </tr>\n",
       "    <tr>\n",
       "      <th>04_promising</th>\n",
       "      <td>153</td>\n",
       "    </tr>\n",
       "    <tr>\n",
       "      <th>05_loyal_small</th>\n",
       "      <td>52</td>\n",
       "    </tr>\n",
       "    <tr>\n",
       "      <th>06_new_small</th>\n",
       "      <td>4</td>\n",
       "    </tr>\n",
       "    <tr>\n",
       "      <th>07_lost_loyal_large</th>\n",
       "      <td>489</td>\n",
       "    </tr>\n",
       "    <tr>\n",
       "      <th>08_lost_loyal_small</th>\n",
       "      <td>112</td>\n",
       "    </tr>\n",
       "    <tr>\n",
       "      <th>09_low_priority</th>\n",
       "      <td>61</td>\n",
       "    </tr>\n",
       "    <tr>\n",
       "      <th rowspan=\"7\" valign=\"top\">New</th>\n",
       "      <th>02_loyal_large</th>\n",
       "      <td>55</td>\n",
       "    </tr>\n",
       "    <tr>\n",
       "      <th>03_new_large</th>\n",
       "      <td>103</td>\n",
       "    </tr>\n",
       "    <tr>\n",
       "      <th>04_promising</th>\n",
       "      <td>5</td>\n",
       "    </tr>\n",
       "    <tr>\n",
       "      <th>05_loyal_small</th>\n",
       "      <td>134</td>\n",
       "    </tr>\n",
       "    <tr>\n",
       "      <th>06_new_small</th>\n",
       "      <td>492</td>\n",
       "    </tr>\n",
       "    <tr>\n",
       "      <th>08_lost_loyal_small</th>\n",
       "      <td>9</td>\n",
       "    </tr>\n",
       "    <tr>\n",
       "      <th>09_low_priority</th>\n",
       "      <td>54</td>\n",
       "    </tr>\n",
       "  </tbody>\n",
       "</table>\n",
       "</div>"
      ],
      "text/plain": [
       "                                      count\n",
       "KMeans_seg_trans RFM_segment               \n",
       "Core             01_core                673\n",
       "                 02_loyal_large         180\n",
       "                 03_new_large            23\n",
       "                 05_loyal_small          11\n",
       "                 07_lost_loyal_large      2\n",
       "Low priority     04_promising            66\n",
       "                 06_new_small            29\n",
       "                 08_lost_loyal_small     57\n",
       "                 09_low_priority       1154\n",
       "Loyal            01_core                134\n",
       "                 02_loyal_large         251\n",
       "                 03_new_large            35\n",
       "                 04_promising           153\n",
       "                 05_loyal_small          52\n",
       "                 06_new_small             4\n",
       "                 07_lost_loyal_large    489\n",
       "                 08_lost_loyal_small    112\n",
       "                 09_low_priority         61\n",
       "New              02_loyal_large          55\n",
       "                 03_new_large           103\n",
       "                 04_promising             5\n",
       "                 05_loyal_small         134\n",
       "                 06_new_small           492\n",
       "                 08_lost_loyal_small      9\n",
       "                 09_low_priority         54"
      ]
     },
     "execution_count": 58,
     "metadata": {},
     "output_type": "execute_result"
    }
   ],
   "source": [
    "rfm[[\"KMeans_seg_trans\",'RFM_segment']].groupby([\"KMeans_seg_trans\",\"RFM_segment\"])[\"RFM_segment\"].agg(['count'])"
   ]
  },
  {
   "cell_type": "markdown",
   "id": "fdd6a874",
   "metadata": {
    "papermill": {
     "duration": 0.043474,
     "end_time": "2024-07-30T20:14:28.064983",
     "exception": false,
     "start_time": "2024-07-30T20:14:28.021509",
     "status": "completed"
    },
    "tags": []
   },
   "source": [
    "## Conclusion"
   ]
  },
  {
   "cell_type": "markdown",
   "id": "fa12bfc4",
   "metadata": {
    "papermill": {
     "duration": 0.051768,
     "end_time": "2024-07-30T20:14:28.168900",
     "exception": false,
     "start_time": "2024-07-30T20:14:28.117132",
     "status": "completed"
    },
    "tags": []
   },
   "source": [
    "In our analysis, we applied both KMeans clustering and RFM segmentation methods to the retail dataset to identify distinct customer segments. The results revealed a significant overlap between the customer segments identified by both methods. This overlap suggests that the segments derived from the KMeans clustering align closely with those defined by RFM analysis, indicating consistency and reliability in the segmentation process. "
   ]
  },
  {
   "cell_type": "markdown",
   "id": "2f64f86d",
   "metadata": {
    "papermill": {
     "duration": 0.05231,
     "end_time": "2024-07-30T20:14:28.274410",
     "exception": false,
     "start_time": "2024-07-30T20:14:28.222100",
     "status": "completed"
    },
    "tags": []
   },
   "source": [
    "## References\n",
    "- [1]: https://en.wikipedia.org/wiki/RFM_(market_research)\n",
    "- [2]: https://towardsdatascience.com/rfm-segmentation-using-quartiles-and-jenks-natural-breaks-924f4d8baee1\n",
    "- [3]: https://www.rfmcalc.com/ecommerce-reports/rfm-segmentation/\n",
    "- [4]: https://en.wikipedia.org/wiki/Jenks_natural_breaks_optimization\n",
    "- [5]: https://stats.stackexchange.com/questions/143974/jenks-natural-breaks-in-python-how-to-find-the-optimum-number-of-breaks/144075#144075\n",
    "- [6]: https://www.kaggle.com/code/eminecerit/rfm-vs-k-means-in-customer-segmentation\n",
    "- [7]: https://www.kaggle.com/code/arushchillar/kmeans-clustering-using-different-distance-metrics\n",
    "- [8]: https://www.barilliance.com/rfm-analysis/#:~:text=RFM%20analysis%20is%20a%20data,much%20they've%20spent%20overall."
   ]
  }
 ],
 "metadata": {
  "kaggle": {
   "accelerator": "none",
   "dataSources": [
    {
     "datasetId": 1835880,
     "sourceId": 2996440,
     "sourceType": "datasetVersion"
    }
   ],
   "dockerImageVersionId": 30746,
   "isGpuEnabled": false,
   "isInternetEnabled": true,
   "language": "python",
   "sourceType": "notebook"
  },
  "kernelspec": {
   "display_name": "Python 3",
   "language": "python",
   "name": "python3"
  },
  "language_info": {
   "codemirror_mode": {
    "name": "ipython",
    "version": 3
   },
   "file_extension": ".py",
   "mimetype": "text/x-python",
   "name": "python",
   "nbconvert_exporter": "python",
   "pygments_lexer": "ipython3",
   "version": "3.10.13"
  },
  "papermill": {
   "default_parameters": {},
   "duration": 206.799394,
   "end_time": "2024-07-30T20:14:29.768762",
   "environment_variables": {},
   "exception": null,
   "input_path": "__notebook__.ipynb",
   "output_path": "__notebook__.ipynb",
   "parameters": {},
   "start_time": "2024-07-30T20:11:02.969368",
   "version": "2.5.0"
  }
 },
 "nbformat": 4,
 "nbformat_minor": 5
}
